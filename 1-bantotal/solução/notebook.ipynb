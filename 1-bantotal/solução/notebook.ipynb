{
 "cells": [
  {
   "cell_type": "markdown",
   "metadata": {},
   "source": [
    "# Desafio 1 - Maratona Behind the Code 2021"
   ]
  },
  {
   "cell_type": "markdown",
   "metadata": {
    "jp-MarkdownHeadingCollapsed": true,
    "tags": []
   },
   "source": [
    "## Bibliotecas"
   ]
  },
  {
   "cell_type": "code",
   "execution_count": 1,
   "metadata": {},
   "outputs": [],
   "source": [
    "import pandas as pd\n",
    "import matplotlib.pyplot as plt\n",
    "import seaborn as sns\n",
    "\n",
    "from IPython.display import display\n",
    "from pathlib import Path\n",
    "from sklearn.tree import DecisionTreeClassifier\n",
    "from sklearn.model_selection import train_test_split\n",
    "from sklearn.metrics import accuracy_score\n",
    "from sklearn.base import BaseEstimator, TransformerMixin\n",
    "from sklearn.pipeline import Pipeline"
   ]
  },
  {
   "cell_type": "markdown",
   "metadata": {
    "jp-MarkdownHeadingCollapsed": true,
    "tags": []
   },
   "source": [
    "## Configurações"
   ]
  },
  {
   "cell_type": "code",
   "execution_count": 2,
   "metadata": {},
   "outputs": [],
   "source": [
    "seed: int = 0\n",
    "data_path: Path = Path(\"../desafio/assets/data/\")"
   ]
  },
  {
   "cell_type": "markdown",
   "metadata": {
    "tags": []
   },
   "source": [
    "## Dados"
   ]
  },
  {
   "cell_type": "markdown",
   "metadata": {
    "jp-MarkdownHeadingCollapsed": true,
    "tags": []
   },
   "source": [
    "### Junção dos datasets"
   ]
  },
  {
   "cell_type": "code",
   "execution_count": 3,
   "metadata": {},
   "outputs": [
    {
     "name": "stdout",
     "output_type": "stream",
     "text": [
      "['CHECKING_BALANCE', 'CREDIT_HISTORY', 'EXISTING_SAVINGS', 'EXISTING_CREDITS_COUNT']\n"
     ]
    }
   ],
   "source": [
    "accounts = pd.read_csv(data_path / \"ACCOUNTS.csv\", index_col=\"ID\")\n",
    "account_cols = list(accounts.columns)\n",
    "print(account_cols)"
   ]
  },
  {
   "cell_type": "code",
   "execution_count": 4,
   "metadata": {},
   "outputs": [
    {
     "name": "stdout",
     "output_type": "stream",
     "text": [
      "['SEX', 'AGE', 'JOB_TYPE', 'DEPENDENTS', 'TELEPHONE', 'FOREIGN_WORKER', 'EMPLOYMENT_DURATION', 'PROPERTY', 'HOUSING', 'CURRENT_RESIDENCE_DURATION']\n"
     ]
    }
   ],
   "source": [
    "demographics = pd.read_csv(data_path / \"DEMOGRAPHICS.csv\", index_col=\"ID\")\n",
    "demographic_cols = list(demographics.columns)\n",
    "print(demographic_cols)"
   ]
  },
  {
   "cell_type": "code",
   "execution_count": 5,
   "metadata": {},
   "outputs": [
    {
     "name": "stdout",
     "output_type": "stream",
     "text": [
      "['PAYMENT_TERM', 'INSTALLMENT_PLANS', 'INSTALLMENT_PERCENT', 'LOAN_PURPOSE', 'LOAN_AMOUNT', 'OTHERS_ON_LOAN', 'ALLOW']\n"
     ]
    }
   ],
   "source": [
    "loans = pd.read_csv(data_path / \"LOANS.csv\", index_col=\"ID\")\n",
    "loan_cols = list(loans.columns)\n",
    "print(loan_cols)"
   ]
  },
  {
   "cell_type": "code",
   "execution_count": 6,
   "metadata": {},
   "outputs": [],
   "source": [
    "df_all = pd.concat([accounts, demographics, loans], axis=1)"
   ]
  },
  {
   "cell_type": "markdown",
   "metadata": {
    "jp-MarkdownHeadingCollapsed": true,
    "tags": []
   },
   "source": [
    "### Informações gerais"
   ]
  },
  {
   "cell_type": "code",
   "execution_count": 7,
   "metadata": {},
   "outputs": [
    {
     "name": "stdout",
     "output_type": "stream",
     "text": [
      "<class 'pandas.core.frame.DataFrame'>\n",
      "Int64Index: 3999 entries, 98 to 1320082\n",
      "Data columns (total 21 columns):\n",
      " #   Column                      Non-Null Count  Dtype  \n",
      "---  ------                      --------------  -----  \n",
      " 0   CHECKING_BALANCE            2467 non-null   object \n",
      " 1   CREDIT_HISTORY              2462 non-null   object \n",
      " 2   EXISTING_SAVINGS            2467 non-null   object \n",
      " 3   EXISTING_CREDITS_COUNT      2463 non-null   float64\n",
      " 4   SEX                         3920 non-null   object \n",
      " 5   AGE                         3918 non-null   float64\n",
      " 6   JOB_TYPE                    3910 non-null   float64\n",
      " 7   DEPENDENTS                  3915 non-null   float64\n",
      " 8   TELEPHONE                   3915 non-null   float64\n",
      " 9   FOREIGN_WORKER              3909 non-null   float64\n",
      " 10  EMPLOYMENT_DURATION         3923 non-null   float64\n",
      " 11  PROPERTY                    3918 non-null   object \n",
      " 12  HOUSING                     3912 non-null   object \n",
      " 13  CURRENT_RESIDENCE_DURATION  3917 non-null   float64\n",
      " 14  PAYMENT_TERM                3975 non-null   float64\n",
      " 15  INSTALLMENT_PLANS           3978 non-null   object \n",
      " 16  INSTALLMENT_PERCENT         3974 non-null   float64\n",
      " 17  LOAN_PURPOSE                3979 non-null   object \n",
      " 18  LOAN_AMOUNT                 3981 non-null   float64\n",
      " 19  OTHERS_ON_LOAN              3977 non-null   object \n",
      " 20  ALLOW                       3999 non-null   int64  \n",
      "dtypes: float64(11), int64(1), object(9)\n",
      "memory usage: 687.3+ KB\n"
     ]
    }
   ],
   "source": [
    "df_all.info()"
   ]
  },
  {
   "cell_type": "markdown",
   "metadata": {},
   "source": [
    "- A maioria das variáveis (colunas) são numéricas, mas há algumas categóricas.\n",
    "- Com exceção da variável que identifica cada cliente (o índice `ID`) e da variável de destino (`ALLOW`), todas têm dados faltantes (nulos)."
   ]
  },
  {
   "cell_type": "markdown",
   "metadata": {
    "jp-MarkdownHeadingCollapsed": true,
    "tags": []
   },
   "source": [
    "### Divisão dos dados entre treino e teste"
   ]
  },
  {
   "cell_type": "markdown",
   "metadata": {},
   "source": [
    "Antes de inspecionar os dados, serão reservados alguns exemplos para teste, que não serão vistos durante a análise ou modelagem dos dados:"
   ]
  },
  {
   "cell_type": "code",
   "execution_count": 8,
   "metadata": {},
   "outputs": [
    {
     "name": "stdout",
     "output_type": "stream",
     "text": [
      "Dimensões dos dados de treino: (3499, 21)\n",
      "Dimensões dos dados de teste: (500, 21)\n"
     ]
    }
   ],
   "source": [
    "test_size = 500\n",
    "target = \"ALLOW\"\n",
    "df_train, df_test = train_test_split(df_all, test_size=test_size, random_state=seed, stratify=df_all[[target]])\n",
    "print(f'Dimensões dos dados de treino: {df_train.shape}')\n",
    "print(f'Dimensões dos dados de teste: {df_test.shape}')"
   ]
  },
  {
   "cell_type": "markdown",
   "metadata": {
    "tags": []
   },
   "source": [
    "### Variável destino"
   ]
  },
  {
   "cell_type": "markdown",
   "metadata": {},
   "source": [
    "A variável destino para este desafio é a `ALLOW`, significando se um empréstimo deverá ser permitido ou não, baseado nas informações dadas. Vamos dar uma olhada em como está a distribuição dessa variável"
   ]
  },
  {
   "cell_type": "code",
   "execution_count": 9,
   "metadata": {},
   "outputs": [
    {
     "data": {
      "image/png": "[encoded data removed]",
      "text/plain": [
       "<Figure size 432x288 with 1 Axes>"
      ]
     },
     "metadata": {
      "needs_background": "light"
     },
     "output_type": "display_data"
    }
   ],
   "source": [
    "risk_plot = sns.countplot(\n",
    "    data=df_train, x=target, order=df_train[target].value_counts().index\n",
    ")\n",
    "plt.show()\n"
   ]
  },
  {
   "cell_type": "code",
   "execution_count": 10,
   "metadata": {},
   "outputs": [],
   "source": [
    "# list(sorted(set(df_all.columns) - set(target)))"
   ]
  },
  {
   "cell_type": "markdown",
   "metadata": {},
   "source": [
    "### Dados de exemplo"
   ]
  },
  {
   "cell_type": "code",
   "execution_count": 11,
   "metadata": {},
   "outputs": [
    {
     "data": {
      "text/html": [
       "<div>\n",
       "<style scoped>\n",
       "    .dataframe tbody tr th:only-of-type {\n",
       "        vertical-align: middle;\n",
       "    }\n",
       "\n",
       "    .dataframe tbody tr th {\n",
       "        vertical-align: top;\n",
       "    }\n",
       "\n",
       "    .dataframe thead th {\n",
       "        text-align: right;\n",
       "    }\n",
       "</style>\n",
       "<table border=\"1\" class=\"dataframe\">\n",
       "  <thead>\n",
       "    <tr style=\"text-align: right;\">\n",
       "      <th></th>\n",
       "      <th>CHECKING_BALANCE</th>\n",
       "      <th>CREDIT_HISTORY</th>\n",
       "      <th>EXISTING_SAVINGS</th>\n",
       "      <th>EXISTING_CREDITS_COUNT</th>\n",
       "      <th>SEX</th>\n",
       "      <th>AGE</th>\n",
       "      <th>JOB_TYPE</th>\n",
       "      <th>DEPENDENTS</th>\n",
       "      <th>TELEPHONE</th>\n",
       "      <th>FOREIGN_WORKER</th>\n",
       "      <th>EMPLOYMENT_DURATION</th>\n",
       "      <th>PROPERTY</th>\n",
       "      <th>HOUSING</th>\n",
       "      <th>CURRENT_RESIDENCE_DURATION</th>\n",
       "      <th>PAYMENT_TERM</th>\n",
       "      <th>INSTALLMENT_PLANS</th>\n",
       "      <th>INSTALLMENT_PERCENT</th>\n",
       "      <th>LOAN_PURPOSE</th>\n",
       "      <th>LOAN_AMOUNT</th>\n",
       "      <th>OTHERS_ON_LOAN</th>\n",
       "      <th>ALLOW</th>\n",
       "    </tr>\n",
       "    <tr>\n",
       "      <th>ID</th>\n",
       "      <th></th>\n",
       "      <th></th>\n",
       "      <th></th>\n",
       "      <th></th>\n",
       "      <th></th>\n",
       "      <th></th>\n",
       "      <th></th>\n",
       "      <th></th>\n",
       "      <th></th>\n",
       "      <th></th>\n",
       "      <th></th>\n",
       "      <th></th>\n",
       "      <th></th>\n",
       "      <th></th>\n",
       "      <th></th>\n",
       "      <th></th>\n",
       "      <th></th>\n",
       "      <th></th>\n",
       "      <th></th>\n",
       "      <th></th>\n",
       "      <th></th>\n",
       "    </tr>\n",
       "  </thead>\n",
       "  <tbody>\n",
       "    <tr>\n",
       "      <th>443445</th>\n",
       "      <td>NaN</td>\n",
       "      <td>NaN</td>\n",
       "      <td>NaN</td>\n",
       "      <td>NaN</td>\n",
       "      <td>M</td>\n",
       "      <td>24.0</td>\n",
       "      <td>3.0</td>\n",
       "      <td>1.0</td>\n",
       "      <td>0.0</td>\n",
       "      <td>1.0</td>\n",
       "      <td>0.0</td>\n",
       "      <td>REAL_ESTATE</td>\n",
       "      <td>RENT</td>\n",
       "      <td>2.0</td>\n",
       "      <td>270.0</td>\n",
       "      <td>NONE</td>\n",
       "      <td>1.0</td>\n",
       "      <td>CAR_NEW</td>\n",
       "      <td>250.0</td>\n",
       "      <td>NONE</td>\n",
       "      <td>1</td>\n",
       "    </tr>\n",
       "    <tr>\n",
       "      <th>1208610</th>\n",
       "      <td>NaN</td>\n",
       "      <td>NaN</td>\n",
       "      <td>NaN</td>\n",
       "      <td>NaN</td>\n",
       "      <td>M</td>\n",
       "      <td>35.0</td>\n",
       "      <td>3.0</td>\n",
       "      <td>2.0</td>\n",
       "      <td>1.0</td>\n",
       "      <td>1.0</td>\n",
       "      <td>6.0</td>\n",
       "      <td>UNKNOWN</td>\n",
       "      <td>OWN</td>\n",
       "      <td>3.0</td>\n",
       "      <td>1170.0</td>\n",
       "      <td>NONE</td>\n",
       "      <td>3.0</td>\n",
       "      <td>APPLIANCES</td>\n",
       "      <td>4545.0</td>\n",
       "      <td>NONE</td>\n",
       "      <td>0</td>\n",
       "    </tr>\n",
       "    <tr>\n",
       "      <th>887509</th>\n",
       "      <td>NO_CHECKING</td>\n",
       "      <td>CREDITS_PAID_TO_DATE</td>\n",
       "      <td>980.41</td>\n",
       "      <td>1.0</td>\n",
       "      <td>M</td>\n",
       "      <td>53.0</td>\n",
       "      <td>3.0</td>\n",
       "      <td>1.0</td>\n",
       "      <td>1.0</td>\n",
       "      <td>1.0</td>\n",
       "      <td>7.0</td>\n",
       "      <td>SAVINGS_INSURANCE</td>\n",
       "      <td>OWN</td>\n",
       "      <td>4.0</td>\n",
       "      <td>630.0</td>\n",
       "      <td>NONE</td>\n",
       "      <td>4.0</td>\n",
       "      <td>FURNITURE</td>\n",
       "      <td>1903.0</td>\n",
       "      <td>NONE</td>\n",
       "      <td>1</td>\n",
       "    </tr>\n",
       "    <tr>\n",
       "      <th>1291443</th>\n",
       "      <td>144.51</td>\n",
       "      <td>PRIOR_PAYMENTS_DELAYED</td>\n",
       "      <td>53.87</td>\n",
       "      <td>2.0</td>\n",
       "      <td>M</td>\n",
       "      <td>35.0</td>\n",
       "      <td>1.0</td>\n",
       "      <td>1.0</td>\n",
       "      <td>0.0</td>\n",
       "      <td>1.0</td>\n",
       "      <td>4.0</td>\n",
       "      <td>CAR_OTHER</td>\n",
       "      <td>OWN</td>\n",
       "      <td>4.0</td>\n",
       "      <td>465.0</td>\n",
       "      <td>STORES</td>\n",
       "      <td>3.0</td>\n",
       "      <td>FURNITURE</td>\n",
       "      <td>1931.0</td>\n",
       "      <td>NONE</td>\n",
       "      <td>1</td>\n",
       "    </tr>\n",
       "    <tr>\n",
       "      <th>76618</th>\n",
       "      <td>NO_CHECKING</td>\n",
       "      <td>CREDITS_PAID_TO_DATE</td>\n",
       "      <td>201.44</td>\n",
       "      <td>1.0</td>\n",
       "      <td>M</td>\n",
       "      <td>34.0</td>\n",
       "      <td>2.0</td>\n",
       "      <td>1.0</td>\n",
       "      <td>0.0</td>\n",
       "      <td>1.0</td>\n",
       "      <td>4.0</td>\n",
       "      <td>SAVINGS_INSURANCE</td>\n",
       "      <td>RENT</td>\n",
       "      <td>4.0</td>\n",
       "      <td>510.0</td>\n",
       "      <td>NONE</td>\n",
       "      <td>3.0</td>\n",
       "      <td>CAR_NEW</td>\n",
       "      <td>2720.0</td>\n",
       "      <td>NONE</td>\n",
       "      <td>1</td>\n",
       "    </tr>\n",
       "    <tr>\n",
       "      <th>1206978</th>\n",
       "      <td>NO_CHECKING</td>\n",
       "      <td>OUTSTANDING_CREDIT</td>\n",
       "      <td>829.3</td>\n",
       "      <td>2.0</td>\n",
       "      <td>M</td>\n",
       "      <td>57.0</td>\n",
       "      <td>3.0</td>\n",
       "      <td>2.0</td>\n",
       "      <td>1.0</td>\n",
       "      <td>1.0</td>\n",
       "      <td>7.0</td>\n",
       "      <td>CAR_OTHER</td>\n",
       "      <td>FREE</td>\n",
       "      <td>5.0</td>\n",
       "      <td>960.0</td>\n",
       "      <td>NONE</td>\n",
       "      <td>4.0</td>\n",
       "      <td>OTHER</td>\n",
       "      <td>9727.0</td>\n",
       "      <td>GUARANTOR</td>\n",
       "      <td>0</td>\n",
       "    </tr>\n",
       "    <tr>\n",
       "      <th>1261640</th>\n",
       "      <td>NO_CHECKING</td>\n",
       "      <td>OUTSTANDING_CREDIT</td>\n",
       "      <td>997.69</td>\n",
       "      <td>1.0</td>\n",
       "      <td>F</td>\n",
       "      <td>45.0</td>\n",
       "      <td>3.0</td>\n",
       "      <td>2.0</td>\n",
       "      <td>1.0</td>\n",
       "      <td>1.0</td>\n",
       "      <td>6.0</td>\n",
       "      <td>UNKNOWN</td>\n",
       "      <td>OWN</td>\n",
       "      <td>3.0</td>\n",
       "      <td>806.0</td>\n",
       "      <td>NONE</td>\n",
       "      <td>4.0</td>\n",
       "      <td>RADIO_TV</td>\n",
       "      <td>3782.0</td>\n",
       "      <td>NONE</td>\n",
       "      <td>0</td>\n",
       "    </tr>\n",
       "    <tr>\n",
       "      <th>229882</th>\n",
       "      <td>NaN</td>\n",
       "      <td>NaN</td>\n",
       "      <td>NaN</td>\n",
       "      <td>NaN</td>\n",
       "      <td>F</td>\n",
       "      <td>26.0</td>\n",
       "      <td>1.0</td>\n",
       "      <td>2.0</td>\n",
       "      <td>1.0</td>\n",
       "      <td>1.0</td>\n",
       "      <td>7.0</td>\n",
       "      <td>SAVINGS_INSURANCE</td>\n",
       "      <td>OWN</td>\n",
       "      <td>1.0</td>\n",
       "      <td>744.0</td>\n",
       "      <td>STORES</td>\n",
       "      <td>3.0</td>\n",
       "      <td>CAR_NEW</td>\n",
       "      <td>501.0</td>\n",
       "      <td>NONE</td>\n",
       "      <td>1</td>\n",
       "    </tr>\n",
       "    <tr>\n",
       "      <th>658037</th>\n",
       "      <td>NO_CHECKING</td>\n",
       "      <td>PRIOR_PAYMENTS_DELAYED</td>\n",
       "      <td>UNKNOWN</td>\n",
       "      <td>1.0</td>\n",
       "      <td>M</td>\n",
       "      <td>44.0</td>\n",
       "      <td>3.0</td>\n",
       "      <td>1.0</td>\n",
       "      <td>0.0</td>\n",
       "      <td>1.0</td>\n",
       "      <td>3.0</td>\n",
       "      <td>SAVINGS_INSURANCE</td>\n",
       "      <td>OWN</td>\n",
       "      <td>3.0</td>\n",
       "      <td>720.0</td>\n",
       "      <td>NONE</td>\n",
       "      <td>3.0</td>\n",
       "      <td>EDUCATION</td>\n",
       "      <td>1828.0</td>\n",
       "      <td>NONE</td>\n",
       "      <td>0</td>\n",
       "    </tr>\n",
       "    <tr>\n",
       "      <th>1198137</th>\n",
       "      <td>NO_CHECKING</td>\n",
       "      <td>PRIOR_PAYMENTS_DELAYED</td>\n",
       "      <td>133.37</td>\n",
       "      <td>2.0</td>\n",
       "      <td>F</td>\n",
       "      <td>51.0</td>\n",
       "      <td>3.0</td>\n",
       "      <td>1.0</td>\n",
       "      <td>0.0</td>\n",
       "      <td>1.0</td>\n",
       "      <td>8.0</td>\n",
       "      <td>CAR_OTHER</td>\n",
       "      <td>OWN</td>\n",
       "      <td>4.0</td>\n",
       "      <td>713.0</td>\n",
       "      <td>NONE</td>\n",
       "      <td>4.0</td>\n",
       "      <td>RADIO_TV</td>\n",
       "      <td>3252.0</td>\n",
       "      <td>NONE</td>\n",
       "      <td>0</td>\n",
       "    </tr>\n",
       "  </tbody>\n",
       "</table>\n",
       "</div>"
      ],
      "text/plain": [
       "        CHECKING_BALANCE          CREDIT_HISTORY EXISTING_SAVINGS  \\\n",
       "ID                                                                  \n",
       "443445               NaN                     NaN              NaN   \n",
       "1208610              NaN                     NaN              NaN   \n",
       "887509       NO_CHECKING    CREDITS_PAID_TO_DATE           980.41   \n",
       "1291443           144.51  PRIOR_PAYMENTS_DELAYED            53.87   \n",
       "76618        NO_CHECKING    CREDITS_PAID_TO_DATE           201.44   \n",
       "1206978      NO_CHECKING      OUTSTANDING_CREDIT            829.3   \n",
       "1261640      NO_CHECKING      OUTSTANDING_CREDIT           997.69   \n",
       "229882               NaN                     NaN              NaN   \n",
       "658037       NO_CHECKING  PRIOR_PAYMENTS_DELAYED          UNKNOWN   \n",
       "1198137      NO_CHECKING  PRIOR_PAYMENTS_DELAYED           133.37   \n",
       "\n",
       "         EXISTING_CREDITS_COUNT SEX   AGE  JOB_TYPE  DEPENDENTS  TELEPHONE  \\\n",
       "ID                                                                           \n",
       "443445                      NaN   M  24.0       3.0         1.0        0.0   \n",
       "1208610                     NaN   M  35.0       3.0         2.0        1.0   \n",
       "887509                      1.0   M  53.0       3.0         1.0        1.0   \n",
       "1291443                     2.0   M  35.0       1.0         1.0        0.0   \n",
       "76618                       1.0   M  34.0       2.0         1.0        0.0   \n",
       "1206978                     2.0   M  57.0       3.0         2.0        1.0   \n",
       "1261640                     1.0   F  45.0       3.0         2.0        1.0   \n",
       "229882                      NaN   F  26.0       1.0         2.0        1.0   \n",
       "658037                      1.0   M  44.0       3.0         1.0        0.0   \n",
       "1198137                     2.0   F  51.0       3.0         1.0        0.0   \n",
       "\n",
       "         FOREIGN_WORKER  EMPLOYMENT_DURATION           PROPERTY HOUSING  \\\n",
       "ID                                                                        \n",
       "443445              1.0                  0.0        REAL_ESTATE    RENT   \n",
       "1208610             1.0                  6.0            UNKNOWN     OWN   \n",
       "887509              1.0                  7.0  SAVINGS_INSURANCE     OWN   \n",
       "1291443             1.0                  4.0          CAR_OTHER     OWN   \n",
       "76618               1.0                  4.0  SAVINGS_INSURANCE    RENT   \n",
       "1206978             1.0                  7.0          CAR_OTHER    FREE   \n",
       "1261640             1.0                  6.0            UNKNOWN     OWN   \n",
       "229882              1.0                  7.0  SAVINGS_INSURANCE     OWN   \n",
       "658037              1.0                  3.0  SAVINGS_INSURANCE     OWN   \n",
       "1198137             1.0                  8.0          CAR_OTHER     OWN   \n",
       "\n",
       "         CURRENT_RESIDENCE_DURATION  PAYMENT_TERM INSTALLMENT_PLANS  \\\n",
       "ID                                                                    \n",
       "443445                          2.0         270.0              NONE   \n",
       "1208610                         3.0        1170.0              NONE   \n",
       "887509                          4.0         630.0              NONE   \n",
       "1291443                         4.0         465.0            STORES   \n",
       "76618                           4.0         510.0              NONE   \n",
       "1206978                         5.0         960.0              NONE   \n",
       "1261640                         3.0         806.0              NONE   \n",
       "229882                          1.0         744.0            STORES   \n",
       "658037                          3.0         720.0              NONE   \n",
       "1198137                         4.0         713.0              NONE   \n",
       "\n",
       "         INSTALLMENT_PERCENT LOAN_PURPOSE  LOAN_AMOUNT OTHERS_ON_LOAN  ALLOW  \n",
       "ID                                                                            \n",
       "443445                   1.0      CAR_NEW        250.0           NONE      1  \n",
       "1208610                  3.0   APPLIANCES       4545.0           NONE      0  \n",
       "887509                   4.0    FURNITURE       1903.0           NONE      1  \n",
       "1291443                  3.0    FURNITURE       1931.0           NONE      1  \n",
       "76618                    3.0      CAR_NEW       2720.0           NONE      1  \n",
       "1206978                  4.0        OTHER       9727.0      GUARANTOR      0  \n",
       "1261640                  4.0     RADIO_TV       3782.0           NONE      0  \n",
       "229882                   3.0      CAR_NEW        501.0           NONE      1  \n",
       "658037                   3.0    EDUCATION       1828.0           NONE      0  \n",
       "1198137                  4.0     RADIO_TV       3252.0           NONE      0  "
      ]
     },
     "metadata": {},
     "output_type": "display_data"
    }
   ],
   "source": [
    "with pd.option_context(\"display.max_columns\", None):\n",
    "    display(df_train.sample(10, random_state=seed))"
   ]
  },
  {
   "cell_type": "markdown",
   "metadata": {},
   "source": [
    "### Variáveis categóricas"
   ]
  },
  {
   "cell_type": "code",
   "execution_count": 12,
   "metadata": {},
   "outputs": [],
   "source": [
    "non_numeric_cols = list(df_train.select_dtypes(exclude='number').columns)"
   ]
  },
  {
   "cell_type": "code",
   "execution_count": 13,
   "metadata": {},
   "outputs": [
    {
     "data": {
      "text/html": [
       "<div>\n",
       "<style scoped>\n",
       "    .dataframe tbody tr th:only-of-type {\n",
       "        vertical-align: middle;\n",
       "    }\n",
       "\n",
       "    .dataframe tbody tr th {\n",
       "        vertical-align: top;\n",
       "    }\n",
       "\n",
       "    .dataframe thead th {\n",
       "        text-align: right;\n",
       "    }\n",
       "</style>\n",
       "<table border=\"1\" class=\"dataframe\">\n",
       "  <thead>\n",
       "    <tr style=\"text-align: right;\">\n",
       "      <th></th>\n",
       "      <th>CHECKING_BALANCE</th>\n",
       "      <th>CREDIT_HISTORY</th>\n",
       "      <th>EXISTING_SAVINGS</th>\n",
       "      <th>SEX</th>\n",
       "      <th>PROPERTY</th>\n",
       "      <th>HOUSING</th>\n",
       "      <th>INSTALLMENT_PLANS</th>\n",
       "      <th>LOAN_PURPOSE</th>\n",
       "      <th>OTHERS_ON_LOAN</th>\n",
       "    </tr>\n",
       "  </thead>\n",
       "  <tbody>\n",
       "    <tr>\n",
       "      <th>count</th>\n",
       "      <td>2155</td>\n",
       "      <td>2151</td>\n",
       "      <td>2155</td>\n",
       "      <td>3433</td>\n",
       "      <td>3432</td>\n",
       "      <td>3428</td>\n",
       "      <td>3480</td>\n",
       "      <td>3481</td>\n",
       "      <td>3480</td>\n",
       "    </tr>\n",
       "    <tr>\n",
       "      <th>unique</th>\n",
       "      <td>1233</td>\n",
       "      <td>5</td>\n",
       "      <td>1965</td>\n",
       "      <td>2</td>\n",
       "      <td>4</td>\n",
       "      <td>3</td>\n",
       "      <td>3</td>\n",
       "      <td>11</td>\n",
       "      <td>3</td>\n",
       "    </tr>\n",
       "    <tr>\n",
       "      <th>top</th>\n",
       "      <td>NO_CHECKING</td>\n",
       "      <td>PRIOR_PAYMENTS_DELAYED</td>\n",
       "      <td>UNKNOWN</td>\n",
       "      <td>M</td>\n",
       "      <td>SAVINGS_INSURANCE</td>\n",
       "      <td>OWN</td>\n",
       "      <td>NONE</td>\n",
       "      <td>CAR_NEW</td>\n",
       "      <td>NONE</td>\n",
       "    </tr>\n",
       "    <tr>\n",
       "      <th>freq</th>\n",
       "      <td>859</td>\n",
       "      <td>735</td>\n",
       "      <td>149</td>\n",
       "      <td>2122</td>\n",
       "      <td>1135</td>\n",
       "      <td>2209</td>\n",
       "      <td>2428</td>\n",
       "      <td>649</td>\n",
       "      <td>2893</td>\n",
       "    </tr>\n",
       "  </tbody>\n",
       "</table>\n",
       "</div>"
      ],
      "text/plain": [
       "       CHECKING_BALANCE          CREDIT_HISTORY EXISTING_SAVINGS   SEX  \\\n",
       "count              2155                    2151             2155  3433   \n",
       "unique             1233                       5             1965     2   \n",
       "top         NO_CHECKING  PRIOR_PAYMENTS_DELAYED          UNKNOWN     M   \n",
       "freq                859                     735              149  2122   \n",
       "\n",
       "                 PROPERTY HOUSING INSTALLMENT_PLANS LOAN_PURPOSE  \\\n",
       "count                3432    3428              3480         3481   \n",
       "unique                  4       3                 3           11   \n",
       "top     SAVINGS_INSURANCE     OWN              NONE      CAR_NEW   \n",
       "freq                 1135    2209              2428          649   \n",
       "\n",
       "       OTHERS_ON_LOAN  \n",
       "count            3480  \n",
       "unique              3  \n",
       "top              NONE  \n",
       "freq             2893  "
      ]
     },
     "metadata": {},
     "output_type": "display_data"
    }
   ],
   "source": [
    "with pd.option_context(\"display.max_columns\", None):\n",
    "    display(df_train.describe(include=\"O\"))"
   ]
  },
  {
   "cell_type": "markdown",
   "metadata": {},
   "source": [
    "A quantidade de valores únicos para as variáveis `CHECKING_BALANCE` e `EXISTING_SAVINGS` é relativamente grande (>30%), e observando-se os dados de exemplo, há indícios de que boa parte dos valores possam ser numéricos:"
   ]
  },
  {
   "cell_type": "code",
   "execution_count": 14,
   "metadata": {},
   "outputs": [
    {
     "data": {
      "text/plain": [
       "['CHECKING_BALANCE', 'EXISTING_SAVINGS']"
      ]
     },
     "execution_count": 14,
     "metadata": {},
     "output_type": "execute_result"
    }
   ],
   "source": [
    "max_unique_treshold = 0.3\n",
    "cols_with_many_unique_values = df_train[non_numeric_cols].nunique() > max_unique_treshold * len(df_train)\n",
    "possibly_numeric_cols = list(df_train[non_numeric_cols].columns[cols_with_many_unique_values])\n",
    "possibly_numeric_cols"
   ]
  },
  {
   "cell_type": "code",
   "execution_count": 15,
   "metadata": {},
   "outputs": [
    {
     "data": {
      "text/html": [
       "<div>\n",
       "<style scoped>\n",
       "    .dataframe tbody tr th:only-of-type {\n",
       "        vertical-align: middle;\n",
       "    }\n",
       "\n",
       "    .dataframe tbody tr th {\n",
       "        vertical-align: top;\n",
       "    }\n",
       "\n",
       "    .dataframe thead th {\n",
       "        text-align: right;\n",
       "    }\n",
       "</style>\n",
       "<table border=\"1\" class=\"dataframe\">\n",
       "  <thead>\n",
       "    <tr style=\"text-align: right;\">\n",
       "      <th></th>\n",
       "      <th>CHECKING_BALANCE</th>\n",
       "    </tr>\n",
       "  </thead>\n",
       "  <tbody>\n",
       "    <tr>\n",
       "      <th>NO_CHECKING</th>\n",
       "      <td>859</td>\n",
       "    </tr>\n",
       "    <tr>\n",
       "      <th>0</th>\n",
       "      <td>57</td>\n",
       "    </tr>\n",
       "    <tr>\n",
       "      <th>97.41</th>\n",
       "      <td>3</td>\n",
       "    </tr>\n",
       "  </tbody>\n",
       "</table>\n",
       "</div>"
      ],
      "text/plain": [
       "             CHECKING_BALANCE\n",
       "NO_CHECKING               859\n",
       "0                          57\n",
       "97.41                       3"
      ]
     },
     "metadata": {},
     "output_type": "display_data"
    },
    {
     "data": {
      "text/html": [
       "<div>\n",
       "<style scoped>\n",
       "    .dataframe tbody tr th:only-of-type {\n",
       "        vertical-align: middle;\n",
       "    }\n",
       "\n",
       "    .dataframe tbody tr th {\n",
       "        vertical-align: top;\n",
       "    }\n",
       "\n",
       "    .dataframe thead th {\n",
       "        text-align: right;\n",
       "    }\n",
       "</style>\n",
       "<table border=\"1\" class=\"dataframe\">\n",
       "  <thead>\n",
       "    <tr style=\"text-align: right;\">\n",
       "      <th></th>\n",
       "      <th>EXISTING_SAVINGS</th>\n",
       "    </tr>\n",
       "  </thead>\n",
       "  <tbody>\n",
       "    <tr>\n",
       "      <th>UNKNOWN</th>\n",
       "      <td>149</td>\n",
       "    </tr>\n",
       "    <tr>\n",
       "      <th>100.89</th>\n",
       "      <td>3</td>\n",
       "    </tr>\n",
       "    <tr>\n",
       "      <th>28.92</th>\n",
       "      <td>3</td>\n",
       "    </tr>\n",
       "  </tbody>\n",
       "</table>\n",
       "</div>"
      ],
      "text/plain": [
       "         EXISTING_SAVINGS\n",
       "UNKNOWN               149\n",
       "100.89                  3\n",
       "28.92                   3"
      ]
     },
     "metadata": {},
     "output_type": "display_data"
    }
   ],
   "source": [
    "for col in possibly_numeric_cols:\n",
    "    display(df_train[col].value_counts().to_frame().head(3))"
   ]
  },
  {
   "cell_type": "markdown",
   "metadata": {},
   "source": [
    "Na hora da modelagem, teremos algumas opções do que fazer com estas colunas:\n",
    "- Tratadar essas colunas como variáveis numéricas, deixando que valores textuais como `NO_CHECKING` e `UNKNOWN` sejam substituídos por `NaN` (e posteriormente imputar um valor, por exemplo, zero).\n",
    "- Se for relevante distinguir o caso anterior dos zeros que já estavam nestas colunas, poderia ser criada uma nova variável binária cujo valor fosse `True` quando a variável original fosse não numérica, e `False` nos demais casos\n",
    "\n",
    "Por hora, apenas para visualizar estatísticas sobre os valores numéricos, estes valores textuais serão trocados por `NaN`:"
   ]
  },
  {
   "cell_type": "code",
   "execution_count": 16,
   "metadata": {},
   "outputs": [],
   "source": [
    "class ToNumeric(BaseEstimator, TransformerMixin):\n",
    "    def __init__(self, columns, errors='coerce'):\n",
    "        self.columns = columns\n",
    "        self.errors = errors\n",
    "\n",
    "    def fit(self, X, y=None):\n",
    "        return self\n",
    "\n",
    "    def transform(self, X):\n",
    "        data = X.copy()\n",
    "        for col in self.columns:\n",
    "            data[col] = pd.to_numeric(data[col], errors=self.errors)\n",
    "        return data"
   ]
  },
  {
   "cell_type": "code",
   "execution_count": 17,
   "metadata": {},
   "outputs": [],
   "source": [
    "df_train_processed = ToNumeric(possibly_numeric_cols, errors='coerce').fit_transform(df_train)"
   ]
  },
  {
   "cell_type": "markdown",
   "metadata": {},
   "source": [
    "Estes são os valores que as outras variáveis não numéricas assumem:"
   ]
  },
  {
   "cell_type": "code",
   "execution_count": 18,
   "metadata": {},
   "outputs": [
    {
     "data": {
      "text/html": [
       "<div>\n",
       "<style scoped>\n",
       "    .dataframe tbody tr th:only-of-type {\n",
       "        vertical-align: middle;\n",
       "    }\n",
       "\n",
       "    .dataframe tbody tr th {\n",
       "        vertical-align: top;\n",
       "    }\n",
       "\n",
       "    .dataframe thead th {\n",
       "        text-align: right;\n",
       "    }\n",
       "</style>\n",
       "<table border=\"1\" class=\"dataframe\">\n",
       "  <thead>\n",
       "    <tr style=\"text-align: right;\">\n",
       "      <th></th>\n",
       "      <th>PRIOR_PAYMENTS_DELAYED</th>\n",
       "      <th>CREDITS_PAID_TO_DATE</th>\n",
       "      <th>OUTSTANDING_CREDIT</th>\n",
       "      <th>ALL_CREDITS_PAID_BACK</th>\n",
       "      <th>NO_CREDITS</th>\n",
       "    </tr>\n",
       "  </thead>\n",
       "  <tbody>\n",
       "    <tr>\n",
       "      <th>CREDIT_HISTORY</th>\n",
       "      <td>735</td>\n",
       "      <td>633</td>\n",
       "      <td>394</td>\n",
       "      <td>336</td>\n",
       "      <td>53</td>\n",
       "    </tr>\n",
       "  </tbody>\n",
       "</table>\n",
       "</div>"
      ],
      "text/plain": [
       "                PRIOR_PAYMENTS_DELAYED  CREDITS_PAID_TO_DATE  \\\n",
       "CREDIT_HISTORY                     735                   633   \n",
       "\n",
       "                OUTSTANDING_CREDIT  ALL_CREDITS_PAID_BACK  NO_CREDITS  \n",
       "CREDIT_HISTORY                 394                    336          53  "
      ]
     },
     "metadata": {},
     "output_type": "display_data"
    },
    {
     "data": {
      "text/html": [
       "<div>\n",
       "<style scoped>\n",
       "    .dataframe tbody tr th:only-of-type {\n",
       "        vertical-align: middle;\n",
       "    }\n",
       "\n",
       "    .dataframe tbody tr th {\n",
       "        vertical-align: top;\n",
       "    }\n",
       "\n",
       "    .dataframe thead th {\n",
       "        text-align: right;\n",
       "    }\n",
       "</style>\n",
       "<table border=\"1\" class=\"dataframe\">\n",
       "  <thead>\n",
       "    <tr style=\"text-align: right;\">\n",
       "      <th></th>\n",
       "      <th>OWN</th>\n",
       "      <th>RENT</th>\n",
       "      <th>FREE</th>\n",
       "    </tr>\n",
       "  </thead>\n",
       "  <tbody>\n",
       "    <tr>\n",
       "      <th>HOUSING</th>\n",
       "      <td>2209</td>\n",
       "      <td>720</td>\n",
       "      <td>499</td>\n",
       "    </tr>\n",
       "  </tbody>\n",
       "</table>\n",
       "</div>"
      ],
      "text/plain": [
       "          OWN  RENT  FREE\n",
       "HOUSING  2209   720   499"
      ]
     },
     "metadata": {},
     "output_type": "display_data"
    },
    {
     "data": {
      "text/html": [
       "<div>\n",
       "<style scoped>\n",
       "    .dataframe tbody tr th:only-of-type {\n",
       "        vertical-align: middle;\n",
       "    }\n",
       "\n",
       "    .dataframe tbody tr th {\n",
       "        vertical-align: top;\n",
       "    }\n",
       "\n",
       "    .dataframe thead th {\n",
       "        text-align: right;\n",
       "    }\n",
       "</style>\n",
       "<table border=\"1\" class=\"dataframe\">\n",
       "  <thead>\n",
       "    <tr style=\"text-align: right;\">\n",
       "      <th></th>\n",
       "      <th>NONE</th>\n",
       "      <th>STORES</th>\n",
       "      <th>BANK</th>\n",
       "    </tr>\n",
       "  </thead>\n",
       "  <tbody>\n",
       "    <tr>\n",
       "      <th>INSTALLMENT_PLANS</th>\n",
       "      <td>2428</td>\n",
       "      <td>710</td>\n",
       "      <td>342</td>\n",
       "    </tr>\n",
       "  </tbody>\n",
       "</table>\n",
       "</div>"
      ],
      "text/plain": [
       "                   NONE  STORES  BANK\n",
       "INSTALLMENT_PLANS  2428     710   342"
      ]
     },
     "metadata": {},
     "output_type": "display_data"
    },
    {
     "data": {
      "text/html": [
       "<div>\n",
       "<style scoped>\n",
       "    .dataframe tbody tr th:only-of-type {\n",
       "        vertical-align: middle;\n",
       "    }\n",
       "\n",
       "    .dataframe tbody tr th {\n",
       "        vertical-align: top;\n",
       "    }\n",
       "\n",
       "    .dataframe thead th {\n",
       "        text-align: right;\n",
       "    }\n",
       "</style>\n",
       "<table border=\"1\" class=\"dataframe\">\n",
       "  <thead>\n",
       "    <tr style=\"text-align: right;\">\n",
       "      <th></th>\n",
       "      <th>CAR_NEW</th>\n",
       "      <th>FURNITURE</th>\n",
       "      <th>CAR_USED</th>\n",
       "      <th>RADIO_TV</th>\n",
       "      <th>APPLIANCES</th>\n",
       "      <th>REPAIRS</th>\n",
       "      <th>VACATION</th>\n",
       "      <th>EDUCATION</th>\n",
       "      <th>RETRAINING</th>\n",
       "      <th>BUSINESS</th>\n",
       "      <th>OTHER</th>\n",
       "    </tr>\n",
       "  </thead>\n",
       "  <tbody>\n",
       "    <tr>\n",
       "      <th>LOAN_PURPOSE</th>\n",
       "      <td>649</td>\n",
       "      <td>609</td>\n",
       "      <td>584</td>\n",
       "      <td>528</td>\n",
       "      <td>370</td>\n",
       "      <td>194</td>\n",
       "      <td>143</td>\n",
       "      <td>114</td>\n",
       "      <td>113</td>\n",
       "      <td>102</td>\n",
       "      <td>75</td>\n",
       "    </tr>\n",
       "  </tbody>\n",
       "</table>\n",
       "</div>"
      ],
      "text/plain": [
       "              CAR_NEW  FURNITURE  CAR_USED  RADIO_TV  APPLIANCES  REPAIRS  \\\n",
       "LOAN_PURPOSE      649        609       584       528         370      194   \n",
       "\n",
       "              VACATION  EDUCATION  RETRAINING  BUSINESS  OTHER  \n",
       "LOAN_PURPOSE       143        114         113       102     75  "
      ]
     },
     "metadata": {},
     "output_type": "display_data"
    },
    {
     "data": {
      "text/html": [
       "<div>\n",
       "<style scoped>\n",
       "    .dataframe tbody tr th:only-of-type {\n",
       "        vertical-align: middle;\n",
       "    }\n",
       "\n",
       "    .dataframe tbody tr th {\n",
       "        vertical-align: top;\n",
       "    }\n",
       "\n",
       "    .dataframe thead th {\n",
       "        text-align: right;\n",
       "    }\n",
       "</style>\n",
       "<table border=\"1\" class=\"dataframe\">\n",
       "  <thead>\n",
       "    <tr style=\"text-align: right;\">\n",
       "      <th></th>\n",
       "      <th>NONE</th>\n",
       "      <th>CO-APPLICANT</th>\n",
       "      <th>GUARANTOR</th>\n",
       "    </tr>\n",
       "  </thead>\n",
       "  <tbody>\n",
       "    <tr>\n",
       "      <th>OTHERS_ON_LOAN</th>\n",
       "      <td>2893</td>\n",
       "      <td>502</td>\n",
       "      <td>85</td>\n",
       "    </tr>\n",
       "  </tbody>\n",
       "</table>\n",
       "</div>"
      ],
      "text/plain": [
       "                NONE  CO-APPLICANT  GUARANTOR\n",
       "OTHERS_ON_LOAN  2893           502         85"
      ]
     },
     "metadata": {},
     "output_type": "display_data"
    },
    {
     "data": {
      "text/html": [
       "<div>\n",
       "<style scoped>\n",
       "    .dataframe tbody tr th:only-of-type {\n",
       "        vertical-align: middle;\n",
       "    }\n",
       "\n",
       "    .dataframe tbody tr th {\n",
       "        vertical-align: top;\n",
       "    }\n",
       "\n",
       "    .dataframe thead th {\n",
       "        text-align: right;\n",
       "    }\n",
       "</style>\n",
       "<table border=\"1\" class=\"dataframe\">\n",
       "  <thead>\n",
       "    <tr style=\"text-align: right;\">\n",
       "      <th></th>\n",
       "      <th>SAVINGS_INSURANCE</th>\n",
       "      <th>CAR_OTHER</th>\n",
       "      <th>REAL_ESTATE</th>\n",
       "      <th>UNKNOWN</th>\n",
       "    </tr>\n",
       "  </thead>\n",
       "  <tbody>\n",
       "    <tr>\n",
       "      <th>PROPERTY</th>\n",
       "      <td>1135</td>\n",
       "      <td>1056</td>\n",
       "      <td>748</td>\n",
       "      <td>493</td>\n",
       "    </tr>\n",
       "  </tbody>\n",
       "</table>\n",
       "</div>"
      ],
      "text/plain": [
       "          SAVINGS_INSURANCE  CAR_OTHER  REAL_ESTATE  UNKNOWN\n",
       "PROPERTY               1135       1056          748      493"
      ]
     },
     "metadata": {},
     "output_type": "display_data"
    },
    {
     "data": {
      "text/html": [
       "<div>\n",
       "<style scoped>\n",
       "    .dataframe tbody tr th:only-of-type {\n",
       "        vertical-align: middle;\n",
       "    }\n",
       "\n",
       "    .dataframe tbody tr th {\n",
       "        vertical-align: top;\n",
       "    }\n",
       "\n",
       "    .dataframe thead th {\n",
       "        text-align: right;\n",
       "    }\n",
       "</style>\n",
       "<table border=\"1\" class=\"dataframe\">\n",
       "  <thead>\n",
       "    <tr style=\"text-align: right;\">\n",
       "      <th></th>\n",
       "      <th>M</th>\n",
       "      <th>F</th>\n",
       "    </tr>\n",
       "  </thead>\n",
       "  <tbody>\n",
       "    <tr>\n",
       "      <th>SEX</th>\n",
       "      <td>2122</td>\n",
       "      <td>1311</td>\n",
       "    </tr>\n",
       "  </tbody>\n",
       "</table>\n",
       "</div>"
      ],
      "text/plain": [
       "        M     F\n",
       "SEX  2122  1311"
      ]
     },
     "metadata": {},
     "output_type": "display_data"
    }
   ],
   "source": [
    "sorted_cols = list(sorted(set(non_numeric_cols) - set(possibly_numeric_cols)))\n",
    "for col in sorted_cols:\n",
    "    display(df_train_processed[col].value_counts().to_frame().T)"
   ]
  },
  {
   "cell_type": "markdown",
   "metadata": {},
   "source": [
    "- Talvez fosse o caso de criar mais uma variável a partir do propósito do emprétimo (`LOAN_PURPOSE`), indicando se o objetivo é ralizar algum tipo de investimento ou não. Em certo sentido, os valores `EDUCATION`, `RETRAINING`, `BUSINESS` poderiam ser considerados \"investimentos\". Os demais parecem mais com \"gastos\".\n",
    "- Todas as variáveis poderiam ser convertidas em valores numéricos usando \"One-Hot-Encoding\".\n",
    "- Alternativamente, algumas variáveis poderiam poderia ser convertidas para valores crescentes em uma ordem que aparenta ir da pior para a melhor situação:\n",
    "  - **`CREDIT_HISTORY`**: `PRIOR_PAYMENTS_DELAYED`, `NO_CREDITS`, `CREDITS_PAID_TO_DATE`, `ALL_CREDITS_PAID_BACK`, `OUTSTANDING_CREDIT`\n",
    "  - **`OTHERS_ON_LOAN`**: `NONE`, `APPLICANT`, `GUARANTOR`\n",
    "  - **`HOUSING`**: `FREE`, `RENT`, `OWN`"
   ]
  },
  {
   "cell_type": "markdown",
   "metadata": {},
   "source": [
    "### Variáveis numéricas"
   ]
  },
  {
   "cell_type": "code",
   "execution_count": 19,
   "metadata": {},
   "outputs": [
    {
     "data": {
      "text/html": [
       "<div>\n",
       "<style scoped>\n",
       "    .dataframe tbody tr th:only-of-type {\n",
       "        vertical-align: middle;\n",
       "    }\n",
       "\n",
       "    .dataframe tbody tr th {\n",
       "        vertical-align: top;\n",
       "    }\n",
       "\n",
       "    .dataframe thead th {\n",
       "        text-align: right;\n",
       "    }\n",
       "</style>\n",
       "<table border=\"1\" class=\"dataframe\">\n",
       "  <thead>\n",
       "    <tr style=\"text-align: right;\">\n",
       "      <th></th>\n",
       "      <th>CHECKING_BALANCE</th>\n",
       "      <th>EXISTING_SAVINGS</th>\n",
       "      <th>EXISTING_CREDITS_COUNT</th>\n",
       "      <th>AGE</th>\n",
       "      <th>JOB_TYPE</th>\n",
       "      <th>DEPENDENTS</th>\n",
       "      <th>TELEPHONE</th>\n",
       "      <th>FOREIGN_WORKER</th>\n",
       "      <th>EMPLOYMENT_DURATION</th>\n",
       "      <th>CURRENT_RESIDENCE_DURATION</th>\n",
       "      <th>PAYMENT_TERM</th>\n",
       "      <th>INSTALLMENT_PERCENT</th>\n",
       "      <th>LOAN_AMOUNT</th>\n",
       "      <th>ALLOW</th>\n",
       "    </tr>\n",
       "  </thead>\n",
       "  <tbody>\n",
       "    <tr>\n",
       "      <th>count</th>\n",
       "      <td>1296.000000</td>\n",
       "      <td>2006.000000</td>\n",
       "      <td>2155.000000</td>\n",
       "      <td>3431.000000</td>\n",
       "      <td>3427.000000</td>\n",
       "      <td>3429.000000</td>\n",
       "      <td>3427.000000</td>\n",
       "      <td>3423.000000</td>\n",
       "      <td>3437.000000</td>\n",
       "      <td>3430.000000</td>\n",
       "      <td>3478.000000</td>\n",
       "      <td>3479.000000</td>\n",
       "      <td>3486.000000</td>\n",
       "      <td>3499.00000</td>\n",
       "    </tr>\n",
       "    <tr>\n",
       "      <th>mean</th>\n",
       "      <td>500.561914</td>\n",
       "      <td>1366.428509</td>\n",
       "      <td>1.465429</td>\n",
       "      <td>36.105800</td>\n",
       "      <td>2.425445</td>\n",
       "      <td>1.161855</td>\n",
       "      <td>0.414357</td>\n",
       "      <td>0.976337</td>\n",
       "      <td>4.250509</td>\n",
       "      <td>2.856851</td>\n",
       "      <td>652.430995</td>\n",
       "      <td>2.979304</td>\n",
       "      <td>3471.581469</td>\n",
       "      <td>0.66419</td>\n",
       "    </tr>\n",
       "    <tr>\n",
       "      <th>std</th>\n",
       "      <td>2742.738362</td>\n",
       "      <td>4827.286202</td>\n",
       "      <td>0.569324</td>\n",
       "      <td>10.572843</td>\n",
       "      <td>0.934158</td>\n",
       "      <td>0.368371</td>\n",
       "      <td>0.492682</td>\n",
       "      <td>0.152021</td>\n",
       "      <td>3.586829</td>\n",
       "      <td>1.110505</td>\n",
       "      <td>338.976026</td>\n",
       "      <td>1.116362</td>\n",
       "      <td>2482.036344</td>\n",
       "      <td>0.47234</td>\n",
       "    </tr>\n",
       "    <tr>\n",
       "      <th>min</th>\n",
       "      <td>-2617.350000</td>\n",
       "      <td>0.020000</td>\n",
       "      <td>1.000000</td>\n",
       "      <td>19.000000</td>\n",
       "      <td>0.000000</td>\n",
       "      <td>1.000000</td>\n",
       "      <td>0.000000</td>\n",
       "      <td>0.000000</td>\n",
       "      <td>0.000000</td>\n",
       "      <td>1.000000</td>\n",
       "      <td>120.000000</td>\n",
       "      <td>1.000000</td>\n",
       "      <td>250.000000</td>\n",
       "      <td>0.00000</td>\n",
       "    </tr>\n",
       "    <tr>\n",
       "      <th>25%</th>\n",
       "      <td>-186.057500</td>\n",
       "      <td>64.845000</td>\n",
       "      <td>1.000000</td>\n",
       "      <td>28.000000</td>\n",
       "      <td>2.000000</td>\n",
       "      <td>1.000000</td>\n",
       "      <td>0.000000</td>\n",
       "      <td>1.000000</td>\n",
       "      <td>1.000000</td>\n",
       "      <td>2.000000</td>\n",
       "      <td>390.000000</td>\n",
       "      <td>2.000000</td>\n",
       "      <td>1328.250000</td>\n",
       "      <td>0.00000</td>\n",
       "    </tr>\n",
       "    <tr>\n",
       "      <th>50%</th>\n",
       "      <td>0.000000</td>\n",
       "      <td>253.825000</td>\n",
       "      <td>1.000000</td>\n",
       "      <td>36.000000</td>\n",
       "      <td>3.000000</td>\n",
       "      <td>1.000000</td>\n",
       "      <td>0.000000</td>\n",
       "      <td>1.000000</td>\n",
       "      <td>4.000000</td>\n",
       "      <td>3.000000</td>\n",
       "      <td>651.000000</td>\n",
       "      <td>3.000000</td>\n",
       "      <td>3237.000000</td>\n",
       "      <td>1.00000</td>\n",
       "    </tr>\n",
       "    <tr>\n",
       "      <th>75%</th>\n",
       "      <td>109.872500</td>\n",
       "      <td>726.065000</td>\n",
       "      <td>2.000000</td>\n",
       "      <td>44.000000</td>\n",
       "      <td>3.000000</td>\n",
       "      <td>1.000000</td>\n",
       "      <td>1.000000</td>\n",
       "      <td>1.000000</td>\n",
       "      <td>7.000000</td>\n",
       "      <td>4.000000</td>\n",
       "      <td>899.000000</td>\n",
       "      <td>4.000000</td>\n",
       "      <td>5308.000000</td>\n",
       "      <td>1.00000</td>\n",
       "    </tr>\n",
       "    <tr>\n",
       "      <th>max</th>\n",
       "      <td>20104.120000</td>\n",
       "      <td>50177.310000</td>\n",
       "      <td>3.000000</td>\n",
       "      <td>74.000000</td>\n",
       "      <td>3.000000</td>\n",
       "      <td>2.000000</td>\n",
       "      <td>1.000000</td>\n",
       "      <td>1.000000</td>\n",
       "      <td>18.000000</td>\n",
       "      <td>5.000000</td>\n",
       "      <td>1984.000000</td>\n",
       "      <td>6.000000</td>\n",
       "      <td>11676.000000</td>\n",
       "      <td>1.00000</td>\n",
       "    </tr>\n",
       "  </tbody>\n",
       "</table>\n",
       "</div>"
      ],
      "text/plain": [
       "       CHECKING_BALANCE  EXISTING_SAVINGS  EXISTING_CREDITS_COUNT  \\\n",
       "count       1296.000000       2006.000000             2155.000000   \n",
       "mean         500.561914       1366.428509                1.465429   \n",
       "std         2742.738362       4827.286202                0.569324   \n",
       "min        -2617.350000          0.020000                1.000000   \n",
       "25%         -186.057500         64.845000                1.000000   \n",
       "50%            0.000000        253.825000                1.000000   \n",
       "75%          109.872500        726.065000                2.000000   \n",
       "max        20104.120000      50177.310000                3.000000   \n",
       "\n",
       "               AGE     JOB_TYPE   DEPENDENTS    TELEPHONE  FOREIGN_WORKER  \\\n",
       "count  3431.000000  3427.000000  3429.000000  3427.000000     3423.000000   \n",
       "mean     36.105800     2.425445     1.161855     0.414357        0.976337   \n",
       "std      10.572843     0.934158     0.368371     0.492682        0.152021   \n",
       "min      19.000000     0.000000     1.000000     0.000000        0.000000   \n",
       "25%      28.000000     2.000000     1.000000     0.000000        1.000000   \n",
       "50%      36.000000     3.000000     1.000000     0.000000        1.000000   \n",
       "75%      44.000000     3.000000     1.000000     1.000000        1.000000   \n",
       "max      74.000000     3.000000     2.000000     1.000000        1.000000   \n",
       "\n",
       "       EMPLOYMENT_DURATION  CURRENT_RESIDENCE_DURATION  PAYMENT_TERM  \\\n",
       "count          3437.000000                 3430.000000   3478.000000   \n",
       "mean              4.250509                    2.856851    652.430995   \n",
       "std               3.586829                    1.110505    338.976026   \n",
       "min               0.000000                    1.000000    120.000000   \n",
       "25%               1.000000                    2.000000    390.000000   \n",
       "50%               4.000000                    3.000000    651.000000   \n",
       "75%               7.000000                    4.000000    899.000000   \n",
       "max              18.000000                    5.000000   1984.000000   \n",
       "\n",
       "       INSTALLMENT_PERCENT   LOAN_AMOUNT       ALLOW  \n",
       "count          3479.000000   3486.000000  3499.00000  \n",
       "mean              2.979304   3471.581469     0.66419  \n",
       "std               1.116362   2482.036344     0.47234  \n",
       "min               1.000000    250.000000     0.00000  \n",
       "25%               2.000000   1328.250000     0.00000  \n",
       "50%               3.000000   3237.000000     1.00000  \n",
       "75%               4.000000   5308.000000     1.00000  \n",
       "max               6.000000  11676.000000     1.00000  "
      ]
     },
     "metadata": {},
     "output_type": "display_data"
    }
   ],
   "source": [
    "with pd.option_context(\"display.max_columns\", None):\n",
    "    display(df_train_processed.describe(exclude=\"O\"))"
   ]
  },
  {
   "cell_type": "markdown",
   "metadata": {
    "tags": []
   },
   "source": [
    "### OUTROS"
   ]
  },
  {
   "cell_type": "markdown",
   "metadata": {},
   "source": [
    "Sinta-se livre para ver a distribuição de outras colunas do conjunto de dados, utilizar os outros conjuntos de dados, explorar as correlações entre variáveis e outros."
   ]
  },
  {
   "cell_type": "code",
   "execution_count": 20,
   "metadata": {},
   "outputs": [],
   "source": [
    "numeric_cols = list(df_train_processed.select_dtypes(include='number').columns)"
   ]
  },
  {
   "cell_type": "code",
   "execution_count": 21,
   "metadata": {},
   "outputs": [
    {
     "data": {
      "text/html": [
       "<div>\n",
       "<style scoped>\n",
       "    .dataframe tbody tr th:only-of-type {\n",
       "        vertical-align: middle;\n",
       "    }\n",
       "\n",
       "    .dataframe tbody tr th {\n",
       "        vertical-align: top;\n",
       "    }\n",
       "\n",
       "    .dataframe thead th {\n",
       "        text-align: right;\n",
       "    }\n",
       "</style>\n",
       "<table border=\"1\" class=\"dataframe\">\n",
       "  <thead>\n",
       "    <tr style=\"text-align: right;\">\n",
       "      <th></th>\n",
       "      <th>0.00</th>\n",
       "      <th>42.83</th>\n",
       "      <th>97.41</th>\n",
       "      <th>19.00</th>\n",
       "      <th>-170.13</th>\n",
       "      <th>158.35</th>\n",
       "      <th>94.06</th>\n",
       "      <th>-56.17</th>\n",
       "      <th>169.20</th>\n",
       "      <th>8771.09</th>\n",
       "      <th>...</th>\n",
       "      <th>-1128.33</th>\n",
       "      <th>87.85</th>\n",
       "      <th>-77.15</th>\n",
       "      <th>-93.04</th>\n",
       "      <th>-298.62</th>\n",
       "      <th>125.76</th>\n",
       "      <th>-5.96</th>\n",
       "      <th>88.92</th>\n",
       "      <th>-546.14</th>\n",
       "      <th>-842.31</th>\n",
       "    </tr>\n",
       "  </thead>\n",
       "  <tbody>\n",
       "    <tr>\n",
       "      <th>CHECKING_BALANCE</th>\n",
       "      <td>57</td>\n",
       "      <td>3</td>\n",
       "      <td>3</td>\n",
       "      <td>2</td>\n",
       "      <td>2</td>\n",
       "      <td>2</td>\n",
       "      <td>2</td>\n",
       "      <td>1</td>\n",
       "      <td>1</td>\n",
       "      <td>1</td>\n",
       "      <td>...</td>\n",
       "      <td>1</td>\n",
       "      <td>1</td>\n",
       "      <td>1</td>\n",
       "      <td>1</td>\n",
       "      <td>1</td>\n",
       "      <td>1</td>\n",
       "      <td>1</td>\n",
       "      <td>1</td>\n",
       "      <td>1</td>\n",
       "      <td>1</td>\n",
       "    </tr>\n",
       "  </tbody>\n",
       "</table>\n",
       "<p>1 rows × 1232 columns</p>\n",
       "</div>"
      ],
      "text/plain": [
       "                   0.00      42.83     97.41     19.00    -170.13    158.35   \\\n",
       "CHECKING_BALANCE        57         3         3         2         2         2   \n",
       "\n",
       "                   94.06    -56.17     169.20    8771.09  ...  -1128.33  \\\n",
       "CHECKING_BALANCE         2         1         1         1  ...         1   \n",
       "\n",
       "                   87.85    -77.15    -93.04    -298.62    125.76   -5.96     \\\n",
       "CHECKING_BALANCE         1         1         1         1         1         1   \n",
       "\n",
       "                   88.92    -546.14   -842.31   \n",
       "CHECKING_BALANCE         1         1         1  \n",
       "\n",
       "[1 rows x 1232 columns]"
      ]
     },
     "metadata": {},
     "output_type": "display_data"
    },
    {
     "data": {
      "text/html": [
       "<div>\n",
       "<style scoped>\n",
       "    .dataframe tbody tr th:only-of-type {\n",
       "        vertical-align: middle;\n",
       "    }\n",
       "\n",
       "    .dataframe tbody tr th {\n",
       "        vertical-align: top;\n",
       "    }\n",
       "\n",
       "    .dataframe thead th {\n",
       "        text-align: right;\n",
       "    }\n",
       "</style>\n",
       "<table border=\"1\" class=\"dataframe\">\n",
       "  <thead>\n",
       "    <tr style=\"text-align: right;\">\n",
       "      <th></th>\n",
       "      <th>100.89</th>\n",
       "      <th>28.92</th>\n",
       "      <th>79.41</th>\n",
       "      <th>57.25</th>\n",
       "      <th>65.64</th>\n",
       "      <th>77.85</th>\n",
       "      <th>79.34</th>\n",
       "      <th>44.88</th>\n",
       "      <th>8.12</th>\n",
       "      <th>428.75</th>\n",
       "      <th>...</th>\n",
       "      <th>249.10</th>\n",
       "      <th>95.80</th>\n",
       "      <th>247.97</th>\n",
       "      <th>909.17</th>\n",
       "      <th>76.13</th>\n",
       "      <th>504.65</th>\n",
       "      <th>98.55</th>\n",
       "      <th>1063.49</th>\n",
       "      <th>484.31</th>\n",
       "      <th>55.06</th>\n",
       "    </tr>\n",
       "  </thead>\n",
       "  <tbody>\n",
       "    <tr>\n",
       "      <th>EXISTING_SAVINGS</th>\n",
       "      <td>3</td>\n",
       "      <td>3</td>\n",
       "      <td>2</td>\n",
       "      <td>2</td>\n",
       "      <td>2</td>\n",
       "      <td>2</td>\n",
       "      <td>2</td>\n",
       "      <td>2</td>\n",
       "      <td>2</td>\n",
       "      <td>2</td>\n",
       "      <td>...</td>\n",
       "      <td>1</td>\n",
       "      <td>1</td>\n",
       "      <td>1</td>\n",
       "      <td>1</td>\n",
       "      <td>1</td>\n",
       "      <td>1</td>\n",
       "      <td>1</td>\n",
       "      <td>1</td>\n",
       "      <td>1</td>\n",
       "      <td>1</td>\n",
       "    </tr>\n",
       "  </tbody>\n",
       "</table>\n",
       "<p>1 rows × 1964 columns</p>\n",
       "</div>"
      ],
      "text/plain": [
       "                  100.89   28.92    79.41    57.25    65.64    77.85    \\\n",
       "EXISTING_SAVINGS        3        3        2        2        2        2   \n",
       "\n",
       "                  79.34    44.88    8.12     428.75   ...  249.10   95.80    \\\n",
       "EXISTING_SAVINGS        2        2        2        2  ...        1        1   \n",
       "\n",
       "                  247.97   909.17   76.13    504.65   98.55    1063.49  \\\n",
       "EXISTING_SAVINGS        1        1        1        1        1        1   \n",
       "\n",
       "                  484.31   55.06    \n",
       "EXISTING_SAVINGS        1        1  \n",
       "\n",
       "[1 rows x 1964 columns]"
      ]
     },
     "metadata": {},
     "output_type": "display_data"
    },
    {
     "data": {
      "text/html": [
       "<div>\n",
       "<style scoped>\n",
       "    .dataframe tbody tr th:only-of-type {\n",
       "        vertical-align: middle;\n",
       "    }\n",
       "\n",
       "    .dataframe tbody tr th {\n",
       "        vertical-align: top;\n",
       "    }\n",
       "\n",
       "    .dataframe thead th {\n",
       "        text-align: right;\n",
       "    }\n",
       "</style>\n",
       "<table border=\"1\" class=\"dataframe\">\n",
       "  <thead>\n",
       "    <tr style=\"text-align: right;\">\n",
       "      <th></th>\n",
       "      <th>1.0</th>\n",
       "      <th>2.0</th>\n",
       "      <th>3.0</th>\n",
       "    </tr>\n",
       "  </thead>\n",
       "  <tbody>\n",
       "    <tr>\n",
       "      <th>EXISTING_CREDITS_COUNT</th>\n",
       "      <td>1233</td>\n",
       "      <td>841</td>\n",
       "      <td>81</td>\n",
       "    </tr>\n",
       "  </tbody>\n",
       "</table>\n",
       "</div>"
      ],
      "text/plain": [
       "                         1.0  2.0  3.0\n",
       "EXISTING_CREDITS_COUNT  1233  841   81"
      ]
     },
     "metadata": {},
     "output_type": "display_data"
    },
    {
     "data": {
      "text/html": [
       "<div>\n",
       "<style scoped>\n",
       "    .dataframe tbody tr th:only-of-type {\n",
       "        vertical-align: middle;\n",
       "    }\n",
       "\n",
       "    .dataframe tbody tr th {\n",
       "        vertical-align: top;\n",
       "    }\n",
       "\n",
       "    .dataframe thead th {\n",
       "        text-align: right;\n",
       "    }\n",
       "</style>\n",
       "<table border=\"1\" class=\"dataframe\">\n",
       "  <thead>\n",
       "    <tr style=\"text-align: right;\">\n",
       "      <th></th>\n",
       "      <th>19.0</th>\n",
       "      <th>40.0</th>\n",
       "      <th>36.0</th>\n",
       "      <th>37.0</th>\n",
       "      <th>34.0</th>\n",
       "      <th>31.0</th>\n",
       "      <th>38.0</th>\n",
       "      <th>39.0</th>\n",
       "      <th>41.0</th>\n",
       "      <th>33.0</th>\n",
       "      <th>...</th>\n",
       "      <th>61.0</th>\n",
       "      <th>65.0</th>\n",
       "      <th>66.0</th>\n",
       "      <th>63.0</th>\n",
       "      <th>62.0</th>\n",
       "      <th>74.0</th>\n",
       "      <th>70.0</th>\n",
       "      <th>64.0</th>\n",
       "      <th>73.0</th>\n",
       "      <th>67.0</th>\n",
       "    </tr>\n",
       "  </thead>\n",
       "  <tbody>\n",
       "    <tr>\n",
       "      <th>AGE</th>\n",
       "      <td>278</td>\n",
       "      <td>129</td>\n",
       "      <td>127</td>\n",
       "      <td>121</td>\n",
       "      <td>118</td>\n",
       "      <td>116</td>\n",
       "      <td>116</td>\n",
       "      <td>110</td>\n",
       "      <td>110</td>\n",
       "      <td>109</td>\n",
       "      <td>...</td>\n",
       "      <td>7</td>\n",
       "      <td>5</td>\n",
       "      <td>3</td>\n",
       "      <td>3</td>\n",
       "      <td>2</td>\n",
       "      <td>2</td>\n",
       "      <td>1</td>\n",
       "      <td>1</td>\n",
       "      <td>1</td>\n",
       "      <td>1</td>\n",
       "    </tr>\n",
       "  </tbody>\n",
       "</table>\n",
       "<p>1 rows × 52 columns</p>\n",
       "</div>"
      ],
      "text/plain": [
       "     19.0  40.0  36.0  37.0  34.0  31.0  38.0  39.0  41.0  33.0  ...  61.0  \\\n",
       "AGE   278   129   127   121   118   116   116   110   110   109  ...     7   \n",
       "\n",
       "     65.0  66.0  63.0  62.0  74.0  70.0  64.0  73.0  67.0  \n",
       "AGE     5     3     3     2     2     1     1     1     1  \n",
       "\n",
       "[1 rows x 52 columns]"
      ]
     },
     "metadata": {},
     "output_type": "display_data"
    },
    {
     "data": {
      "text/html": [
       "<div>\n",
       "<style scoped>\n",
       "    .dataframe tbody tr th:only-of-type {\n",
       "        vertical-align: middle;\n",
       "    }\n",
       "\n",
       "    .dataframe tbody tr th {\n",
       "        vertical-align: top;\n",
       "    }\n",
       "\n",
       "    .dataframe thead th {\n",
       "        text-align: right;\n",
       "    }\n",
       "</style>\n",
       "<table border=\"1\" class=\"dataframe\">\n",
       "  <thead>\n",
       "    <tr style=\"text-align: right;\">\n",
       "      <th></th>\n",
       "      <th>3.0</th>\n",
       "      <th>1.0</th>\n",
       "      <th>2.0</th>\n",
       "      <th>0.0</th>\n",
       "    </tr>\n",
       "  </thead>\n",
       "  <tbody>\n",
       "    <tr>\n",
       "      <th>JOB_TYPE</th>\n",
       "      <td>2331</td>\n",
       "      <td>467</td>\n",
       "      <td>426</td>\n",
       "      <td>203</td>\n",
       "    </tr>\n",
       "  </tbody>\n",
       "</table>\n",
       "</div>"
      ],
      "text/plain": [
       "           3.0  1.0  2.0  0.0\n",
       "JOB_TYPE  2331  467  426  203"
      ]
     },
     "metadata": {},
     "output_type": "display_data"
    },
    {
     "data": {
      "text/html": [
       "<div>\n",
       "<style scoped>\n",
       "    .dataframe tbody tr th:only-of-type {\n",
       "        vertical-align: middle;\n",
       "    }\n",
       "\n",
       "    .dataframe tbody tr th {\n",
       "        vertical-align: top;\n",
       "    }\n",
       "\n",
       "    .dataframe thead th {\n",
       "        text-align: right;\n",
       "    }\n",
       "</style>\n",
       "<table border=\"1\" class=\"dataframe\">\n",
       "  <thead>\n",
       "    <tr style=\"text-align: right;\">\n",
       "      <th></th>\n",
       "      <th>1.0</th>\n",
       "      <th>2.0</th>\n",
       "    </tr>\n",
       "  </thead>\n",
       "  <tbody>\n",
       "    <tr>\n",
       "      <th>DEPENDENTS</th>\n",
       "      <td>2874</td>\n",
       "      <td>555</td>\n",
       "    </tr>\n",
       "  </tbody>\n",
       "</table>\n",
       "</div>"
      ],
      "text/plain": [
       "             1.0  2.0\n",
       "DEPENDENTS  2874  555"
      ]
     },
     "metadata": {},
     "output_type": "display_data"
    },
    {
     "data": {
      "text/html": [
       "<div>\n",
       "<style scoped>\n",
       "    .dataframe tbody tr th:only-of-type {\n",
       "        vertical-align: middle;\n",
       "    }\n",
       "\n",
       "    .dataframe tbody tr th {\n",
       "        vertical-align: top;\n",
       "    }\n",
       "\n",
       "    .dataframe thead th {\n",
       "        text-align: right;\n",
       "    }\n",
       "</style>\n",
       "<table border=\"1\" class=\"dataframe\">\n",
       "  <thead>\n",
       "    <tr style=\"text-align: right;\">\n",
       "      <th></th>\n",
       "      <th>0.0</th>\n",
       "      <th>1.0</th>\n",
       "    </tr>\n",
       "  </thead>\n",
       "  <tbody>\n",
       "    <tr>\n",
       "      <th>TELEPHONE</th>\n",
       "      <td>2007</td>\n",
       "      <td>1420</td>\n",
       "    </tr>\n",
       "  </tbody>\n",
       "</table>\n",
       "</div>"
      ],
      "text/plain": [
       "            0.0   1.0\n",
       "TELEPHONE  2007  1420"
      ]
     },
     "metadata": {},
     "output_type": "display_data"
    },
    {
     "data": {
      "text/html": [
       "<div>\n",
       "<style scoped>\n",
       "    .dataframe tbody tr th:only-of-type {\n",
       "        vertical-align: middle;\n",
       "    }\n",
       "\n",
       "    .dataframe tbody tr th {\n",
       "        vertical-align: top;\n",
       "    }\n",
       "\n",
       "    .dataframe thead th {\n",
       "        text-align: right;\n",
       "    }\n",
       "</style>\n",
       "<table border=\"1\" class=\"dataframe\">\n",
       "  <thead>\n",
       "    <tr style=\"text-align: right;\">\n",
       "      <th></th>\n",
       "      <th>1.0</th>\n",
       "      <th>0.0</th>\n",
       "    </tr>\n",
       "  </thead>\n",
       "  <tbody>\n",
       "    <tr>\n",
       "      <th>FOREIGN_WORKER</th>\n",
       "      <td>3342</td>\n",
       "      <td>81</td>\n",
       "    </tr>\n",
       "  </tbody>\n",
       "</table>\n",
       "</div>"
      ],
      "text/plain": [
       "                 1.0  0.0\n",
       "FOREIGN_WORKER  3342   81"
      ]
     },
     "metadata": {},
     "output_type": "display_data"
    },
    {
     "data": {
      "text/html": [
       "<div>\n",
       "<style scoped>\n",
       "    .dataframe tbody tr th:only-of-type {\n",
       "        vertical-align: middle;\n",
       "    }\n",
       "\n",
       "    .dataframe tbody tr th {\n",
       "        vertical-align: top;\n",
       "    }\n",
       "\n",
       "    .dataframe thead th {\n",
       "        text-align: right;\n",
       "    }\n",
       "</style>\n",
       "<table border=\"1\" class=\"dataframe\">\n",
       "  <thead>\n",
       "    <tr style=\"text-align: right;\">\n",
       "      <th></th>\n",
       "      <th>0.0</th>\n",
       "      <th>7.0</th>\n",
       "      <th>5.0</th>\n",
       "      <th>6.0</th>\n",
       "      <th>1.0</th>\n",
       "      <th>3.0</th>\n",
       "      <th>2.0</th>\n",
       "      <th>4.0</th>\n",
       "      <th>8.0</th>\n",
       "      <th>9.0</th>\n",
       "      <th>10.0</th>\n",
       "      <th>11.0</th>\n",
       "      <th>12.0</th>\n",
       "      <th>13.0</th>\n",
       "      <th>14.0</th>\n",
       "      <th>15.0</th>\n",
       "      <th>16.0</th>\n",
       "      <th>18.0</th>\n",
       "    </tr>\n",
       "  </thead>\n",
       "  <tbody>\n",
       "    <tr>\n",
       "      <th>EMPLOYMENT_DURATION</th>\n",
       "      <td>810</td>\n",
       "      <td>338</td>\n",
       "      <td>333</td>\n",
       "      <td>304</td>\n",
       "      <td>274</td>\n",
       "      <td>257</td>\n",
       "      <td>241</td>\n",
       "      <td>238</td>\n",
       "      <td>173</td>\n",
       "      <td>156</td>\n",
       "      <td>132</td>\n",
       "      <td>76</td>\n",
       "      <td>67</td>\n",
       "      <td>20</td>\n",
       "      <td>8</td>\n",
       "      <td>7</td>\n",
       "      <td>2</td>\n",
       "      <td>1</td>\n",
       "    </tr>\n",
       "  </tbody>\n",
       "</table>\n",
       "</div>"
      ],
      "text/plain": [
       "                     0.0   7.0   5.0   6.0   1.0   3.0   2.0   4.0   8.0   \\\n",
       "EMPLOYMENT_DURATION   810   338   333   304   274   257   241   238   173   \n",
       "\n",
       "                     9.0   10.0  11.0  12.0  13.0  14.0  15.0  16.0  18.0  \n",
       "EMPLOYMENT_DURATION   156   132    76    67    20     8     7     2     1  "
      ]
     },
     "metadata": {},
     "output_type": "display_data"
    },
    {
     "data": {
      "text/html": [
       "<div>\n",
       "<style scoped>\n",
       "    .dataframe tbody tr th:only-of-type {\n",
       "        vertical-align: middle;\n",
       "    }\n",
       "\n",
       "    .dataframe tbody tr th {\n",
       "        vertical-align: top;\n",
       "    }\n",
       "\n",
       "    .dataframe thead th {\n",
       "        text-align: right;\n",
       "    }\n",
       "</style>\n",
       "<table border=\"1\" class=\"dataframe\">\n",
       "  <thead>\n",
       "    <tr style=\"text-align: right;\">\n",
       "      <th></th>\n",
       "      <th>3.0</th>\n",
       "      <th>2.0</th>\n",
       "      <th>4.0</th>\n",
       "      <th>1.0</th>\n",
       "      <th>5.0</th>\n",
       "    </tr>\n",
       "  </thead>\n",
       "  <tbody>\n",
       "    <tr>\n",
       "      <th>CURRENT_RESIDENCE_DURATION</th>\n",
       "      <td>1138</td>\n",
       "      <td>876</td>\n",
       "      <td>747</td>\n",
       "      <td>425</td>\n",
       "      <td>244</td>\n",
       "    </tr>\n",
       "  </tbody>\n",
       "</table>\n",
       "</div>"
      ],
      "text/plain": [
       "                             3.0  2.0  4.0  1.0  5.0\n",
       "CURRENT_RESIDENCE_DURATION  1138  876  747  425  244"
      ]
     },
     "metadata": {},
     "output_type": "display_data"
    },
    {
     "data": {
      "text/html": [
       "<div>\n",
       "<style scoped>\n",
       "    .dataframe tbody tr th:only-of-type {\n",
       "        vertical-align: middle;\n",
       "    }\n",
       "\n",
       "    .dataframe tbody tr th {\n",
       "        vertical-align: top;\n",
       "    }\n",
       "\n",
       "    .dataframe thead th {\n",
       "        text-align: right;\n",
       "    }\n",
       "</style>\n",
       "<table border=\"1\" class=\"dataframe\">\n",
       "  <thead>\n",
       "    <tr style=\"text-align: right;\">\n",
       "      <th></th>\n",
       "      <th>124.0</th>\n",
       "      <th>120.0</th>\n",
       "      <th>930.0</th>\n",
       "      <th>240.0</th>\n",
       "      <th>744.0</th>\n",
       "      <th>775.0</th>\n",
       "      <th>600.0</th>\n",
       "      <th>868.0</th>\n",
       "      <th>810.0</th>\n",
       "      <th>620.0</th>\n",
       "      <th>...</th>\n",
       "      <th>1680.0</th>\n",
       "      <th>1860.0</th>\n",
       "      <th>1891.0</th>\n",
       "      <th>1984.0</th>\n",
       "      <th>1560.0</th>\n",
       "      <th>1710.0</th>\n",
       "      <th>1890.0</th>\n",
       "      <th>1829.0</th>\n",
       "      <th>1590.0</th>\n",
       "      <th>1830.0</th>\n",
       "    </tr>\n",
       "  </thead>\n",
       "  <tbody>\n",
       "    <tr>\n",
       "      <th>PAYMENT_TERM</th>\n",
       "      <td>155</td>\n",
       "      <td>152</td>\n",
       "      <td>95</td>\n",
       "      <td>70</td>\n",
       "      <td>67</td>\n",
       "      <td>67</td>\n",
       "      <td>63</td>\n",
       "      <td>62</td>\n",
       "      <td>62</td>\n",
       "      <td>61</td>\n",
       "      <td>...</td>\n",
       "      <td>1</td>\n",
       "      <td>1</td>\n",
       "      <td>1</td>\n",
       "      <td>1</td>\n",
       "      <td>1</td>\n",
       "      <td>1</td>\n",
       "      <td>1</td>\n",
       "      <td>1</td>\n",
       "      <td>1</td>\n",
       "      <td>1</td>\n",
       "    </tr>\n",
       "  </tbody>\n",
       "</table>\n",
       "<p>1 rows × 107 columns</p>\n",
       "</div>"
      ],
      "text/plain": [
       "              124.0   120.0   930.0   240.0   744.0   775.0   600.0   868.0   \\\n",
       "PAYMENT_TERM     155     152      95      70      67      67      63      62   \n",
       "\n",
       "              810.0   620.0   ...  1680.0  1860.0  1891.0  1984.0  1560.0  \\\n",
       "PAYMENT_TERM      62      61  ...       1       1       1       1       1   \n",
       "\n",
       "              1710.0  1890.0  1829.0  1590.0  1830.0  \n",
       "PAYMENT_TERM       1       1       1       1       1  \n",
       "\n",
       "[1 rows x 107 columns]"
      ]
     },
     "metadata": {},
     "output_type": "display_data"
    },
    {
     "data": {
      "text/html": [
       "<div>\n",
       "<style scoped>\n",
       "    .dataframe tbody tr th:only-of-type {\n",
       "        vertical-align: middle;\n",
       "    }\n",
       "\n",
       "    .dataframe tbody tr th {\n",
       "        vertical-align: top;\n",
       "    }\n",
       "\n",
       "    .dataframe thead th {\n",
       "        text-align: right;\n",
       "    }\n",
       "</style>\n",
       "<table border=\"1\" class=\"dataframe\">\n",
       "  <thead>\n",
       "    <tr style=\"text-align: right;\">\n",
       "      <th></th>\n",
       "      <th>3.0</th>\n",
       "      <th>2.0</th>\n",
       "      <th>4.0</th>\n",
       "      <th>1.0</th>\n",
       "      <th>5.0</th>\n",
       "      <th>6.0</th>\n",
       "    </tr>\n",
       "  </thead>\n",
       "  <tbody>\n",
       "    <tr>\n",
       "      <th>INSTALLMENT_PERCENT</th>\n",
       "      <td>1130</td>\n",
       "      <td>854</td>\n",
       "      <td>851</td>\n",
       "      <td>342</td>\n",
       "      <td>291</td>\n",
       "      <td>11</td>\n",
       "    </tr>\n",
       "  </tbody>\n",
       "</table>\n",
       "</div>"
      ],
      "text/plain": [
       "                      3.0  2.0  4.0  1.0  5.0  6.0\n",
       "INSTALLMENT_PERCENT  1130  854  851  342  291   11"
      ]
     },
     "metadata": {},
     "output_type": "display_data"
    },
    {
     "data": {
      "text/html": [
       "<div>\n",
       "<style scoped>\n",
       "    .dataframe tbody tr th:only-of-type {\n",
       "        vertical-align: middle;\n",
       "    }\n",
       "\n",
       "    .dataframe tbody tr th {\n",
       "        vertical-align: top;\n",
       "    }\n",
       "\n",
       "    .dataframe thead th {\n",
       "        text-align: right;\n",
       "    }\n",
       "</style>\n",
       "<table border=\"1\" class=\"dataframe\">\n",
       "  <thead>\n",
       "    <tr style=\"text-align: right;\">\n",
       "      <th></th>\n",
       "      <th>250.0</th>\n",
       "      <th>1993.0</th>\n",
       "      <th>6954.0</th>\n",
       "      <th>4545.0</th>\n",
       "      <th>1820.0</th>\n",
       "      <th>3810.0</th>\n",
       "      <th>5011.0</th>\n",
       "      <th>3315.0</th>\n",
       "      <th>4842.0</th>\n",
       "      <th>3147.0</th>\n",
       "      <th>...</th>\n",
       "      <th>2463.0</th>\n",
       "      <th>6603.0</th>\n",
       "      <th>6591.0</th>\n",
       "      <th>6434.0</th>\n",
       "      <th>4674.0</th>\n",
       "      <th>6585.0</th>\n",
       "      <th>2956.0</th>\n",
       "      <th>368.0</th>\n",
       "      <th>3724.0</th>\n",
       "      <th>3896.0</th>\n",
       "    </tr>\n",
       "  </thead>\n",
       "  <tbody>\n",
       "    <tr>\n",
       "      <th>LOAN_AMOUNT</th>\n",
       "      <td>505</td>\n",
       "      <td>5</td>\n",
       "      <td>4</td>\n",
       "      <td>4</td>\n",
       "      <td>4</td>\n",
       "      <td>4</td>\n",
       "      <td>3</td>\n",
       "      <td>3</td>\n",
       "      <td>3</td>\n",
       "      <td>3</td>\n",
       "      <td>...</td>\n",
       "      <td>1</td>\n",
       "      <td>1</td>\n",
       "      <td>1</td>\n",
       "      <td>1</td>\n",
       "      <td>1</td>\n",
       "      <td>1</td>\n",
       "      <td>1</td>\n",
       "      <td>1</td>\n",
       "      <td>1</td>\n",
       "      <td>1</td>\n",
       "    </tr>\n",
       "  </tbody>\n",
       "</table>\n",
       "<p>1 rows × 2511 columns</p>\n",
       "</div>"
      ],
      "text/plain": [
       "             250.0   1993.0  6954.0  4545.0  1820.0  3810.0  5011.0  3315.0  \\\n",
       "LOAN_AMOUNT     505       5       4       4       4       4       3       3   \n",
       "\n",
       "             4842.0  3147.0  ...  2463.0  6603.0  6591.0  6434.0  4674.0  \\\n",
       "LOAN_AMOUNT       3       3  ...       1       1       1       1       1   \n",
       "\n",
       "             6585.0  2956.0  368.0   3724.0  3896.0  \n",
       "LOAN_AMOUNT       1       1       1       1       1  \n",
       "\n",
       "[1 rows x 2511 columns]"
      ]
     },
     "metadata": {},
     "output_type": "display_data"
    },
    {
     "data": {
      "text/html": [
       "<div>\n",
       "<style scoped>\n",
       "    .dataframe tbody tr th:only-of-type {\n",
       "        vertical-align: middle;\n",
       "    }\n",
       "\n",
       "    .dataframe tbody tr th {\n",
       "        vertical-align: top;\n",
       "    }\n",
       "\n",
       "    .dataframe thead th {\n",
       "        text-align: right;\n",
       "    }\n",
       "</style>\n",
       "<table border=\"1\" class=\"dataframe\">\n",
       "  <thead>\n",
       "    <tr style=\"text-align: right;\">\n",
       "      <th></th>\n",
       "      <th>1</th>\n",
       "      <th>0</th>\n",
       "    </tr>\n",
       "  </thead>\n",
       "  <tbody>\n",
       "    <tr>\n",
       "      <th>ALLOW</th>\n",
       "      <td>2324</td>\n",
       "      <td>1175</td>\n",
       "    </tr>\n",
       "  </tbody>\n",
       "</table>\n",
       "</div>"
      ],
      "text/plain": [
       "          1     0\n",
       "ALLOW  2324  1175"
      ]
     },
     "metadata": {},
     "output_type": "display_data"
    }
   ],
   "source": [
    "for col in numeric_cols:\n",
    "    display(df_train_processed[col].value_counts().to_frame().T)"
   ]
  },
  {
   "cell_type": "markdown",
   "metadata": {},
   "source": [
    "### Correlações"
   ]
  },
  {
   "cell_type": "markdown",
   "metadata": {},
   "source": [
    "#### Variáveis sobre as contas"
   ]
  },
  {
   "cell_type": "code",
   "execution_count": 22,
   "metadata": {},
   "outputs": [
    {
     "data": {
      "image/png": "[encoded data removed]",
      "text/plain": [
       "<Figure size 583.125x540 with 9 Axes>"
      ]
     },
     "metadata": {
      "needs_background": "light"
     },
     "output_type": "display_data"
    }
   ],
   "source": [
    "sorted_cols = list(sorted(set(account_cols + [target])))\n",
    "sns.pairplot(df_train_processed[sorted_cols], hue=target, palette='Set1', corner=True)\n",
    "plt.show()"
   ]
  },
  {
   "cell_type": "markdown",
   "metadata": {},
   "source": [
    "#### Variáveis sobre dados demográficos"
   ]
  },
  {
   "cell_type": "code",
   "execution_count": 23,
   "metadata": {},
   "outputs": [
    {
     "data": {
      "image/png": "[encoded data removed]",
      "text/plain": [
       "<Figure size 1303.12x1260 with 35 Axes>"
      ]
     },
     "metadata": {
      "needs_background": "light"
     },
     "output_type": "display_data"
    }
   ],
   "source": [
    "sorted_cols = list(sorted(set(demographic_cols + [target])))\n",
    "sns.pairplot(df_train_processed[sorted_cols], hue=target, palette='Set1', corner=True)\n",
    "plt.show()"
   ]
  },
  {
   "cell_type": "markdown",
   "metadata": {},
   "source": [
    "- Talvez seja melhor considerar que o tipo de trabalho (`JOB_TYPE`) é uma variável categórica e fazer One-Hot-Encoding, assumindo que não exista necessariamente uma ordenação natural dos tipos"
   ]
  },
  {
   "cell_type": "markdown",
   "metadata": {},
   "source": [
    "#### Variáveis sobre os empéstimos"
   ]
  },
  {
   "cell_type": "code",
   "execution_count": 24,
   "metadata": {},
   "outputs": [
    {
     "data": {
      "image/png": "[encoded data removed]",
      "text/plain": [
       "<Figure size 583.125x540 with 9 Axes>"
      ]
     },
     "metadata": {
      "needs_background": "light"
     },
     "output_type": "display_data"
    }
   ],
   "source": [
    "sorted_cols = list(sorted(set(loan_cols + [target])))\n",
    "sns.pairplot(df_train_processed[sorted_cols], hue=target, palette='Set1', corner=True)\n",
    "plt.show()"
   ]
  },
  {
   "cell_type": "code",
   "execution_count": 25,
   "metadata": {},
   "outputs": [
    {
     "data": {
      "image/png": "[encoded data removed]",
      "text/plain": [
       "<Figure size 432x288 with 1 Axes>"
      ]
     },
     "metadata": {
      "needs_background": "light"
     },
     "output_type": "display_data"
    },
    {
     "data": {
      "image/png": "[encoded data removed]",
      "text/plain": [
       "<Figure size 432x288 with 1 Axes>"
      ]
     },
     "metadata": {
      "needs_background": "light"
     },
     "output_type": "display_data"
    },
    {
     "data": {
      "image/png": "[encoded data removed]",
      "text/plain": [
       "<Figure size 432x288 with 1 Axes>"
      ]
     },
     "metadata": {
      "needs_background": "light"
     },
     "output_type": "display_data"
    },
    {
     "data": {
      "image/png": "[encoded data removed]",
      "text/plain": [
       "<Figure size 432x288 with 1 Axes>"
      ]
     },
     "metadata": {
      "needs_background": "light"
     },
     "output_type": "display_data"
    },
    {
     "data": {
      "image/png": "[encoded data removed]",
      "text/plain": [
       "<Figure size 432x288 with 1 Axes>"
      ]
     },
     "metadata": {
      "needs_background": "light"
     },
     "output_type": "display_data"
    },
    {
     "data": {
      "image/png": "[encoded data removed]",
      "text/plain": [
       "<Figure size 432x288 with 1 Axes>"
      ]
     },
     "metadata": {
      "needs_background": "light"
     },
     "output_type": "display_data"
    },
    {
     "data": {
      "image/png": "[encoded data removed]",
      "text/plain": [
       "<Figure size 432x288 with 1 Axes>"
      ]
     },
     "metadata": {
      "needs_background": "light"
     },
     "output_type": "display_data"
    }
   ],
   "source": [
    "sorted_cols = list(sorted(set(non_numeric_cols) - set(possibly_numeric_cols)))\n",
    "for col in sorted_cols:\n",
    "    risk_plot = sns.countplot(\n",
    "        data=df_train, y=col, order=df_train[col].value_counts().index, orient='h', hue='ALLOW'\n",
    "    )\n",
    "    plt.show()"
   ]
  },
  {
   "cell_type": "code",
   "execution_count": 26,
   "metadata": {},
   "outputs": [
    {
     "data": {
      "image/png": "[encoded data removed]",
      "text/plain": [
       "<Figure size 432x288 with 1 Axes>"
      ]
     },
     "metadata": {
      "needs_background": "light"
     },
     "output_type": "display_data"
    }
   ],
   "source": [
    "temp = pd.concat(\n",
    "    [df_train_processed, df_train_processed['LOAN_PURPOSE'].isin(['EDUCATION', 'RETRAINING', 'BUSINESS']).rename('LOAN_PURPOSE_IS_INVESTIMENT')],\n",
    "    axis=1\n",
    ")\n",
    "risk_plot = sns.countplot(\n",
    "    data=temp, y='LOAN_PURPOSE_IS_INVESTIMENT', order=temp['LOAN_PURPOSE_IS_INVESTIMENT'].value_counts().index, orient='h', hue='ALLOW'\n",
    ")\n",
    "plt.show()"
   ]
  },
  {
   "cell_type": "markdown",
   "metadata": {},
   "source": [
    "## Tratamento dos dados"
   ]
  },
  {
   "cell_type": "markdown",
   "metadata": {},
   "source": [
    "Uma vez que exploramos os dados, entendemos a importância de cada coluna e podemos fazer alterações nelas para para obter um melhor resultado. Aqui, vamos fazer apenas um tratamento simples, de remover do dataset as linhas que tiverem faltando algum valor. Não necessariamente essa técnica é a melhor para se utilizar no desafio, é apenas um exemplo de como tratar o dataset.\n",
    "\n",
    "Para tratamentos mais avançados, como modificação de colunas ou criação de novas colunas, veja mais abaixo no Notebook, em que explicamos como utilizar as `Pipelines`, da biblioteca `sklearn`, para realizar transformações nos dados."
   ]
  },
  {
   "cell_type": "code",
   "execution_count": 27,
   "metadata": {
    "tags": []
   },
   "outputs": [
    {
     "data": {
      "text/plain": [
       "CHECKING_BALANCE              1963\n",
       "CREDIT_HISTORY                1963\n",
       "EXISTING_SAVINGS              1963\n",
       "EXISTING_CREDITS_COUNT        1963\n",
       "SEX                           1963\n",
       "AGE                           1963\n",
       "JOB_TYPE                      1963\n",
       "DEPENDENTS                    1963\n",
       "TELEPHONE                     1963\n",
       "FOREIGN_WORKER                1963\n",
       "EMPLOYMENT_DURATION           1963\n",
       "PROPERTY                      1963\n",
       "HOUSING                       1963\n",
       "CURRENT_RESIDENCE_DURATION    1963\n",
       "PAYMENT_TERM                  1963\n",
       "INSTALLMENT_PLANS             1963\n",
       "INSTALLMENT_PERCENT           1963\n",
       "LOAN_PURPOSE                  1963\n",
       "LOAN_AMOUNT                   1963\n",
       "OTHERS_ON_LOAN                1963\n",
       "ALLOW                         1963\n",
       "dtype: int64"
      ]
     },
     "execution_count": 27,
     "metadata": {},
     "output_type": "execute_result"
    }
   ],
   "source": [
    "clean_df = df_train.dropna()\n",
    "clean_df.count()\n"
   ]
  },
  {
   "cell_type": "markdown",
   "metadata": {},
   "source": [
    "Podemos observar que agora temos um dataset \"limpo\", mas perdemos alguns dados por remover as linhas em que pelo menos uma coluna estava faltando."
   ]
  },
  {
   "cell_type": "markdown",
   "metadata": {},
   "source": [
    "Observando a execução do método `.info()` acima, podemos ver que existem três colunas do tipo `object`. O modelo do `scikit-learn` que vamos usar não é capaz de processar uma variável desse tipo. Portanto, para dar seguimento ao experimento, vamos remover essa coluna. Recomendamos que você use alguma técnica para tratamento de variáveis categóricas, como o _one-hot encoding_, em vez de remover a coluna.\n",
    "\n",
    "Vamos também remover a coluna `ID`, pois sabemos que ela não é uma informação útil para a predição (é apenas um número identificando um cliente)."
   ]
  },
  {
   "cell_type": "code",
   "execution_count": 28,
   "metadata": {},
   "outputs": [],
   "source": [
    "object_columns = [\"INSTALLMENT_PLANS\", \"LOAN_PURPOSE\", \"OTHERS_ON_LOAN\"]\n",
    "clean_df = clean_df.drop(object_columns, axis=1)\n",
    "# clean_df = clean_df.drop(\"ID\", axis=1)\n"
   ]
  },
  {
   "cell_type": "code",
   "execution_count": 29,
   "metadata": {},
   "outputs": [
    {
     "name": "stdout",
     "output_type": "stream",
     "text": [
      "<class 'pandas.core.frame.DataFrame'>\n",
      "Int64Index: 1963 entries, 796440 to 136433\n",
      "Data columns (total 18 columns):\n",
      " #   Column                      Non-Null Count  Dtype  \n",
      "---  ------                      --------------  -----  \n",
      " 0   CHECKING_BALANCE            1963 non-null   object \n",
      " 1   CREDIT_HISTORY              1963 non-null   object \n",
      " 2   EXISTING_SAVINGS            1963 non-null   object \n",
      " 3   EXISTING_CREDITS_COUNT      1963 non-null   float64\n",
      " 4   SEX                         1963 non-null   object \n",
      " 5   AGE                         1963 non-null   float64\n",
      " 6   JOB_TYPE                    1963 non-null   float64\n",
      " 7   DEPENDENTS                  1963 non-null   float64\n",
      " 8   TELEPHONE                   1963 non-null   float64\n",
      " 9   FOREIGN_WORKER              1963 non-null   float64\n",
      " 10  EMPLOYMENT_DURATION         1963 non-null   float64\n",
      " 11  PROPERTY                    1963 non-null   object \n",
      " 12  HOUSING                     1963 non-null   object \n",
      " 13  CURRENT_RESIDENCE_DURATION  1963 non-null   float64\n",
      " 14  PAYMENT_TERM                1963 non-null   float64\n",
      " 15  INSTALLMENT_PERCENT         1963 non-null   float64\n",
      " 16  LOAN_AMOUNT                 1963 non-null   float64\n",
      " 17  ALLOW                       1963 non-null   int64  \n",
      "dtypes: float64(11), int64(1), object(6)\n",
      "memory usage: 291.4+ KB\n"
     ]
    }
   ],
   "source": [
    "clean_df.info()\n"
   ]
  },
  {
   "cell_type": "markdown",
   "metadata": {},
   "source": [
    "## Criação do modelo\n",
    "\n",
    "Com os dados prontos, podemos selecionar um modelo de Machine Learning para treinar com nossos dados. Nesse exemplo, vamos utilizar um modelo de classificação básico, o de Árvore de Decisão.\n",
    "\n",
    "Para conseguir avaliar o desempenho do nosso modelo, vamos dividir os dados que temos entre dados de treino e de teste, e assim, após o treinamento, verificar como ele está se saindo com as predições."
   ]
  },
  {
   "cell_type": "markdown",
   "metadata": {},
   "source": [
    "Abaixo, separamos os dados que queremos predizer dos dados que utilizamos como informações para a predição."
   ]
  },
  {
   "cell_type": "code",
   "execution_count": 30,
   "metadata": {},
   "outputs": [],
   "source": [
    "# features = [\"PAYMENT_TERM\", \"INSTALLMENT_PERCENT\", \"LOAN_AMOUNT\"]\n",
    "features = [\"EXISTING_CREDITS_COUNT\", \"AGE\", \"JOB_TYPE\", \"DEPENDENTS\", \"TELEPHONE\", \"FOREIGN_WORKER\",\n",
    "            \"EMPLOYMENT_DURATION\", \"CURRENT_RESIDENCE_DURATION\",\"PAYMENT_TERM\", \"INSTALLMENT_PERCENT\", \"LOAN_AMOUNT\"]\n",
    "# target = [\"ALLOW\"]\n",
    "\n",
    "X = clean_df[features]\n",
    "y = clean_df[target]\n"
   ]
  },
  {
   "cell_type": "code",
   "execution_count": 31,
   "metadata": {},
   "outputs": [
    {
     "name": "stdout",
     "output_type": "stream",
     "text": [
      "Acurácia do modelo (número de predições assertivas sobre número total de testes): 0.7096774193548387\n"
     ]
    }
   ],
   "source": [
    "test_pct = 0.3  # Separaremos 30% dos dados para testes\n",
    "X_train, X_test, y_train, y_test = train_test_split(X, y, test_size=test_pct, random_state=seed, stratify=y)\n",
    "\n",
    "model = DecisionTreeClassifier(random_state=seed)\n",
    "model.fit(X_train, y_train)\n",
    "\n",
    "y_pred = model.predict(X_test)\n",
    "acc = accuracy_score(y_test, y_pred)\n",
    "print(\n",
    "    f\"Acurácia do modelo (número de predições assertivas sobre número total de testes): {acc}\"\n",
    ")\n"
   ]
  },
  {
   "cell_type": "markdown",
   "metadata": {},
   "source": [
    "Fica como tarefa para você unir os outros conjuntos de dados disponíveis e utilizá-los também para predições no modelo, em vez de remover as colunas."
   ]
  },
  {
   "cell_type": "markdown",
   "metadata": {},
   "source": [
    "## Criação de Pipelines no scikit-learn\n",
    "\n",
    "Para criar um modelo capaz de fazer transformações nos dados de entrada, vamos criar uma `Pipeline` do `scikit-learn` e aplicar nossas transformações dentro dos estágios dela.\n",
    "\n",
    "Abaixo, definimos um transformador exemplo, que irá remover as colunas passadas como parâmetro em sua inicialização:"
   ]
  },
  {
   "cell_type": "code",
   "execution_count": 32,
   "metadata": {},
   "outputs": [],
   "source": [
    "\n",
    "\n",
    "\n",
    "# Um transformador para remover colunas indesejadas\n",
    "class DropColumns(BaseEstimator, TransformerMixin):\n",
    "    def __init__(self, columns):\n",
    "        self.columns = columns\n",
    "\n",
    "    def fit(self, X, y=None):\n",
    "        return self\n",
    "\n",
    "    def transform(self, X):\n",
    "        # Primeiro realizamos a cópia do DataFrame 'X' de entrada\n",
    "        data = X.copy()\n",
    "        # Retornamos um novo dataframe sem as colunas indesejadas\n",
    "        return data.drop(labels=self.columns, axis=\"columns\")\n"
   ]
  },
  {
   "cell_type": "markdown",
   "metadata": {},
   "source": [
    "Tanto o método `fit` quanto o `transform` devem obrigatoriamente ser definidos, mesmo se não forem fazer nada de diferente, como no caso do `fit` acima.\n",
    "\n",
    "Da mesma forma, você pode criar outros transformadores, para outros propósitos, sempre herdando das classes `BaseEstimator` e `TransformerMixin`. Você pode utilizar um transformador para, por exemplo, criar novas colunas, editar tipos de dados de colunas existentes, entre outros.\n",
    "\n",
    "Agora, vamos criar uma Pipeline para utilização do nosso modelo, aceitando todas as colunas esperadas pelo desafio e removendo as que não queremos usar."
   ]
  },
  {
   "cell_type": "code",
   "execution_count": 33,
   "metadata": {},
   "outputs": [],
   "source": [
    "challenge_columns = [\n",
    "    \"ID\",\n",
    "    \"CHECKING_BALANCE\",\n",
    "    \"PAYMENT_TERM\",\n",
    "    \"CREDIT_HISTORY\",\n",
    "    \"LOAN_PURPOSE\",\n",
    "    \"LOAN_AMOUNT\",\n",
    "    \"EXISTING_SAVINGS\",\n",
    "    \"EMPLOYMENT_DURATION\",\n",
    "    \"INSTALLMENT_PERCENT\",\n",
    "    \"SEX\",\n",
    "    \"OTHERS_ON_LOAN\",\n",
    "    \"CURRENT_RESIDENCE_DURATION\",\n",
    "    \"PROPERTY\",\n",
    "    \"AGE\",\n",
    "    \"INSTALLMENT_PLANS\",\n",
    "    \"HOUSING\",\n",
    "    \"EXISTING_CREDITS_COUNT\",\n",
    "    \"JOB_TYPE\",\n",
    "    \"DEPENDENTS\",\n",
    "    \"TELEPHONE\",\n",
    "    \"FOREIGN_WORKER\",\n",
    "    \"ALLOW\",\n",
    "]\n",
    "\n",
    "unwanted_columns = list(\n",
    "    sorted((set(challenge_columns) - set(target)) - set(features))\n",
    ")  # Remover todas as colunas que não são features do nosso modelo\n"
   ]
  },
  {
   "cell_type": "code",
   "execution_count": 34,
   "metadata": {},
   "outputs": [],
   "source": [
    "# Criando uma instância do transformador, passando como parâmetro as colunas que não queremos\n",
    "drop_columns = DropColumns(unwanted_columns)\n",
    "\n",
    "\n",
    "# Criando a Pipeline, adicionando o nosso transformador seguido de um modelo de árvore de decisão\n",
    "skl_pipeline = Pipeline(\n",
    "    steps=[(\"drop_columns\", drop_columns), (\"classification\", model)]\n",
    ")\n"
   ]
  },
  {
   "cell_type": "markdown",
   "metadata": {},
   "source": [
    "Pronto! Essa pipeline agora está pronta para receber todas as variáveis do desafio, apesar de o modelo só usar algumas."
   ]
  }
 ],
 "metadata": {
  "kernelspec": {
   "display_name": "Python 3 (ipykernel)",
   "language": "python",
   "name": "python3"
  },
  "language_info": {
   "codemirror_mode": {
    "name": "ipython",
    "version": 3
   },
   "file_extension": ".py",
   "mimetype": "text/x-python",
   "name": "python",
   "nbconvert_exporter": "python",
   "pygments_lexer": "ipython3",
   "version": "3.8.12"
  },
  "toc-autonumbering": false
 },
 "nbformat": 4,
 "nbformat_minor": 4
}
