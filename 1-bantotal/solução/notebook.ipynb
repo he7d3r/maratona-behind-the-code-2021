{
 "cells": [
  {
   "cell_type": "markdown",
   "metadata": {},
   "source": [
    "# Desafio 1 - Maratona Behind the Code 2021"
   ]
  },
  {
   "cell_type": "markdown",
   "metadata": {
    "tags": []
   },
   "source": [
    "## Bibliotecas"
   ]
  },
  {
   "cell_type": "code",
   "execution_count": 1,
   "metadata": {},
   "outputs": [],
   "source": [
    "import os\n",
    "from pathlib import Path\n",
    "\n",
    "import matplotlib.pyplot as plt\n",
    "import pandas as pd\n",
    "import requests\n",
    "import seaborn as sns\n",
    "from dotenv import find_dotenv, load_dotenv\n",
    "from ibm_watson_machine_learning import APIClient\n",
    "from IPython.display import display\n",
    "from sklearn import set_config\n",
    "from sklearn.base import BaseEstimator, TransformerMixin\n",
    "from sklearn.compose import ColumnTransformer\n",
    "from sklearn.ensemble import BaggingClassifier\n",
    "from sklearn.ensemble import (AdaBoostClassifier, ExtraTreesClassifier,\n",
    "                              RandomForestClassifier)\n",
    "from sklearn.impute import SimpleImputer\n",
    "from sklearn.linear_model import LogisticRegression\n",
    "from sklearn.metrics import f1_score, plot_confusion_matrix\n",
    "from sklearn.model_selection import GridSearchCV, train_test_split  #, RandomizedSearchCV\n",
    "from sklearn.naive_bayes import GaussianNB\n",
    "from sklearn.neighbors import KNeighborsClassifier\n",
    "from sklearn.neural_network import MLPClassifier\n",
    "from sklearn.pipeline import Pipeline\n",
    "from sklearn.preprocessing import OneHotEncoder\n",
    "from sklearn.svm import SVC, LinearSVC\n",
    "from sklearn.tree import DecisionTreeClassifier\n",
    "from sklearn.ensemble import StackingClassifier"
   ]
  },
  {
   "cell_type": "markdown",
   "metadata": {
    "tags": []
   },
   "source": [
    "## Configurações"
   ]
  },
  {
   "cell_type": "code",
   "execution_count": 2,
   "metadata": {},
   "outputs": [],
   "source": [
    "seed: int = 0\n",
    "data_path: Path = Path(\"../desafio/assets/data/\")\n",
    "set_config(display=\"diagram\")"
   ]
  },
  {
   "cell_type": "markdown",
   "metadata": {
    "tags": [],
    "toc-hr-collapsed": true
   },
   "source": [
    "## Dados"
   ]
  },
  {
   "cell_type": "markdown",
   "metadata": {
    "tags": []
   },
   "source": [
    "### Junção dos datasets"
   ]
  },
  {
   "cell_type": "code",
   "execution_count": 3,
   "metadata": {},
   "outputs": [
    {
     "name": "stdout",
     "output_type": "stream",
     "text": [
      "['CHECKING_BALANCE', 'CREDIT_HISTORY', 'EXISTING_SAVINGS', 'EXISTING_CREDITS_COUNT']\n"
     ]
    }
   ],
   "source": [
    "accounts = pd.read_csv(data_path / \"ACCOUNTS.csv\", index_col=\"ID\")\n",
    "account_cols = list(accounts.columns)\n",
    "print(account_cols)"
   ]
  },
  {
   "cell_type": "code",
   "execution_count": 4,
   "metadata": {},
   "outputs": [
    {
     "name": "stdout",
     "output_type": "stream",
     "text": [
      "['SEX', 'AGE', 'JOB_TYPE', 'DEPENDENTS', 'TELEPHONE', 'FOREIGN_WORKER', 'EMPLOYMENT_DURATION', 'PROPERTY', 'HOUSING', 'CURRENT_RESIDENCE_DURATION']\n"
     ]
    }
   ],
   "source": [
    "demographics = pd.read_csv(data_path / \"DEMOGRAPHICS.csv\", index_col=\"ID\")\n",
    "demographic_cols = list(demographics.columns)\n",
    "print(demographic_cols)"
   ]
  },
  {
   "cell_type": "code",
   "execution_count": 5,
   "metadata": {},
   "outputs": [
    {
     "name": "stdout",
     "output_type": "stream",
     "text": [
      "['PAYMENT_TERM', 'INSTALLMENT_PLANS', 'INSTALLMENT_PERCENT', 'LOAN_PURPOSE', 'LOAN_AMOUNT', 'OTHERS_ON_LOAN', 'ALLOW']\n"
     ]
    }
   ],
   "source": [
    "loans = pd.read_csv(data_path / \"LOANS.csv\", index_col=\"ID\")\n",
    "loan_cols = list(loans.columns)\n",
    "print(loan_cols)"
   ]
  },
  {
   "cell_type": "code",
   "execution_count": 6,
   "metadata": {},
   "outputs": [],
   "source": [
    "answers = pd.read_csv(data_path / \"ANSWERS.csv\")\n",
    "df_all = pd.concat([accounts, demographics, loans], axis=1).reset_index()[answers.columns]"
   ]
  },
  {
   "cell_type": "markdown",
   "metadata": {
    "tags": []
   },
   "source": [
    "### Informações gerais"
   ]
  },
  {
   "cell_type": "code",
   "execution_count": 7,
   "metadata": {},
   "outputs": [
    {
     "name": "stdout",
     "output_type": "stream",
     "text": [
      "<class 'pandas.core.frame.DataFrame'>\n",
      "RangeIndex: 3999 entries, 0 to 3998\n",
      "Data columns (total 22 columns):\n",
      " #   Column                      Non-Null Count  Dtype  \n",
      "---  ------                      --------------  -----  \n",
      " 0   ID                          3999 non-null   int64  \n",
      " 1   CHECKING_BALANCE            2467 non-null   object \n",
      " 2   PAYMENT_TERM                3975 non-null   float64\n",
      " 3   CREDIT_HISTORY              2462 non-null   object \n",
      " 4   LOAN_PURPOSE                3979 non-null   object \n",
      " 5   LOAN_AMOUNT                 3981 non-null   float64\n",
      " 6   EXISTING_SAVINGS            2467 non-null   object \n",
      " 7   EMPLOYMENT_DURATION         3923 non-null   float64\n",
      " 8   INSTALLMENT_PERCENT         3974 non-null   float64\n",
      " 9   SEX                         3920 non-null   object \n",
      " 10  OTHERS_ON_LOAN              3977 non-null   object \n",
      " 11  CURRENT_RESIDENCE_DURATION  3917 non-null   float64\n",
      " 12  PROPERTY                    3918 non-null   object \n",
      " 13  AGE                         3918 non-null   float64\n",
      " 14  INSTALLMENT_PLANS           3978 non-null   object \n",
      " 15  HOUSING                     3912 non-null   object \n",
      " 16  EXISTING_CREDITS_COUNT      2463 non-null   float64\n",
      " 17  JOB_TYPE                    3910 non-null   float64\n",
      " 18  DEPENDENTS                  3915 non-null   float64\n",
      " 19  TELEPHONE                   3915 non-null   float64\n",
      " 20  FOREIGN_WORKER              3909 non-null   float64\n",
      " 21  ALLOW                       3999 non-null   int64  \n",
      "dtypes: float64(11), int64(2), object(9)\n",
      "memory usage: 687.5+ KB\n"
     ]
    }
   ],
   "source": [
    "df_all.info()"
   ]
  },
  {
   "cell_type": "markdown",
   "metadata": {},
   "source": [
    "- A maioria das variáveis (colunas) são numéricas, mas há algumas categóricas.\n",
    "- Com exceção da variável que identifica cada cliente (`ID`) e da variável de destino (`ALLOW`), todas têm dados faltantes (nulos)."
   ]
  },
  {
   "cell_type": "markdown",
   "metadata": {
    "tags": []
   },
   "source": [
    "### Divisão dos dados entre treino e teste"
   ]
  },
  {
   "cell_type": "markdown",
   "metadata": {},
   "source": [
    "Antes de inspecionar os dados, serão reservados alguns exemplos para teste, que não serão vistos durante a análise ou modelagem dos dados:"
   ]
  },
  {
   "cell_type": "code",
   "execution_count": 8,
   "metadata": {},
   "outputs": [
    {
     "name": "stdout",
     "output_type": "stream",
     "text": [
      "Dimensões dos dados de treino: (3499, 22)\n",
      "Dimensões dos dados de teste: (500, 22)\n"
     ]
    }
   ],
   "source": [
    "test_size = 500\n",
    "target = \"ALLOW\"\n",
    "df_train, df_test = train_test_split(df_all, test_size=test_size, random_state=seed, stratify=df_all[[target]])\n",
    "print(f'Dimensões dos dados de treino: {df_train.shape}')\n",
    "print(f'Dimensões dos dados de teste: {df_test.shape}')"
   ]
  },
  {
   "cell_type": "markdown",
   "metadata": {
    "tags": []
   },
   "source": [
    "### Variável destino"
   ]
  },
  {
   "cell_type": "markdown",
   "metadata": {},
   "source": [
    "A variável destino para este desafio é a `ALLOW`, significando se um empréstimo deverá ser permitido ou não, baseado nas informações dadas. Vamos dar uma olhada em como está a distribuição dessa variável"
   ]
  },
  {
   "cell_type": "code",
   "execution_count": 9,
   "metadata": {},
   "outputs": [
    {
     "data": {
      "image/png": "[encoded data removed]",
      "text/plain": [
       "<Figure size 432x288 with 1 Axes>"
      ]
     },
     "metadata": {
      "needs_background": "light"
     },
     "output_type": "display_data"
    }
   ],
   "source": [
    "risk_plot = sns.countplot(\n",
    "    data=df_train, x=target, order=df_train[target].value_counts().index\n",
    ")\n",
    "plt.show()"
   ]
  },
  {
   "cell_type": "markdown",
   "metadata": {},
   "source": [
    "### Dados de exemplo"
   ]
  },
  {
   "cell_type": "code",
   "execution_count": 10,
   "metadata": {},
   "outputs": [
    {
     "data": {
      "text/html": [
       "<div>\n",
       "<style scoped>\n",
       "    .dataframe tbody tr th:only-of-type {\n",
       "        vertical-align: middle;\n",
       "    }\n",
       "\n",
       "    .dataframe tbody tr th {\n",
       "        vertical-align: top;\n",
       "    }\n",
       "\n",
       "    .dataframe thead th {\n",
       "        text-align: right;\n",
       "    }\n",
       "</style>\n",
       "<table border=\"1\" class=\"dataframe\">\n",
       "  <thead>\n",
       "    <tr style=\"text-align: right;\">\n",
       "      <th></th>\n",
       "      <th>ID</th>\n",
       "      <th>CHECKING_BALANCE</th>\n",
       "      <th>PAYMENT_TERM</th>\n",
       "      <th>CREDIT_HISTORY</th>\n",
       "      <th>LOAN_PURPOSE</th>\n",
       "      <th>LOAN_AMOUNT</th>\n",
       "      <th>EXISTING_SAVINGS</th>\n",
       "      <th>EMPLOYMENT_DURATION</th>\n",
       "      <th>INSTALLMENT_PERCENT</th>\n",
       "      <th>SEX</th>\n",
       "      <th>OTHERS_ON_LOAN</th>\n",
       "      <th>CURRENT_RESIDENCE_DURATION</th>\n",
       "      <th>PROPERTY</th>\n",
       "      <th>AGE</th>\n",
       "      <th>INSTALLMENT_PLANS</th>\n",
       "      <th>HOUSING</th>\n",
       "      <th>EXISTING_CREDITS_COUNT</th>\n",
       "      <th>JOB_TYPE</th>\n",
       "      <th>DEPENDENTS</th>\n",
       "      <th>TELEPHONE</th>\n",
       "      <th>FOREIGN_WORKER</th>\n",
       "      <th>ALLOW</th>\n",
       "    </tr>\n",
       "  </thead>\n",
       "  <tbody>\n",
       "    <tr>\n",
       "      <th>1300</th>\n",
       "      <td>443445</td>\n",
       "      <td>NaN</td>\n",
       "      <td>270.0</td>\n",
       "      <td>NaN</td>\n",
       "      <td>CAR_NEW</td>\n",
       "      <td>250.0</td>\n",
       "      <td>NaN</td>\n",
       "      <td>0.0</td>\n",
       "      <td>1.0</td>\n",
       "      <td>M</td>\n",
       "      <td>NONE</td>\n",
       "      <td>2.0</td>\n",
       "      <td>REAL_ESTATE</td>\n",
       "      <td>24.0</td>\n",
       "      <td>NONE</td>\n",
       "      <td>RENT</td>\n",
       "      <td>NaN</td>\n",
       "      <td>3.0</td>\n",
       "      <td>1.0</td>\n",
       "      <td>0.0</td>\n",
       "      <td>1.0</td>\n",
       "      <td>1</td>\n",
       "    </tr>\n",
       "    <tr>\n",
       "      <th>3697</th>\n",
       "      <td>1208610</td>\n",
       "      <td>NaN</td>\n",
       "      <td>1170.0</td>\n",
       "      <td>NaN</td>\n",
       "      <td>APPLIANCES</td>\n",
       "      <td>4545.0</td>\n",
       "      <td>NaN</td>\n",
       "      <td>6.0</td>\n",
       "      <td>3.0</td>\n",
       "      <td>M</td>\n",
       "      <td>NONE</td>\n",
       "      <td>3.0</td>\n",
       "      <td>UNKNOWN</td>\n",
       "      <td>35.0</td>\n",
       "      <td>NONE</td>\n",
       "      <td>OWN</td>\n",
       "      <td>NaN</td>\n",
       "      <td>3.0</td>\n",
       "      <td>2.0</td>\n",
       "      <td>1.0</td>\n",
       "      <td>1.0</td>\n",
       "      <td>0</td>\n",
       "    </tr>\n",
       "    <tr>\n",
       "      <th>2710</th>\n",
       "      <td>887509</td>\n",
       "      <td>NO_CHECKING</td>\n",
       "      <td>630.0</td>\n",
       "      <td>CREDITS_PAID_TO_DATE</td>\n",
       "      <td>FURNITURE</td>\n",
       "      <td>1903.0</td>\n",
       "      <td>980.41</td>\n",
       "      <td>7.0</td>\n",
       "      <td>4.0</td>\n",
       "      <td>M</td>\n",
       "      <td>NONE</td>\n",
       "      <td>4.0</td>\n",
       "      <td>SAVINGS_INSURANCE</td>\n",
       "      <td>53.0</td>\n",
       "      <td>NONE</td>\n",
       "      <td>OWN</td>\n",
       "      <td>1.0</td>\n",
       "      <td>3.0</td>\n",
       "      <td>1.0</td>\n",
       "      <td>1.0</td>\n",
       "      <td>1.0</td>\n",
       "      <td>1</td>\n",
       "    </tr>\n",
       "    <tr>\n",
       "      <th>3914</th>\n",
       "      <td>1291443</td>\n",
       "      <td>144.51</td>\n",
       "      <td>465.0</td>\n",
       "      <td>PRIOR_PAYMENTS_DELAYED</td>\n",
       "      <td>FURNITURE</td>\n",
       "      <td>1931.0</td>\n",
       "      <td>53.87</td>\n",
       "      <td>4.0</td>\n",
       "      <td>3.0</td>\n",
       "      <td>M</td>\n",
       "      <td>NONE</td>\n",
       "      <td>4.0</td>\n",
       "      <td>CAR_OTHER</td>\n",
       "      <td>35.0</td>\n",
       "      <td>STORES</td>\n",
       "      <td>OWN</td>\n",
       "      <td>2.0</td>\n",
       "      <td>1.0</td>\n",
       "      <td>1.0</td>\n",
       "      <td>0.0</td>\n",
       "      <td>1.0</td>\n",
       "      <td>1</td>\n",
       "    </tr>\n",
       "    <tr>\n",
       "      <th>200</th>\n",
       "      <td>76618</td>\n",
       "      <td>NO_CHECKING</td>\n",
       "      <td>510.0</td>\n",
       "      <td>CREDITS_PAID_TO_DATE</td>\n",
       "      <td>CAR_NEW</td>\n",
       "      <td>2720.0</td>\n",
       "      <td>201.44</td>\n",
       "      <td>4.0</td>\n",
       "      <td>3.0</td>\n",
       "      <td>M</td>\n",
       "      <td>NONE</td>\n",
       "      <td>4.0</td>\n",
       "      <td>SAVINGS_INSURANCE</td>\n",
       "      <td>34.0</td>\n",
       "      <td>NONE</td>\n",
       "      <td>RENT</td>\n",
       "      <td>1.0</td>\n",
       "      <td>2.0</td>\n",
       "      <td>1.0</td>\n",
       "      <td>0.0</td>\n",
       "      <td>1.0</td>\n",
       "      <td>1</td>\n",
       "    </tr>\n",
       "    <tr>\n",
       "      <th>3696</th>\n",
       "      <td>1206978</td>\n",
       "      <td>NO_CHECKING</td>\n",
       "      <td>960.0</td>\n",
       "      <td>OUTSTANDING_CREDIT</td>\n",
       "      <td>OTHER</td>\n",
       "      <td>9727.0</td>\n",
       "      <td>829.3</td>\n",
       "      <td>7.0</td>\n",
       "      <td>4.0</td>\n",
       "      <td>M</td>\n",
       "      <td>GUARANTOR</td>\n",
       "      <td>5.0</td>\n",
       "      <td>CAR_OTHER</td>\n",
       "      <td>57.0</td>\n",
       "      <td>NONE</td>\n",
       "      <td>FREE</td>\n",
       "      <td>2.0</td>\n",
       "      <td>3.0</td>\n",
       "      <td>2.0</td>\n",
       "      <td>1.0</td>\n",
       "      <td>1.0</td>\n",
       "      <td>0</td>\n",
       "    </tr>\n",
       "    <tr>\n",
       "      <th>3825</th>\n",
       "      <td>1261640</td>\n",
       "      <td>NO_CHECKING</td>\n",
       "      <td>806.0</td>\n",
       "      <td>OUTSTANDING_CREDIT</td>\n",
       "      <td>RADIO_TV</td>\n",
       "      <td>3782.0</td>\n",
       "      <td>997.69</td>\n",
       "      <td>6.0</td>\n",
       "      <td>4.0</td>\n",
       "      <td>F</td>\n",
       "      <td>NONE</td>\n",
       "      <td>3.0</td>\n",
       "      <td>UNKNOWN</td>\n",
       "      <td>45.0</td>\n",
       "      <td>NONE</td>\n",
       "      <td>OWN</td>\n",
       "      <td>1.0</td>\n",
       "      <td>3.0</td>\n",
       "      <td>2.0</td>\n",
       "      <td>1.0</td>\n",
       "      <td>1.0</td>\n",
       "      <td>0</td>\n",
       "    </tr>\n",
       "    <tr>\n",
       "      <th>675</th>\n",
       "      <td>229882</td>\n",
       "      <td>NaN</td>\n",
       "      <td>744.0</td>\n",
       "      <td>NaN</td>\n",
       "      <td>CAR_NEW</td>\n",
       "      <td>501.0</td>\n",
       "      <td>NaN</td>\n",
       "      <td>7.0</td>\n",
       "      <td>3.0</td>\n",
       "      <td>F</td>\n",
       "      <td>NONE</td>\n",
       "      <td>1.0</td>\n",
       "      <td>SAVINGS_INSURANCE</td>\n",
       "      <td>26.0</td>\n",
       "      <td>STORES</td>\n",
       "      <td>OWN</td>\n",
       "      <td>NaN</td>\n",
       "      <td>1.0</td>\n",
       "      <td>2.0</td>\n",
       "      <td>1.0</td>\n",
       "      <td>1.0</td>\n",
       "      <td>1</td>\n",
       "    </tr>\n",
       "    <tr>\n",
       "      <th>1976</th>\n",
       "      <td>658037</td>\n",
       "      <td>NO_CHECKING</td>\n",
       "      <td>720.0</td>\n",
       "      <td>PRIOR_PAYMENTS_DELAYED</td>\n",
       "      <td>EDUCATION</td>\n",
       "      <td>1828.0</td>\n",
       "      <td>UNKNOWN</td>\n",
       "      <td>3.0</td>\n",
       "      <td>3.0</td>\n",
       "      <td>M</td>\n",
       "      <td>NONE</td>\n",
       "      <td>3.0</td>\n",
       "      <td>SAVINGS_INSURANCE</td>\n",
       "      <td>44.0</td>\n",
       "      <td>NONE</td>\n",
       "      <td>OWN</td>\n",
       "      <td>1.0</td>\n",
       "      <td>3.0</td>\n",
       "      <td>1.0</td>\n",
       "      <td>0.0</td>\n",
       "      <td>1.0</td>\n",
       "      <td>0</td>\n",
       "    </tr>\n",
       "    <tr>\n",
       "      <th>3674</th>\n",
       "      <td>1198137</td>\n",
       "      <td>NO_CHECKING</td>\n",
       "      <td>713.0</td>\n",
       "      <td>PRIOR_PAYMENTS_DELAYED</td>\n",
       "      <td>RADIO_TV</td>\n",
       "      <td>3252.0</td>\n",
       "      <td>133.37</td>\n",
       "      <td>8.0</td>\n",
       "      <td>4.0</td>\n",
       "      <td>F</td>\n",
       "      <td>NONE</td>\n",
       "      <td>4.0</td>\n",
       "      <td>CAR_OTHER</td>\n",
       "      <td>51.0</td>\n",
       "      <td>NONE</td>\n",
       "      <td>OWN</td>\n",
       "      <td>2.0</td>\n",
       "      <td>3.0</td>\n",
       "      <td>1.0</td>\n",
       "      <td>0.0</td>\n",
       "      <td>1.0</td>\n",
       "      <td>0</td>\n",
       "    </tr>\n",
       "  </tbody>\n",
       "</table>\n",
       "</div>"
      ],
      "text/plain": [
       "           ID CHECKING_BALANCE  PAYMENT_TERM          CREDIT_HISTORY  \\\n",
       "1300   443445              NaN         270.0                     NaN   \n",
       "3697  1208610              NaN        1170.0                     NaN   \n",
       "2710   887509      NO_CHECKING         630.0    CREDITS_PAID_TO_DATE   \n",
       "3914  1291443           144.51         465.0  PRIOR_PAYMENTS_DELAYED   \n",
       "200     76618      NO_CHECKING         510.0    CREDITS_PAID_TO_DATE   \n",
       "3696  1206978      NO_CHECKING         960.0      OUTSTANDING_CREDIT   \n",
       "3825  1261640      NO_CHECKING         806.0      OUTSTANDING_CREDIT   \n",
       "675    229882              NaN         744.0                     NaN   \n",
       "1976   658037      NO_CHECKING         720.0  PRIOR_PAYMENTS_DELAYED   \n",
       "3674  1198137      NO_CHECKING         713.0  PRIOR_PAYMENTS_DELAYED   \n",
       "\n",
       "     LOAN_PURPOSE  LOAN_AMOUNT EXISTING_SAVINGS  EMPLOYMENT_DURATION  \\\n",
       "1300      CAR_NEW        250.0              NaN                  0.0   \n",
       "3697   APPLIANCES       4545.0              NaN                  6.0   \n",
       "2710    FURNITURE       1903.0           980.41                  7.0   \n",
       "3914    FURNITURE       1931.0            53.87                  4.0   \n",
       "200       CAR_NEW       2720.0           201.44                  4.0   \n",
       "3696        OTHER       9727.0            829.3                  7.0   \n",
       "3825     RADIO_TV       3782.0           997.69                  6.0   \n",
       "675       CAR_NEW        501.0              NaN                  7.0   \n",
       "1976    EDUCATION       1828.0          UNKNOWN                  3.0   \n",
       "3674     RADIO_TV       3252.0           133.37                  8.0   \n",
       "\n",
       "      INSTALLMENT_PERCENT SEX OTHERS_ON_LOAN  CURRENT_RESIDENCE_DURATION  \\\n",
       "1300                  1.0   M           NONE                         2.0   \n",
       "3697                  3.0   M           NONE                         3.0   \n",
       "2710                  4.0   M           NONE                         4.0   \n",
       "3914                  3.0   M           NONE                         4.0   \n",
       "200                   3.0   M           NONE                         4.0   \n",
       "3696                  4.0   M      GUARANTOR                         5.0   \n",
       "3825                  4.0   F           NONE                         3.0   \n",
       "675                   3.0   F           NONE                         1.0   \n",
       "1976                  3.0   M           NONE                         3.0   \n",
       "3674                  4.0   F           NONE                         4.0   \n",
       "\n",
       "               PROPERTY   AGE INSTALLMENT_PLANS HOUSING  \\\n",
       "1300        REAL_ESTATE  24.0              NONE    RENT   \n",
       "3697            UNKNOWN  35.0              NONE     OWN   \n",
       "2710  SAVINGS_INSURANCE  53.0              NONE     OWN   \n",
       "3914          CAR_OTHER  35.0            STORES     OWN   \n",
       "200   SAVINGS_INSURANCE  34.0              NONE    RENT   \n",
       "3696          CAR_OTHER  57.0              NONE    FREE   \n",
       "3825            UNKNOWN  45.0              NONE     OWN   \n",
       "675   SAVINGS_INSURANCE  26.0            STORES     OWN   \n",
       "1976  SAVINGS_INSURANCE  44.0              NONE     OWN   \n",
       "3674          CAR_OTHER  51.0              NONE     OWN   \n",
       "\n",
       "      EXISTING_CREDITS_COUNT  JOB_TYPE  DEPENDENTS  TELEPHONE  FOREIGN_WORKER  \\\n",
       "1300                     NaN       3.0         1.0        0.0             1.0   \n",
       "3697                     NaN       3.0         2.0        1.0             1.0   \n",
       "2710                     1.0       3.0         1.0        1.0             1.0   \n",
       "3914                     2.0       1.0         1.0        0.0             1.0   \n",
       "200                      1.0       2.0         1.0        0.0             1.0   \n",
       "3696                     2.0       3.0         2.0        1.0             1.0   \n",
       "3825                     1.0       3.0         2.0        1.0             1.0   \n",
       "675                      NaN       1.0         2.0        1.0             1.0   \n",
       "1976                     1.0       3.0         1.0        0.0             1.0   \n",
       "3674                     2.0       3.0         1.0        0.0             1.0   \n",
       "\n",
       "      ALLOW  \n",
       "1300      1  \n",
       "3697      0  \n",
       "2710      1  \n",
       "3914      1  \n",
       "200       1  \n",
       "3696      0  \n",
       "3825      0  \n",
       "675       1  \n",
       "1976      0  \n",
       "3674      0  "
      ]
     },
     "metadata": {},
     "output_type": "display_data"
    }
   ],
   "source": [
    "with pd.option_context(\"display.max_columns\", None):\n",
    "    display(df_train.sample(10, random_state=seed))"
   ]
  },
  {
   "cell_type": "markdown",
   "metadata": {
    "tags": []
   },
   "source": [
    "### Variáveis categóricas"
   ]
  },
  {
   "cell_type": "code",
   "execution_count": 11,
   "metadata": {},
   "outputs": [],
   "source": [
    "non_numeric_cols = list(df_train.select_dtypes(exclude='number').columns)"
   ]
  },
  {
   "cell_type": "code",
   "execution_count": 12,
   "metadata": {},
   "outputs": [
    {
     "data": {
      "text/html": [
       "<div>\n",
       "<style scoped>\n",
       "    .dataframe tbody tr th:only-of-type {\n",
       "        vertical-align: middle;\n",
       "    }\n",
       "\n",
       "    .dataframe tbody tr th {\n",
       "        vertical-align: top;\n",
       "    }\n",
       "\n",
       "    .dataframe thead th {\n",
       "        text-align: right;\n",
       "    }\n",
       "</style>\n",
       "<table border=\"1\" class=\"dataframe\">\n",
       "  <thead>\n",
       "    <tr style=\"text-align: right;\">\n",
       "      <th></th>\n",
       "      <th>CHECKING_BALANCE</th>\n",
       "      <th>CREDIT_HISTORY</th>\n",
       "      <th>LOAN_PURPOSE</th>\n",
       "      <th>EXISTING_SAVINGS</th>\n",
       "      <th>SEX</th>\n",
       "      <th>OTHERS_ON_LOAN</th>\n",
       "      <th>PROPERTY</th>\n",
       "      <th>INSTALLMENT_PLANS</th>\n",
       "      <th>HOUSING</th>\n",
       "    </tr>\n",
       "  </thead>\n",
       "  <tbody>\n",
       "    <tr>\n",
       "      <th>count</th>\n",
       "      <td>2155</td>\n",
       "      <td>2151</td>\n",
       "      <td>3481</td>\n",
       "      <td>2155</td>\n",
       "      <td>3433</td>\n",
       "      <td>3480</td>\n",
       "      <td>3432</td>\n",
       "      <td>3480</td>\n",
       "      <td>3428</td>\n",
       "    </tr>\n",
       "    <tr>\n",
       "      <th>unique</th>\n",
       "      <td>1233</td>\n",
       "      <td>5</td>\n",
       "      <td>11</td>\n",
       "      <td>1965</td>\n",
       "      <td>2</td>\n",
       "      <td>3</td>\n",
       "      <td>4</td>\n",
       "      <td>3</td>\n",
       "      <td>3</td>\n",
       "    </tr>\n",
       "    <tr>\n",
       "      <th>top</th>\n",
       "      <td>NO_CHECKING</td>\n",
       "      <td>PRIOR_PAYMENTS_DELAYED</td>\n",
       "      <td>CAR_NEW</td>\n",
       "      <td>UNKNOWN</td>\n",
       "      <td>M</td>\n",
       "      <td>NONE</td>\n",
       "      <td>SAVINGS_INSURANCE</td>\n",
       "      <td>NONE</td>\n",
       "      <td>OWN</td>\n",
       "    </tr>\n",
       "    <tr>\n",
       "      <th>freq</th>\n",
       "      <td>859</td>\n",
       "      <td>735</td>\n",
       "      <td>649</td>\n",
       "      <td>149</td>\n",
       "      <td>2122</td>\n",
       "      <td>2893</td>\n",
       "      <td>1135</td>\n",
       "      <td>2428</td>\n",
       "      <td>2209</td>\n",
       "    </tr>\n",
       "  </tbody>\n",
       "</table>\n",
       "</div>"
      ],
      "text/plain": [
       "       CHECKING_BALANCE          CREDIT_HISTORY LOAN_PURPOSE EXISTING_SAVINGS  \\\n",
       "count              2155                    2151         3481             2155   \n",
       "unique             1233                       5           11             1965   \n",
       "top         NO_CHECKING  PRIOR_PAYMENTS_DELAYED      CAR_NEW          UNKNOWN   \n",
       "freq                859                     735          649              149   \n",
       "\n",
       "         SEX OTHERS_ON_LOAN           PROPERTY INSTALLMENT_PLANS HOUSING  \n",
       "count   3433           3480               3432              3480    3428  \n",
       "unique     2              3                  4                 3       3  \n",
       "top        M           NONE  SAVINGS_INSURANCE              NONE     OWN  \n",
       "freq    2122           2893               1135              2428    2209  "
      ]
     },
     "metadata": {},
     "output_type": "display_data"
    }
   ],
   "source": [
    "with pd.option_context(\"display.max_columns\", None):\n",
    "    display(df_train.describe(include=\"O\"))"
   ]
  },
  {
   "cell_type": "markdown",
   "metadata": {},
   "source": [
    "A quantidade de valores únicos para as variáveis `CHECKING_BALANCE` e `EXISTING_SAVINGS` é relativamente grande (>30%), e observando-se os dados de exemplo, há indícios de que boa parte dos valores possam ser numéricos:"
   ]
  },
  {
   "cell_type": "code",
   "execution_count": 13,
   "metadata": {},
   "outputs": [
    {
     "data": {
      "text/plain": [
       "['CHECKING_BALANCE', 'EXISTING_SAVINGS']"
      ]
     },
     "execution_count": 13,
     "metadata": {},
     "output_type": "execute_result"
    }
   ],
   "source": [
    "max_unique_treshold = 0.3\n",
    "cols_with_many_unique_values = df_train[non_numeric_cols].nunique() > max_unique_treshold * len(df_train)\n",
    "possibly_numeric_cols = list(df_train[non_numeric_cols].columns[cols_with_many_unique_values])\n",
    "possibly_numeric_cols"
   ]
  },
  {
   "cell_type": "code",
   "execution_count": 14,
   "metadata": {},
   "outputs": [
    {
     "data": {
      "text/html": [
       "<div>\n",
       "<style scoped>\n",
       "    .dataframe tbody tr th:only-of-type {\n",
       "        vertical-align: middle;\n",
       "    }\n",
       "\n",
       "    .dataframe tbody tr th {\n",
       "        vertical-align: top;\n",
       "    }\n",
       "\n",
       "    .dataframe thead th {\n",
       "        text-align: right;\n",
       "    }\n",
       "</style>\n",
       "<table border=\"1\" class=\"dataframe\">\n",
       "  <thead>\n",
       "    <tr style=\"text-align: right;\">\n",
       "      <th></th>\n",
       "      <th>Quantidade</th>\n",
       "    </tr>\n",
       "    <tr>\n",
       "      <th>Valor</th>\n",
       "      <th></th>\n",
       "    </tr>\n",
       "  </thead>\n",
       "  <tbody>\n",
       "    <tr>\n",
       "      <th>NO_CHECKING</th>\n",
       "      <td>859</td>\n",
       "    </tr>\n",
       "    <tr>\n",
       "      <th>0</th>\n",
       "      <td>57</td>\n",
       "    </tr>\n",
       "    <tr>\n",
       "      <th>97.41</th>\n",
       "      <td>3</td>\n",
       "    </tr>\n",
       "  </tbody>\n",
       "</table>\n",
       "</div>"
      ],
      "text/plain": [
       "             Quantidade\n",
       "Valor                  \n",
       "NO_CHECKING         859\n",
       "0                    57\n",
       "97.41                 3"
      ]
     },
     "metadata": {},
     "output_type": "display_data"
    },
    {
     "data": {
      "text/html": [
       "<div>\n",
       "<style scoped>\n",
       "    .dataframe tbody tr th:only-of-type {\n",
       "        vertical-align: middle;\n",
       "    }\n",
       "\n",
       "    .dataframe tbody tr th {\n",
       "        vertical-align: top;\n",
       "    }\n",
       "\n",
       "    .dataframe thead th {\n",
       "        text-align: right;\n",
       "    }\n",
       "</style>\n",
       "<table border=\"1\" class=\"dataframe\">\n",
       "  <thead>\n",
       "    <tr style=\"text-align: right;\">\n",
       "      <th></th>\n",
       "      <th>Quantidade</th>\n",
       "    </tr>\n",
       "    <tr>\n",
       "      <th>Valor</th>\n",
       "      <th></th>\n",
       "    </tr>\n",
       "  </thead>\n",
       "  <tbody>\n",
       "    <tr>\n",
       "      <th>UNKNOWN</th>\n",
       "      <td>149</td>\n",
       "    </tr>\n",
       "    <tr>\n",
       "      <th>28.92</th>\n",
       "      <td>3</td>\n",
       "    </tr>\n",
       "    <tr>\n",
       "      <th>100.89</th>\n",
       "      <td>3</td>\n",
       "    </tr>\n",
       "  </tbody>\n",
       "</table>\n",
       "</div>"
      ],
      "text/plain": [
       "         Quantidade\n",
       "Valor              \n",
       "UNKNOWN         149\n",
       "28.92             3\n",
       "100.89            3"
      ]
     },
     "metadata": {},
     "output_type": "display_data"
    }
   ],
   "source": [
    "for col in possibly_numeric_cols:\n",
    "    display(\n",
    "        df_train[col]\n",
    "        .value_counts()\n",
    "        .reset_index()\n",
    "        .sort_values([col, \"index\"], ascending=False)\n",
    "        .rename(columns={col: \"Quantidade\", \"index\": \"Valor\"})\n",
    "        .set_index(\"Valor\")\n",
    "        .head(3)\n",
    "    )"
   ]
  },
  {
   "cell_type": "markdown",
   "metadata": {},
   "source": [
    "Na hora da modelagem, teremos algumas opções do que fazer com estas colunas:\n",
    "- Tratar essas colunas como variáveis numéricas, deixando que valores textuais como `NO_CHECKING` e `UNKNOWN` sejam substituídos por `NaN` (e posteriormente imputar um valor, por exemplo, zero).\n",
    "- Se for relevante distinguir o caso anterior dos zeros que já estavam nestas colunas, poderia ser criada uma nova variável binária cujo valor fosse `True` quando a variável original fosse não numérica, e `False` nos demais casos"
   ]
  },
  {
   "cell_type": "markdown",
   "metadata": {},
   "source": [
    "### Remoção de texto em variáveis numéricas"
   ]
  },
  {
   "cell_type": "markdown",
   "metadata": {},
   "source": [
    "Por hora, apenas para visualizar estatísticas sobre os valores numéricos, valores textuais nessas colunas serão trocados por `NaN` usando um *transformer* personalizado:"
   ]
  },
  {
   "cell_type": "markdown",
   "metadata": {
    "jp-MarkdownHeadingCollapsed": true,
    "tags": []
   },
   "source": [
    "#### Instalação de um pacote extra"
   ]
  },
  {
   "cell_type": "code",
   "execution_count": 15,
   "metadata": {},
   "outputs": [
    {
     "name": "stdout",
     "output_type": "stream",
     "text": [
      "Cloning into 'custom_sklearn_transformers'...\n",
      "remote: Enumerating objects: 12, done.\u001b[K\n",
      "remote: Counting objects: 100% (12/12), done.\u001b[K\n",
      "remote: Compressing objects: 100% (9/9), done.\u001b[K\n",
      "remote: Total 12 (delta 0), reused 12 (delta 0), pack-reused 0\u001b[K\n",
      "Receiving objects: 100% (12/12), done.\n"
     ]
    }
   ],
   "source": [
    "!rm -rf custom_sklearn_transformers\n",
    "!git clone git@github.com:he7d3r/custom_sklearn_transformers.git\n",
    "!git --git-dir custom_sklearn_transformers/.git archive -o custom_sklearn_transformers.zip HEAD\n",
    "!pip install --quiet --upgrade pip custom_sklearn_transformers.zip"
   ]
  },
  {
   "cell_type": "markdown",
   "metadata": {},
   "source": [
    "#### Uso do pacote"
   ]
  },
  {
   "cell_type": "code",
   "execution_count": 16,
   "metadata": {},
   "outputs": [],
   "source": [
    "from custom_sklearn_transformers.transformers import ToNumeric"
   ]
  },
  {
   "cell_type": "code",
   "execution_count": 17,
   "metadata": {},
   "outputs": [],
   "source": [
    "to_numeric = ToNumeric(possibly_numeric_cols, errors='coerce')"
   ]
  },
  {
   "cell_type": "markdown",
   "metadata": {
    "jp-MarkdownHeadingCollapsed": true,
    "tags": []
   },
   "source": [
    "Para criar um modelo capaz de fazer transformações nos dados de entrada, vamos criar uma `Pipeline` do `scikit-learn` e aplicar nossas transformações de pré-processamento dentro dos estágios dela."
   ]
  },
  {
   "cell_type": "code",
   "execution_count": 18,
   "metadata": {},
   "outputs": [],
   "source": [
    "preprocessor = Pipeline([\n",
    "    ('to_numeric', to_numeric),\n",
    "])\n",
    "clean_df = preprocessor.fit_transform(df_train)"
   ]
  },
  {
   "cell_type": "markdown",
   "metadata": {},
   "source": [
    "Estes são os valores que as outras variáveis não numéricas assumem:"
   ]
  },
  {
   "cell_type": "code",
   "execution_count": 19,
   "metadata": {},
   "outputs": [
    {
     "data": {
      "text/html": [
       "<div>\n",
       "<style scoped>\n",
       "    .dataframe tbody tr th:only-of-type {\n",
       "        vertical-align: middle;\n",
       "    }\n",
       "\n",
       "    .dataframe tbody tr th {\n",
       "        vertical-align: top;\n",
       "    }\n",
       "\n",
       "    .dataframe thead th {\n",
       "        text-align: right;\n",
       "    }\n",
       "</style>\n",
       "<table border=\"1\" class=\"dataframe\">\n",
       "  <thead>\n",
       "    <tr style=\"text-align: right;\">\n",
       "      <th></th>\n",
       "      <th>PRIOR_PAYMENTS_DELAYED</th>\n",
       "      <th>CREDITS_PAID_TO_DATE</th>\n",
       "      <th>OUTSTANDING_CREDIT</th>\n",
       "      <th>ALL_CREDITS_PAID_BACK</th>\n",
       "      <th>NO_CREDITS</th>\n",
       "    </tr>\n",
       "  </thead>\n",
       "  <tbody>\n",
       "    <tr>\n",
       "      <th>CREDIT_HISTORY</th>\n",
       "      <td>735</td>\n",
       "      <td>633</td>\n",
       "      <td>394</td>\n",
       "      <td>336</td>\n",
       "      <td>53</td>\n",
       "    </tr>\n",
       "  </tbody>\n",
       "</table>\n",
       "</div>"
      ],
      "text/plain": [
       "                PRIOR_PAYMENTS_DELAYED  CREDITS_PAID_TO_DATE  \\\n",
       "CREDIT_HISTORY                     735                   633   \n",
       "\n",
       "                OUTSTANDING_CREDIT  ALL_CREDITS_PAID_BACK  NO_CREDITS  \n",
       "CREDIT_HISTORY                 394                    336          53  "
      ]
     },
     "metadata": {},
     "output_type": "display_data"
    },
    {
     "data": {
      "text/html": [
       "<div>\n",
       "<style scoped>\n",
       "    .dataframe tbody tr th:only-of-type {\n",
       "        vertical-align: middle;\n",
       "    }\n",
       "\n",
       "    .dataframe tbody tr th {\n",
       "        vertical-align: top;\n",
       "    }\n",
       "\n",
       "    .dataframe thead th {\n",
       "        text-align: right;\n",
       "    }\n",
       "</style>\n",
       "<table border=\"1\" class=\"dataframe\">\n",
       "  <thead>\n",
       "    <tr style=\"text-align: right;\">\n",
       "      <th></th>\n",
       "      <th>OWN</th>\n",
       "      <th>RENT</th>\n",
       "      <th>FREE</th>\n",
       "    </tr>\n",
       "  </thead>\n",
       "  <tbody>\n",
       "    <tr>\n",
       "      <th>HOUSING</th>\n",
       "      <td>2209</td>\n",
       "      <td>720</td>\n",
       "      <td>499</td>\n",
       "    </tr>\n",
       "  </tbody>\n",
       "</table>\n",
       "</div>"
      ],
      "text/plain": [
       "          OWN  RENT  FREE\n",
       "HOUSING  2209   720   499"
      ]
     },
     "metadata": {},
     "output_type": "display_data"
    },
    {
     "data": {
      "text/html": [
       "<div>\n",
       "<style scoped>\n",
       "    .dataframe tbody tr th:only-of-type {\n",
       "        vertical-align: middle;\n",
       "    }\n",
       "\n",
       "    .dataframe tbody tr th {\n",
       "        vertical-align: top;\n",
       "    }\n",
       "\n",
       "    .dataframe thead th {\n",
       "        text-align: right;\n",
       "    }\n",
       "</style>\n",
       "<table border=\"1\" class=\"dataframe\">\n",
       "  <thead>\n",
       "    <tr style=\"text-align: right;\">\n",
       "      <th></th>\n",
       "      <th>NONE</th>\n",
       "      <th>STORES</th>\n",
       "      <th>BANK</th>\n",
       "    </tr>\n",
       "  </thead>\n",
       "  <tbody>\n",
       "    <tr>\n",
       "      <th>INSTALLMENT_PLANS</th>\n",
       "      <td>2428</td>\n",
       "      <td>710</td>\n",
       "      <td>342</td>\n",
       "    </tr>\n",
       "  </tbody>\n",
       "</table>\n",
       "</div>"
      ],
      "text/plain": [
       "                   NONE  STORES  BANK\n",
       "INSTALLMENT_PLANS  2428     710   342"
      ]
     },
     "metadata": {},
     "output_type": "display_data"
    },
    {
     "data": {
      "text/html": [
       "<div>\n",
       "<style scoped>\n",
       "    .dataframe tbody tr th:only-of-type {\n",
       "        vertical-align: middle;\n",
       "    }\n",
       "\n",
       "    .dataframe tbody tr th {\n",
       "        vertical-align: top;\n",
       "    }\n",
       "\n",
       "    .dataframe thead th {\n",
       "        text-align: right;\n",
       "    }\n",
       "</style>\n",
       "<table border=\"1\" class=\"dataframe\">\n",
       "  <thead>\n",
       "    <tr style=\"text-align: right;\">\n",
       "      <th></th>\n",
       "      <th>CAR_NEW</th>\n",
       "      <th>FURNITURE</th>\n",
       "      <th>CAR_USED</th>\n",
       "      <th>RADIO_TV</th>\n",
       "      <th>APPLIANCES</th>\n",
       "      <th>REPAIRS</th>\n",
       "      <th>VACATION</th>\n",
       "      <th>EDUCATION</th>\n",
       "      <th>RETRAINING</th>\n",
       "      <th>BUSINESS</th>\n",
       "      <th>OTHER</th>\n",
       "    </tr>\n",
       "  </thead>\n",
       "  <tbody>\n",
       "    <tr>\n",
       "      <th>LOAN_PURPOSE</th>\n",
       "      <td>649</td>\n",
       "      <td>609</td>\n",
       "      <td>584</td>\n",
       "      <td>528</td>\n",
       "      <td>370</td>\n",
       "      <td>194</td>\n",
       "      <td>143</td>\n",
       "      <td>114</td>\n",
       "      <td>113</td>\n",
       "      <td>102</td>\n",
       "      <td>75</td>\n",
       "    </tr>\n",
       "  </tbody>\n",
       "</table>\n",
       "</div>"
      ],
      "text/plain": [
       "              CAR_NEW  FURNITURE  CAR_USED  RADIO_TV  APPLIANCES  REPAIRS  \\\n",
       "LOAN_PURPOSE      649        609       584       528         370      194   \n",
       "\n",
       "              VACATION  EDUCATION  RETRAINING  BUSINESS  OTHER  \n",
       "LOAN_PURPOSE       143        114         113       102     75  "
      ]
     },
     "metadata": {},
     "output_type": "display_data"
    },
    {
     "data": {
      "text/html": [
       "<div>\n",
       "<style scoped>\n",
       "    .dataframe tbody tr th:only-of-type {\n",
       "        vertical-align: middle;\n",
       "    }\n",
       "\n",
       "    .dataframe tbody tr th {\n",
       "        vertical-align: top;\n",
       "    }\n",
       "\n",
       "    .dataframe thead th {\n",
       "        text-align: right;\n",
       "    }\n",
       "</style>\n",
       "<table border=\"1\" class=\"dataframe\">\n",
       "  <thead>\n",
       "    <tr style=\"text-align: right;\">\n",
       "      <th></th>\n",
       "      <th>NONE</th>\n",
       "      <th>CO-APPLICANT</th>\n",
       "      <th>GUARANTOR</th>\n",
       "    </tr>\n",
       "  </thead>\n",
       "  <tbody>\n",
       "    <tr>\n",
       "      <th>OTHERS_ON_LOAN</th>\n",
       "      <td>2893</td>\n",
       "      <td>502</td>\n",
       "      <td>85</td>\n",
       "    </tr>\n",
       "  </tbody>\n",
       "</table>\n",
       "</div>"
      ],
      "text/plain": [
       "                NONE  CO-APPLICANT  GUARANTOR\n",
       "OTHERS_ON_LOAN  2893           502         85"
      ]
     },
     "metadata": {},
     "output_type": "display_data"
    },
    {
     "data": {
      "text/html": [
       "<div>\n",
       "<style scoped>\n",
       "    .dataframe tbody tr th:only-of-type {\n",
       "        vertical-align: middle;\n",
       "    }\n",
       "\n",
       "    .dataframe tbody tr th {\n",
       "        vertical-align: top;\n",
       "    }\n",
       "\n",
       "    .dataframe thead th {\n",
       "        text-align: right;\n",
       "    }\n",
       "</style>\n",
       "<table border=\"1\" class=\"dataframe\">\n",
       "  <thead>\n",
       "    <tr style=\"text-align: right;\">\n",
       "      <th></th>\n",
       "      <th>SAVINGS_INSURANCE</th>\n",
       "      <th>CAR_OTHER</th>\n",
       "      <th>REAL_ESTATE</th>\n",
       "      <th>UNKNOWN</th>\n",
       "    </tr>\n",
       "  </thead>\n",
       "  <tbody>\n",
       "    <tr>\n",
       "      <th>PROPERTY</th>\n",
       "      <td>1135</td>\n",
       "      <td>1056</td>\n",
       "      <td>748</td>\n",
       "      <td>493</td>\n",
       "    </tr>\n",
       "  </tbody>\n",
       "</table>\n",
       "</div>"
      ],
      "text/plain": [
       "          SAVINGS_INSURANCE  CAR_OTHER  REAL_ESTATE  UNKNOWN\n",
       "PROPERTY               1135       1056          748      493"
      ]
     },
     "metadata": {},
     "output_type": "display_data"
    },
    {
     "data": {
      "text/html": [
       "<div>\n",
       "<style scoped>\n",
       "    .dataframe tbody tr th:only-of-type {\n",
       "        vertical-align: middle;\n",
       "    }\n",
       "\n",
       "    .dataframe tbody tr th {\n",
       "        vertical-align: top;\n",
       "    }\n",
       "\n",
       "    .dataframe thead th {\n",
       "        text-align: right;\n",
       "    }\n",
       "</style>\n",
       "<table border=\"1\" class=\"dataframe\">\n",
       "  <thead>\n",
       "    <tr style=\"text-align: right;\">\n",
       "      <th></th>\n",
       "      <th>M</th>\n",
       "      <th>F</th>\n",
       "    </tr>\n",
       "  </thead>\n",
       "  <tbody>\n",
       "    <tr>\n",
       "      <th>SEX</th>\n",
       "      <td>2122</td>\n",
       "      <td>1311</td>\n",
       "    </tr>\n",
       "  </tbody>\n",
       "</table>\n",
       "</div>"
      ],
      "text/plain": [
       "        M     F\n",
       "SEX  2122  1311"
      ]
     },
     "metadata": {},
     "output_type": "display_data"
    }
   ],
   "source": [
    "sorted_cat_cols = list(sorted(set(non_numeric_cols) - set(possibly_numeric_cols)))\n",
    "for col in sorted_cat_cols:\n",
    "    display(clean_df[col].value_counts().to_frame().T)"
   ]
  },
  {
   "cell_type": "markdown",
   "metadata": {},
   "source": [
    "- Todas as variáveis poderiam ser convertidas em valores numéricos usando \"One-Hot-Encoding\".\n",
    "- Alternativamente, algumas variáveis poderiam poderia ser convertidas para valores crescentes em uma ordem que aparenta ir da pior para a melhor situação (mas esta é uma avaliação subjetiva):\n",
    "  - **`CREDIT_HISTORY`**: `PRIOR_PAYMENTS_DELAYED`, `NO_CREDITS`, `CREDITS_PAID_TO_DATE`, `ALL_CREDITS_PAID_BACK`, `OUTSTANDING_CREDIT`\n",
    "  - **`OTHERS_ON_LOAN`**: `NONE`, `CO-APPLICANT`, `GUARANTOR`\n",
    "  - **`HOUSING`**: `FREE`, `RENT`, `OWN`"
   ]
  },
  {
   "cell_type": "markdown",
   "metadata": {
    "tags": []
   },
   "source": [
    "### Variáveis numéricas"
   ]
  },
  {
   "cell_type": "code",
   "execution_count": 20,
   "metadata": {},
   "outputs": [
    {
     "data": {
      "text/html": [
       "<div>\n",
       "<style scoped>\n",
       "    .dataframe tbody tr th:only-of-type {\n",
       "        vertical-align: middle;\n",
       "    }\n",
       "\n",
       "    .dataframe tbody tr th {\n",
       "        vertical-align: top;\n",
       "    }\n",
       "\n",
       "    .dataframe thead th {\n",
       "        text-align: right;\n",
       "    }\n",
       "</style>\n",
       "<table border=\"1\" class=\"dataframe\">\n",
       "  <thead>\n",
       "    <tr style=\"text-align: right;\">\n",
       "      <th></th>\n",
       "      <th>ID</th>\n",
       "      <th>CHECKING_BALANCE</th>\n",
       "      <th>PAYMENT_TERM</th>\n",
       "      <th>LOAN_AMOUNT</th>\n",
       "      <th>EXISTING_SAVINGS</th>\n",
       "      <th>EMPLOYMENT_DURATION</th>\n",
       "      <th>INSTALLMENT_PERCENT</th>\n",
       "      <th>CURRENT_RESIDENCE_DURATION</th>\n",
       "      <th>AGE</th>\n",
       "      <th>EXISTING_CREDITS_COUNT</th>\n",
       "      <th>JOB_TYPE</th>\n",
       "      <th>DEPENDENTS</th>\n",
       "      <th>TELEPHONE</th>\n",
       "      <th>FOREIGN_WORKER</th>\n",
       "      <th>ALLOW</th>\n",
       "    </tr>\n",
       "  </thead>\n",
       "  <tbody>\n",
       "    <tr>\n",
       "      <th>count</th>\n",
       "      <td>3.499000e+03</td>\n",
       "      <td>1296.000000</td>\n",
       "      <td>3478.000000</td>\n",
       "      <td>3486.000000</td>\n",
       "      <td>2006.000000</td>\n",
       "      <td>3437.000000</td>\n",
       "      <td>3479.000000</td>\n",
       "      <td>3430.000000</td>\n",
       "      <td>3431.000000</td>\n",
       "      <td>2155.000000</td>\n",
       "      <td>3427.000000</td>\n",
       "      <td>3429.000000</td>\n",
       "      <td>3427.000000</td>\n",
       "      <td>3423.000000</td>\n",
       "      <td>3499.00000</td>\n",
       "    </tr>\n",
       "    <tr>\n",
       "      <th>mean</th>\n",
       "      <td>6.564330e+05</td>\n",
       "      <td>500.561914</td>\n",
       "      <td>652.430995</td>\n",
       "      <td>3471.581469</td>\n",
       "      <td>1366.428509</td>\n",
       "      <td>4.250509</td>\n",
       "      <td>2.979304</td>\n",
       "      <td>2.856851</td>\n",
       "      <td>36.105800</td>\n",
       "      <td>1.465429</td>\n",
       "      <td>2.425445</td>\n",
       "      <td>1.161855</td>\n",
       "      <td>0.414357</td>\n",
       "      <td>0.976337</td>\n",
       "      <td>0.66419</td>\n",
       "    </tr>\n",
       "    <tr>\n",
       "      <th>std</th>\n",
       "      <td>3.729361e+05</td>\n",
       "      <td>2742.738362</td>\n",
       "      <td>338.976026</td>\n",
       "      <td>2482.036344</td>\n",
       "      <td>4827.286202</td>\n",
       "      <td>3.586829</td>\n",
       "      <td>1.116362</td>\n",
       "      <td>1.110505</td>\n",
       "      <td>10.572843</td>\n",
       "      <td>0.569324</td>\n",
       "      <td>0.934158</td>\n",
       "      <td>0.368371</td>\n",
       "      <td>0.492682</td>\n",
       "      <td>0.152021</td>\n",
       "      <td>0.47234</td>\n",
       "    </tr>\n",
       "    <tr>\n",
       "      <th>min</th>\n",
       "      <td>9.800000e+01</td>\n",
       "      <td>-2617.350000</td>\n",
       "      <td>120.000000</td>\n",
       "      <td>250.000000</td>\n",
       "      <td>0.020000</td>\n",
       "      <td>0.000000</td>\n",
       "      <td>1.000000</td>\n",
       "      <td>1.000000</td>\n",
       "      <td>19.000000</td>\n",
       "      <td>1.000000</td>\n",
       "      <td>0.000000</td>\n",
       "      <td>1.000000</td>\n",
       "      <td>0.000000</td>\n",
       "      <td>0.000000</td>\n",
       "      <td>0.00000</td>\n",
       "    </tr>\n",
       "    <tr>\n",
       "      <th>25%</th>\n",
       "      <td>3.362930e+05</td>\n",
       "      <td>-186.057500</td>\n",
       "      <td>390.000000</td>\n",
       "      <td>1328.250000</td>\n",
       "      <td>64.845000</td>\n",
       "      <td>1.000000</td>\n",
       "      <td>2.000000</td>\n",
       "      <td>2.000000</td>\n",
       "      <td>28.000000</td>\n",
       "      <td>1.000000</td>\n",
       "      <td>2.000000</td>\n",
       "      <td>1.000000</td>\n",
       "      <td>0.000000</td>\n",
       "      <td>1.000000</td>\n",
       "      <td>0.00000</td>\n",
       "    </tr>\n",
       "    <tr>\n",
       "      <th>50%</th>\n",
       "      <td>6.586480e+05</td>\n",
       "      <td>0.000000</td>\n",
       "      <td>651.000000</td>\n",
       "      <td>3237.000000</td>\n",
       "      <td>253.825000</td>\n",
       "      <td>4.000000</td>\n",
       "      <td>3.000000</td>\n",
       "      <td>3.000000</td>\n",
       "      <td>36.000000</td>\n",
       "      <td>1.000000</td>\n",
       "      <td>3.000000</td>\n",
       "      <td>1.000000</td>\n",
       "      <td>0.000000</td>\n",
       "      <td>1.000000</td>\n",
       "      <td>1.00000</td>\n",
       "    </tr>\n",
       "    <tr>\n",
       "      <th>75%</th>\n",
       "      <td>9.710270e+05</td>\n",
       "      <td>109.872500</td>\n",
       "      <td>899.000000</td>\n",
       "      <td>5308.000000</td>\n",
       "      <td>726.065000</td>\n",
       "      <td>7.000000</td>\n",
       "      <td>4.000000</td>\n",
       "      <td>4.000000</td>\n",
       "      <td>44.000000</td>\n",
       "      <td>2.000000</td>\n",
       "      <td>3.000000</td>\n",
       "      <td>1.000000</td>\n",
       "      <td>1.000000</td>\n",
       "      <td>1.000000</td>\n",
       "      <td>1.00000</td>\n",
       "    </tr>\n",
       "    <tr>\n",
       "      <th>max</th>\n",
       "      <td>1.320082e+06</td>\n",
       "      <td>20104.120000</td>\n",
       "      <td>1984.000000</td>\n",
       "      <td>11676.000000</td>\n",
       "      <td>50177.310000</td>\n",
       "      <td>18.000000</td>\n",
       "      <td>6.000000</td>\n",
       "      <td>5.000000</td>\n",
       "      <td>74.000000</td>\n",
       "      <td>3.000000</td>\n",
       "      <td>3.000000</td>\n",
       "      <td>2.000000</td>\n",
       "      <td>1.000000</td>\n",
       "      <td>1.000000</td>\n",
       "      <td>1.00000</td>\n",
       "    </tr>\n",
       "  </tbody>\n",
       "</table>\n",
       "</div>"
      ],
      "text/plain": [
       "                 ID  CHECKING_BALANCE  PAYMENT_TERM   LOAN_AMOUNT  \\\n",
       "count  3.499000e+03       1296.000000   3478.000000   3486.000000   \n",
       "mean   6.564330e+05        500.561914    652.430995   3471.581469   \n",
       "std    3.729361e+05       2742.738362    338.976026   2482.036344   \n",
       "min    9.800000e+01      -2617.350000    120.000000    250.000000   \n",
       "25%    3.362930e+05       -186.057500    390.000000   1328.250000   \n",
       "50%    6.586480e+05          0.000000    651.000000   3237.000000   \n",
       "75%    9.710270e+05        109.872500    899.000000   5308.000000   \n",
       "max    1.320082e+06      20104.120000   1984.000000  11676.000000   \n",
       "\n",
       "       EXISTING_SAVINGS  EMPLOYMENT_DURATION  INSTALLMENT_PERCENT  \\\n",
       "count       2006.000000          3437.000000          3479.000000   \n",
       "mean        1366.428509             4.250509             2.979304   \n",
       "std         4827.286202             3.586829             1.116362   \n",
       "min            0.020000             0.000000             1.000000   \n",
       "25%           64.845000             1.000000             2.000000   \n",
       "50%          253.825000             4.000000             3.000000   \n",
       "75%          726.065000             7.000000             4.000000   \n",
       "max        50177.310000            18.000000             6.000000   \n",
       "\n",
       "       CURRENT_RESIDENCE_DURATION          AGE  EXISTING_CREDITS_COUNT  \\\n",
       "count                 3430.000000  3431.000000             2155.000000   \n",
       "mean                     2.856851    36.105800                1.465429   \n",
       "std                      1.110505    10.572843                0.569324   \n",
       "min                      1.000000    19.000000                1.000000   \n",
       "25%                      2.000000    28.000000                1.000000   \n",
       "50%                      3.000000    36.000000                1.000000   \n",
       "75%                      4.000000    44.000000                2.000000   \n",
       "max                      5.000000    74.000000                3.000000   \n",
       "\n",
       "          JOB_TYPE   DEPENDENTS    TELEPHONE  FOREIGN_WORKER       ALLOW  \n",
       "count  3427.000000  3429.000000  3427.000000     3423.000000  3499.00000  \n",
       "mean      2.425445     1.161855     0.414357        0.976337     0.66419  \n",
       "std       0.934158     0.368371     0.492682        0.152021     0.47234  \n",
       "min       0.000000     1.000000     0.000000        0.000000     0.00000  \n",
       "25%       2.000000     1.000000     0.000000        1.000000     0.00000  \n",
       "50%       3.000000     1.000000     0.000000        1.000000     1.00000  \n",
       "75%       3.000000     1.000000     1.000000        1.000000     1.00000  \n",
       "max       3.000000     2.000000     1.000000        1.000000     1.00000  "
      ]
     },
     "metadata": {},
     "output_type": "display_data"
    }
   ],
   "source": [
    "with pd.option_context(\"display.max_columns\", None):\n",
    "    display(clean_df.describe(exclude=\"O\"))"
   ]
  },
  {
   "cell_type": "markdown",
   "metadata": {},
   "source": [
    "Sinta-se livre para ver a distribuição de outras colunas do conjunto de dados, utilizar os outros conjuntos de dados, explorar as correlações entre variáveis e outros."
   ]
  },
  {
   "cell_type": "code",
   "execution_count": 21,
   "metadata": {},
   "outputs": [],
   "source": [
    "numeric_cols = list(clean_df.select_dtypes(include='number').columns)"
   ]
  },
  {
   "cell_type": "code",
   "execution_count": 22,
   "metadata": {},
   "outputs": [
    {
     "data": {
      "text/html": [
       "<div>\n",
       "<style scoped>\n",
       "    .dataframe tbody tr th:only-of-type {\n",
       "        vertical-align: middle;\n",
       "    }\n",
       "\n",
       "    .dataframe tbody tr th {\n",
       "        vertical-align: top;\n",
       "    }\n",
       "\n",
       "    .dataframe thead th {\n",
       "        text-align: right;\n",
       "    }\n",
       "</style>\n",
       "<table border=\"1\" class=\"dataframe\">\n",
       "  <thead>\n",
       "    <tr style=\"text-align: right;\">\n",
       "      <th></th>\n",
       "      <th>458752</th>\n",
       "      <th>62880</th>\n",
       "      <th>1240455</th>\n",
       "      <th>824019</th>\n",
       "      <th>237742</th>\n",
       "      <th>1301901</th>\n",
       "      <th>451982</th>\n",
       "      <th>290191</th>\n",
       "      <th>749757</th>\n",
       "      <th>107930</th>\n",
       "      <th>...</th>\n",
       "      <th>731864</th>\n",
       "      <th>416220</th>\n",
       "      <th>606945</th>\n",
       "      <th>1102563</th>\n",
       "      <th>514790</th>\n",
       "      <th>1026792</th>\n",
       "      <th>1299179</th>\n",
       "      <th>27372</th>\n",
       "      <th>269870</th>\n",
       "      <th>901116</th>\n",
       "    </tr>\n",
       "  </thead>\n",
       "  <tbody>\n",
       "    <tr>\n",
       "      <th>ID</th>\n",
       "      <td>1</td>\n",
       "      <td>1</td>\n",
       "      <td>1</td>\n",
       "      <td>1</td>\n",
       "      <td>1</td>\n",
       "      <td>1</td>\n",
       "      <td>1</td>\n",
       "      <td>1</td>\n",
       "      <td>1</td>\n",
       "      <td>1</td>\n",
       "      <td>...</td>\n",
       "      <td>1</td>\n",
       "      <td>1</td>\n",
       "      <td>1</td>\n",
       "      <td>1</td>\n",
       "      <td>1</td>\n",
       "      <td>1</td>\n",
       "      <td>1</td>\n",
       "      <td>1</td>\n",
       "      <td>1</td>\n",
       "      <td>1</td>\n",
       "    </tr>\n",
       "  </tbody>\n",
       "</table>\n",
       "<p>1 rows × 3499 columns</p>\n",
       "</div>"
      ],
      "text/plain": [
       "    458752   62880    1240455  824019   237742   1301901  451982   290191   \\\n",
       "ID        1        1        1        1        1        1        1        1   \n",
       "\n",
       "    749757   107930   ...  731864   416220   606945   1102563  514790   \\\n",
       "ID        1        1  ...        1        1        1        1        1   \n",
       "\n",
       "    1026792  1299179  27372    269870   901116   \n",
       "ID        1        1        1        1        1  \n",
       "\n",
       "[1 rows x 3499 columns]"
      ]
     },
     "metadata": {},
     "output_type": "display_data"
    },
    {
     "data": {
      "text/html": [
       "<div>\n",
       "<style scoped>\n",
       "    .dataframe tbody tr th:only-of-type {\n",
       "        vertical-align: middle;\n",
       "    }\n",
       "\n",
       "    .dataframe tbody tr th {\n",
       "        vertical-align: top;\n",
       "    }\n",
       "\n",
       "    .dataframe thead th {\n",
       "        text-align: right;\n",
       "    }\n",
       "</style>\n",
       "<table border=\"1\" class=\"dataframe\">\n",
       "  <thead>\n",
       "    <tr style=\"text-align: right;\">\n",
       "      <th></th>\n",
       "      <th>0.00</th>\n",
       "      <th>42.83</th>\n",
       "      <th>97.41</th>\n",
       "      <th>19.00</th>\n",
       "      <th>-170.13</th>\n",
       "      <th>158.35</th>\n",
       "      <th>94.06</th>\n",
       "      <th>-56.17</th>\n",
       "      <th>169.20</th>\n",
       "      <th>8771.09</th>\n",
       "      <th>...</th>\n",
       "      <th>-1128.33</th>\n",
       "      <th>87.85</th>\n",
       "      <th>-77.15</th>\n",
       "      <th>-93.04</th>\n",
       "      <th>-298.62</th>\n",
       "      <th>125.76</th>\n",
       "      <th>-5.96</th>\n",
       "      <th>88.92</th>\n",
       "      <th>-546.14</th>\n",
       "      <th>-842.31</th>\n",
       "    </tr>\n",
       "  </thead>\n",
       "  <tbody>\n",
       "    <tr>\n",
       "      <th>CHECKING_BALANCE</th>\n",
       "      <td>57</td>\n",
       "      <td>3</td>\n",
       "      <td>3</td>\n",
       "      <td>2</td>\n",
       "      <td>2</td>\n",
       "      <td>2</td>\n",
       "      <td>2</td>\n",
       "      <td>1</td>\n",
       "      <td>1</td>\n",
       "      <td>1</td>\n",
       "      <td>...</td>\n",
       "      <td>1</td>\n",
       "      <td>1</td>\n",
       "      <td>1</td>\n",
       "      <td>1</td>\n",
       "      <td>1</td>\n",
       "      <td>1</td>\n",
       "      <td>1</td>\n",
       "      <td>1</td>\n",
       "      <td>1</td>\n",
       "      <td>1</td>\n",
       "    </tr>\n",
       "  </tbody>\n",
       "</table>\n",
       "<p>1 rows × 1232 columns</p>\n",
       "</div>"
      ],
      "text/plain": [
       "                   0.00      42.83     97.41     19.00    -170.13    158.35   \\\n",
       "CHECKING_BALANCE        57         3         3         2         2         2   \n",
       "\n",
       "                   94.06    -56.17     169.20    8771.09  ...  -1128.33  \\\n",
       "CHECKING_BALANCE         2         1         1         1  ...         1   \n",
       "\n",
       "                   87.85    -77.15    -93.04    -298.62    125.76   -5.96     \\\n",
       "CHECKING_BALANCE         1         1         1         1         1         1   \n",
       "\n",
       "                   88.92    -546.14   -842.31   \n",
       "CHECKING_BALANCE         1         1         1  \n",
       "\n",
       "[1 rows x 1232 columns]"
      ]
     },
     "metadata": {},
     "output_type": "display_data"
    },
    {
     "data": {
      "text/html": [
       "<div>\n",
       "<style scoped>\n",
       "    .dataframe tbody tr th:only-of-type {\n",
       "        vertical-align: middle;\n",
       "    }\n",
       "\n",
       "    .dataframe tbody tr th {\n",
       "        vertical-align: top;\n",
       "    }\n",
       "\n",
       "    .dataframe thead th {\n",
       "        text-align: right;\n",
       "    }\n",
       "</style>\n",
       "<table border=\"1\" class=\"dataframe\">\n",
       "  <thead>\n",
       "    <tr style=\"text-align: right;\">\n",
       "      <th></th>\n",
       "      <th>124.0</th>\n",
       "      <th>120.0</th>\n",
       "      <th>930.0</th>\n",
       "      <th>240.0</th>\n",
       "      <th>744.0</th>\n",
       "      <th>775.0</th>\n",
       "      <th>600.0</th>\n",
       "      <th>868.0</th>\n",
       "      <th>810.0</th>\n",
       "      <th>620.0</th>\n",
       "      <th>...</th>\n",
       "      <th>1680.0</th>\n",
       "      <th>1860.0</th>\n",
       "      <th>1891.0</th>\n",
       "      <th>1984.0</th>\n",
       "      <th>1560.0</th>\n",
       "      <th>1710.0</th>\n",
       "      <th>1890.0</th>\n",
       "      <th>1829.0</th>\n",
       "      <th>1590.0</th>\n",
       "      <th>1830.0</th>\n",
       "    </tr>\n",
       "  </thead>\n",
       "  <tbody>\n",
       "    <tr>\n",
       "      <th>PAYMENT_TERM</th>\n",
       "      <td>155</td>\n",
       "      <td>152</td>\n",
       "      <td>95</td>\n",
       "      <td>70</td>\n",
       "      <td>67</td>\n",
       "      <td>67</td>\n",
       "      <td>63</td>\n",
       "      <td>62</td>\n",
       "      <td>62</td>\n",
       "      <td>61</td>\n",
       "      <td>...</td>\n",
       "      <td>1</td>\n",
       "      <td>1</td>\n",
       "      <td>1</td>\n",
       "      <td>1</td>\n",
       "      <td>1</td>\n",
       "      <td>1</td>\n",
       "      <td>1</td>\n",
       "      <td>1</td>\n",
       "      <td>1</td>\n",
       "      <td>1</td>\n",
       "    </tr>\n",
       "  </tbody>\n",
       "</table>\n",
       "<p>1 rows × 107 columns</p>\n",
       "</div>"
      ],
      "text/plain": [
       "              124.0   120.0   930.0   240.0   744.0   775.0   600.0   868.0   \\\n",
       "PAYMENT_TERM     155     152      95      70      67      67      63      62   \n",
       "\n",
       "              810.0   620.0   ...  1680.0  1860.0  1891.0  1984.0  1560.0  \\\n",
       "PAYMENT_TERM      62      61  ...       1       1       1       1       1   \n",
       "\n",
       "              1710.0  1890.0  1829.0  1590.0  1830.0  \n",
       "PAYMENT_TERM       1       1       1       1       1  \n",
       "\n",
       "[1 rows x 107 columns]"
      ]
     },
     "metadata": {},
     "output_type": "display_data"
    },
    {
     "data": {
      "text/html": [
       "<div>\n",
       "<style scoped>\n",
       "    .dataframe tbody tr th:only-of-type {\n",
       "        vertical-align: middle;\n",
       "    }\n",
       "\n",
       "    .dataframe tbody tr th {\n",
       "        vertical-align: top;\n",
       "    }\n",
       "\n",
       "    .dataframe thead th {\n",
       "        text-align: right;\n",
       "    }\n",
       "</style>\n",
       "<table border=\"1\" class=\"dataframe\">\n",
       "  <thead>\n",
       "    <tr style=\"text-align: right;\">\n",
       "      <th></th>\n",
       "      <th>250.0</th>\n",
       "      <th>1993.0</th>\n",
       "      <th>6954.0</th>\n",
       "      <th>4545.0</th>\n",
       "      <th>1820.0</th>\n",
       "      <th>3810.0</th>\n",
       "      <th>5011.0</th>\n",
       "      <th>3315.0</th>\n",
       "      <th>4842.0</th>\n",
       "      <th>3147.0</th>\n",
       "      <th>...</th>\n",
       "      <th>2463.0</th>\n",
       "      <th>6603.0</th>\n",
       "      <th>6591.0</th>\n",
       "      <th>6434.0</th>\n",
       "      <th>4674.0</th>\n",
       "      <th>6585.0</th>\n",
       "      <th>2956.0</th>\n",
       "      <th>368.0</th>\n",
       "      <th>3724.0</th>\n",
       "      <th>3896.0</th>\n",
       "    </tr>\n",
       "  </thead>\n",
       "  <tbody>\n",
       "    <tr>\n",
       "      <th>LOAN_AMOUNT</th>\n",
       "      <td>505</td>\n",
       "      <td>5</td>\n",
       "      <td>4</td>\n",
       "      <td>4</td>\n",
       "      <td>4</td>\n",
       "      <td>4</td>\n",
       "      <td>3</td>\n",
       "      <td>3</td>\n",
       "      <td>3</td>\n",
       "      <td>3</td>\n",
       "      <td>...</td>\n",
       "      <td>1</td>\n",
       "      <td>1</td>\n",
       "      <td>1</td>\n",
       "      <td>1</td>\n",
       "      <td>1</td>\n",
       "      <td>1</td>\n",
       "      <td>1</td>\n",
       "      <td>1</td>\n",
       "      <td>1</td>\n",
       "      <td>1</td>\n",
       "    </tr>\n",
       "  </tbody>\n",
       "</table>\n",
       "<p>1 rows × 2511 columns</p>\n",
       "</div>"
      ],
      "text/plain": [
       "             250.0   1993.0  6954.0  4545.0  1820.0  3810.0  5011.0  3315.0  \\\n",
       "LOAN_AMOUNT     505       5       4       4       4       4       3       3   \n",
       "\n",
       "             4842.0  3147.0  ...  2463.0  6603.0  6591.0  6434.0  4674.0  \\\n",
       "LOAN_AMOUNT       3       3  ...       1       1       1       1       1   \n",
       "\n",
       "             6585.0  2956.0  368.0   3724.0  3896.0  \n",
       "LOAN_AMOUNT       1       1       1       1       1  \n",
       "\n",
       "[1 rows x 2511 columns]"
      ]
     },
     "metadata": {},
     "output_type": "display_data"
    },
    {
     "data": {
      "text/html": [
       "<div>\n",
       "<style scoped>\n",
       "    .dataframe tbody tr th:only-of-type {\n",
       "        vertical-align: middle;\n",
       "    }\n",
       "\n",
       "    .dataframe tbody tr th {\n",
       "        vertical-align: top;\n",
       "    }\n",
       "\n",
       "    .dataframe thead th {\n",
       "        text-align: right;\n",
       "    }\n",
       "</style>\n",
       "<table border=\"1\" class=\"dataframe\">\n",
       "  <thead>\n",
       "    <tr style=\"text-align: right;\">\n",
       "      <th></th>\n",
       "      <th>100.89</th>\n",
       "      <th>28.92</th>\n",
       "      <th>79.41</th>\n",
       "      <th>57.25</th>\n",
       "      <th>65.64</th>\n",
       "      <th>77.85</th>\n",
       "      <th>79.34</th>\n",
       "      <th>44.88</th>\n",
       "      <th>8.12</th>\n",
       "      <th>428.75</th>\n",
       "      <th>...</th>\n",
       "      <th>249.10</th>\n",
       "      <th>95.80</th>\n",
       "      <th>247.97</th>\n",
       "      <th>909.17</th>\n",
       "      <th>76.13</th>\n",
       "      <th>504.65</th>\n",
       "      <th>98.55</th>\n",
       "      <th>1063.49</th>\n",
       "      <th>484.31</th>\n",
       "      <th>55.06</th>\n",
       "    </tr>\n",
       "  </thead>\n",
       "  <tbody>\n",
       "    <tr>\n",
       "      <th>EXISTING_SAVINGS</th>\n",
       "      <td>3</td>\n",
       "      <td>3</td>\n",
       "      <td>2</td>\n",
       "      <td>2</td>\n",
       "      <td>2</td>\n",
       "      <td>2</td>\n",
       "      <td>2</td>\n",
       "      <td>2</td>\n",
       "      <td>2</td>\n",
       "      <td>2</td>\n",
       "      <td>...</td>\n",
       "      <td>1</td>\n",
       "      <td>1</td>\n",
       "      <td>1</td>\n",
       "      <td>1</td>\n",
       "      <td>1</td>\n",
       "      <td>1</td>\n",
       "      <td>1</td>\n",
       "      <td>1</td>\n",
       "      <td>1</td>\n",
       "      <td>1</td>\n",
       "    </tr>\n",
       "  </tbody>\n",
       "</table>\n",
       "<p>1 rows × 1964 columns</p>\n",
       "</div>"
      ],
      "text/plain": [
       "                  100.89   28.92    79.41    57.25    65.64    77.85    \\\n",
       "EXISTING_SAVINGS        3        3        2        2        2        2   \n",
       "\n",
       "                  79.34    44.88    8.12     428.75   ...  249.10   95.80    \\\n",
       "EXISTING_SAVINGS        2        2        2        2  ...        1        1   \n",
       "\n",
       "                  247.97   909.17   76.13    504.65   98.55    1063.49  \\\n",
       "EXISTING_SAVINGS        1        1        1        1        1        1   \n",
       "\n",
       "                  484.31   55.06    \n",
       "EXISTING_SAVINGS        1        1  \n",
       "\n",
       "[1 rows x 1964 columns]"
      ]
     },
     "metadata": {},
     "output_type": "display_data"
    },
    {
     "data": {
      "text/html": [
       "<div>\n",
       "<style scoped>\n",
       "    .dataframe tbody tr th:only-of-type {\n",
       "        vertical-align: middle;\n",
       "    }\n",
       "\n",
       "    .dataframe tbody tr th {\n",
       "        vertical-align: top;\n",
       "    }\n",
       "\n",
       "    .dataframe thead th {\n",
       "        text-align: right;\n",
       "    }\n",
       "</style>\n",
       "<table border=\"1\" class=\"dataframe\">\n",
       "  <thead>\n",
       "    <tr style=\"text-align: right;\">\n",
       "      <th></th>\n",
       "      <th>0.0</th>\n",
       "      <th>7.0</th>\n",
       "      <th>5.0</th>\n",
       "      <th>6.0</th>\n",
       "      <th>1.0</th>\n",
       "      <th>3.0</th>\n",
       "      <th>2.0</th>\n",
       "      <th>4.0</th>\n",
       "      <th>8.0</th>\n",
       "      <th>9.0</th>\n",
       "      <th>10.0</th>\n",
       "      <th>11.0</th>\n",
       "      <th>12.0</th>\n",
       "      <th>13.0</th>\n",
       "      <th>14.0</th>\n",
       "      <th>15.0</th>\n",
       "      <th>16.0</th>\n",
       "      <th>18.0</th>\n",
       "    </tr>\n",
       "  </thead>\n",
       "  <tbody>\n",
       "    <tr>\n",
       "      <th>EMPLOYMENT_DURATION</th>\n",
       "      <td>810</td>\n",
       "      <td>338</td>\n",
       "      <td>333</td>\n",
       "      <td>304</td>\n",
       "      <td>274</td>\n",
       "      <td>257</td>\n",
       "      <td>241</td>\n",
       "      <td>238</td>\n",
       "      <td>173</td>\n",
       "      <td>156</td>\n",
       "      <td>132</td>\n",
       "      <td>76</td>\n",
       "      <td>67</td>\n",
       "      <td>20</td>\n",
       "      <td>8</td>\n",
       "      <td>7</td>\n",
       "      <td>2</td>\n",
       "      <td>1</td>\n",
       "    </tr>\n",
       "  </tbody>\n",
       "</table>\n",
       "</div>"
      ],
      "text/plain": [
       "                     0.0   7.0   5.0   6.0   1.0   3.0   2.0   4.0   8.0   \\\n",
       "EMPLOYMENT_DURATION   810   338   333   304   274   257   241   238   173   \n",
       "\n",
       "                     9.0   10.0  11.0  12.0  13.0  14.0  15.0  16.0  18.0  \n",
       "EMPLOYMENT_DURATION   156   132    76    67    20     8     7     2     1  "
      ]
     },
     "metadata": {},
     "output_type": "display_data"
    },
    {
     "data": {
      "text/html": [
       "<div>\n",
       "<style scoped>\n",
       "    .dataframe tbody tr th:only-of-type {\n",
       "        vertical-align: middle;\n",
       "    }\n",
       "\n",
       "    .dataframe tbody tr th {\n",
       "        vertical-align: top;\n",
       "    }\n",
       "\n",
       "    .dataframe thead th {\n",
       "        text-align: right;\n",
       "    }\n",
       "</style>\n",
       "<table border=\"1\" class=\"dataframe\">\n",
       "  <thead>\n",
       "    <tr style=\"text-align: right;\">\n",
       "      <th></th>\n",
       "      <th>3.0</th>\n",
       "      <th>2.0</th>\n",
       "      <th>4.0</th>\n",
       "      <th>1.0</th>\n",
       "      <th>5.0</th>\n",
       "      <th>6.0</th>\n",
       "    </tr>\n",
       "  </thead>\n",
       "  <tbody>\n",
       "    <tr>\n",
       "      <th>INSTALLMENT_PERCENT</th>\n",
       "      <td>1130</td>\n",
       "      <td>854</td>\n",
       "      <td>851</td>\n",
       "      <td>342</td>\n",
       "      <td>291</td>\n",
       "      <td>11</td>\n",
       "    </tr>\n",
       "  </tbody>\n",
       "</table>\n",
       "</div>"
      ],
      "text/plain": [
       "                      3.0  2.0  4.0  1.0  5.0  6.0\n",
       "INSTALLMENT_PERCENT  1130  854  851  342  291   11"
      ]
     },
     "metadata": {},
     "output_type": "display_data"
    },
    {
     "data": {
      "text/html": [
       "<div>\n",
       "<style scoped>\n",
       "    .dataframe tbody tr th:only-of-type {\n",
       "        vertical-align: middle;\n",
       "    }\n",
       "\n",
       "    .dataframe tbody tr th {\n",
       "        vertical-align: top;\n",
       "    }\n",
       "\n",
       "    .dataframe thead th {\n",
       "        text-align: right;\n",
       "    }\n",
       "</style>\n",
       "<table border=\"1\" class=\"dataframe\">\n",
       "  <thead>\n",
       "    <tr style=\"text-align: right;\">\n",
       "      <th></th>\n",
       "      <th>3.0</th>\n",
       "      <th>2.0</th>\n",
       "      <th>4.0</th>\n",
       "      <th>1.0</th>\n",
       "      <th>5.0</th>\n",
       "    </tr>\n",
       "  </thead>\n",
       "  <tbody>\n",
       "    <tr>\n",
       "      <th>CURRENT_RESIDENCE_DURATION</th>\n",
       "      <td>1138</td>\n",
       "      <td>876</td>\n",
       "      <td>747</td>\n",
       "      <td>425</td>\n",
       "      <td>244</td>\n",
       "    </tr>\n",
       "  </tbody>\n",
       "</table>\n",
       "</div>"
      ],
      "text/plain": [
       "                             3.0  2.0  4.0  1.0  5.0\n",
       "CURRENT_RESIDENCE_DURATION  1138  876  747  425  244"
      ]
     },
     "metadata": {},
     "output_type": "display_data"
    },
    {
     "data": {
      "text/html": [
       "<div>\n",
       "<style scoped>\n",
       "    .dataframe tbody tr th:only-of-type {\n",
       "        vertical-align: middle;\n",
       "    }\n",
       "\n",
       "    .dataframe tbody tr th {\n",
       "        vertical-align: top;\n",
       "    }\n",
       "\n",
       "    .dataframe thead th {\n",
       "        text-align: right;\n",
       "    }\n",
       "</style>\n",
       "<table border=\"1\" class=\"dataframe\">\n",
       "  <thead>\n",
       "    <tr style=\"text-align: right;\">\n",
       "      <th></th>\n",
       "      <th>19.0</th>\n",
       "      <th>40.0</th>\n",
       "      <th>36.0</th>\n",
       "      <th>37.0</th>\n",
       "      <th>34.0</th>\n",
       "      <th>31.0</th>\n",
       "      <th>38.0</th>\n",
       "      <th>39.0</th>\n",
       "      <th>41.0</th>\n",
       "      <th>33.0</th>\n",
       "      <th>...</th>\n",
       "      <th>61.0</th>\n",
       "      <th>65.0</th>\n",
       "      <th>66.0</th>\n",
       "      <th>63.0</th>\n",
       "      <th>62.0</th>\n",
       "      <th>74.0</th>\n",
       "      <th>70.0</th>\n",
       "      <th>64.0</th>\n",
       "      <th>73.0</th>\n",
       "      <th>67.0</th>\n",
       "    </tr>\n",
       "  </thead>\n",
       "  <tbody>\n",
       "    <tr>\n",
       "      <th>AGE</th>\n",
       "      <td>278</td>\n",
       "      <td>129</td>\n",
       "      <td>127</td>\n",
       "      <td>121</td>\n",
       "      <td>118</td>\n",
       "      <td>116</td>\n",
       "      <td>116</td>\n",
       "      <td>110</td>\n",
       "      <td>110</td>\n",
       "      <td>109</td>\n",
       "      <td>...</td>\n",
       "      <td>7</td>\n",
       "      <td>5</td>\n",
       "      <td>3</td>\n",
       "      <td>3</td>\n",
       "      <td>2</td>\n",
       "      <td>2</td>\n",
       "      <td>1</td>\n",
       "      <td>1</td>\n",
       "      <td>1</td>\n",
       "      <td>1</td>\n",
       "    </tr>\n",
       "  </tbody>\n",
       "</table>\n",
       "<p>1 rows × 52 columns</p>\n",
       "</div>"
      ],
      "text/plain": [
       "     19.0  40.0  36.0  37.0  34.0  31.0  38.0  39.0  41.0  33.0  ...  61.0  \\\n",
       "AGE   278   129   127   121   118   116   116   110   110   109  ...     7   \n",
       "\n",
       "     65.0  66.0  63.0  62.0  74.0  70.0  64.0  73.0  67.0  \n",
       "AGE     5     3     3     2     2     1     1     1     1  \n",
       "\n",
       "[1 rows x 52 columns]"
      ]
     },
     "metadata": {},
     "output_type": "display_data"
    },
    {
     "data": {
      "text/html": [
       "<div>\n",
       "<style scoped>\n",
       "    .dataframe tbody tr th:only-of-type {\n",
       "        vertical-align: middle;\n",
       "    }\n",
       "\n",
       "    .dataframe tbody tr th {\n",
       "        vertical-align: top;\n",
       "    }\n",
       "\n",
       "    .dataframe thead th {\n",
       "        text-align: right;\n",
       "    }\n",
       "</style>\n",
       "<table border=\"1\" class=\"dataframe\">\n",
       "  <thead>\n",
       "    <tr style=\"text-align: right;\">\n",
       "      <th></th>\n",
       "      <th>1.0</th>\n",
       "      <th>2.0</th>\n",
       "      <th>3.0</th>\n",
       "    </tr>\n",
       "  </thead>\n",
       "  <tbody>\n",
       "    <tr>\n",
       "      <th>EXISTING_CREDITS_COUNT</th>\n",
       "      <td>1233</td>\n",
       "      <td>841</td>\n",
       "      <td>81</td>\n",
       "    </tr>\n",
       "  </tbody>\n",
       "</table>\n",
       "</div>"
      ],
      "text/plain": [
       "                         1.0  2.0  3.0\n",
       "EXISTING_CREDITS_COUNT  1233  841   81"
      ]
     },
     "metadata": {},
     "output_type": "display_data"
    },
    {
     "data": {
      "text/html": [
       "<div>\n",
       "<style scoped>\n",
       "    .dataframe tbody tr th:only-of-type {\n",
       "        vertical-align: middle;\n",
       "    }\n",
       "\n",
       "    .dataframe tbody tr th {\n",
       "        vertical-align: top;\n",
       "    }\n",
       "\n",
       "    .dataframe thead th {\n",
       "        text-align: right;\n",
       "    }\n",
       "</style>\n",
       "<table border=\"1\" class=\"dataframe\">\n",
       "  <thead>\n",
       "    <tr style=\"text-align: right;\">\n",
       "      <th></th>\n",
       "      <th>3.0</th>\n",
       "      <th>1.0</th>\n",
       "      <th>2.0</th>\n",
       "      <th>0.0</th>\n",
       "    </tr>\n",
       "  </thead>\n",
       "  <tbody>\n",
       "    <tr>\n",
       "      <th>JOB_TYPE</th>\n",
       "      <td>2331</td>\n",
       "      <td>467</td>\n",
       "      <td>426</td>\n",
       "      <td>203</td>\n",
       "    </tr>\n",
       "  </tbody>\n",
       "</table>\n",
       "</div>"
      ],
      "text/plain": [
       "           3.0  1.0  2.0  0.0\n",
       "JOB_TYPE  2331  467  426  203"
      ]
     },
     "metadata": {},
     "output_type": "display_data"
    },
    {
     "data": {
      "text/html": [
       "<div>\n",
       "<style scoped>\n",
       "    .dataframe tbody tr th:only-of-type {\n",
       "        vertical-align: middle;\n",
       "    }\n",
       "\n",
       "    .dataframe tbody tr th {\n",
       "        vertical-align: top;\n",
       "    }\n",
       "\n",
       "    .dataframe thead th {\n",
       "        text-align: right;\n",
       "    }\n",
       "</style>\n",
       "<table border=\"1\" class=\"dataframe\">\n",
       "  <thead>\n",
       "    <tr style=\"text-align: right;\">\n",
       "      <th></th>\n",
       "      <th>1.0</th>\n",
       "      <th>2.0</th>\n",
       "    </tr>\n",
       "  </thead>\n",
       "  <tbody>\n",
       "    <tr>\n",
       "      <th>DEPENDENTS</th>\n",
       "      <td>2874</td>\n",
       "      <td>555</td>\n",
       "    </tr>\n",
       "  </tbody>\n",
       "</table>\n",
       "</div>"
      ],
      "text/plain": [
       "             1.0  2.0\n",
       "DEPENDENTS  2874  555"
      ]
     },
     "metadata": {},
     "output_type": "display_data"
    },
    {
     "data": {
      "text/html": [
       "<div>\n",
       "<style scoped>\n",
       "    .dataframe tbody tr th:only-of-type {\n",
       "        vertical-align: middle;\n",
       "    }\n",
       "\n",
       "    .dataframe tbody tr th {\n",
       "        vertical-align: top;\n",
       "    }\n",
       "\n",
       "    .dataframe thead th {\n",
       "        text-align: right;\n",
       "    }\n",
       "</style>\n",
       "<table border=\"1\" class=\"dataframe\">\n",
       "  <thead>\n",
       "    <tr style=\"text-align: right;\">\n",
       "      <th></th>\n",
       "      <th>0.0</th>\n",
       "      <th>1.0</th>\n",
       "    </tr>\n",
       "  </thead>\n",
       "  <tbody>\n",
       "    <tr>\n",
       "      <th>TELEPHONE</th>\n",
       "      <td>2007</td>\n",
       "      <td>1420</td>\n",
       "    </tr>\n",
       "  </tbody>\n",
       "</table>\n",
       "</div>"
      ],
      "text/plain": [
       "            0.0   1.0\n",
       "TELEPHONE  2007  1420"
      ]
     },
     "metadata": {},
     "output_type": "display_data"
    },
    {
     "data": {
      "text/html": [
       "<div>\n",
       "<style scoped>\n",
       "    .dataframe tbody tr th:only-of-type {\n",
       "        vertical-align: middle;\n",
       "    }\n",
       "\n",
       "    .dataframe tbody tr th {\n",
       "        vertical-align: top;\n",
       "    }\n",
       "\n",
       "    .dataframe thead th {\n",
       "        text-align: right;\n",
       "    }\n",
       "</style>\n",
       "<table border=\"1\" class=\"dataframe\">\n",
       "  <thead>\n",
       "    <tr style=\"text-align: right;\">\n",
       "      <th></th>\n",
       "      <th>1.0</th>\n",
       "      <th>0.0</th>\n",
       "    </tr>\n",
       "  </thead>\n",
       "  <tbody>\n",
       "    <tr>\n",
       "      <th>FOREIGN_WORKER</th>\n",
       "      <td>3342</td>\n",
       "      <td>81</td>\n",
       "    </tr>\n",
       "  </tbody>\n",
       "</table>\n",
       "</div>"
      ],
      "text/plain": [
       "                 1.0  0.0\n",
       "FOREIGN_WORKER  3342   81"
      ]
     },
     "metadata": {},
     "output_type": "display_data"
    },
    {
     "data": {
      "text/html": [
       "<div>\n",
       "<style scoped>\n",
       "    .dataframe tbody tr th:only-of-type {\n",
       "        vertical-align: middle;\n",
       "    }\n",
       "\n",
       "    .dataframe tbody tr th {\n",
       "        vertical-align: top;\n",
       "    }\n",
       "\n",
       "    .dataframe thead th {\n",
       "        text-align: right;\n",
       "    }\n",
       "</style>\n",
       "<table border=\"1\" class=\"dataframe\">\n",
       "  <thead>\n",
       "    <tr style=\"text-align: right;\">\n",
       "      <th></th>\n",
       "      <th>1</th>\n",
       "      <th>0</th>\n",
       "    </tr>\n",
       "  </thead>\n",
       "  <tbody>\n",
       "    <tr>\n",
       "      <th>ALLOW</th>\n",
       "      <td>2324</td>\n",
       "      <td>1175</td>\n",
       "    </tr>\n",
       "  </tbody>\n",
       "</table>\n",
       "</div>"
      ],
      "text/plain": [
       "          1     0\n",
       "ALLOW  2324  1175"
      ]
     },
     "metadata": {},
     "output_type": "display_data"
    }
   ],
   "source": [
    "for col in numeric_cols:\n",
    "    display(clean_df[col].value_counts().to_frame().T)"
   ]
  },
  {
   "cell_type": "markdown",
   "metadata": {
    "tags": []
   },
   "source": [
    "### Correlações"
   ]
  },
  {
   "cell_type": "markdown",
   "metadata": {},
   "source": [
    "#### Variáveis sobre as contas"
   ]
  },
  {
   "cell_type": "code",
   "execution_count": 23,
   "metadata": {},
   "outputs": [
    {
     "data": {
      "image/png": "[encoded data removed]",
      "text/plain": [
       "<Figure size 583.125x540 with 9 Axes>"
      ]
     },
     "metadata": {
      "needs_background": "light"
     },
     "output_type": "display_data"
    }
   ],
   "source": [
    "sorted_account_cols = list(sorted(set(account_cols + [target])))\n",
    "sns.pairplot(clean_df[sorted_account_cols], hue=target, palette='Set1', corner=True)\n",
    "plt.show()"
   ]
  },
  {
   "cell_type": "markdown",
   "metadata": {},
   "source": [
    "#### Variáveis sobre dados demográficos"
   ]
  },
  {
   "cell_type": "code",
   "execution_count": 24,
   "metadata": {},
   "outputs": [
    {
     "data": {
      "image/png": "[encoded data removed]",
      "text/plain": [
       "<Figure size 1303.12x1260 with 35 Axes>"
      ]
     },
     "metadata": {
      "needs_background": "light"
     },
     "output_type": "display_data"
    }
   ],
   "source": [
    "sorted_demographic_cols = list(sorted(set(demographic_cols + [target])))\n",
    "sns.pairplot(clean_df[sorted_demographic_cols], hue=target, palette='Set1', corner=True)\n",
    "plt.show()"
   ]
  },
  {
   "cell_type": "markdown",
   "metadata": {},
   "source": [
    "- Talvez seja melhor considerar que o tipo de trabalho (`JOB_TYPE`) é uma variável categórica e fazer One-Hot-Encoding, assumindo que não exista necessariamente uma ordenação natural dos tipos"
   ]
  },
  {
   "cell_type": "markdown",
   "metadata": {
    "tags": []
   },
   "source": [
    "#### Variáveis sobre os empéstimos"
   ]
  },
  {
   "cell_type": "code",
   "execution_count": 25,
   "metadata": {},
   "outputs": [
    {
     "data": {
      "image/png": "[encoded data removed]",
      "text/plain": [
       "<Figure size 583.125x540 with 9 Axes>"
      ]
     },
     "metadata": {
      "needs_background": "light"
     },
     "output_type": "display_data"
    }
   ],
   "source": [
    "sorted_loan_cols = list(sorted(set(loan_cols + [target])))\n",
    "sns.pairplot(clean_df[sorted_loan_cols], hue=target, palette='Set1', corner=True)\n",
    "plt.show()"
   ]
  },
  {
   "cell_type": "markdown",
   "metadata": {
    "tags": []
   },
   "source": [
    "### Variáveis categóricas (gráficos)"
   ]
  },
  {
   "cell_type": "code",
   "execution_count": 26,
   "metadata": {},
   "outputs": [
    {
     "data": {
      "image/png": "[encoded data removed]",
      "text/plain": [
       "<Figure size 432x288 with 1 Axes>"
      ]
     },
     "metadata": {
      "needs_background": "light"
     },
     "output_type": "display_data"
    },
    {
     "data": {
      "image/png": "[encoded data removed]",
      "text/plain": [
       "<Figure size 432x288 with 1 Axes>"
      ]
     },
     "metadata": {
      "needs_background": "light"
     },
     "output_type": "display_data"
    },
    {
     "data": {
      "image/png": "[encoded data removed]",
      "text/plain": [
       "<Figure size 432x288 with 1 Axes>"
      ]
     },
     "metadata": {
      "needs_background": "light"
     },
     "output_type": "display_data"
    },
    {
     "data": {
      "image/png": "[encoded data removed]",
      "text/plain": [
       "<Figure size 432x288 with 1 Axes>"
      ]
     },
     "metadata": {
      "needs_background": "light"
     },
     "output_type": "display_data"
    },
    {
     "data": {
      "image/png": "[encoded data removed]",
      "text/plain": [
       "<Figure size 432x288 with 1 Axes>"
      ]
     },
     "metadata": {
      "needs_background": "light"
     },
     "output_type": "display_data"
    },
    {
     "data": {
      "image/png": "[encoded data removed]",
      "text/plain": [
       "<Figure size 432x288 with 1 Axes>"
      ]
     },
     "metadata": {
      "needs_background": "light"
     },
     "output_type": "display_data"
    },
    {
     "data": {
      "image/png": "[encoded data removed]",
      "text/plain": [
       "<Figure size 432x288 with 1 Axes>"
      ]
     },
     "metadata": {
      "needs_background": "light"
     },
     "output_type": "display_data"
    }
   ],
   "source": [
    "for col in sorted_cat_cols:\n",
    "    risk_plot = sns.countplot(\n",
    "        data=df_train, y=col, order=df_train[col].value_counts().index, orient='h', hue='ALLOW', palette='Set1'\n",
    "    )\n",
    "    plt.show()"
   ]
  },
  {
   "cell_type": "code",
   "execution_count": 27,
   "metadata": {},
   "outputs": [
    {
     "data": {
      "image/png": "[encoded data removed]",
      "text/plain": [
       "<Figure size 720x1440 with 7 Axes>"
      ]
     },
     "metadata": {
      "needs_background": "light"
     },
     "output_type": "display_data"
    }
   ],
   "source": [
    "fig, axes = plt.subplots(nrows=len(sorted_cat_cols), sharex=True, figsize=(10,20))\n",
    "for i, col in enumerate(sorted_cat_cols):\n",
    "    group_means = df_train.groupby([col])['ALLOW'].mean().rename('ALLOW_RATE').sort_values(ascending=False).to_frame()\n",
    "    sns.barplot(x='ALLOW_RATE', y=group_means.index, data=group_means, ax=axes[i])"
   ]
  },
  {
   "cell_type": "markdown",
   "metadata": {},
   "source": [
    "## Tratamento dos dados"
   ]
  },
  {
   "cell_type": "markdown",
   "metadata": {},
   "source": [
    "Uma vez que exploramos os dados, entendemos a importância de cada coluna e podemos fazer alterações nelas para para obter um melhor resultado."
   ]
  },
  {
   "cell_type": "markdown",
   "metadata": {
    "tags": []
   },
   "source": [
    "#### Dados de entrada"
   ]
  },
  {
   "cell_type": "markdown",
   "metadata": {
    "tags": []
   },
   "source": [
    "O desafio espera um modelo que aceite todas as variáveis dos conjuntos de dados disponíveis (exceto a variável destino, `ALLOW`):"
   ]
  },
  {
   "cell_type": "code",
   "execution_count": 28,
   "metadata": {},
   "outputs": [],
   "source": [
    "challenge_columns = [\n",
    "    \"ID\",\n",
    "    \"CHECKING_BALANCE\",\n",
    "    \"PAYMENT_TERM\",\n",
    "    \"CREDIT_HISTORY\",\n",
    "    \"LOAN_PURPOSE\",\n",
    "    \"LOAN_AMOUNT\",\n",
    "    \"EXISTING_SAVINGS\",\n",
    "    \"EMPLOYMENT_DURATION\",\n",
    "    \"INSTALLMENT_PERCENT\",\n",
    "    \"SEX\",\n",
    "    \"OTHERS_ON_LOAN\",\n",
    "    \"CURRENT_RESIDENCE_DURATION\",\n",
    "    \"PROPERTY\",\n",
    "    \"AGE\",\n",
    "    \"INSTALLMENT_PLANS\",\n",
    "    \"HOUSING\",\n",
    "    \"EXISTING_CREDITS_COUNT\",\n",
    "    \"JOB_TYPE\",\n",
    "    \"DEPENDENTS\",\n",
    "    \"TELEPHONE\",\n",
    "    \"FOREIGN_WORKER\",\n",
    "]"
   ]
  },
  {
   "cell_type": "markdown",
   "metadata": {},
   "source": [
    "#### Dados categóricos"
   ]
  },
  {
   "cell_type": "markdown",
   "metadata": {},
   "source": [
    "Observando a execução do método `.info()` acima, podemos ver que existem colunas do tipo `object`. O modelo do `scikit-learn` que vamos usar não é capaz de processar uma variável desse tipo. Portanto, para dar seguimento ao experimento, será utilizada a técnica de _one-hot encoding_ para tratamento de variáveis categóricas. Além disso, a coluna `ID` será desconsiderada, pois sabemos que ela não é uma informação útil para a predição (é apenas um número identificando um cliente).\n",
    "\n",
    "Primeiramente, especificaremos quais variáveis serão tratadas como categóricas e quais serão tratadas como numéricas:"
   ]
  },
  {
   "cell_type": "code",
   "execution_count": 29,
   "metadata": {},
   "outputs": [],
   "source": [
    "categorical_features = [\n",
    "    \"CREDIT_HISTORY\",\n",
    "    \"LOAN_PURPOSE\",\n",
    "    \"SEX\",\n",
    "    \"OTHERS_ON_LOAN\",\n",
    "    \"PROPERTY\",\n",
    "    \"INSTALLMENT_PLANS\",\n",
    "    \"HOUSING\",\n",
    "    \"TELEPHONE\",  # Boolean  # TODO: Impute some value instead OneHotEncoding the missing values\n",
    "    \"FOREIGN_WORKER\",  # Boolean  # TODO: Impute some value instead OneHotEncoding the missing values\n",
    "]\n",
    "numeric_features = [\n",
    "    \"CHECKING_BALANCE\",\n",
    "    \"PAYMENT_TERM\",\n",
    "    \"LOAN_AMOUNT\",\n",
    "    \"EXISTING_SAVINGS\",\n",
    "    \"EMPLOYMENT_DURATION\",\n",
    "    \"INSTALLMENT_PERCENT\",\n",
    "    \"CURRENT_RESIDENCE_DURATION\",\n",
    "    \"AGE\",\n",
    "    \"EXISTING_CREDITS_COUNT\",\n",
    "    \"JOB_TYPE\", # NOTE: This could also be considered categorical\n",
    "    \"DEPENDENTS\",\n",
    "]"
   ]
  },
  {
   "cell_type": "markdown",
   "metadata": {},
   "source": [
    "Qualquer outra variável será desconsiderada:"
   ]
  },
  {
   "cell_type": "code",
   "execution_count": 30,
   "metadata": {},
   "outputs": [
    {
     "name": "stdout",
     "output_type": "stream",
     "text": [
      "['ID']\n"
     ]
    }
   ],
   "source": [
    "features = numeric_features + categorical_features\n",
    "unwanted_columns = list(\n",
    "    sorted((set(challenge_columns) - set([target])) - set(features))\n",
    ")\n",
    "print(unwanted_columns)"
   ]
  },
  {
   "cell_type": "markdown",
   "metadata": {},
   "source": [
    "A pipeline de pré-processamento será atualizada para que realize transformações específicas para cada tipo de variável:"
   ]
  },
  {
   "cell_type": "code",
   "execution_count": 31,
   "metadata": {},
   "outputs": [],
   "source": [
    "categorical_transformer = Pipeline(steps=[\n",
    "    ('imputer', SimpleImputer(strategy='most_frequent')),\n",
    "    ('onehot', OneHotEncoder(handle_unknown='ignore'))\n",
    "])\n",
    "numeric_transformer = Pipeline(steps=[\n",
    "    ('to_numeric', to_numeric),\n",
    "])\n",
    "preprocessor = ColumnTransformer(\n",
    "    transformers=[\n",
    "        ('num', numeric_transformer, numeric_features),\n",
    "        ('cat', categorical_transformer, categorical_features),\n",
    "    ]\n",
    ")\n",
    "# display(preprocessor)"
   ]
  },
  {
   "cell_type": "markdown",
   "metadata": {},
   "source": [
    "Nesta nova versão:\n",
    "- As variáveis `CHECKING_BALANCE` e `EXISTING_SAVINGS` continuarão sendo convertidas para tipos numéricos\n",
    "- One-Hot-Encoding será aplicado às variáveis categóricas, resultando em uma coluna para cada valor\n",
    "\n",
    "A título de exemplo, a antiga coluna `SEX` foi transformada em novas colunas, uma para cada valor:"
   ]
  },
  {
   "cell_type": "code",
   "execution_count": 32,
   "metadata": {
    "tags": []
   },
   "outputs": [
    {
     "data": {
      "text/html": [
       "<div>\n",
       "<style scoped>\n",
       "    .dataframe tbody tr th:only-of-type {\n",
       "        vertical-align: middle;\n",
       "    }\n",
       "\n",
       "    .dataframe tbody tr th {\n",
       "        vertical-align: top;\n",
       "    }\n",
       "\n",
       "    .dataframe thead th {\n",
       "        text-align: right;\n",
       "    }\n",
       "</style>\n",
       "<table border=\"1\" class=\"dataframe\">\n",
       "  <thead>\n",
       "    <tr style=\"text-align: right;\">\n",
       "      <th></th>\n",
       "      <th>x2_F</th>\n",
       "      <th>x2_M</th>\n",
       "    </tr>\n",
       "  </thead>\n",
       "  <tbody>\n",
       "    <tr>\n",
       "      <th>1866</th>\n",
       "      <td>0.0</td>\n",
       "      <td>1.0</td>\n",
       "    </tr>\n",
       "    <tr>\n",
       "      <th>2416</th>\n",
       "      <td>1.0</td>\n",
       "      <td>0.0</td>\n",
       "    </tr>\n",
       "    <tr>\n",
       "      <th>639</th>\n",
       "      <td>1.0</td>\n",
       "      <td>0.0</td>\n",
       "    </tr>\n",
       "    <tr>\n",
       "      <th>281</th>\n",
       "      <td>0.0</td>\n",
       "      <td>1.0</td>\n",
       "    </tr>\n",
       "  </tbody>\n",
       "</table>\n",
       "</div>"
      ],
      "text/plain": [
       "      x2_F  x2_M\n",
       "1866   0.0   1.0\n",
       "2416   1.0   0.0\n",
       "639    1.0   0.0\n",
       "281    0.0   1.0"
      ]
     },
     "execution_count": 32,
     "metadata": {},
     "output_type": "execute_result"
    }
   ],
   "source": [
    "preprocessor.fit(df_train)\n",
    "# onehot_features = list(preprocessor.named_transformers_[\"cat\"][\"onehot\"].get_feature_names_out())\n",
    "onehot_features = list(preprocessor.named_transformers_[\"cat\"][\"onehot\"].get_feature_names())  # scikit-learn=0.23\n",
    "clean_df = pd.DataFrame(\n",
    "    preprocessor.transform(df_train),\n",
    "    columns=numeric_features + onehot_features,\n",
    "    index=df_train.index\n",
    ")\n",
    "# clean_df.head(4)\n",
    "clean_df[clean_df.columns[clean_df.columns.str.endswith('_F') | clean_df.columns.str.endswith('_M')]].head(4)"
   ]
  },
  {
   "cell_type": "markdown",
   "metadata": {},
   "source": [
    "Esta é a lista completa das colunas criadas pelo One-Hot-Encoding:"
   ]
  },
  {
   "cell_type": "code",
   "execution_count": 33,
   "metadata": {},
   "outputs": [
    {
     "name": "stdout",
     "output_type": "stream",
     "text": [
      "['x0_ALL_CREDITS_PAID_BACK', 'x0_CREDITS_PAID_TO_DATE', 'x0_NO_CREDITS', 'x0_OUTSTANDING_CREDIT', 'x0_PRIOR_PAYMENTS_DELAYED', 'x1_APPLIANCES', 'x1_BUSINESS', 'x1_CAR_NEW', 'x1_CAR_USED', 'x1_EDUCATION', 'x1_FURNITURE', 'x1_OTHER', 'x1_RADIO_TV', 'x1_REPAIRS', 'x1_RETRAINING', 'x1_VACATION', 'x2_F', 'x2_M', 'x3_CO-APPLICANT', 'x3_GUARANTOR', 'x3_NONE', 'x4_CAR_OTHER', 'x4_REAL_ESTATE', 'x4_SAVINGS_INSURANCE', 'x4_UNKNOWN', 'x5_BANK', 'x5_NONE', 'x5_STORES', 'x6_FREE', 'x6_OWN', 'x6_RENT', 'x7_0.0', 'x7_1.0', 'x8_0.0', 'x8_1.0']\n"
     ]
    }
   ],
   "source": [
    "print(onehot_features)"
   ]
  },
  {
   "cell_type": "markdown",
   "metadata": {},
   "source": [
    "#### Dados faltantes"
   ]
  },
  {
   "cell_type": "markdown",
   "metadata": {},
   "source": [
    "Com as etapas de pré-processamento definidas até aqui, algumas colunas ainda têm valores faltantes:"
   ]
  },
  {
   "cell_type": "code",
   "execution_count": 34,
   "metadata": {},
   "outputs": [
    {
     "name": "stdout",
     "output_type": "stream",
     "text": [
      "<class 'pandas.core.frame.DataFrame'>\n",
      "Int64Index: 3499 entries, 1866 to 415\n",
      "Data columns (total 11 columns):\n",
      " #   Column                      Non-Null Count  Dtype  \n",
      "---  ------                      --------------  -----  \n",
      " 0   CHECKING_BALANCE            1296 non-null   float64\n",
      " 1   PAYMENT_TERM                3478 non-null   float64\n",
      " 2   LOAN_AMOUNT                 3486 non-null   float64\n",
      " 3   EXISTING_SAVINGS            2006 non-null   float64\n",
      " 4   EMPLOYMENT_DURATION         3437 non-null   float64\n",
      " 5   INSTALLMENT_PERCENT         3479 non-null   float64\n",
      " 6   CURRENT_RESIDENCE_DURATION  3430 non-null   float64\n",
      " 7   AGE                         3431 non-null   float64\n",
      " 8   EXISTING_CREDITS_COUNT      2155 non-null   float64\n",
      " 9   JOB_TYPE                    3427 non-null   float64\n",
      " 10  DEPENDENTS                  3429 non-null   float64\n",
      "dtypes: float64(11)\n",
      "memory usage: 457.1 KB\n"
     ]
    }
   ],
   "source": [
    "clean_df[clean_df.columns[clean_df.isnull().sum() > 0]].info()"
   ]
  },
  {
   "cell_type": "markdown",
   "metadata": {},
   "source": [
    "Nestes casos, faremos apenas um tratamento simples, de imputar o valor zero nas linhas que tiverem faltando algum valor. Não necessariamente essa técnica é a melhor para se utilizar no desafio, é apenas um exemplo de como tratar o dataset.\n",
    "\n",
    "Tratamentos mais avançados, como modificação de colunas ou criação de novas colunas, serão incluídos na `Pipeline` posteriormente, se necessário."
   ]
  },
  {
   "cell_type": "code",
   "execution_count": 35,
   "metadata": {},
   "outputs": [],
   "source": [
    "imputer = SimpleImputer(strategy='constant', fill_value=0)\n",
    "\n",
    "numeric_transformer = Pipeline(steps=[\n",
    "    ('to_numeric', to_numeric),\n",
    "    ('imputer', imputer),\n",
    "])\n",
    "preprocessor = ColumnTransformer(\n",
    "    transformers=[\n",
    "        ('num', numeric_transformer, numeric_features),\n",
    "        ('cat', categorical_transformer, categorical_features),\n",
    "    ]\n",
    ")\n",
    "# display(preprocessor)"
   ]
  },
  {
   "cell_type": "code",
   "execution_count": 36,
   "metadata": {},
   "outputs": [],
   "source": [
    "preprocessor.fit(df_train)\n",
    "clean_df = pd.DataFrame(\n",
    "    preprocessor.transform(df_train),\n",
    "    columns=numeric_features + onehot_features,\n",
    "    index=df_train.index\n",
    ")\n",
    "# display(clean_df.head(2))\n",
    "# clean_df.info()"
   ]
  },
  {
   "cell_type": "markdown",
   "metadata": {},
   "source": [
    "A nova pipeline de pré-processamento zera o número de colunas com dados faltantes:"
   ]
  },
  {
   "cell_type": "code",
   "execution_count": 37,
   "metadata": {},
   "outputs": [
    {
     "data": {
      "text/plain": [
       "0"
      ]
     },
     "execution_count": 37,
     "metadata": {},
     "output_type": "execute_result"
    }
   ],
   "source": [
    "clean_df.isnull().sum().sum()"
   ]
  },
  {
   "cell_type": "markdown",
   "metadata": {},
   "source": [
    "## Criação do modelo\n",
    "\n",
    "Com os dados prontos, podemos selecionar um modelo de Machine Learning para treinar com nossos dados. Nesse exemplo, vamos utilizar um modelo de classificação básico, o de Árvore de Decisão."
   ]
  },
  {
   "cell_type": "code",
   "execution_count": 38,
   "metadata": {},
   "outputs": [],
   "source": [
    "classifier = DecisionTreeClassifier(random_state=seed)\n",
    "pipe = Pipeline([\n",
    "    ('preprocessor', preprocessor),\n",
    "    ('clf', classifier)\n",
    "])"
   ]
  },
  {
   "cell_type": "markdown",
   "metadata": {},
   "source": [
    "Pronto! Essa pipeline agora está pronta para receber todas as variáveis do desafio, transformá-las e passar para o modelo aquelas que forem relevantes:"
   ]
  },
  {
   "cell_type": "code",
   "execution_count": 39,
   "metadata": {},
   "outputs": [],
   "source": [
    "# display(pipe)"
   ]
  },
  {
   "cell_type": "markdown",
   "metadata": {},
   "source": [
    "Abaixo, separamos os dados que queremos predizer dos dados que utilizamos como informações para a predição."
   ]
  },
  {
   "cell_type": "code",
   "execution_count": 40,
   "metadata": {},
   "outputs": [
    {
     "name": "stdout",
     "output_type": "stream",
     "text": [
      "(3499, 21)\n",
      "(3499,)\n",
      "(500, 21)\n",
      "(500,)\n"
     ]
    }
   ],
   "source": [
    "X_train = df_train[challenge_columns]\n",
    "y_train = df_train[target]\n",
    "X_test = df_test[challenge_columns]\n",
    "y_test = df_test[target]\n",
    "print(X_train.shape)\n",
    "print(y_train.shape)\n",
    "print(X_test.shape)\n",
    "print(y_test.shape)"
   ]
  },
  {
   "cell_type": "code",
   "execution_count": 41,
   "metadata": {},
   "outputs": [],
   "source": [
    "params = [\n",
    "    {\n",
    "    'clf':[SVC(random_state=seed)],\n",
    "    'clf__C': [0.3],\n",
    "    'clf__gamma': [0.2]\n",
    "    },\n",
    "    {\n",
    "    'clf':[LinearSVC(random_state=seed)],\n",
    "    'clf__C': [0.007],\n",
    "    'clf__penalty': ['l2']\n",
    "    },\n",
    "    {\n",
    "    'clf': [MLPClassifier(random_state=seed)],\n",
    "    'clf__alpha': [0.25],\n",
    "    'clf__hidden_layer_sizes': [225],\n",
    "    'clf__learning_rate_init': [0.0002]\n",
    "    },\n",
    "    {\n",
    "    'clf': [LogisticRegression(random_state=seed)],\n",
    "    'clf__C': [5],\n",
    "    'clf__penalty': ['l2']\n",
    "    },\n",
    "    {\n",
    "    'clf': [GaussianNB()],\n",
    "    },\n",
    "    {\n",
    "    'clf': [KNeighborsClassifier()],\n",
    "    'clf__n_neighbors': [65],\n",
    "    'clf__weights': ['uniform'],\n",
    "    },\n",
    "    {\n",
    "    'clf': [DecisionTreeClassifier(random_state=seed)],\n",
    "    'clf__max_depth': [7],\n",
    "    'clf__max_features': [0.8],\n",
    "    'clf__min_samples_split': [11],\n",
    "    'clf__min_samples_leaf': [2],\n",
    "    'clf__criterion': ['gini'],\n",
    "    },\n",
    "    {\n",
    "    'clf': [AdaBoostClassifier(n_estimators=10, random_state=seed)],\n",
    "    'clf__n_estimators': [81],\n",
    "    'clf__learning_rate': [0.4],\n",
    "    },\n",
    "    {\n",
    "    'clf': [ExtraTreesClassifier(n_estimators=10, random_state=seed)],\n",
    "    'clf__n_estimators': [93],\n",
    "    },\n",
    "    {\n",
    "    'clf': [RandomForestClassifier(n_estimators=10, random_state=seed)],\n",
    "    'clf__max_depth': [30],\n",
    "    'clf__n_estimators': [99],\n",
    "    'clf__max_features': [0.35],\n",
    "    'clf__min_samples_split': [32],\n",
    "    'clf__min_samples_leaf': [4],\n",
    "    'clf__criterion': ['gini']\n",
    "    },\n",
    "    {\n",
    "    'clf': [BaggingClassifier(n_estimators=5, random_state=seed)],\n",
    "    'clf__base_estimator': [SVC(C=0.3, gamma=0.2, random_state=seed)],\n",
    "    'clf__n_estimators': [10],\n",
    "    'clf__max_samples': [0.7],\n",
    "    'clf__max_features': [0.7]\n",
    "    },\n",
    "    {\n",
    "    'clf': [StackingClassifier(estimators=[\n",
    "        ('svc', SVC(C=0.3, gamma=0.2, random_state=seed)),\n",
    "        ('lsvc', LinearSVC(C=0.007, penalty='l2', random_state=seed)),\n",
    "        ('mlpc', MLPClassifier(alpha=0.25, hidden_layer_sizes=225, learning_rate_init=0.0002, random_state=seed)),\n",
    "        ('lr', LogisticRegression(C=5, penalty='l2', random_state=seed)),\n",
    "        ('gnb', GaussianNB()),\n",
    "        ('knn', KNeighborsClassifier(n_neighbors=65, weights='uniform')),\n",
    "        ('dtc', DecisionTreeClassifier(max_depth=7, max_features=0.8, min_samples_split=11, min_samples_leaf=2, criterion='gini', random_state=seed)),\n",
    "        ('abc', AdaBoostClassifier(n_estimators=81, learning_rate=0.4, random_state=seed)),\n",
    "        ('etc', ExtraTreesClassifier(n_estimators=93, random_state=seed)),\n",
    "        ('rfc', RandomForestClassifier(n_estimators=99, max_depth=30, max_features=0.35, min_samples_split=32, min_samples_leaf=4, criterion='gini', random_state=seed))\n",
    "    ])],\n",
    "    'clf__final_estimator': [SVC()]\n",
    "    },\n",
    "]"
   ]
  },
  {
   "cell_type": "code",
   "execution_count": 42,
   "metadata": {},
   "outputs": [
    {
     "name": "stdout",
     "output_type": "stream",
     "text": [
      "Fitting 2 folds for each of 12 candidates, totalling 24 fits\n"
     ]
    },
    {
     "name": "stderr",
     "output_type": "stream",
     "text": [
      "[Parallel(n_jobs=-1)]: Using backend LokyBackend with 8 concurrent workers.\n",
      "[Parallel(n_jobs=-1)]: Done   2 tasks      | elapsed:    1.6s\n",
      "[Parallel(n_jobs=-1)]: Done  14 out of  24 | elapsed:    2.5s remaining:    1.8s\n",
      "[Parallel(n_jobs=-1)]: Done  19 out of  24 | elapsed:    2.9s remaining:    0.8s\n",
      "[Parallel(n_jobs=-1)]: Done  24 out of  24 | elapsed:    4.1s remaining:    0.0s\n",
      "[Parallel(n_jobs=-1)]: Done  24 out of  24 | elapsed:    4.1s finished\n"
     ]
    },
    {
     "name": "stdout",
     "output_type": "stream",
     "text": [
      "Best train score:  0.8506712494571795\n",
      "Test score:  0.855539971949509\n",
      "Best estimator:  Pipeline(steps=[('preprocessor',\n",
      "                 ColumnTransformer(transformers=[('num',\n",
      "                                                  Pipeline(steps=[('to_numeric',\n",
      "                                                                   ToNumeric(columns=['CHECKING_BALANCE',\n",
      "                                                                                      'EXISTING_SAVINGS'])),\n",
      "                                                                  ('imputer',\n",
      "                                                                   SimpleImputer(fill_value=0,\n",
      "                                                                                 strategy='constant'))]),\n",
      "                                                  ['CHECKING_BALANCE',\n",
      "                                                   'PAYMENT_TERM',\n",
      "                                                   'LOAN_AMOUNT',\n",
      "                                                   'EXISTING_SAVINGS',\n",
      "                                                   'EMPLOYMENT_DURATION',\n",
      "                                                   'INSTALLMENT_PERCENT',\n",
      "                                                   'CURRENT_RESIDE...\n",
      "                                                                   SimpleImputer(strategy='most_frequent')),\n",
      "                                                                  ('onehot',\n",
      "                                                                   OneHotEncoder(handle_unknown='ignore'))]),\n",
      "                                                  ['CREDIT_HISTORY',\n",
      "                                                   'LOAN_PURPOSE', 'SEX',\n",
      "                                                   'OTHERS_ON_LOAN', 'PROPERTY',\n",
      "                                                   'INSTALLMENT_PLANS',\n",
      "                                                   'HOUSING', 'TELEPHONE',\n",
      "                                                   'FOREIGN_WORKER'])])),\n",
      "                ('clf',\n",
      "                 RandomForestClassifier(max_depth=30, max_features=0.35,\n",
      "                                        min_samples_leaf=4,\n",
      "                                        min_samples_split=32, n_estimators=99,\n",
      "                                        random_state=0))])\n"
     ]
    },
    {
     "data": {
      "text/plain": [
       "'Best parameters: '"
      ]
     },
     "metadata": {},
     "output_type": "display_data"
    },
    {
     "data": {
      "text/plain": [
       "{'clf': RandomForestClassifier(max_depth=30, max_features=0.35, min_samples_leaf=4,\n",
       "                        min_samples_split=32, n_estimators=99, random_state=0),\n",
       " 'clf__criterion': 'gini',\n",
       " 'clf__max_depth': 30,\n",
       " 'clf__max_features': 0.35,\n",
       " 'clf__min_samples_leaf': 4,\n",
       " 'clf__min_samples_split': 32,\n",
       " 'clf__n_estimators': 99}"
      ]
     },
     "metadata": {},
     "output_type": "display_data"
    },
    {
     "data": {
      "text/html": [
       "<div>\n",
       "<style scoped>\n",
       "    .dataframe tbody tr th:only-of-type {\n",
       "        vertical-align: middle;\n",
       "    }\n",
       "\n",
       "    .dataframe tbody tr th {\n",
       "        vertical-align: top;\n",
       "    }\n",
       "\n",
       "    .dataframe thead th {\n",
       "        text-align: right;\n",
       "    }\n",
       "</style>\n",
       "<table border=\"1\" class=\"dataframe\">\n",
       "  <thead>\n",
       "    <tr style=\"text-align: right;\">\n",
       "      <th></th>\n",
       "      <th>mean_fit_time</th>\n",
       "      <th>std_fit_time</th>\n",
       "      <th>mean_score_time</th>\n",
       "      <th>std_score_time</th>\n",
       "      <th>param_clf</th>\n",
       "      <th>param_clf__C</th>\n",
       "      <th>param_clf__gamma</th>\n",
       "      <th>param_clf__penalty</th>\n",
       "      <th>param_clf__alpha</th>\n",
       "      <th>param_clf__hidden_layer_sizes</th>\n",
       "      <th>...</th>\n",
       "      <th>param_clf__n_estimators</th>\n",
       "      <th>param_clf__base_estimator</th>\n",
       "      <th>param_clf__max_samples</th>\n",
       "      <th>param_clf__final_estimator</th>\n",
       "      <th>params</th>\n",
       "      <th>split0_test_score</th>\n",
       "      <th>split1_test_score</th>\n",
       "      <th>mean_test_score</th>\n",
       "      <th>std_test_score</th>\n",
       "      <th>rank_test_score</th>\n",
       "    </tr>\n",
       "  </thead>\n",
       "  <tbody>\n",
       "    <tr>\n",
       "      <th>9</th>\n",
       "      <td>0.619653</td>\n",
       "      <td>0.019029</td>\n",
       "      <td>0.061113</td>\n",
       "      <td>0.001653</td>\n",
       "      <td>RandomForestClassifier(max_depth=30, max_featu...</td>\n",
       "      <td>NaN</td>\n",
       "      <td>NaN</td>\n",
       "      <td>NaN</td>\n",
       "      <td>NaN</td>\n",
       "      <td>NaN</td>\n",
       "      <td>...</td>\n",
       "      <td>99</td>\n",
       "      <td>NaN</td>\n",
       "      <td>NaN</td>\n",
       "      <td>NaN</td>\n",
       "      <td>{'clf': RandomForestClassifier(max_depth=30, m...</td>\n",
       "      <td>0.848629</td>\n",
       "      <td>0.852713</td>\n",
       "      <td>0.850671</td>\n",
       "      <td>0.002042</td>\n",
       "      <td>1</td>\n",
       "    </tr>\n",
       "    <tr>\n",
       "      <th>8</th>\n",
       "      <td>0.490814</td>\n",
       "      <td>0.015035</td>\n",
       "      <td>0.075007</td>\n",
       "      <td>0.002469</td>\n",
       "      <td>ExtraTreesClassifier(n_estimators=10, random_s...</td>\n",
       "      <td>NaN</td>\n",
       "      <td>NaN</td>\n",
       "      <td>NaN</td>\n",
       "      <td>NaN</td>\n",
       "      <td>NaN</td>\n",
       "      <td>...</td>\n",
       "      <td>93</td>\n",
       "      <td>NaN</td>\n",
       "      <td>NaN</td>\n",
       "      <td>NaN</td>\n",
       "      <td>{'clf': ExtraTreesClassifier(n_estimators=10, ...</td>\n",
       "      <td>0.839184</td>\n",
       "      <td>0.841408</td>\n",
       "      <td>0.840296</td>\n",
       "      <td>0.001112</td>\n",
       "      <td>2</td>\n",
       "    </tr>\n",
       "    <tr>\n",
       "      <th>7</th>\n",
       "      <td>0.506409</td>\n",
       "      <td>0.018668</td>\n",
       "      <td>0.086611</td>\n",
       "      <td>0.001178</td>\n",
       "      <td>AdaBoostClassifier(n_estimators=10, random_sta...</td>\n",
       "      <td>NaN</td>\n",
       "      <td>NaN</td>\n",
       "      <td>NaN</td>\n",
       "      <td>NaN</td>\n",
       "      <td>NaN</td>\n",
       "      <td>...</td>\n",
       "      <td>81</td>\n",
       "      <td>NaN</td>\n",
       "      <td>NaN</td>\n",
       "      <td>NaN</td>\n",
       "      <td>{'clf': AdaBoostClassifier(n_estimators=10, ra...</td>\n",
       "      <td>0.833196</td>\n",
       "      <td>0.845549</td>\n",
       "      <td>0.839373</td>\n",
       "      <td>0.006176</td>\n",
       "      <td>3</td>\n",
       "    </tr>\n",
       "    <tr>\n",
       "      <th>6</th>\n",
       "      <td>0.069449</td>\n",
       "      <td>0.002201</td>\n",
       "      <td>0.028948</td>\n",
       "      <td>0.001285</td>\n",
       "      <td>DecisionTreeClassifier(random_state=0)</td>\n",
       "      <td>NaN</td>\n",
       "      <td>NaN</td>\n",
       "      <td>NaN</td>\n",
       "      <td>NaN</td>\n",
       "      <td>NaN</td>\n",
       "      <td>...</td>\n",
       "      <td>NaN</td>\n",
       "      <td>NaN</td>\n",
       "      <td>NaN</td>\n",
       "      <td>NaN</td>\n",
       "      <td>{'clf': DecisionTreeClassifier(random_state=0)...</td>\n",
       "      <td>0.805797</td>\n",
       "      <td>0.822943</td>\n",
       "      <td>0.814370</td>\n",
       "      <td>0.008573</td>\n",
       "      <td>4</td>\n",
       "    </tr>\n",
       "    <tr>\n",
       "      <th>5</th>\n",
       "      <td>0.070244</td>\n",
       "      <td>0.002276</td>\n",
       "      <td>0.388691</td>\n",
       "      <td>0.005689</td>\n",
       "      <td>KNeighborsClassifier()</td>\n",
       "      <td>NaN</td>\n",
       "      <td>NaN</td>\n",
       "      <td>NaN</td>\n",
       "      <td>NaN</td>\n",
       "      <td>NaN</td>\n",
       "      <td>...</td>\n",
       "      <td>NaN</td>\n",
       "      <td>NaN</td>\n",
       "      <td>NaN</td>\n",
       "      <td>NaN</td>\n",
       "      <td>{'clf': KNeighborsClassifier(), 'clf__n_neighb...</td>\n",
       "      <td>0.800484</td>\n",
       "      <td>0.818441</td>\n",
       "      <td>0.809463</td>\n",
       "      <td>0.008979</td>\n",
       "      <td>5</td>\n",
       "    </tr>\n",
       "    <tr>\n",
       "      <th>4</th>\n",
       "      <td>0.058688</td>\n",
       "      <td>0.002115</td>\n",
       "      <td>0.030278</td>\n",
       "      <td>0.001449</td>\n",
       "      <td>GaussianNB()</td>\n",
       "      <td>NaN</td>\n",
       "      <td>NaN</td>\n",
       "      <td>NaN</td>\n",
       "      <td>NaN</td>\n",
       "      <td>NaN</td>\n",
       "      <td>...</td>\n",
       "      <td>NaN</td>\n",
       "      <td>NaN</td>\n",
       "      <td>NaN</td>\n",
       "      <td>NaN</td>\n",
       "      <td>{'clf': GaussianNB()}</td>\n",
       "      <td>0.798587</td>\n",
       "      <td>0.799097</td>\n",
       "      <td>0.798842</td>\n",
       "      <td>0.000255</td>\n",
       "      <td>6</td>\n",
       "    </tr>\n",
       "    <tr>\n",
       "      <th>0</th>\n",
       "      <td>0.492661</td>\n",
       "      <td>0.036377</td>\n",
       "      <td>0.375913</td>\n",
       "      <td>0.011997</td>\n",
       "      <td>SVC(random_state=0)</td>\n",
       "      <td>0.3</td>\n",
       "      <td>0.2</td>\n",
       "      <td>NaN</td>\n",
       "      <td>NaN</td>\n",
       "      <td>NaN</td>\n",
       "      <td>...</td>\n",
       "      <td>NaN</td>\n",
       "      <td>NaN</td>\n",
       "      <td>NaN</td>\n",
       "      <td>NaN</td>\n",
       "      <td>{'clf': SVC(random_state=0), 'clf__C': 0.3, 'c...</td>\n",
       "      <td>0.798077</td>\n",
       "      <td>0.798351</td>\n",
       "      <td>0.798214</td>\n",
       "      <td>0.000137</td>\n",
       "      <td>7</td>\n",
       "    </tr>\n",
       "    <tr>\n",
       "      <th>10</th>\n",
       "      <td>0.709295</td>\n",
       "      <td>0.034003</td>\n",
       "      <td>0.722164</td>\n",
       "      <td>0.003641</td>\n",
       "      <td>BaggingClassifier(n_estimators=5, random_state=0)</td>\n",
       "      <td>NaN</td>\n",
       "      <td>NaN</td>\n",
       "      <td>NaN</td>\n",
       "      <td>NaN</td>\n",
       "      <td>NaN</td>\n",
       "      <td>...</td>\n",
       "      <td>10</td>\n",
       "      <td>SVC(C=0.3, gamma=0.2, random_state=0)</td>\n",
       "      <td>0.7</td>\n",
       "      <td>NaN</td>\n",
       "      <td>{'clf': BaggingClassifier(n_estimators=5, rand...</td>\n",
       "      <td>0.798077</td>\n",
       "      <td>0.798351</td>\n",
       "      <td>0.798214</td>\n",
       "      <td>0.000137</td>\n",
       "      <td>7</td>\n",
       "    </tr>\n",
       "    <tr>\n",
       "      <th>1</th>\n",
       "      <td>0.333541</td>\n",
       "      <td>0.033977</td>\n",
       "      <td>0.029228</td>\n",
       "      <td>0.001373</td>\n",
       "      <td>LinearSVC(random_state=0)</td>\n",
       "      <td>0.007</td>\n",
       "      <td>NaN</td>\n",
       "      <td>l2</td>\n",
       "      <td>NaN</td>\n",
       "      <td>NaN</td>\n",
       "      <td>...</td>\n",
       "      <td>NaN</td>\n",
       "      <td>NaN</td>\n",
       "      <td>NaN</td>\n",
       "      <td>NaN</td>\n",
       "      <td>{'clf': LinearSVC(random_state=0), 'clf__C': 0...</td>\n",
       "      <td>0.790796</td>\n",
       "      <td>0.780980</td>\n",
       "      <td>0.785888</td>\n",
       "      <td>0.004908</td>\n",
       "      <td>9</td>\n",
       "    </tr>\n",
       "    <tr>\n",
       "      <th>2</th>\n",
       "      <td>1.406556</td>\n",
       "      <td>0.195390</td>\n",
       "      <td>0.024487</td>\n",
       "      <td>0.006890</td>\n",
       "      <td>MLPClassifier(random_state=0)</td>\n",
       "      <td>NaN</td>\n",
       "      <td>NaN</td>\n",
       "      <td>NaN</td>\n",
       "      <td>0.25</td>\n",
       "      <td>225</td>\n",
       "      <td>...</td>\n",
       "      <td>NaN</td>\n",
       "      <td>NaN</td>\n",
       "      <td>NaN</td>\n",
       "      <td>NaN</td>\n",
       "      <td>{'clf': MLPClassifier(random_state=0), 'clf__a...</td>\n",
       "      <td>0.712016</td>\n",
       "      <td>0.795292</td>\n",
       "      <td>0.753654</td>\n",
       "      <td>0.041638</td>\n",
       "      <td>10</td>\n",
       "    </tr>\n",
       "    <tr>\n",
       "      <th>3</th>\n",
       "      <td>0.132645</td>\n",
       "      <td>0.014509</td>\n",
       "      <td>0.000000</td>\n",
       "      <td>0.000000</td>\n",
       "      <td>LogisticRegression(random_state=0)</td>\n",
       "      <td>5</td>\n",
       "      <td>NaN</td>\n",
       "      <td>l2</td>\n",
       "      <td>NaN</td>\n",
       "      <td>NaN</td>\n",
       "      <td>...</td>\n",
       "      <td>NaN</td>\n",
       "      <td>NaN</td>\n",
       "      <td>NaN</td>\n",
       "      <td>NaN</td>\n",
       "      <td>{'clf': LogisticRegression(random_state=0), 'c...</td>\n",
       "      <td>NaN</td>\n",
       "      <td>NaN</td>\n",
       "      <td>NaN</td>\n",
       "      <td>NaN</td>\n",
       "      <td>11</td>\n",
       "    </tr>\n",
       "    <tr>\n",
       "      <th>11</th>\n",
       "      <td>1.323297</td>\n",
       "      <td>0.094775</td>\n",
       "      <td>0.000000</td>\n",
       "      <td>0.000000</td>\n",
       "      <td>StackingClassifier(estimators=[('svc', SVC(C=0...</td>\n",
       "      <td>NaN</td>\n",
       "      <td>NaN</td>\n",
       "      <td>NaN</td>\n",
       "      <td>NaN</td>\n",
       "      <td>NaN</td>\n",
       "      <td>...</td>\n",
       "      <td>NaN</td>\n",
       "      <td>NaN</td>\n",
       "      <td>NaN</td>\n",
       "      <td>SVC()</td>\n",
       "      <td>{'clf': StackingClassifier(estimators=[('svc',...</td>\n",
       "      <td>NaN</td>\n",
       "      <td>NaN</td>\n",
       "      <td>NaN</td>\n",
       "      <td>NaN</td>\n",
       "      <td>12</td>\n",
       "    </tr>\n",
       "  </tbody>\n",
       "</table>\n",
       "<p>12 rows × 29 columns</p>\n",
       "</div>"
      ],
      "text/plain": [
       "    mean_fit_time  std_fit_time  mean_score_time  std_score_time  \\\n",
       "9        0.619653      0.019029         0.061113        0.001653   \n",
       "8        0.490814      0.015035         0.075007        0.002469   \n",
       "7        0.506409      0.018668         0.086611        0.001178   \n",
       "6        0.069449      0.002201         0.028948        0.001285   \n",
       "5        0.070244      0.002276         0.388691        0.005689   \n",
       "4        0.058688      0.002115         0.030278        0.001449   \n",
       "0        0.492661      0.036377         0.375913        0.011997   \n",
       "10       0.709295      0.034003         0.722164        0.003641   \n",
       "1        0.333541      0.033977         0.029228        0.001373   \n",
       "2        1.406556      0.195390         0.024487        0.006890   \n",
       "3        0.132645      0.014509         0.000000        0.000000   \n",
       "11       1.323297      0.094775         0.000000        0.000000   \n",
       "\n",
       "                                            param_clf param_clf__C  \\\n",
       "9   RandomForestClassifier(max_depth=30, max_featu...          NaN   \n",
       "8   ExtraTreesClassifier(n_estimators=10, random_s...          NaN   \n",
       "7   AdaBoostClassifier(n_estimators=10, random_sta...          NaN   \n",
       "6              DecisionTreeClassifier(random_state=0)          NaN   \n",
       "5                              KNeighborsClassifier()          NaN   \n",
       "4                                        GaussianNB()          NaN   \n",
       "0                                 SVC(random_state=0)          0.3   \n",
       "10  BaggingClassifier(n_estimators=5, random_state=0)          NaN   \n",
       "1                           LinearSVC(random_state=0)        0.007   \n",
       "2                       MLPClassifier(random_state=0)          NaN   \n",
       "3                  LogisticRegression(random_state=0)            5   \n",
       "11  StackingClassifier(estimators=[('svc', SVC(C=0...          NaN   \n",
       "\n",
       "   param_clf__gamma param_clf__penalty param_clf__alpha  \\\n",
       "9               NaN                NaN              NaN   \n",
       "8               NaN                NaN              NaN   \n",
       "7               NaN                NaN              NaN   \n",
       "6               NaN                NaN              NaN   \n",
       "5               NaN                NaN              NaN   \n",
       "4               NaN                NaN              NaN   \n",
       "0               0.2                NaN              NaN   \n",
       "10              NaN                NaN              NaN   \n",
       "1               NaN                 l2              NaN   \n",
       "2               NaN                NaN             0.25   \n",
       "3               NaN                 l2              NaN   \n",
       "11              NaN                NaN              NaN   \n",
       "\n",
       "   param_clf__hidden_layer_sizes  ... param_clf__n_estimators  \\\n",
       "9                            NaN  ...                      99   \n",
       "8                            NaN  ...                      93   \n",
       "7                            NaN  ...                      81   \n",
       "6                            NaN  ...                     NaN   \n",
       "5                            NaN  ...                     NaN   \n",
       "4                            NaN  ...                     NaN   \n",
       "0                            NaN  ...                     NaN   \n",
       "10                           NaN  ...                      10   \n",
       "1                            NaN  ...                     NaN   \n",
       "2                            225  ...                     NaN   \n",
       "3                            NaN  ...                     NaN   \n",
       "11                           NaN  ...                     NaN   \n",
       "\n",
       "                param_clf__base_estimator param_clf__max_samples  \\\n",
       "9                                     NaN                    NaN   \n",
       "8                                     NaN                    NaN   \n",
       "7                                     NaN                    NaN   \n",
       "6                                     NaN                    NaN   \n",
       "5                                     NaN                    NaN   \n",
       "4                                     NaN                    NaN   \n",
       "0                                     NaN                    NaN   \n",
       "10  SVC(C=0.3, gamma=0.2, random_state=0)                    0.7   \n",
       "1                                     NaN                    NaN   \n",
       "2                                     NaN                    NaN   \n",
       "3                                     NaN                    NaN   \n",
       "11                                    NaN                    NaN   \n",
       "\n",
       "   param_clf__final_estimator  \\\n",
       "9                         NaN   \n",
       "8                         NaN   \n",
       "7                         NaN   \n",
       "6                         NaN   \n",
       "5                         NaN   \n",
       "4                         NaN   \n",
       "0                         NaN   \n",
       "10                        NaN   \n",
       "1                         NaN   \n",
       "2                         NaN   \n",
       "3                         NaN   \n",
       "11                      SVC()   \n",
       "\n",
       "                                               params split0_test_score  \\\n",
       "9   {'clf': RandomForestClassifier(max_depth=30, m...          0.848629   \n",
       "8   {'clf': ExtraTreesClassifier(n_estimators=10, ...          0.839184   \n",
       "7   {'clf': AdaBoostClassifier(n_estimators=10, ra...          0.833196   \n",
       "6   {'clf': DecisionTreeClassifier(random_state=0)...          0.805797   \n",
       "5   {'clf': KNeighborsClassifier(), 'clf__n_neighb...          0.800484   \n",
       "4                               {'clf': GaussianNB()}          0.798587   \n",
       "0   {'clf': SVC(random_state=0), 'clf__C': 0.3, 'c...          0.798077   \n",
       "10  {'clf': BaggingClassifier(n_estimators=5, rand...          0.798077   \n",
       "1   {'clf': LinearSVC(random_state=0), 'clf__C': 0...          0.790796   \n",
       "2   {'clf': MLPClassifier(random_state=0), 'clf__a...          0.712016   \n",
       "3   {'clf': LogisticRegression(random_state=0), 'c...               NaN   \n",
       "11  {'clf': StackingClassifier(estimators=[('svc',...               NaN   \n",
       "\n",
       "   split1_test_score mean_test_score std_test_score rank_test_score  \n",
       "9           0.852713        0.850671       0.002042               1  \n",
       "8           0.841408        0.840296       0.001112               2  \n",
       "7           0.845549        0.839373       0.006176               3  \n",
       "6           0.822943        0.814370       0.008573               4  \n",
       "5           0.818441        0.809463       0.008979               5  \n",
       "4           0.799097        0.798842       0.000255               6  \n",
       "0           0.798351        0.798214       0.000137               7  \n",
       "10          0.798351        0.798214       0.000137               7  \n",
       "1           0.780980        0.785888       0.004908               9  \n",
       "2           0.795292        0.753654       0.041638              10  \n",
       "3                NaN             NaN            NaN              11  \n",
       "11               NaN             NaN            NaN              12  \n",
       "\n",
       "[12 rows x 29 columns]"
      ]
     },
     "metadata": {},
     "output_type": "display_data"
    }
   ],
   "source": [
    "cv_num = 2\n",
    "verbose = 5\n",
    "scoring_metric='f1'\n",
    "# cv = RandomizedSearchCV(pipe, param_distributions=params, n_jobs=-1, verbose=verbose, random_state=seed,\n",
    "#                           cv=cv_num, n_iter=15, scoring=scoring_metric)\n",
    "cv = GridSearchCV(pipe, params, cv=cv_num, n_jobs=-1, verbose=verbose, scoring=scoring_metric)\n",
    "cv.fit(X_train, y_train)\n",
    "model = cv.best_estimator_\n",
    "\n",
    "print('Best train score: ', cv.best_score_)\n",
    "print('Test score: ', cv.score(X_test, y_test))\n",
    "print('Best estimator: ', cv.best_estimator_)\n",
    "display('Best parameters: ', cv.best_params_)\n",
    "display(pd.DataFrame(cv.cv_results_).sort_values('rank_test_score').head(20))"
   ]
  },
  {
   "cell_type": "code",
   "execution_count": 43,
   "metadata": {},
   "outputs": [
    {
     "name": "stdout",
     "output_type": "stream",
     "text": [
      "F1-score do modelo no conjunto de testes: 0.855539971949509\n"
     ]
    }
   ],
   "source": [
    "y_pred = model.predict(X_test)\n",
    "score = f1_score(y_test, y_pred)\n",
    "print(\n",
    "    f\"F1-score do modelo no conjunto de testes: {score}\"\n",
    ")"
   ]
  },
  {
   "cell_type": "code",
   "execution_count": 44,
   "metadata": {},
   "outputs": [
    {
     "data": {
      "image/png": "[encoded data removed]",
      "text/plain": [
       "<Figure size 432x288 with 2 Axes>"
      ]
     },
     "metadata": {
      "needs_background": "light"
     },
     "output_type": "display_data"
    }
   ],
   "source": [
    "# cmd = ConfusionMatrixDisplay.from_predictions(y_test, y_pred, labels=[0, 1], display_labels=['Negar', 'Aprovar'])\n",
    "cmd = plot_confusion_matrix(model, X_test, y_test, display_labels=['Negar', 'Aprovar'])  # scikit-learn=0.23\n",
    "cmd.ax_.set(xlabel='Previsão', ylabel='Realidade')\n",
    "plt.show()"
   ]
  },
  {
   "cell_type": "markdown",
   "metadata": {
    "jp-MarkdownHeadingCollapsed": true,
    "tags": [],
    "toc-hr-collapsed": true
   },
   "source": [
    "## Watson Machine Learning"
   ]
  },
  {
   "cell_type": "markdown",
   "metadata": {},
   "source": [
    "As etapas da publicação serão colocadas em funções individuais.\n",
    "\n",
    "Primeiro, será usando um cliente da API do Watson Machine Learning para definir o espaço de publicação padrão:"
   ]
  },
  {
   "cell_type": "markdown",
   "metadata": {},
   "source": [
    "#### Funções auxiliares"
   ]
  },
  {
   "cell_type": "code",
   "execution_count": 45,
   "metadata": {},
   "outputs": [],
   "source": [
    "def get_client(API_KEY):\n",
    "    location = 'us-south'\n",
    "    wml_credentials = {\n",
    "        \"apikey\": API_KEY,\n",
    "        \"url\": 'https://' + location + '.ml.cloud.ibm.com'\n",
    "    }\n",
    "    return APIClient(wml_credentials)\n",
    "\n",
    "def set_default_space(client):\n",
    "    # The DEPLOYMENT_SPACE_GUID was copied from the output of\n",
    "    # client.spaces.list(limit=10)\n",
    "    DEPLOYMENT_SPACE_GUID = os.getenv(\"DEPLOYMENT_SPACE_GUID\")\n",
    "    client.set.default_space(DEPLOYMENT_SPACE_GUID)"
   ]
  },
  {
   "cell_type": "markdown",
   "metadata": {},
   "source": [
    "O transformador customizado será enviado para o WML:"
   ]
  },
  {
   "cell_type": "code",
   "execution_count": 46,
   "metadata": {},
   "outputs": [],
   "source": [
    "def store_user_package_extension(client):\n",
    "    meta_prop_pkg_extn = {\n",
    "        client.package_extensions.ConfigurationMetaNames.NAME: \"Custom_Sklearn_Transformers\",\n",
    "        client.package_extensions.ConfigurationMetaNames.DESCRIPTION: \"Extensão para transformações personalizadas\",\n",
    "        client.package_extensions.ConfigurationMetaNames.TYPE: \"pip_zip\"\n",
    "    }\n",
    "\n",
    "    # Subir o pacote\n",
    "    pkg_extn_details = client.package_extensions.store(meta_props=meta_prop_pkg_extn,\n",
    "                                                       file_path=\"custom_sklearn_transformers.zip\")\n",
    "\n",
    "    # Salvar as informações sobre o pacote\n",
    "    pkg_extn_uid = client.package_extensions.get_uid(pkg_extn_details)\n",
    "    return pkg_extn_uid"
   ]
  },
  {
   "cell_type": "markdown",
   "metadata": {},
   "source": [
    "Vamos agora criar uma especificação de software com o nosso pacote customizado, para que o WML possa utilizar."
   ]
  },
  {
   "cell_type": "code",
   "execution_count": 47,
   "metadata": {},
   "outputs": [],
   "source": [
    "def store_software_specification(client, pkg_extn_uid):\n",
    "    base_sw_spec_uid = client.software_specifications.get_uid_by_name(\"default_py3.8\")\n",
    "    \n",
    "    # Metadados da nova especificação de software\n",
    "    meta_prop_sw_spec = {\n",
    "        client.software_specifications.ConfigurationMetaNames.NAME: \"sw_spec_custom_sklearn_transformers\",\n",
    "        client.software_specifications.ConfigurationMetaNames.DESCRIPTION: \"Especificação de software com transformações personalizadas\",\n",
    "        client.software_specifications.ConfigurationMetaNames.BASE_SOFTWARE_SPECIFICATION: {\"guid\": base_sw_spec_uid}\n",
    "    }\n",
    "\n",
    "    # Criando a nova especificação de software e obtendo seu ID\n",
    "    sw_spec_details = client.software_specifications.store(meta_props=meta_prop_sw_spec)\n",
    "    sw_spec_uid = client.software_specifications.get_uid(sw_spec_details)\n",
    "\n",
    "    # Adicionando o pacote customizado à nova especificação\n",
    "    client.software_specifications.add_package_extension(sw_spec_uid, pkg_extn_uid)\n",
    "    return sw_spec_uid"
   ]
  },
  {
   "cell_type": "markdown",
   "metadata": {},
   "source": [
    "Finalmente, vamos publicar a pipeline utilizando a especificação de software customizada que criamos."
   ]
  },
  {
   "cell_type": "code",
   "execution_count": 48,
   "metadata": {},
   "outputs": [],
   "source": [
    "def store_model(client, sw_spec_uid, model):\n",
    "    # Metadados do modelo\n",
    "    model_props = {\n",
    "        client.repository.ModelMetaNames.NAME: \"Pipeline customizada\",\n",
    "        client.repository.ModelMetaNames.TYPE: 'scikit-learn_0.23',\n",
    "        client.repository.ModelMetaNames.SOFTWARE_SPEC_UID: sw_spec_uid\n",
    "    }\n",
    "\n",
    "    # Publicando a Pipeline como um modelo\n",
    "    # This creates a new Model asset in the deployment space on Watson Machine Learning:\n",
    "    # https://dataplatform.cloud.ibm.com/ml-runtime/spaces?context=cpdaas\n",
    "    published_model = client.repository.store_model(model=model, meta_props=model_props)\n",
    "    published_model_uid = client.repository.get_model_uid(published_model)\n",
    "    client.repository.get_details(published_model_uid)\n",
    "    return published_model_uid"
   ]
  },
  {
   "cell_type": "markdown",
   "metadata": {},
   "source": [
    "Agora que o modelo está salvo, vamos deixá-lo disponível online, para que possamos testá-lo:"
   ]
  },
  {
   "cell_type": "code",
   "execution_count": 49,
   "metadata": {
    "tags": []
   },
   "outputs": [],
   "source": [
    "def create_deploy(client, published_model_uid):\n",
    "    # Metadados para publicação do modelo\n",
    "    metadata = {\n",
    "        client.deployments.ConfigurationMetaNames.NAME: \"Publicação do modelo customizado\",\n",
    "        client.deployments.ConfigurationMetaNames.ONLINE: {}\n",
    "    }\n",
    "\n",
    "    # Publicar\n",
    "    created_deployment = client.deployments.create(published_model_uid, meta_props=metadata)\n",
    "\n",
    "    # There should be a new Deployment on the space:\n",
    "    # https://dataplatform.cloud.ibm.com/ml-runtime/spaces?context=cpdaas\n",
    "    return created_deployment"
   ]
  },
  {
   "cell_type": "markdown",
   "metadata": {},
   "source": [
    "Adaptando um trecho de código fornecido na referência da API, na página de deployment do modelo, podemos testar a API implementada:"
   ]
  },
  {
   "cell_type": "code",
   "execution_count": 50,
   "metadata": {},
   "outputs": [],
   "source": [
    "def make_test_request_to_api(client, deployment_id):\n",
    "    meta_props = {\n",
    "        \"input_data\": [\n",
    "            {\n",
    "                \"fields\": [\n",
    "                    \"ID\",\n",
    "                    \"CHECKING_BALANCE\", \"PAYMENT_TERM\", \"CREDIT_HISTORY\", \"LOAN_PURPOSE\",\n",
    "                    \"LOAN_AMOUNT\", \"EXISTING_SAVINGS\", \"EMPLOYMENT_DURATION\", \"INSTALLMENT_PERCENT\",\n",
    "                    \"SEX\", \"OTHERS_ON_LOAN\", \"CURRENT_RESIDENCE_DURATION\", \"PROPERTY\",\n",
    "                    \"AGE\", \"INSTALLMENT_PLANS\", \"HOUSING\", \"EXISTING_CREDITS_COUNT\",\n",
    "                    \"JOB_TYPE\", \"DEPENDENTS\", \"TELEPHONE\", \"FOREIGN_WORKER\",\n",
    "                ],\n",
    "                \"values\": [\n",
    "                    [\n",
    "                        1234,\n",
    "                        None, 987.0, None, \"CAR_NEW\",\n",
    "                        4567.0, None, 5.0, 4.0,\n",
    "                        \"M\", \"NONE\", 3.0, \"SAVINGS_INSURANCE\",\n",
    "                        42.0, \"NONE\", \"OWN\", None,\n",
    "                        3.0, 1.0, 1.0, 1.0,\n",
    "                    ],\n",
    "                    [\n",
    "                        4321,\n",
    "                        \"NO_CHECKING\", 333.0, \"PRIOR_PAYMENTS_DELAYED\", \"BUSINESS\",\n",
    "                        3333.3, 111.1, 13.0, 3.0,\n",
    "                        \"F\", \"BANK\", 2.0, \"REAL_ESTATE\",\n",
    "                        33.0, \"NONE\", \"RENT\", 1.0,\n",
    "                        2.0, 2.0, 0.0, 0.0,\n",
    "                    ],\n",
    "                ],\n",
    "            }\n",
    "        ]\n",
    "    }\n",
    "    response_scoring = client.deployments.score(deployment_id, meta_props)\n",
    "\n",
    "    # See documentation at https://cloud.ibm.com/apidocs/machine-learning?code=python#deployments-compute-predictions\n",
    "    print(\"Scoring response\")\n",
    "    display(response_scoring)"
   ]
  },
  {
   "cell_type": "markdown",
   "metadata": {},
   "source": [
    "#### Publicação do modelo e teste pela API"
   ]
  },
  {
   "cell_type": "markdown",
   "metadata": {},
   "source": [
    "Quando estiver pronto para publicar o modelo, basta descomentar as linhas da célula abaixo:"
   ]
  },
  {
   "cell_type": "code",
   "execution_count": 51,
   "metadata": {},
   "outputs": [],
   "source": [
    "# load_dotenv(find_dotenv())\n",
    "# API_KEY = os.getenv(\"API_KEY\")\n",
    "\n",
    "# client = get_client(API_KEY)\n",
    "# set_default_space(client)\n",
    "# pkg_extn_uid = store_user_package_extension(client)\n",
    "# sw_spec_uid = store_software_specification(client, pkg_extn_uid)\n",
    "# published_model_uid = store_model(client, sw_spec_uid, pipe)\n",
    "# created_deployment = create_deploy(client, published_model_uid)\n",
    "# deployment_uid = client.deployments.get_uid(created_deployment)\n",
    "# make_test_request_to_api(client, deployment_uid)\n",
    "\n",
    "# print(\"O modelo está publicado! \"\n",
    "#       \"Para submeter o desafio, basta acessar https://maratona.dev/challenge/1, \"\n",
    "#       \"e utilizar as credenciais abaixo para realizar a submissão:\")\n",
    "# print(\"Credenciais para envio (não compartilhe esses dados com ninguém!)\\n\\n\"\n",
    "#       f\"API key: {API_KEY}\\nDeployment ID: {deployment_uid}\")"
   ]
  },
  {
   "cell_type": "markdown",
   "metadata": {},
   "source": [
    "## Preenchimento do arquivo de respostas"
   ]
  },
  {
   "cell_type": "code",
   "execution_count": 52,
   "metadata": {},
   "outputs": [
    {
     "data": {
      "text/html": [
       "<div>\n",
       "<style scoped>\n",
       "    .dataframe tbody tr th:only-of-type {\n",
       "        vertical-align: middle;\n",
       "    }\n",
       "\n",
       "    .dataframe tbody tr th {\n",
       "        vertical-align: top;\n",
       "    }\n",
       "\n",
       "    .dataframe thead th {\n",
       "        text-align: right;\n",
       "    }\n",
       "</style>\n",
       "<table border=\"1\" class=\"dataframe\">\n",
       "  <thead>\n",
       "    <tr style=\"text-align: right;\">\n",
       "      <th></th>\n",
       "      <th>ID</th>\n",
       "      <th>CHECKING_BALANCE</th>\n",
       "      <th>PAYMENT_TERM</th>\n",
       "      <th>CREDIT_HISTORY</th>\n",
       "      <th>LOAN_PURPOSE</th>\n",
       "      <th>LOAN_AMOUNT</th>\n",
       "      <th>EXISTING_SAVINGS</th>\n",
       "      <th>EMPLOYMENT_DURATION</th>\n",
       "      <th>INSTALLMENT_PERCENT</th>\n",
       "      <th>SEX</th>\n",
       "      <th>...</th>\n",
       "      <th>PROPERTY</th>\n",
       "      <th>AGE</th>\n",
       "      <th>INSTALLMENT_PLANS</th>\n",
       "      <th>HOUSING</th>\n",
       "      <th>EXISTING_CREDITS_COUNT</th>\n",
       "      <th>JOB_TYPE</th>\n",
       "      <th>DEPENDENTS</th>\n",
       "      <th>TELEPHONE</th>\n",
       "      <th>FOREIGN_WORKER</th>\n",
       "      <th>ALLOW</th>\n",
       "    </tr>\n",
       "  </thead>\n",
       "  <tbody>\n",
       "    <tr>\n",
       "      <th>993</th>\n",
       "      <td>42455</td>\n",
       "      <td>-211.72</td>\n",
       "      <td>155</td>\n",
       "      <td>PRIOR_PAYMENTS_DELAYED</td>\n",
       "      <td>CAR_USED</td>\n",
       "      <td>2528</td>\n",
       "      <td>72.15</td>\n",
       "      <td>2</td>\n",
       "      <td>2</td>\n",
       "      <td>M</td>\n",
       "      <td>...</td>\n",
       "      <td>REAL_ESTATE</td>\n",
       "      <td>23</td>\n",
       "      <td>NONE</td>\n",
       "      <td>RENT</td>\n",
       "      <td>1</td>\n",
       "      <td>3</td>\n",
       "      <td>1</td>\n",
       "      <td>0</td>\n",
       "      <td>1</td>\n",
       "      <td>1</td>\n",
       "    </tr>\n",
       "    <tr>\n",
       "      <th>859</th>\n",
       "      <td>243067</td>\n",
       "      <td>NO_CHECKING</td>\n",
       "      <td>660</td>\n",
       "      <td>OUTSTANDING_CREDIT</td>\n",
       "      <td>FURNITURE</td>\n",
       "      <td>2634</td>\n",
       "      <td>UNKNOWN</td>\n",
       "      <td>6</td>\n",
       "      <td>3</td>\n",
       "      <td>F</td>\n",
       "      <td>...</td>\n",
       "      <td>UNKNOWN</td>\n",
       "      <td>43</td>\n",
       "      <td>NONE</td>\n",
       "      <td>OWN</td>\n",
       "      <td>2</td>\n",
       "      <td>3</td>\n",
       "      <td>2</td>\n",
       "      <td>1</td>\n",
       "      <td>1</td>\n",
       "      <td>0</td>\n",
       "    </tr>\n",
       "  </tbody>\n",
       "</table>\n",
       "<p>2 rows × 22 columns</p>\n",
       "</div>"
      ],
      "text/plain": [
       "         ID CHECKING_BALANCE  PAYMENT_TERM          CREDIT_HISTORY  \\\n",
       "993   42455          -211.72           155  PRIOR_PAYMENTS_DELAYED   \n",
       "859  243067      NO_CHECKING           660      OUTSTANDING_CREDIT   \n",
       "\n",
       "    LOAN_PURPOSE  LOAN_AMOUNT EXISTING_SAVINGS  EMPLOYMENT_DURATION  \\\n",
       "993     CAR_USED         2528            72.15                    2   \n",
       "859    FURNITURE         2634          UNKNOWN                    6   \n",
       "\n",
       "     INSTALLMENT_PERCENT SEX  ...     PROPERTY  AGE INSTALLMENT_PLANS  \\\n",
       "993                    2   M  ...  REAL_ESTATE   23              NONE   \n",
       "859                    3   F  ...      UNKNOWN   43              NONE   \n",
       "\n",
       "     HOUSING EXISTING_CREDITS_COUNT JOB_TYPE  DEPENDENTS  TELEPHONE  \\\n",
       "993     RENT                      1        3           1          0   \n",
       "859      OWN                      2        3           2          1   \n",
       "\n",
       "     FOREIGN_WORKER  ALLOW  \n",
       "993               1      1  \n",
       "859               1      0  \n",
       "\n",
       "[2 rows x 22 columns]"
      ]
     },
     "metadata": {},
     "output_type": "display_data"
    }
   ],
   "source": [
    "answers['ALLOW'] = model.predict(answers)\n",
    "display(answers.sample(2, random_state=seed))\n",
    "answers.to_csv(\"ANSWERS.csv\", index=False)"
   ]
  },
  {
   "cell_type": "code",
   "execution_count": 53,
   "metadata": {},
   "outputs": [
    {
     "data": {
      "text/html": [
       "<div>\n",
       "<style scoped>\n",
       "    .dataframe tbody tr th:only-of-type {\n",
       "        vertical-align: middle;\n",
       "    }\n",
       "\n",
       "    .dataframe tbody tr th {\n",
       "        vertical-align: top;\n",
       "    }\n",
       "\n",
       "    .dataframe thead th {\n",
       "        text-align: right;\n",
       "    }\n",
       "</style>\n",
       "<table border=\"1\" class=\"dataframe\">\n",
       "  <thead>\n",
       "    <tr style=\"text-align: right;\">\n",
       "      <th></th>\n",
       "      <th>1</th>\n",
       "      <th>0</th>\n",
       "    </tr>\n",
       "  </thead>\n",
       "  <tbody>\n",
       "    <tr>\n",
       "      <th>ALLOW</th>\n",
       "      <td>0.766</td>\n",
       "      <td>0.234</td>\n",
       "    </tr>\n",
       "  </tbody>\n",
       "</table>\n",
       "</div>"
      ],
      "text/plain": [
       "           1      0\n",
       "ALLOW  0.766  0.234"
      ]
     },
     "execution_count": 53,
     "metadata": {},
     "output_type": "execute_result"
    }
   ],
   "source": [
    "answers['ALLOW'].value_counts(normalize=True).to_frame().T"
   ]
  },
  {
   "cell_type": "code",
   "execution_count": 54,
   "metadata": {},
   "outputs": [
    {
     "name": "stdout",
     "output_type": "stream",
     "text": [
      "código.zip\n"
     ]
    }
   ],
   "source": [
    "!rm -rf código.zip\n",
    "!zip --exclude '*/.git/*' -rq código.zip custom_sklearn_transformers notebook.ipynb\n",
    "!ls código.zip"
   ]
  }
 ],
 "metadata": {
  "kernelspec": {
   "display_name": "Python 3 (ipykernel)",
   "language": "python",
   "name": "python3"
  },
  "language_info": {
   "codemirror_mode": {
    "name": "ipython",
    "version": 3
   },
   "file_extension": ".py",
   "mimetype": "text/x-python",
   "name": "python",
   "nbconvert_exporter": "python",
   "pygments_lexer": "ipython3",
   "version": "3.8.12"
  },
  "toc-autonumbering": false
 },
 "nbformat": 4,
 "nbformat_minor": 4
}
