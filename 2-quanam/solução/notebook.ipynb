{
 "cells": [
  {
   "cell_type": "markdown",
   "metadata": {
    "id": "77H_qb_Srt48"
   },
   "source": [
    "# Desafio 2 - Maratona Behind the Code 2021"
   ]
  },
  {
   "cell_type": "markdown",
   "metadata": {
    "id": "_dJpfBcfrt5B",
    "jp-MarkdownHeadingCollapsed": true,
    "tags": []
   },
   "source": [
    "## Bibliotecas"
   ]
  },
  {
   "cell_type": "code",
   "execution_count": 1,
   "metadata": {
    "id": "ZDZCMXKGrt5C"
   },
   "outputs": [],
   "source": [
    "import os\n",
    "from datetime import timedelta\n",
    "from pathlib import Path\n",
    "from timeit import default_timer as timer\n",
    "\n",
    "import matplotlib.pyplot as plt\n",
    "import numpy as np\n",
    "import pandas as pd\n",
    "import seaborn as sns\n",
    "from IPython.display import HTML, display\n",
    "from sklearn.compose import ColumnTransformer\n",
    "from sklearn.ensemble import (AdaBoostRegressor, BaggingRegressor,\n",
    "                              ExtraTreesRegressor, GradientBoostingRegressor,\n",
    "                              RandomForestRegressor, StackingRegressor)\n",
    "from sklearn.linear_model import BayesianRidge, ElasticNet, Lasso, Ridge\n",
    "from sklearn.metrics import r2_score\n",
    "from sklearn.model_selection import (GridSearchCV, RandomizedSearchCV,\n",
    "                                     train_test_split)\n",
    "from sklearn.neighbors import KNeighborsRegressor\n",
    "from sklearn.neural_network import MLPRegressor\n",
    "from sklearn.pipeline import Pipeline\n",
    "from sklearn.preprocessing import (FunctionTransformer, MinMaxScaler,\n",
    "                                   PolynomialFeatures, RobustScaler,\n",
    "                                   StandardScaler)\n",
    "from sklearn.svm import LinearSVR\n",
    "from sklearn.tree import DecisionTreeRegressor"
   ]
  },
  {
   "cell_type": "markdown",
   "metadata": {
    "id": "NMKwj00irt5E"
   },
   "source": [
    "Se necessário, instale o cloudant:"
   ]
  },
  {
   "cell_type": "code",
   "execution_count": 2,
   "metadata": {
    "id": "pqGcr6Z3rt5E"
   },
   "outputs": [],
   "source": [
    "# !pip install cloudant"
   ]
  },
  {
   "cell_type": "markdown",
   "metadata": {
    "id": "u_CjUkmcrt5F",
    "jp-MarkdownHeadingCollapsed": true,
    "tags": []
   },
   "source": [
    "## Configurações"
   ]
  },
  {
   "cell_type": "code",
   "execution_count": 3,
   "metadata": {
    "id": "2uxKYwSErt5F"
   },
   "outputs": [],
   "source": [
    "seed = 0"
   ]
  },
  {
   "cell_type": "markdown",
   "metadata": {
    "id": "DZp3Hd03rt5G",
    "tags": []
   },
   "source": [
    "## Dados"
   ]
  },
  {
   "cell_type": "markdown",
   "metadata": {
    "id": "YtZUxog5rt5G",
    "jp-MarkdownHeadingCollapsed": true,
    "tags": []
   },
   "source": [
    "### Obtenção dos dados de IOT"
   ]
  },
  {
   "cell_type": "code",
   "execution_count": 4,
   "metadata": {
    "id": "9i-MwWoCrt5H",
    "tags": []
   },
   "outputs": [],
   "source": [
    "def get_df(file_name):\n",
    "    try:\n",
    "        # When running locally\n",
    "        result = pd.read_csv(file_name)\n",
    "    except FileNotFoundError:\n",
    "        try:\n",
    "            # When running on IBM cloud\n",
    "            from project_lib import Project\n",
    "\n",
    "            PROJECT_ID = os.getenv(\"PROJECT_ID\")\n",
    "            PROJECT_ACCESS_TOKEN = os.getenv(\"PROJECT_ACCESS_TOKEN\")\n",
    "            project = Project(\n",
    "                project_id=PROJECT_ID, project_access_token=PROJECT_ACCESS_TOKEN\n",
    "            )\n",
    "            try:\n",
    "                # When available on assets\n",
    "                result = read_from_assets(project, file_name)\n",
    "            except RuntimeError as e:\n",
    "                # When not available on assets\n",
    "                df = get_from_cloudant()\n",
    "                project.save_data(file_name=file_name, data=df.to_csv(index=False))\n",
    "                result = read_from_assets(project, file_name)\n",
    "        except ModuleNotFoundError:\n",
    "            df = get_from_cloudant()\n",
    "            df.to_csv(file_name, index=False)\n",
    "            result = pd.read_csv(file_name)\n",
    "    return result\n",
    "\n",
    "\n",
    "def read_from_assets(project, file_name):\n",
    "    file = project.get_file(file_name)\n",
    "    file.seek(0)\n",
    "    return pd.read_csv(file)\n",
    "\n",
    "\n",
    "def get_from_cloudant():\n",
    "    print(\"Getting data from cloudant...\")\n",
    "    from cloudant import Cloudant\n",
    "\n",
    "    CLOUDANT_USER = os.getenv(\"CLOUDANT_USER\")\n",
    "    CLOUDANT_PASSWORD = os.getenv(\"CLOUDANT_PASSWORD\")\n",
    "    client = Cloudant(\n",
    "        CLOUDANT_USER,\n",
    "        CLOUDANT_PASSWORD,\n",
    "        account=CLOUDANT_USER,\n",
    "        connect=True,\n",
    "        auto_renew=True,\n",
    "    )\n",
    "    db = client[\"quanam-iot\"]\n",
    "    response = db.all_docs(include_docs=True)\n",
    "    docs = [row[\"doc\"] for row in response[\"rows\"]]\n",
    "    challenge_columns = [\"ID\", \"ILLUM\", \"HUMID\", \"CO2\", \"SOUND\", \"TEMP\", \"RYTHM\"]\n",
    "    return pd.DataFrame(docs)[challenge_columns].copy()"
   ]
  },
  {
   "cell_type": "code",
   "execution_count": 5,
   "metadata": {
    "id": "wDrmOQHSrt5I"
   },
   "outputs": [],
   "source": [
    "df = get_df(\"iot.csv\")"
   ]
  },
  {
   "cell_type": "markdown",
   "metadata": {
    "id": "ovkHGFmRrt5I",
    "jp-MarkdownHeadingCollapsed": true,
    "tags": []
   },
   "source": [
    "### Informações gerais"
   ]
  },
  {
   "cell_type": "code",
   "execution_count": 6,
   "metadata": {
    "colab": {
     "base_uri": "https://localhost:8080/"
    },
    "id": "x4lb4LPdrt5J",
    "outputId": "cc04aa65-4981-486f-d177-0bbcbc8631eb"
   },
   "outputs": [
    {
     "name": "stdout",
     "output_type": "stream",
     "text": [
      "<class 'pandas.core.frame.DataFrame'>\n",
      "RangeIndex: 3200 entries, 0 to 3199\n",
      "Data columns (total 7 columns):\n",
      " #   Column  Non-Null Count  Dtype  \n",
      "---  ------  --------------  -----  \n",
      " 0   ID      3200 non-null   int64  \n",
      " 1   ILLUM   3200 non-null   float64\n",
      " 2   HUMID   3200 non-null   float64\n",
      " 3   CO2     3200 non-null   float64\n",
      " 4   SOUND   3200 non-null   float64\n",
      " 5   TEMP    3200 non-null   float64\n",
      " 6   RYTHM   3200 non-null   float64\n",
      "dtypes: float64(6), int64(1)\n",
      "memory usage: 175.1 KB\n"
     ]
    }
   ],
   "source": [
    "df.info()"
   ]
  },
  {
   "cell_type": "markdown",
   "metadata": {
    "id": "ZgazakA0rt5K"
   },
   "source": [
    "Neste conjunto de dados:\n",
    "- Todas as variáveis (colunas) são numéricas.\n",
    "- Não há dados faltantes."
   ]
  },
  {
   "cell_type": "markdown",
   "metadata": {
    "id": "-TgfC096rt5K",
    "jp-MarkdownHeadingCollapsed": true,
    "tags": []
   },
   "source": [
    "### Divisão entre treino e teste"
   ]
  },
  {
   "cell_type": "markdown",
   "metadata": {
    "id": "PRZEdsz1rt5K"
   },
   "source": [
    "Antes de inspecionar os dados, serão reservados alguns exemplos para teste, que não serão vistos durante a análise ou modelagem dos dados:"
   ]
  },
  {
   "cell_type": "code",
   "execution_count": 7,
   "metadata": {
    "colab": {
     "base_uri": "https://localhost:8080/"
    },
    "id": "psCLOvpert5K",
    "outputId": "425c27d9-9e7e-49dd-f033-4bcddfb37105"
   },
   "outputs": [
    {
     "name": "stdout",
     "output_type": "stream",
     "text": [
      "Dimensões dos dados de treino: (2700, 7)\n",
      "Dimensões dos dados de teste: (500, 7)\n"
     ]
    }
   ],
   "source": [
    "test_size = 500\n",
    "target = \"RYTHM\"\n",
    "df_train, df_test = train_test_split(df, test_size=test_size, random_state=seed)\n",
    "print(f\"Dimensões dos dados de treino: {df_train.shape}\")\n",
    "print(f\"Dimensões dos dados de teste: {df_test.shape}\")"
   ]
  },
  {
   "cell_type": "markdown",
   "metadata": {
    "id": "CKZ57TI4rt5L"
   },
   "source": [
    "### Dados de exemplo"
   ]
  },
  {
   "cell_type": "code",
   "execution_count": 8,
   "metadata": {
    "colab": {
     "base_uri": "https://localhost:8080/",
     "height": 236
    },
    "id": "vhh8es36rt5L",
    "outputId": "1e58dd95-44c2-45f1-f2b3-15049d200439"
   },
   "outputs": [
    {
     "data": {
      "text/html": [
       "<div>\n",
       "<style scoped>\n",
       "    .dataframe tbody tr th:only-of-type {\n",
       "        vertical-align: middle;\n",
       "    }\n",
       "\n",
       "    .dataframe tbody tr th {\n",
       "        vertical-align: top;\n",
       "    }\n",
       "\n",
       "    .dataframe thead th {\n",
       "        text-align: right;\n",
       "    }\n",
       "</style>\n",
       "<table border=\"1\" class=\"dataframe\">\n",
       "  <thead>\n",
       "    <tr style=\"text-align: right;\">\n",
       "      <th></th>\n",
       "      <th>ID</th>\n",
       "      <th>ILLUM</th>\n",
       "      <th>HUMID</th>\n",
       "      <th>CO2</th>\n",
       "      <th>SOUND</th>\n",
       "      <th>TEMP</th>\n",
       "      <th>RYTHM</th>\n",
       "    </tr>\n",
       "  </thead>\n",
       "  <tbody>\n",
       "    <tr>\n",
       "      <th>953</th>\n",
       "      <td>761</td>\n",
       "      <td>542.20</td>\n",
       "      <td>73.02</td>\n",
       "      <td>394.17</td>\n",
       "      <td>32.23</td>\n",
       "      <td>19.85</td>\n",
       "      <td>77.74</td>\n",
       "    </tr>\n",
       "    <tr>\n",
       "      <th>1633</th>\n",
       "      <td>2769</td>\n",
       "      <td>495.97</td>\n",
       "      <td>71.16</td>\n",
       "      <td>572.84</td>\n",
       "      <td>39.30</td>\n",
       "      <td>18.21</td>\n",
       "      <td>83.36</td>\n",
       "    </tr>\n",
       "    <tr>\n",
       "      <th>...</th>\n",
       "      <td>...</td>\n",
       "      <td>...</td>\n",
       "      <td>...</td>\n",
       "      <td>...</td>\n",
       "      <td>...</td>\n",
       "      <td>...</td>\n",
       "      <td>...</td>\n",
       "    </tr>\n",
       "    <tr>\n",
       "      <th>2607</th>\n",
       "      <td>1396</td>\n",
       "      <td>321.95</td>\n",
       "      <td>66.36</td>\n",
       "      <td>449.71</td>\n",
       "      <td>22.12</td>\n",
       "      <td>20.63</td>\n",
       "      <td>74.34</td>\n",
       "    </tr>\n",
       "    <tr>\n",
       "      <th>2732</th>\n",
       "      <td>2990</td>\n",
       "      <td>553.35</td>\n",
       "      <td>61.47</td>\n",
       "      <td>495.48</td>\n",
       "      <td>32.51</td>\n",
       "      <td>18.17</td>\n",
       "      <td>83.19</td>\n",
       "    </tr>\n",
       "  </tbody>\n",
       "</table>\n",
       "<p>2700 rows × 7 columns</p>\n",
       "</div>"
      ],
      "text/plain": [
       "        ID   ILLUM  HUMID     CO2  SOUND   TEMP  RYTHM\n",
       "953    761  542.20  73.02  394.17  32.23  19.85  77.74\n",
       "1633  2769  495.97  71.16  572.84  39.30  18.21  83.36\n",
       "...    ...     ...    ...     ...    ...    ...    ...\n",
       "2607  1396  321.95  66.36  449.71  22.12  20.63  74.34\n",
       "2732  2990  553.35  61.47  495.48  32.51  18.17  83.19\n",
       "\n",
       "[2700 rows x 7 columns]"
      ]
     },
     "metadata": {},
     "output_type": "display_data"
    }
   ],
   "source": [
    "with pd.option_context(\"display.max_rows\", 4):\n",
    "    display(df_train)"
   ]
  },
  {
   "cell_type": "markdown",
   "metadata": {
    "id": "hpKN18Ulrt5M"
   },
   "source": [
    "### Variável destino"
   ]
  },
  {
   "cell_type": "code",
   "execution_count": 9,
   "metadata": {
    "colab": {
     "base_uri": "https://localhost:8080/",
     "height": 385
    },
    "id": "IeabwUKSrt5M",
    "outputId": "0cbcaabd-49a8-4362-e52f-f4d40d6359bc"
   },
   "outputs": [
    {
     "data": {
      "image/png": "[encoded data removed]",
      "text/plain": [
       "<Figure size 360x360 with 1 Axes>"
      ]
     },
     "metadata": {
      "needs_background": "light"
     },
     "output_type": "display_data"
    }
   ],
   "source": [
    "sns.displot(df_train[target], kde=True)\n",
    "plt.xlabel(\"Ritmo cardíaco\")\n",
    "plt.ylabel(\"Registros\")\n",
    "plt.title(\"Distribuição do ritmo cardíaco (dados de treino)\")\n",
    "plt.show()"
   ]
  },
  {
   "cell_type": "markdown",
   "metadata": {
    "id": "X75y3VmYrt5N"
   },
   "source": [
    "### Estatísticas"
   ]
  },
  {
   "cell_type": "code",
   "execution_count": 10,
   "metadata": {
    "colab": {
     "base_uri": "https://localhost:8080/",
     "height": 300
    },
    "id": "qL_oDVn7rt5N",
    "outputId": "b7565269-b81c-4ce6-f44f-c4d8a7b20707"
   },
   "outputs": [
    {
     "data": {
      "text/html": [
       "<div>\n",
       "<style scoped>\n",
       "    .dataframe tbody tr th:only-of-type {\n",
       "        vertical-align: middle;\n",
       "    }\n",
       "\n",
       "    .dataframe tbody tr th {\n",
       "        vertical-align: top;\n",
       "    }\n",
       "\n",
       "    .dataframe thead th {\n",
       "        text-align: right;\n",
       "    }\n",
       "</style>\n",
       "<table border=\"1\" class=\"dataframe\">\n",
       "  <thead>\n",
       "    <tr style=\"text-align: right;\">\n",
       "      <th></th>\n",
       "      <th>ID</th>\n",
       "      <th>ILLUM</th>\n",
       "      <th>HUMID</th>\n",
       "      <th>CO2</th>\n",
       "      <th>SOUND</th>\n",
       "      <th>TEMP</th>\n",
       "      <th>RYTHM</th>\n",
       "    </tr>\n",
       "  </thead>\n",
       "  <tbody>\n",
       "    <tr>\n",
       "      <th>count</th>\n",
       "      <td>2700.000000</td>\n",
       "      <td>2700.000000</td>\n",
       "      <td>2700.000000</td>\n",
       "      <td>2700.000000</td>\n",
       "      <td>2700.000000</td>\n",
       "      <td>2700.00000</td>\n",
       "      <td>2700.000000</td>\n",
       "    </tr>\n",
       "    <tr>\n",
       "      <th>mean</th>\n",
       "      <td>1599.107037</td>\n",
       "      <td>440.199700</td>\n",
       "      <td>67.121793</td>\n",
       "      <td>501.447263</td>\n",
       "      <td>29.768244</td>\n",
       "      <td>20.04547</td>\n",
       "      <td>80.212707</td>\n",
       "    </tr>\n",
       "    <tr>\n",
       "      <th>std</th>\n",
       "      <td>928.089673</td>\n",
       "      <td>89.861751</td>\n",
       "      <td>4.787193</td>\n",
       "      <td>43.007247</td>\n",
       "      <td>6.144921</td>\n",
       "      <td>1.66544</td>\n",
       "      <td>6.759542</td>\n",
       "    </tr>\n",
       "    <tr>\n",
       "      <th>min</th>\n",
       "      <td>1.000000</td>\n",
       "      <td>145.480000</td>\n",
       "      <td>51.860000</td>\n",
       "      <td>352.820000</td>\n",
       "      <td>8.060000</td>\n",
       "      <td>14.76000</td>\n",
       "      <td>55.370000</td>\n",
       "    </tr>\n",
       "    <tr>\n",
       "      <th>25%</th>\n",
       "      <td>790.750000</td>\n",
       "      <td>377.692500</td>\n",
       "      <td>63.770000</td>\n",
       "      <td>470.540000</td>\n",
       "      <td>25.490000</td>\n",
       "      <td>18.90000</td>\n",
       "      <td>75.730000</td>\n",
       "    </tr>\n",
       "    <tr>\n",
       "      <th>50%</th>\n",
       "      <td>1603.000000</td>\n",
       "      <td>437.745000</td>\n",
       "      <td>66.950000</td>\n",
       "      <td>502.005000</td>\n",
       "      <td>29.795000</td>\n",
       "      <td>20.05000</td>\n",
       "      <td>80.280000</td>\n",
       "    </tr>\n",
       "    <tr>\n",
       "      <th>75%</th>\n",
       "      <td>2403.250000</td>\n",
       "      <td>501.452500</td>\n",
       "      <td>70.410000</td>\n",
       "      <td>530.140000</td>\n",
       "      <td>33.850000</td>\n",
       "      <td>21.20000</td>\n",
       "      <td>84.712500</td>\n",
       "    </tr>\n",
       "    <tr>\n",
       "      <th>max</th>\n",
       "      <td>3200.000000</td>\n",
       "      <td>775.140000</td>\n",
       "      <td>83.900000</td>\n",
       "      <td>672.380000</td>\n",
       "      <td>53.780000</td>\n",
       "      <td>26.29000</td>\n",
       "      <td>108.900000</td>\n",
       "    </tr>\n",
       "  </tbody>\n",
       "</table>\n",
       "</div>"
      ],
      "text/plain": [
       "                ID        ILLUM        HUMID          CO2        SOUND  \\\n",
       "count  2700.000000  2700.000000  2700.000000  2700.000000  2700.000000   \n",
       "mean   1599.107037   440.199700    67.121793   501.447263    29.768244   \n",
       "std     928.089673    89.861751     4.787193    43.007247     6.144921   \n",
       "min       1.000000   145.480000    51.860000   352.820000     8.060000   \n",
       "25%     790.750000   377.692500    63.770000   470.540000    25.490000   \n",
       "50%    1603.000000   437.745000    66.950000   502.005000    29.795000   \n",
       "75%    2403.250000   501.452500    70.410000   530.140000    33.850000   \n",
       "max    3200.000000   775.140000    83.900000   672.380000    53.780000   \n",
       "\n",
       "             TEMP        RYTHM  \n",
       "count  2700.00000  2700.000000  \n",
       "mean     20.04547    80.212707  \n",
       "std       1.66544     6.759542  \n",
       "min      14.76000    55.370000  \n",
       "25%      18.90000    75.730000  \n",
       "50%      20.05000    80.280000  \n",
       "75%      21.20000    84.712500  \n",
       "max      26.29000   108.900000  "
      ]
     },
     "execution_count": 10,
     "metadata": {},
     "output_type": "execute_result"
    }
   ],
   "source": [
    "df_train.describe()"
   ]
  },
  {
   "cell_type": "markdown",
   "metadata": {
    "id": "eWd8LBYRrt5N"
   },
   "source": [
    "### Correlações"
   ]
  },
  {
   "cell_type": "code",
   "execution_count": 11,
   "metadata": {
    "colab": {
     "base_uri": "https://localhost:8080/",
     "height": 323
    },
    "id": "VDkWvn63rt5N",
    "outputId": "1fd331d4-6f82-4595-b2dc-b5d0927a271e"
   },
   "outputs": [
    {
     "data": {
      "image/png": "[encoded data removed]",
      "text/plain": [
       "<Figure size 720x360 with 2 Axes>"
      ]
     },
     "metadata": {
      "needs_background": "light"
     },
     "output_type": "display_data"
    }
   ],
   "source": [
    "plt.subplots(figsize=(10, 5))\n",
    "corr = df_train.corr()\n",
    "mask = np.triu(np.ones_like(corr, dtype=bool))\n",
    "sns.heatmap(corr, annot=True, square=True, vmin=-1.0, vmax=1.0, cmap=\"coolwarm_r\", mask=mask)\n",
    "plt.show()"
   ]
  },
  {
   "cell_type": "markdown",
   "metadata": {
    "id": "mAuNqgmmrt5O"
   },
   "source": [
    "- O ritmo cardíaco tem maior correlação positiva com os níveis de CO2, e negativa com a umidade"
   ]
  },
  {
   "cell_type": "code",
   "execution_count": 12,
   "metadata": {
    "id": "j4q2MC6Art5O"
   },
   "outputs": [],
   "source": [
    "# sns.pairplot(df_train.drop('ID', axis=1), hue=target, corner=True, palette=\"coolwarm_r\")\n",
    "# plt.show()"
   ]
  },
  {
   "cell_type": "code",
   "execution_count": 13,
   "metadata": {
    "id": "2IXq41r3rt5O"
   },
   "outputs": [],
   "source": [
    "pipe = Pipeline([\n",
    "    # Do not use the ID column\n",
    "    ('selector', ColumnTransformer([('identity', FunctionTransformer(),\n",
    "                                     ['ILLUM', 'HUMID', 'CO2', 'SOUND', 'TEMP'])])),\n",
    "    ('poly', PolynomialFeatures()),\n",
    "    ('scaler', StandardScaler()),\n",
    "    ('clf', Lasso(random_state=seed))\n",
    "])"
   ]
  },
  {
   "cell_type": "code",
   "execution_count": 14,
   "metadata": {
    "colab": {
     "base_uri": "https://localhost:8080/"
    },
    "id": "evBZ8P6Qrt5O",
    "outputId": "e9347a0d-9641-401d-ba07-5614f2040bc5"
   },
   "outputs": [
    {
     "name": "stdout",
     "output_type": "stream",
     "text": [
      "(2700, 6)\n",
      "(2700,)\n",
      "(500, 6)\n",
      "(500,)\n"
     ]
    }
   ],
   "source": [
    "X_train = df_train.drop(target, axis=1)\n",
    "y_train = df_train[target]\n",
    "X_test = df_test.drop(target, axis=1)\n",
    "y_test = df_test[target]\n",
    "print(X_train.shape)\n",
    "print(y_train.shape)\n",
    "print(X_test.shape)\n",
    "print(y_test.shape)"
   ]
  },
  {
   "cell_type": "code",
   "execution_count": 15,
   "metadata": {
    "id": "NOo5bZtWrt5P"
   },
   "outputs": [],
   "source": [
    "param_grid = [\n",
    "    {\n",
    "    'clf': [MLPRegressor(hidden_layer_sizes=(18,), alpha=0.01, max_iter=10000, early_stopping=False, activation='identity', random_state=seed)],\n",
    "    'scaler': [StandardScaler()],\n",
    "    'poly': ['passthrough'],\n",
    "    },\n",
    "    {\n",
    "    'clf': [LinearSVR(dual=False, loss='squared_epsilon_insensitive', random_state=seed, max_iter=10000)],\n",
    "    'clf__C': [50],\n",
    "    'scaler': [MinMaxScaler()],\n",
    "    'poly': ['passthrough'],\n",
    "    },\n",
    "    {\n",
    "    'clf': [Lasso(alpha=0.0005, max_iter=10000, positive=True, random_state=seed)],\n",
    "    'scaler': [MinMaxScaler()],\n",
    "    'poly': ['passthrough'],\n",
    "    },\n",
    "    {\n",
    "    'clf': [ElasticNet(alpha=0.008, random_state=seed)],\n",
    "    'scaler': [RobustScaler()],\n",
    "    'poly': ['passthrough'],\n",
    "    },\n",
    "    {\n",
    "    'clf': [Ridge(alpha=0.4, random_state=seed)],\n",
    "    'scaler': [MinMaxScaler()],\n",
    "    'poly': ['passthrough'],\n",
    "    },\n",
    "    {\n",
    "    'clf': [BayesianRidge(alpha_1=1.0, alpha_2=0.000001, lambda_1=0.000001, lambda_2=1.0)],\n",
    "    'scaler': [RobustScaler()],\n",
    "    'poly': ['passthrough'],\n",
    "    },\n",
    "    {\n",
    "    'clf': [GradientBoostingRegressor(alpha=0.001, learning_rate=0.13, max_depth=1, n_estimators=165, random_state=seed)],\n",
    "    'scaler': [StandardScaler()],\n",
    "    'poly': ['passthrough'],\n",
    "    },\n",
    "    {\n",
    "    'clf': [ExtraTreesRegressor(max_depth=10, max_features=0.95, max_samples=0.3, n_estimators=200, bootstrap=True, criterion='mse', random_state=seed)],\n",
    "    'scaler': [StandardScaler()],\n",
    "    'poly': [PolynomialFeatures(interaction_only=False)],\n",
    "    },\n",
    "    {\n",
    "    'clf': [BaggingRegressor(n_estimators=200, max_samples=0.3, max_features=1.0, bootstrap=True, random_state=seed)],\n",
    "    'scaler': [StandardScaler()],\n",
    "    'poly': [PolynomialFeatures(interaction_only=False)],\n",
    "    },\n",
    "    {\n",
    "    'clf': [AdaBoostRegressor(n_estimators=100, learning_rate=0.05, random_state=seed,\n",
    "                              base_estimator=DecisionTreeRegressor(max_depth=5, random_state=seed))],\n",
    "    'scaler': [MinMaxScaler()],\n",
    "    'poly': [PolynomialFeatures(interaction_only=True)],\n",
    "    },\n",
    "    {\n",
    "    'clf': [RandomForestRegressor(criterion='mae', max_features=0.45, n_estimators=330, random_state=seed)],\n",
    "    'scaler': ['passthrough'],\n",
    "    'poly': ['passthrough'],\n",
    "    },\n",
    "    {\n",
    "    'clf': [KNeighborsRegressor(n_neighbors=29, weights='uniform')],\n",
    "    'scaler': [RobustScaler()],\n",
    "    'poly': [PolynomialFeatures(interaction_only=True)],\n",
    "    },\n",
    "]"
   ]
  },
  {
   "cell_type": "code",
   "execution_count": 16,
   "metadata": {
    "colab": {
     "base_uri": "https://localhost:8080/"
    },
    "id": "lzW7qSo4rt5P",
    "outputId": "c6eadc6a-eb00-4eeb-84a7-03bcb34e854c",
    "tags": []
   },
   "outputs": [
    {
     "name": "stdout",
     "output_type": "stream",
     "text": [
      "Fitting 10 folds for each of 12 candidates, totalling 120 fits\n"
     ]
    },
    {
     "name": "stderr",
     "output_type": "stream",
     "text": [
      "[Parallel(n_jobs=-1)]: Using backend LokyBackend with 8 concurrent workers.\n",
      "[Parallel(n_jobs=-1)]: Done  34 tasks      | elapsed:    2.9s\n",
      "[Parallel(n_jobs=-1)]: Done 120 out of 120 | elapsed:  1.4min finished\n"
     ]
    },
    {
     "name": "stdout",
     "output_type": "stream",
     "text": [
      "Tempo gasto para treinar o modelo 10 vezes com cada combinação de parâmetros para encontrar a melhor: 0:01:26.458288\n"
     ]
    }
   ],
   "source": [
    "cv_num = 10\n",
    "verbose = 1\n",
    "n_jobs = -1\n",
    "scoring = ['r2', 'neg_root_mean_squared_error', 'max_error', 'neg_mean_absolute_error']\n",
    "\n",
    "cv_train_size = int(((cv_num - 1) / cv_num) * len(X_train))\n",
    "cv_test_size = len(X_train) - cv_train_size\n",
    "\n",
    "\n",
    "# cv = RandomizedSearchCV(pipe, param_distributions=param_grid, n_jobs=n_jobs, verbose=verbose, random_state=seed,\n",
    "#                           cv=cv_num, n_iter=150, scoring=scoring, refit=scoring[0])\n",
    "cv = GridSearchCV(pipe, param_grid, cv=cv_num, n_jobs=n_jobs, verbose=verbose, scoring=scoring, refit=scoring[0])\n",
    "\n",
    "start = timer()\n",
    "cv.fit(X_train, y_train)\n",
    "end = timer()\n",
    "print(f'Tempo gasto para treinar o modelo {cv_num} vezes com cada combinação de parâmetros para encontrar a melhor: {timedelta(seconds=end-start)}')"
   ]
  },
  {
   "cell_type": "code",
   "execution_count": 17,
   "metadata": {
    "colab": {
     "base_uri": "https://localhost:8080/",
     "height": 782
    },
    "id": "mSWeKHQIrt5P",
    "outputId": "97152193-743d-403e-a2b1-c37c0959d89c",
    "tags": []
   },
   "outputs": [
    {
     "data": {
      "text/html": [
       "<h4>Dados brutos da validação cruzada</h4>"
      ],
      "text/plain": [
       "<IPython.core.display.HTML object>"
      ]
     },
     "metadata": {},
     "output_type": "display_data"
    },
    {
     "name": "stdout",
     "output_type": "stream",
     "text": [
      "Cada combinação de parâmetros foi utilizada em 10 rodadas de treino com 2430 exemplos e teste com 270.\n"
     ]
    },
    {
     "data": {
      "text/html": [
       "<div>\n",
       "<style scoped>\n",
       "    .dataframe tbody tr th:only-of-type {\n",
       "        vertical-align: middle;\n",
       "    }\n",
       "\n",
       "    .dataframe tbody tr th {\n",
       "        vertical-align: top;\n",
       "    }\n",
       "\n",
       "    .dataframe thead th {\n",
       "        text-align: right;\n",
       "    }\n",
       "</style>\n",
       "<table border=\"1\" class=\"dataframe\">\n",
       "  <thead>\n",
       "    <tr style=\"text-align: right;\">\n",
       "      <th></th>\n",
       "      <th>mean_test_r2</th>\n",
       "      <th>mean_test_neg_root_mean_squared_error</th>\n",
       "      <th>mean_test_max_error</th>\n",
       "      <th>mean_test_neg_mean_absolute_error</th>\n",
       "      <th>mean_fit_time</th>\n",
       "      <th>params</th>\n",
       "    </tr>\n",
       "    <tr>\n",
       "      <th>rank_test_r2</th>\n",
       "      <th></th>\n",
       "      <th></th>\n",
       "      <th></th>\n",
       "      <th></th>\n",
       "      <th></th>\n",
       "      <th></th>\n",
       "    </tr>\n",
       "  </thead>\n",
       "  <tbody>\n",
       "    <tr>\n",
       "      <th>1</th>\n",
       "      <td>0.197592</td>\n",
       "      <td>-6.043810</td>\n",
       "      <td>-18.811113</td>\n",
       "      <td>-4.827036</td>\n",
       "      <td>1.398059</td>\n",
       "      <td>{'clf': MLPRegressor(activation='identity', alpha=0.01, hidden_layer_sizes=(18,),\n",
       "             max_iter=10000, random_state=0), 'poly': 'passthrough', 'scaler': StandardScaler()}</td>\n",
       "    </tr>\n",
       "    <tr>\n",
       "      <th>2</th>\n",
       "      <td>0.196954</td>\n",
       "      <td>-6.046153</td>\n",
       "      <td>-18.830518</td>\n",
       "      <td>-4.828132</td>\n",
       "      <td>0.006412</td>\n",
       "      <td>{'clf': LinearSVR(dual=False, loss='squared_epsilon_insensitive', max_iter=10000,\n",
       "          random_state=0), 'clf__C': 50, 'poly': 'passthrough', 'scaler': MinMaxScaler()}</td>\n",
       "    </tr>\n",
       "    <tr>\n",
       "      <th>3</th>\n",
       "      <td>0.196824</td>\n",
       "      <td>-6.046746</td>\n",
       "      <td>-18.827133</td>\n",
       "      <td>-4.828835</td>\n",
       "      <td>0.005004</td>\n",
       "      <td>{'clf': Ridge(alpha=0.4, random_state=0), 'poly': 'passthrough', 'scaler': MinMaxScaler()}</td>\n",
       "    </tr>\n",
       "    <tr>\n",
       "      <th>4</th>\n",
       "      <td>0.196806</td>\n",
       "      <td>-6.046767</td>\n",
       "      <td>-18.824292</td>\n",
       "      <td>-4.829016</td>\n",
       "      <td>0.006682</td>\n",
       "      <td>{'clf': Lasso(alpha=0.0005, max_iter=10000, positive=True, random_state=0), 'poly': 'passthrough', 'scaler': MinMaxScaler()}</td>\n",
       "    </tr>\n",
       "    <tr>\n",
       "      <th>5</th>\n",
       "      <td>0.196803</td>\n",
       "      <td>-6.046804</td>\n",
       "      <td>-18.827505</td>\n",
       "      <td>-4.828926</td>\n",
       "      <td>0.008872</td>\n",
       "      <td>{'clf': BayesianRidge(alpha_1=1.0, lambda_2=1.0), 'poly': 'passthrough', 'scaler': RobustScaler()}</td>\n",
       "    </tr>\n",
       "    <tr>\n",
       "      <th>6</th>\n",
       "      <td>0.196799</td>\n",
       "      <td>-6.046858</td>\n",
       "      <td>-18.820064</td>\n",
       "      <td>-4.828898</td>\n",
       "      <td>0.009236</td>\n",
       "      <td>{'clf': ElasticNet(alpha=0.008, random_state=0), 'poly': 'passthrough', 'scaler': RobustScaler()}</td>\n",
       "    </tr>\n",
       "    <tr>\n",
       "      <th>7</th>\n",
       "      <td>0.187343</td>\n",
       "      <td>-6.083426</td>\n",
       "      <td>-19.489976</td>\n",
       "      <td>-4.846245</td>\n",
       "      <td>0.380233</td>\n",
       "      <td>{'clf': GradientBoostingRegressor(alpha=0.001, learning_rate=0.13, max_depth=1,\n",
       "                          n_estimators=165, random_state=0), 'poly': 'passthrough', 'scaler': StandardScaler()}</td>\n",
       "    </tr>\n",
       "    <tr>\n",
       "      <th>8</th>\n",
       "      <td>0.184549</td>\n",
       "      <td>-6.093979</td>\n",
       "      <td>-18.945228</td>\n",
       "      <td>-4.884004</td>\n",
       "      <td>0.789074</td>\n",
       "      <td>{'clf': ExtraTreesRegressor(bootstrap=True, max_depth=10, max_features=0.95,\n",
       "                    max_samples=0.3, n_estimators=200, random_state=0), 'poly': PolynomialFeatures(), 'scaler': StandardScaler()}</td>\n",
       "    </tr>\n",
       "    <tr>\n",
       "      <th>9</th>\n",
       "      <td>0.180590</td>\n",
       "      <td>-6.108382</td>\n",
       "      <td>-18.933212</td>\n",
       "      <td>-4.891151</td>\n",
       "      <td>2.435089</td>\n",
       "      <td>{'clf': AdaBoostRegressor(base_estimator=DecisionTreeRegressor(max_depth=5,\n",
       "                                                       random_state=0),\n",
       "                  learning_rate=0.05, n_estimators=100, random_state=0), 'poly': PolynomialFeatures(interaction_only=True), 'scaler': MinMaxScaler()}</td>\n",
       "    </tr>\n",
       "    <tr>\n",
       "      <th>10</th>\n",
       "      <td>0.172756</td>\n",
       "      <td>-6.137386</td>\n",
       "      <td>-19.450745</td>\n",
       "      <td>-4.910487</td>\n",
       "      <td>3.749752</td>\n",
       "      <td>{'clf': BaggingRegressor(max_samples=0.3, n_estimators=200, random_state=0), 'poly': PolynomialFeatures(), 'scaler': StandardScaler()}</td>\n",
       "    </tr>\n",
       "    <tr>\n",
       "      <th>11</th>\n",
       "      <td>0.159713</td>\n",
       "      <td>-6.185444</td>\n",
       "      <td>-19.117759</td>\n",
       "      <td>-4.936175</td>\n",
       "      <td>0.015735</td>\n",
       "      <td>{'clf': KNeighborsRegressor(n_neighbors=29), 'poly': PolynomialFeatures(interaction_only=True), 'scaler': RobustScaler()}</td>\n",
       "    </tr>\n",
       "    <tr>\n",
       "      <th>12</th>\n",
       "      <td>0.155570</td>\n",
       "      <td>-6.201322</td>\n",
       "      <td>-19.523583</td>\n",
       "      <td>-4.967032</td>\n",
       "      <td>20.319344</td>\n",
       "      <td>{'clf': RandomForestRegressor(criterion='mae', max_features=0.45, n_estimators=330,\n",
       "                      random_state=0), 'poly': 'passthrough', 'scaler': 'passthrough'}</td>\n",
       "    </tr>\n",
       "  </tbody>\n",
       "</table>\n",
       "</div>"
      ],
      "text/plain": [
       "              mean_test_r2  mean_test_neg_root_mean_squared_error  \\\n",
       "rank_test_r2                                                        \n",
       "1                 0.197592                              -6.043810   \n",
       "2                 0.196954                              -6.046153   \n",
       "3                 0.196824                              -6.046746   \n",
       "4                 0.196806                              -6.046767   \n",
       "5                 0.196803                              -6.046804   \n",
       "6                 0.196799                              -6.046858   \n",
       "7                 0.187343                              -6.083426   \n",
       "8                 0.184549                              -6.093979   \n",
       "9                 0.180590                              -6.108382   \n",
       "10                0.172756                              -6.137386   \n",
       "11                0.159713                              -6.185444   \n",
       "12                0.155570                              -6.201322   \n",
       "\n",
       "              mean_test_max_error  mean_test_neg_mean_absolute_error  \\\n",
       "rank_test_r2                                                           \n",
       "1                      -18.811113                          -4.827036   \n",
       "2                      -18.830518                          -4.828132   \n",
       "3                      -18.827133                          -4.828835   \n",
       "4                      -18.824292                          -4.829016   \n",
       "5                      -18.827505                          -4.828926   \n",
       "6                      -18.820064                          -4.828898   \n",
       "7                      -19.489976                          -4.846245   \n",
       "8                      -18.945228                          -4.884004   \n",
       "9                      -18.933212                          -4.891151   \n",
       "10                     -19.450745                          -4.910487   \n",
       "11                     -19.117759                          -4.936175   \n",
       "12                     -19.523583                          -4.967032   \n",
       "\n",
       "              mean_fit_time  \\\n",
       "rank_test_r2                  \n",
       "1                  1.398059   \n",
       "2                  0.006412   \n",
       "3                  0.005004   \n",
       "4                  0.006682   \n",
       "5                  0.008872   \n",
       "6                  0.009236   \n",
       "7                  0.380233   \n",
       "8                  0.789074   \n",
       "9                  2.435089   \n",
       "10                 3.749752   \n",
       "11                 0.015735   \n",
       "12                20.319344   \n",
       "\n",
       "                                                                                                                                                                                                                                                                                                                 params  \n",
       "rank_test_r2                                                                                                                                                                                                                                                                                                             \n",
       "1                                                                                                                                    {'clf': MLPRegressor(activation='identity', alpha=0.01, hidden_layer_sizes=(18,),\n",
       "             max_iter=10000, random_state=0), 'poly': 'passthrough', 'scaler': StandardScaler()}  \n",
       "2                                                                                                                                           {'clf': LinearSVR(dual=False, loss='squared_epsilon_insensitive', max_iter=10000,\n",
       "          random_state=0), 'clf__C': 50, 'poly': 'passthrough', 'scaler': MinMaxScaler()}  \n",
       "3                                                                                                                                                                                                                            {'clf': Ridge(alpha=0.4, random_state=0), 'poly': 'passthrough', 'scaler': MinMaxScaler()}  \n",
       "4                                                                                                                                                                                          {'clf': Lasso(alpha=0.0005, max_iter=10000, positive=True, random_state=0), 'poly': 'passthrough', 'scaler': MinMaxScaler()}  \n",
       "5                                                                                                                                                                                                                    {'clf': BayesianRidge(alpha_1=1.0, lambda_2=1.0), 'poly': 'passthrough', 'scaler': RobustScaler()}  \n",
       "6                                                                                                                                                                                                                     {'clf': ElasticNet(alpha=0.008, random_state=0), 'poly': 'passthrough', 'scaler': RobustScaler()}  \n",
       "7                                                                                                                       {'clf': GradientBoostingRegressor(alpha=0.001, learning_rate=0.13, max_depth=1,\n",
       "                          n_estimators=165, random_state=0), 'poly': 'passthrough', 'scaler': StandardScaler()}  \n",
       "8                                                                                                        {'clf': ExtraTreesRegressor(bootstrap=True, max_depth=10, max_features=0.95,\n",
       "                    max_samples=0.3, n_estimators=200, random_state=0), 'poly': PolynomialFeatures(), 'scaler': StandardScaler()}  \n",
       "9             {'clf': AdaBoostRegressor(base_estimator=DecisionTreeRegressor(max_depth=5,\n",
       "                                                       random_state=0),\n",
       "                  learning_rate=0.05, n_estimators=100, random_state=0), 'poly': PolynomialFeatures(interaction_only=True), 'scaler': MinMaxScaler()}  \n",
       "10                                                                                                                                                                               {'clf': BaggingRegressor(max_samples=0.3, n_estimators=200, random_state=0), 'poly': PolynomialFeatures(), 'scaler': StandardScaler()}  \n",
       "11                                                                                                                                                                                            {'clf': KNeighborsRegressor(n_neighbors=29), 'poly': PolynomialFeatures(interaction_only=True), 'scaler': RobustScaler()}  \n",
       "12                                                                                                                                           {'clf': RandomForestRegressor(criterion='mae', max_features=0.45, n_estimators=330,\n",
       "                      random_state=0), 'poly': 'passthrough', 'scaler': 'passthrough'}  "
      ]
     },
     "metadata": {},
     "output_type": "display_data"
    }
   ],
   "source": [
    "display(HTML('<h4>Dados brutos da validação cruzada</h4>'))\n",
    "print(f'Cada combinação de parâmetros foi utilizada em {cv_num} rodadas de treino com {cv_train_size} exemplos e teste com {cv_test_size}.')\n",
    "\n",
    "rank_col = 'rank_test_' + scoring[0]\n",
    "cv_df = pd.DataFrame(cv.cv_results_).sort_values(rank_col).set_index(rank_col)\n",
    "\n",
    "cols = [f'mean_test_{item}' for item in scoring] + ['mean_fit_time', 'params']\n",
    "with pd.option_context('display.max_colwidth', None):\n",
    "    display(cv_df[cols].head(20))\n"
   ]
  },
  {
   "cell_type": "code",
   "execution_count": 18,
   "metadata": {
    "id": "tJARY8FCrt5Q"
   },
   "outputs": [],
   "source": [
    "# #### Melhor combinação de parâmetros para cada modelo\n",
    "# model_names = cv_df['param_clf'].astype(str).replace(r'\\([\\w\\W]+', r'', regex=True)\n",
    "# largest_by_model = cv_df[cv_df.groupby(model_names)[cols[0]].rank(ascending=False) <= 5]\n",
    "# with pd.option_context('display.max_colwidth', None):\n",
    "#     display(largest_by_model[cols])"
   ]
  },
  {
   "cell_type": "code",
   "execution_count": 19,
   "metadata": {
    "colab": {
     "base_uri": "https://localhost:8080/",
     "height": 203
    },
    "id": "d1Q26BDMrt5Q",
    "outputId": "3b035bd0-4018-43ba-8f2e-cc6a137db465"
   },
   "outputs": [
    {
     "data": {
      "text/html": [
       "<h4>Maior média de r2</h4>"
      ],
      "text/plain": [
       "<IPython.core.display.HTML object>"
      ]
     },
     "metadata": {},
     "output_type": "display_data"
    },
    {
     "data": {
      "text/html": [
       "<ul>\n",
       "<li>Melhor média de r2: 0.19759 (desvio padrão: 0.05311)</li>\n",
       "<li>Parâmetros que otimizaram a média de r2:<br/><code>{'clf': MLPRegressor(activation='identity', alpha=0.01, hidden_layer_sizes=(18,),\n",
       "             max_iter=10000, random_state=0), 'poly': 'passthrough', 'scaler': StandardScaler()}</code></li>\n",
       "<li>Modelo com a melhor média de r2:</li>\n",
       "</ul>"
      ],
      "text/plain": [
       "<IPython.core.display.HTML object>"
      ]
     },
     "metadata": {},
     "output_type": "display_data"
    },
    {
     "data": {
      "text/plain": [
       "Pipeline(steps=[('selector',\n",
       "                 ColumnTransformer(transformers=[('identity',\n",
       "                                                  FunctionTransformer(),\n",
       "                                                  ['ILLUM', 'HUMID', 'CO2',\n",
       "                                                   'SOUND', 'TEMP'])])),\n",
       "                ('poly', 'passthrough'), ('scaler', StandardScaler()),\n",
       "                ('clf',\n",
       "                 MLPRegressor(activation='identity', alpha=0.01,\n",
       "                              hidden_layer_sizes=(18,), max_iter=10000,\n",
       "                              random_state=0))])"
      ]
     },
     "metadata": {},
     "output_type": "display_data"
    }
   ],
   "source": [
    "model = cv.best_estimator_\n",
    "\n",
    "display(HTML(f'<h4>Maior média de {scoring[0]}</h4>'))\n",
    "display(HTML(f'''<ul>\n",
    "<li>Melhor média de {scoring[0]}: {cv.best_score_:.5f} (desvio padrão: {cv.cv_results_[\"std_test_\" + scoring[0]][cv.best_index_]:.5f})</li>\n",
    "<li>Parâmetros que otimizaram a média de {scoring[0]}:<br/><code>{cv.best_params_}</code></li>\n",
    "<li>Modelo com a melhor média de {scoring[0]}:</li>\n",
    "</ul>'''))\n",
    "display(model)"
   ]
  },
  {
   "cell_type": "code",
   "execution_count": 20,
   "metadata": {
    "colab": {
     "base_uri": "https://localhost:8080/"
    },
    "id": "12VDiKAwrt5Q",
    "outputId": "1eb7b19d-924f-4414-9086-9bc2a48817f2"
   },
   "outputs": [
    {
     "name": "stdout",
     "output_type": "stream",
     "text": [
      "R2-score do modelo no conjunto de testes: 0.18835\n"
     ]
    }
   ],
   "source": [
    "y_pred = model.predict(X_test)\n",
    "score = r2_score(y_test, y_pred)\n",
    "print(\n",
    "    f\"R2-score do modelo no conjunto de testes: {score:.5f}\"\n",
    ")"
   ]
  },
  {
   "cell_type": "markdown",
   "metadata": {},
   "source": [
    "## Preenchimento do arquivo de respostas"
   ]
  },
  {
   "cell_type": "code",
   "execution_count": 21,
   "metadata": {},
   "outputs": [
    {
     "data": {
      "text/html": [
       "<div>\n",
       "<style scoped>\n",
       "    .dataframe tbody tr th:only-of-type {\n",
       "        vertical-align: middle;\n",
       "    }\n",
       "\n",
       "    .dataframe tbody tr th {\n",
       "        vertical-align: top;\n",
       "    }\n",
       "\n",
       "    .dataframe thead th {\n",
       "        text-align: right;\n",
       "    }\n",
       "</style>\n",
       "<table border=\"1\" class=\"dataframe\">\n",
       "  <thead>\n",
       "    <tr style=\"text-align: right;\">\n",
       "      <th></th>\n",
       "      <th>ID</th>\n",
       "      <th>ILLUM</th>\n",
       "      <th>HUMID</th>\n",
       "      <th>...</th>\n",
       "      <th>SOUND</th>\n",
       "      <th>TEMP</th>\n",
       "      <th>RYTHM</th>\n",
       "    </tr>\n",
       "  </thead>\n",
       "  <tbody>\n",
       "    <tr>\n",
       "      <th>299</th>\n",
       "      <td>299</td>\n",
       "      <td>236.35</td>\n",
       "      <td>64.69</td>\n",
       "      <td>...</td>\n",
       "      <td>25.42</td>\n",
       "      <td>21.23</td>\n",
       "      <td>0.0</td>\n",
       "    </tr>\n",
       "    <tr>\n",
       "      <th>500</th>\n",
       "      <td>500</td>\n",
       "      <td>340.86</td>\n",
       "      <td>67.38</td>\n",
       "      <td>...</td>\n",
       "      <td>29.56</td>\n",
       "      <td>18.51</td>\n",
       "      <td>0.0</td>\n",
       "    </tr>\n",
       "  </tbody>\n",
       "</table>\n",
       "<p>2 rows × 7 columns</p>\n",
       "</div>"
      ],
      "text/plain": [
       "      ID   ILLUM  HUMID  ...  SOUND   TEMP  RYTHM\n",
       "299  299  236.35  64.69  ...  25.42  21.23    0.0\n",
       "500  500  340.86  67.38  ...  29.56  18.51    0.0\n",
       "\n",
       "[2 rows x 7 columns]"
      ]
     },
     "metadata": {},
     "output_type": "display_data"
    }
   ],
   "source": [
    "data_path = Path(\"../desafio/assets/\")\n",
    "answers = pd.read_csv(data_path / \"answers.csv\")\n",
    "\n",
    "with pd.option_context('display.max_columns', 6):\n",
    "    display(answers.sample(2, random_state=seed))"
   ]
  },
  {
   "cell_type": "code",
   "execution_count": 22,
   "metadata": {},
   "outputs": [
    {
     "data": {
      "text/html": [
       "<div>\n",
       "<style scoped>\n",
       "    .dataframe tbody tr th:only-of-type {\n",
       "        vertical-align: middle;\n",
       "    }\n",
       "\n",
       "    .dataframe tbody tr th {\n",
       "        vertical-align: top;\n",
       "    }\n",
       "\n",
       "    .dataframe thead th {\n",
       "        text-align: right;\n",
       "    }\n",
       "</style>\n",
       "<table border=\"1\" class=\"dataframe\">\n",
       "  <thead>\n",
       "    <tr style=\"text-align: right;\">\n",
       "      <th></th>\n",
       "      <th>ID</th>\n",
       "      <th>ILLUM</th>\n",
       "      <th>HUMID</th>\n",
       "      <th>...</th>\n",
       "      <th>SOUND</th>\n",
       "      <th>TEMP</th>\n",
       "      <th>RYTHM</th>\n",
       "    </tr>\n",
       "  </thead>\n",
       "  <tbody>\n",
       "    <tr>\n",
       "      <th>299</th>\n",
       "      <td>299</td>\n",
       "      <td>236.35</td>\n",
       "      <td>64.69</td>\n",
       "      <td>...</td>\n",
       "      <td>25.42</td>\n",
       "      <td>21.23</td>\n",
       "      <td>81.305843</td>\n",
       "    </tr>\n",
       "    <tr>\n",
       "      <th>500</th>\n",
       "      <td>500</td>\n",
       "      <td>340.86</td>\n",
       "      <td>67.38</td>\n",
       "      <td>...</td>\n",
       "      <td>29.56</td>\n",
       "      <td>18.51</td>\n",
       "      <td>76.060584</td>\n",
       "    </tr>\n",
       "  </tbody>\n",
       "</table>\n",
       "<p>2 rows × 7 columns</p>\n",
       "</div>"
      ],
      "text/plain": [
       "      ID   ILLUM  HUMID  ...  SOUND   TEMP      RYTHM\n",
       "299  299  236.35  64.69  ...  25.42  21.23  81.305843\n",
       "500  500  340.86  67.38  ...  29.56  18.51  76.060584\n",
       "\n",
       "[2 rows x 7 columns]"
      ]
     },
     "metadata": {},
     "output_type": "display_data"
    }
   ],
   "source": [
    "answers[target] = model.predict(answers[X_train.columns])\n",
    "answers.to_csv(\"answers.csv\", index=False)\n",
    "\n",
    "with pd.option_context('display.max_columns', 6):\n",
    "    display(answers.sample(2, random_state=seed))"
   ]
  },
  {
   "cell_type": "code",
   "execution_count": 23,
   "metadata": {},
   "outputs": [
    {
     "data": {
      "image/png": "[encoded data removed]",
      "text/plain": [
       "<Figure size 360x360 with 1 Axes>"
      ]
     },
     "metadata": {
      "needs_background": "light"
     },
     "output_type": "display_data"
    }
   ],
   "source": [
    "sns.displot(answers[target], kde=True)\n",
    "plt.xlabel(\"Ritmo cardíaco\")\n",
    "plt.ylabel(\"Registros\")\n",
    "plt.title(\"Distribuição do ritmo cardíaco (arquivo de respostas)\")\n",
    "plt.show()"
   ]
  },
  {
   "cell_type": "code",
   "execution_count": 24,
   "metadata": {},
   "outputs": [
    {
     "name": "stdout",
     "output_type": "stream",
     "text": [
      "código.zip\n"
     ]
    }
   ],
   "source": [
    "!rm -rf código.zip\n",
    "!zip --exclude '*/.git/*' -rq código.zip notebook.ipynb iot.csv node-red-flows.json\n",
    "!ls código.zip"
   ]
  }
 ],
 "metadata": {
  "colab": {
   "collapsed_sections": [],
   "name": "Copy of notebook.ipynb",
   "provenance": []
  },
  "kernelspec": {
   "display_name": "Python 3 (ipykernel)",
   "language": "python",
   "name": "python3"
  },
  "language_info": {
   "codemirror_mode": {
    "name": "ipython",
    "version": 3
   },
   "file_extension": ".py",
   "mimetype": "text/x-python",
   "name": "python",
   "nbconvert_exporter": "python",
   "pygments_lexer": "ipython3",
   "version": "3.8.12"
  }
 },
 "nbformat": 4,
 "nbformat_minor": 4
}
