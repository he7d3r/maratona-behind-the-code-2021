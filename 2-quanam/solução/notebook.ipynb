{
 "cells": [
  {
   "cell_type": "markdown",
   "metadata": {
    "id": "77H_qb_Srt48"
   },
   "source": [
    "# Desafio 2 - Maratona Behind the Code 2021"
   ]
  },
  {
   "cell_type": "markdown",
   "metadata": {
    "id": "_dJpfBcfrt5B",
    "tags": []
   },
   "source": [
    "## Bibliotecas"
   ]
  },
  {
   "cell_type": "code",
   "execution_count": 1,
   "metadata": {
    "id": "ZDZCMXKGrt5C"
   },
   "outputs": [],
   "source": [
    "import os\n",
    "from datetime import timedelta\n",
    "from timeit import default_timer as timer\n",
    "\n",
    "import matplotlib.pyplot as plt\n",
    "import numpy as np\n",
    "import pandas as pd\n",
    "import seaborn as sns\n",
    "from IPython.display import HTML, display\n",
    "from sklearn.ensemble import (AdaBoostRegressor, BaggingRegressor,\n",
    "                              ExtraTreesRegressor, GradientBoostingRegressor,\n",
    "                              RandomForestRegressor, StackingRegressor)\n",
    "from sklearn.linear_model import BayesianRidge, ElasticNet, Lasso, Ridge\n",
    "from sklearn.metrics import r2_score\n",
    "from sklearn.model_selection import GridSearchCV  # , RandomizedSearchCV\n",
    "from sklearn.model_selection import train_test_split\n",
    "from sklearn.neighbors import KNeighborsRegressor\n",
    "from sklearn.pipeline import Pipeline\n",
    "from sklearn.preprocessing import MinMaxScaler, RobustScaler, StandardScaler\n",
    "from sklearn.tree import DecisionTreeRegressor"
   ]
  },
  {
   "cell_type": "markdown",
   "metadata": {
    "id": "NMKwj00irt5E"
   },
   "source": [
    "Se necessário, instale o cloudant:"
   ]
  },
  {
   "cell_type": "code",
   "execution_count": 2,
   "metadata": {
    "id": "pqGcr6Z3rt5E"
   },
   "outputs": [],
   "source": [
    "# !pip install cloudant"
   ]
  },
  {
   "cell_type": "markdown",
   "metadata": {
    "id": "u_CjUkmcrt5F",
    "jp-MarkdownHeadingCollapsed": true,
    "tags": []
   },
   "source": [
    "## Configurações"
   ]
  },
  {
   "cell_type": "code",
   "execution_count": 3,
   "metadata": {
    "id": "2uxKYwSErt5F"
   },
   "outputs": [],
   "source": [
    "seed = 0"
   ]
  },
  {
   "cell_type": "markdown",
   "metadata": {
    "id": "DZp3Hd03rt5G",
    "tags": []
   },
   "source": [
    "## Dados"
   ]
  },
  {
   "cell_type": "markdown",
   "metadata": {
    "id": "YtZUxog5rt5G",
    "jp-MarkdownHeadingCollapsed": true,
    "tags": []
   },
   "source": [
    "### Obtenção dos dados de IOT"
   ]
  },
  {
   "cell_type": "code",
   "execution_count": 4,
   "metadata": {
    "id": "9i-MwWoCrt5H",
    "tags": []
   },
   "outputs": [],
   "source": [
    "def get_df(file_name):\n",
    "    try:\n",
    "        # When running locally\n",
    "        result = pd.read_csv(file_name)\n",
    "    except FileNotFoundError:\n",
    "        try:\n",
    "            # When running on IBM cloud\n",
    "            from project_lib import Project\n",
    "\n",
    "            PROJECT_ID = os.getenv(\"PROJECT_ID\")\n",
    "            PROJECT_ACCESS_TOKEN = os.getenv(\"PROJECT_ACCESS_TOKEN\")\n",
    "            project = Project(\n",
    "                project_id=PROJECT_ID, project_access_token=PROJECT_ACCESS_TOKEN\n",
    "            )\n",
    "            try:\n",
    "                # When available on assets\n",
    "                result = read_from_assets(project, file_name)\n",
    "            except RuntimeError as e:\n",
    "                # When not available on assets\n",
    "                df = get_from_cloudant()\n",
    "                project.save_data(file_name=file_name, data=df.to_csv(index=False))\n",
    "                result = read_from_assets(project, file_name)\n",
    "        except ModuleNotFoundError:\n",
    "            df = get_from_cloudant()\n",
    "            df.to_csv(file_name, index=False)\n",
    "            result = pd.read_csv(file_name)\n",
    "    return result\n",
    "\n",
    "\n",
    "def read_from_assets(project, file_name):\n",
    "    file = project.get_file(file_name)\n",
    "    file.seek(0)\n",
    "    return pd.read_csv(file)\n",
    "\n",
    "\n",
    "def get_from_cloudant():\n",
    "    print(\"Getting data from cloudant...\")\n",
    "    from cloudant import Cloudant\n",
    "\n",
    "    CLOUDANT_USER = os.getenv(\"CLOUDANT_USER\")\n",
    "    CLOUDANT_PASSWORD = os.getenv(\"CLOUDANT_PASSWORD\")\n",
    "    client = Cloudant(\n",
    "        CLOUDANT_USER,\n",
    "        CLOUDANT_PASSWORD,\n",
    "        account=CLOUDANT_USER,\n",
    "        connect=True,\n",
    "        auto_renew=True,\n",
    "    )\n",
    "    db = client[\"quanam-iot\"]\n",
    "    response = db.all_docs(include_docs=True)\n",
    "    docs = [row[\"doc\"] for row in response[\"rows\"]]\n",
    "    challenge_columns = [\"ID\", \"ILLUM\", \"HUMID\", \"CO2\", \"SOUND\", \"TEMP\", \"RYTHM\"]\n",
    "    return pd.DataFrame(docs)[challenge_columns].copy()"
   ]
  },
  {
   "cell_type": "code",
   "execution_count": 5,
   "metadata": {
    "id": "wDrmOQHSrt5I"
   },
   "outputs": [],
   "source": [
    "df = get_df(\"iot.csv\")"
   ]
  },
  {
   "cell_type": "markdown",
   "metadata": {
    "id": "ovkHGFmRrt5I",
    "jp-MarkdownHeadingCollapsed": true,
    "tags": []
   },
   "source": [
    "### Informações gerais"
   ]
  },
  {
   "cell_type": "code",
   "execution_count": 6,
   "metadata": {
    "colab": {
     "base_uri": "https://localhost:8080/"
    },
    "id": "x4lb4LPdrt5J",
    "outputId": "49be917d-9b25-4b06-93bd-165b0fbae163"
   },
   "outputs": [
    {
     "name": "stdout",
     "output_type": "stream",
     "text": [
      "<class 'pandas.core.frame.DataFrame'>\n",
      "RangeIndex: 3200 entries, 0 to 3199\n",
      "Data columns (total 7 columns):\n",
      " #   Column  Non-Null Count  Dtype  \n",
      "---  ------  --------------  -----  \n",
      " 0   ID      3200 non-null   int64  \n",
      " 1   ILLUM   3200 non-null   float64\n",
      " 2   HUMID   3200 non-null   float64\n",
      " 3   CO2     3200 non-null   float64\n",
      " 4   SOUND   3200 non-null   float64\n",
      " 5   TEMP    3200 non-null   float64\n",
      " 6   RYTHM   3200 non-null   float64\n",
      "dtypes: float64(6), int64(1)\n",
      "memory usage: 175.1 KB\n"
     ]
    }
   ],
   "source": [
    "df.info()"
   ]
  },
  {
   "cell_type": "markdown",
   "metadata": {
    "id": "ZgazakA0rt5K"
   },
   "source": [
    "Neste conjunto de dados:\n",
    "- Todas as variáveis (colunas) são numéricas.\n",
    "- Não há dados faltantes."
   ]
  },
  {
   "cell_type": "markdown",
   "metadata": {
    "id": "-TgfC096rt5K",
    "jp-MarkdownHeadingCollapsed": true,
    "tags": []
   },
   "source": [
    "### Divisão entre treino e teste"
   ]
  },
  {
   "cell_type": "markdown",
   "metadata": {
    "id": "PRZEdsz1rt5K"
   },
   "source": [
    "Antes de inspecionar os dados, serão reservados alguns exemplos para teste, que não serão vistos durante a análise ou modelagem dos dados:"
   ]
  },
  {
   "cell_type": "code",
   "execution_count": 7,
   "metadata": {
    "colab": {
     "base_uri": "https://localhost:8080/"
    },
    "id": "psCLOvpert5K",
    "outputId": "79c0cc84-3e8b-4650-bad1-90301fa69edd"
   },
   "outputs": [
    {
     "name": "stdout",
     "output_type": "stream",
     "text": [
      "Dimensões dos dados de treino: (2700, 7)\n",
      "Dimensões dos dados de teste: (500, 7)\n"
     ]
    }
   ],
   "source": [
    "test_size = 500\n",
    "target = \"RYTHM\"\n",
    "df_train, df_test = train_test_split(df, test_size=test_size, random_state=seed)\n",
    "print(f\"Dimensões dos dados de treino: {df_train.shape}\")\n",
    "print(f\"Dimensões dos dados de teste: {df_test.shape}\")"
   ]
  },
  {
   "cell_type": "markdown",
   "metadata": {
    "id": "CKZ57TI4rt5L"
   },
   "source": [
    "### Dados de exemplo"
   ]
  },
  {
   "cell_type": "code",
   "execution_count": 8,
   "metadata": {
    "colab": {
     "base_uri": "https://localhost:8080/",
     "height": 236
    },
    "id": "vhh8es36rt5L",
    "outputId": "5590b3e9-ba51-4420-eda6-4a9a2b9b9e41"
   },
   "outputs": [
    {
     "data": {
      "text/html": [
       "<div>\n",
       "<style scoped>\n",
       "    .dataframe tbody tr th:only-of-type {\n",
       "        vertical-align: middle;\n",
       "    }\n",
       "\n",
       "    .dataframe tbody tr th {\n",
       "        vertical-align: top;\n",
       "    }\n",
       "\n",
       "    .dataframe thead th {\n",
       "        text-align: right;\n",
       "    }\n",
       "</style>\n",
       "<table border=\"1\" class=\"dataframe\">\n",
       "  <thead>\n",
       "    <tr style=\"text-align: right;\">\n",
       "      <th></th>\n",
       "      <th>ID</th>\n",
       "      <th>ILLUM</th>\n",
       "      <th>HUMID</th>\n",
       "      <th>CO2</th>\n",
       "      <th>SOUND</th>\n",
       "      <th>TEMP</th>\n",
       "      <th>RYTHM</th>\n",
       "    </tr>\n",
       "  </thead>\n",
       "  <tbody>\n",
       "    <tr>\n",
       "      <th>953</th>\n",
       "      <td>761</td>\n",
       "      <td>542.20</td>\n",
       "      <td>73.02</td>\n",
       "      <td>394.17</td>\n",
       "      <td>32.23</td>\n",
       "      <td>19.85</td>\n",
       "      <td>77.74</td>\n",
       "    </tr>\n",
       "    <tr>\n",
       "      <th>1633</th>\n",
       "      <td>2769</td>\n",
       "      <td>495.97</td>\n",
       "      <td>71.16</td>\n",
       "      <td>572.84</td>\n",
       "      <td>39.30</td>\n",
       "      <td>18.21</td>\n",
       "      <td>83.36</td>\n",
       "    </tr>\n",
       "    <tr>\n",
       "      <th>...</th>\n",
       "      <td>...</td>\n",
       "      <td>...</td>\n",
       "      <td>...</td>\n",
       "      <td>...</td>\n",
       "      <td>...</td>\n",
       "      <td>...</td>\n",
       "      <td>...</td>\n",
       "    </tr>\n",
       "    <tr>\n",
       "      <th>2607</th>\n",
       "      <td>1396</td>\n",
       "      <td>321.95</td>\n",
       "      <td>66.36</td>\n",
       "      <td>449.71</td>\n",
       "      <td>22.12</td>\n",
       "      <td>20.63</td>\n",
       "      <td>74.34</td>\n",
       "    </tr>\n",
       "    <tr>\n",
       "      <th>2732</th>\n",
       "      <td>2990</td>\n",
       "      <td>553.35</td>\n",
       "      <td>61.47</td>\n",
       "      <td>495.48</td>\n",
       "      <td>32.51</td>\n",
       "      <td>18.17</td>\n",
       "      <td>83.19</td>\n",
       "    </tr>\n",
       "  </tbody>\n",
       "</table>\n",
       "<p>2700 rows × 7 columns</p>\n",
       "</div>"
      ],
      "text/plain": [
       "        ID   ILLUM  HUMID     CO2  SOUND   TEMP  RYTHM\n",
       "953    761  542.20  73.02  394.17  32.23  19.85  77.74\n",
       "1633  2769  495.97  71.16  572.84  39.30  18.21  83.36\n",
       "...    ...     ...    ...     ...    ...    ...    ...\n",
       "2607  1396  321.95  66.36  449.71  22.12  20.63  74.34\n",
       "2732  2990  553.35  61.47  495.48  32.51  18.17  83.19\n",
       "\n",
       "[2700 rows x 7 columns]"
      ]
     },
     "metadata": {},
     "output_type": "display_data"
    }
   ],
   "source": [
    "with pd.option_context(\"display.max_rows\", 4):\n",
    "    display(df_train)"
   ]
  },
  {
   "cell_type": "markdown",
   "metadata": {
    "id": "hpKN18Ulrt5M"
   },
   "source": [
    "### Variável destino"
   ]
  },
  {
   "cell_type": "code",
   "execution_count": 9,
   "metadata": {
    "colab": {
     "base_uri": "https://localhost:8080/",
     "height": 385
    },
    "id": "IeabwUKSrt5M",
    "outputId": "2f205d01-3f89-4b95-b30c-f01109ae815d"
   },
   "outputs": [
    {
     "data": {
      "image/png": "[encoded data removed]",
      "text/plain": [
       "<Figure size 360x360 with 1 Axes>"
      ]
     },
     "metadata": {
      "needs_background": "light"
     },
     "output_type": "display_data"
    }
   ],
   "source": [
    "sns.displot(df_train[target], kde=True)\n",
    "plt.xlabel(\"Ritmo cardíaco\")\n",
    "plt.ylabel(\"Registros\")\n",
    "plt.title(\"Distribuição do ritmo cardíaco (dados de treino)\")\n",
    "plt.show()"
   ]
  },
  {
   "cell_type": "markdown",
   "metadata": {
    "id": "X75y3VmYrt5N"
   },
   "source": [
    "### Estatísticas"
   ]
  },
  {
   "cell_type": "code",
   "execution_count": 10,
   "metadata": {
    "colab": {
     "base_uri": "https://localhost:8080/",
     "height": 300
    },
    "id": "qL_oDVn7rt5N",
    "outputId": "613586dd-3b4d-411a-ad8a-9bd8e2853c60"
   },
   "outputs": [
    {
     "data": {
      "text/html": [
       "<div>\n",
       "<style scoped>\n",
       "    .dataframe tbody tr th:only-of-type {\n",
       "        vertical-align: middle;\n",
       "    }\n",
       "\n",
       "    .dataframe tbody tr th {\n",
       "        vertical-align: top;\n",
       "    }\n",
       "\n",
       "    .dataframe thead th {\n",
       "        text-align: right;\n",
       "    }\n",
       "</style>\n",
       "<table border=\"1\" class=\"dataframe\">\n",
       "  <thead>\n",
       "    <tr style=\"text-align: right;\">\n",
       "      <th></th>\n",
       "      <th>ID</th>\n",
       "      <th>ILLUM</th>\n",
       "      <th>HUMID</th>\n",
       "      <th>CO2</th>\n",
       "      <th>SOUND</th>\n",
       "      <th>TEMP</th>\n",
       "      <th>RYTHM</th>\n",
       "    </tr>\n",
       "  </thead>\n",
       "  <tbody>\n",
       "    <tr>\n",
       "      <th>count</th>\n",
       "      <td>2700.000000</td>\n",
       "      <td>2700.000000</td>\n",
       "      <td>2700.000000</td>\n",
       "      <td>2700.000000</td>\n",
       "      <td>2700.000000</td>\n",
       "      <td>2700.00000</td>\n",
       "      <td>2700.000000</td>\n",
       "    </tr>\n",
       "    <tr>\n",
       "      <th>mean</th>\n",
       "      <td>1599.107037</td>\n",
       "      <td>440.199700</td>\n",
       "      <td>67.121793</td>\n",
       "      <td>501.447263</td>\n",
       "      <td>29.768244</td>\n",
       "      <td>20.04547</td>\n",
       "      <td>80.212707</td>\n",
       "    </tr>\n",
       "    <tr>\n",
       "      <th>std</th>\n",
       "      <td>928.089673</td>\n",
       "      <td>89.861751</td>\n",
       "      <td>4.787193</td>\n",
       "      <td>43.007247</td>\n",
       "      <td>6.144921</td>\n",
       "      <td>1.66544</td>\n",
       "      <td>6.759542</td>\n",
       "    </tr>\n",
       "    <tr>\n",
       "      <th>min</th>\n",
       "      <td>1.000000</td>\n",
       "      <td>145.480000</td>\n",
       "      <td>51.860000</td>\n",
       "      <td>352.820000</td>\n",
       "      <td>8.060000</td>\n",
       "      <td>14.76000</td>\n",
       "      <td>55.370000</td>\n",
       "    </tr>\n",
       "    <tr>\n",
       "      <th>25%</th>\n",
       "      <td>790.750000</td>\n",
       "      <td>377.692500</td>\n",
       "      <td>63.770000</td>\n",
       "      <td>470.540000</td>\n",
       "      <td>25.490000</td>\n",
       "      <td>18.90000</td>\n",
       "      <td>75.730000</td>\n",
       "    </tr>\n",
       "    <tr>\n",
       "      <th>50%</th>\n",
       "      <td>1603.000000</td>\n",
       "      <td>437.745000</td>\n",
       "      <td>66.950000</td>\n",
       "      <td>502.005000</td>\n",
       "      <td>29.795000</td>\n",
       "      <td>20.05000</td>\n",
       "      <td>80.280000</td>\n",
       "    </tr>\n",
       "    <tr>\n",
       "      <th>75%</th>\n",
       "      <td>2403.250000</td>\n",
       "      <td>501.452500</td>\n",
       "      <td>70.410000</td>\n",
       "      <td>530.140000</td>\n",
       "      <td>33.850000</td>\n",
       "      <td>21.20000</td>\n",
       "      <td>84.712500</td>\n",
       "    </tr>\n",
       "    <tr>\n",
       "      <th>max</th>\n",
       "      <td>3200.000000</td>\n",
       "      <td>775.140000</td>\n",
       "      <td>83.900000</td>\n",
       "      <td>672.380000</td>\n",
       "      <td>53.780000</td>\n",
       "      <td>26.29000</td>\n",
       "      <td>108.900000</td>\n",
       "    </tr>\n",
       "  </tbody>\n",
       "</table>\n",
       "</div>"
      ],
      "text/plain": [
       "                ID        ILLUM  ...        TEMP        RYTHM\n",
       "count  2700.000000  2700.000000  ...  2700.00000  2700.000000\n",
       "mean   1599.107037   440.199700  ...    20.04547    80.212707\n",
       "std     928.089673    89.861751  ...     1.66544     6.759542\n",
       "min       1.000000   145.480000  ...    14.76000    55.370000\n",
       "25%     790.750000   377.692500  ...    18.90000    75.730000\n",
       "50%    1603.000000   437.745000  ...    20.05000    80.280000\n",
       "75%    2403.250000   501.452500  ...    21.20000    84.712500\n",
       "max    3200.000000   775.140000  ...    26.29000   108.900000\n",
       "\n",
       "[8 rows x 7 columns]"
      ]
     },
     "execution_count": 10,
     "metadata": {},
     "output_type": "execute_result"
    }
   ],
   "source": [
    "df_train.describe()"
   ]
  },
  {
   "cell_type": "markdown",
   "metadata": {
    "id": "eWd8LBYRrt5N"
   },
   "source": [
    "### Correlações"
   ]
  },
  {
   "cell_type": "code",
   "execution_count": 11,
   "metadata": {
    "colab": {
     "base_uri": "https://localhost:8080/",
     "height": 323
    },
    "id": "VDkWvn63rt5N",
    "outputId": "4c76652f-9f19-4ea2-9966-d6690d6e4e58"
   },
   "outputs": [
    {
     "data": {
      "image/png": "[encoded data removed]",
      "text/plain": [
       "<Figure size 720x360 with 2 Axes>"
      ]
     },
     "metadata": {
      "needs_background": "light"
     },
     "output_type": "display_data"
    }
   ],
   "source": [
    "plt.subplots(figsize=(10, 5))\n",
    "corr = df_train.corr()\n",
    "mask = np.triu(np.ones_like(corr, dtype=bool))\n",
    "sns.heatmap(corr, annot=True, square=True, vmin=-1.0, vmax=1.0, cmap=\"coolwarm_r\", mask=mask)\n",
    "plt.show()"
   ]
  },
  {
   "cell_type": "markdown",
   "metadata": {
    "id": "mAuNqgmmrt5O"
   },
   "source": [
    "- O ritmo cardíaco tem maior correlação positiva com os níveis de CO2, e negativa com a umidade"
   ]
  },
  {
   "cell_type": "code",
   "execution_count": 12,
   "metadata": {
    "id": "j4q2MC6Art5O"
   },
   "outputs": [],
   "source": [
    "# sns.pairplot(df_train.drop('ID', axis=1), hue=target, corner=True, palette=\"coolwarm_r\")\n",
    "# plt.show()"
   ]
  },
  {
   "cell_type": "code",
   "execution_count": 13,
   "metadata": {
    "id": "2IXq41r3rt5O"
   },
   "outputs": [],
   "source": [
    "pipe = Pipeline([\n",
    "    ('scaler', StandardScaler()),\n",
    "    ('clf', Lasso(random_state=seed))\n",
    "])"
   ]
  },
  {
   "cell_type": "code",
   "execution_count": 14,
   "metadata": {
    "colab": {
     "base_uri": "https://localhost:8080/"
    },
    "id": "evBZ8P6Qrt5O",
    "outputId": "e0136319-f980-43bd-e6c1-17513220c699"
   },
   "outputs": [
    {
     "name": "stdout",
     "output_type": "stream",
     "text": [
      "(2700, 6)\n",
      "(2700,)\n",
      "(500, 6)\n",
      "(500,)\n"
     ]
    }
   ],
   "source": [
    "X_train = df_train.drop(target, axis=1)\n",
    "y_train = df_train[target]\n",
    "X_test = df_test.drop(target, axis=1)\n",
    "y_test = df_test[target]\n",
    "print(X_train.shape)\n",
    "print(y_train.shape)\n",
    "print(X_test.shape)\n",
    "print(y_test.shape)"
   ]
  },
  {
   "cell_type": "code",
   "execution_count": 15,
   "metadata": {
    "id": "NOo5bZtWrt5P"
   },
   "outputs": [],
   "source": [
    "param_grid = [\n",
    "    {\n",
    "    'clf': [Lasso(alpha=0.0005, max_iter=100, positive=True, random_state=seed)],\n",
    "    'scaler': [MinMaxScaler()],\n",
    "    },\n",
    "    # {\n",
    "    # 'clf': [BayesianRidge(alpha_1=1.0, alpha_2=0.000001, lambda_1=0.000001, lambda_2=1.0)],\n",
    "    # 'scaler': [RobustScaler()],\n",
    "    # },\n",
    "    # {\n",
    "    # 'clf': [KNeighborsRegressor(n_neighbors=29, weights='uniform')],\n",
    "    # 'scaler': [RobustScaler()],\n",
    "    # },\n",
    "    {\n",
    "    'clf': [BaggingRegressor(random_state=seed)],\n",
    "    'scaler': [StandardScaler(), MinMaxScaler(), RobustScaler(), 'passthrough'],\n",
    "    'clf__n_estimators': [10, 25, 50, 100, 150, 200],\n",
    "    'clf__max_samples': [0.3, 0.5, 0.8, 0.9, 1.0],\n",
    "    'clf__max_features': [0.3, 0.5, 0.8, 0.9, 1.0],\n",
    "    'clf__bootstrap': [True, False],\n",
    "    },\n",
    "    # {\n",
    "    # 'clf': [ExtraTreesRegressor(max_depth=10, max_features=0.95, max_samples=0.3, n_estimators=200, bootstrap=True, criterion='mse', random_state=seed)],\n",
    "    # 'scaler': [StandardScaler()],\n",
    "    # },\n",
    "    # {\n",
    "    # 'clf': [AdaBoostRegressor(n_estimators=100, learning_rate=0.05, random_state=seed,\n",
    "    #                           base_estimator=DecisionTreeRegressor(max_depth=5, random_state=seed))],\n",
    "    # 'scaler': [MinMaxScaler()],\n",
    "    # },\n",
    "    # {\n",
    "    # 'clf': [ElasticNet(alpha=0.008, random_state=seed)],\n",
    "    # 'scaler': [RobustScaler()],\n",
    "    # },\n",
    "    # {\n",
    "    # 'clf': [Ridge(alpha=0.4, random_state=seed)],\n",
    "    # 'scaler': [MinMaxScaler()],\n",
    "    # },\n",
    "    # {\n",
    "    # 'clf': [GradientBoostingRegressor(alpha=0.001, learning_rate=0.13, max_depth=1, n_estimators=165, random_state=seed)],\n",
    "    # 'scaler': [StandardScaler()],\n",
    "    # },\n",
    "    # {\n",
    "    # 'clf': [RandomForestRegressor(criterion='mae', max_features=0.45, n_estimators=330, random_state=seed)],\n",
    "    # 'scaler': ['passthrough'],\n",
    "    # },\n",
    "    # {\n",
    "    # 'clf': [\n",
    "    #     StackingRegressor(\n",
    "    #         estimators=[\n",
    "    #             ('ridge', Ridge(alpha=0.4, random_state=seed)),\n",
    "    #             ('elast', ElasticNet(alpha=0.008, random_state=seed)),\n",
    "    #             ('lasso', Lasso(alpha=0.0005, max_iter=100, positive=True, random_state=seed)),\n",
    "    #             ('rf', RandomForestRegressor(criterion='mae', max_features=0.45, n_estimators=330, random_state=seed)),\n",
    "    #             ('gbr', GradientBoostingRegressor(alpha=0.001, learning_rate=0.13, max_depth=1, n_estimators=165, random_state=seed)),\n",
    "    #         ],\n",
    "    #         final_estimator=RandomForestRegressor(random_state=seed)\n",
    "    #     )],\n",
    "    # 'scaler': [MinMaxScaler(), StandardScaler(), RobustScaler(), 'passthrough'],\n",
    "    # }\n",
    "]"
   ]
  },
  {
   "cell_type": "code",
   "execution_count": 16,
   "metadata": {
    "colab": {
     "base_uri": "https://localhost:8080/"
    },
    "id": "lzW7qSo4rt5P",
    "outputId": "e39c0a29-14f9-4f10-9e1c-10bf1e04da69"
   },
   "outputs": [
    {
     "name": "stdout",
     "output_type": "stream",
     "text": [
      "Fitting 10 folds for each of 1201 candidates, totalling 12010 fits\n",
      "Tempo gasto para treinar o modelo 10 vezes com cada combinação de parâmetros para encontrar a melhor: 2:06:38.956873\n"
     ]
    }
   ],
   "source": [
    "cv_num = 10\n",
    "verbose = 1\n",
    "scoring = ['r2', 'neg_root_mean_squared_error', 'max_error', 'neg_mean_absolute_error']\n",
    "\n",
    "cv_train_size = int(((cv_num - 1) / cv_num) * len(X_train))\n",
    "cv_test_size = len(X_train) - cv_train_size\n",
    "\n",
    "\n",
    "# cv = RandomizedSearchCV(pipe, param_distributions=param_grid, n_jobs=-1, verbose=verbose, random_state=seed,\n",
    "#                           cv=cv_num, n_iter=15, scoring=scoring)\n",
    "cv = GridSearchCV(pipe, param_grid, cv=cv_num, n_jobs=-1, verbose=verbose, scoring=scoring, refit=scoring[0])\n",
    "\n",
    "start = timer()\n",
    "cv.fit(X_train, y_train)\n",
    "end = timer()\n",
    "print(f'Tempo gasto para treinar o modelo {cv_num} vezes com cada combinação de parâmetros para encontrar a melhor: {timedelta(seconds=end-start)}')"
   ]
  },
  {
   "cell_type": "code",
   "execution_count": 17,
   "metadata": {
    "colab": {
     "base_uri": "https://localhost:8080/",
     "height": 1000
    },
    "id": "mSWeKHQIrt5P",
    "outputId": "886471e2-2c00-4548-8953-632b905aba4e",
    "tags": []
   },
   "outputs": [
    {
     "data": {
      "text/html": [
       "<h4>Dados brutos da validação cruzada</h4>"
      ],
      "text/plain": [
       "<IPython.core.display.HTML object>"
      ]
     },
     "metadata": {},
     "output_type": "display_data"
    },
    {
     "name": "stdout",
     "output_type": "stream",
     "text": [
      "Cada combinação de parâmetros foi utilizada em 10 rodadas de treino com 2430 exemplos e teste com 270.\n"
     ]
    },
    {
     "data": {
      "text/html": [
       "<div>\n",
       "<style scoped>\n",
       "    .dataframe tbody tr th:only-of-type {\n",
       "        vertical-align: middle;\n",
       "    }\n",
       "\n",
       "    .dataframe tbody tr th {\n",
       "        vertical-align: top;\n",
       "    }\n",
       "\n",
       "    .dataframe thead th {\n",
       "        text-align: right;\n",
       "    }\n",
       "</style>\n",
       "<table border=\"1\" class=\"dataframe\">\n",
       "  <thead>\n",
       "    <tr style=\"text-align: right;\">\n",
       "      <th></th>\n",
       "      <th>mean_test_r2</th>\n",
       "      <th>mean_test_neg_root_mean_squared_error</th>\n",
       "      <th>mean_test_max_error</th>\n",
       "      <th>mean_test_neg_mean_absolute_error</th>\n",
       "      <th>mean_fit_time</th>\n",
       "      <th>params</th>\n",
       "    </tr>\n",
       "    <tr>\n",
       "      <th>rank_test_r2</th>\n",
       "      <th></th>\n",
       "      <th></th>\n",
       "      <th></th>\n",
       "      <th></th>\n",
       "      <th></th>\n",
       "      <th></th>\n",
       "    </tr>\n",
       "  </thead>\n",
       "  <tbody>\n",
       "    <tr>\n",
       "      <th>1</th>\n",
       "      <td>0.196806</td>\n",
       "      <td>-6.046767</td>\n",
       "      <td>-18.824292</td>\n",
       "      <td>-4.829016</td>\n",
       "      <td>0.010372</td>\n",
       "      <td>{'clf': Lasso(alpha=0.0005, max_iter=100, positive=True, random_state=0), 'scaler': MinMaxScaler()}</td>\n",
       "    </tr>\n",
       "    <tr>\n",
       "      <th>2</th>\n",
       "      <td>0.168773</td>\n",
       "      <td>-6.152784</td>\n",
       "      <td>-19.325375</td>\n",
       "      <td>-4.921270</td>\n",
       "      <td>1.712654</td>\n",
       "      <td>{'clf': BaggingRegressor(random_state=0), 'clf__bootstrap': True, 'clf__max_features': 1.0, 'clf__max_samples': 0.3, 'clf__n_estimators': 200, 'scaler': StandardScaler()}</td>\n",
       "    </tr>\n",
       "    <tr>\n",
       "      <th>3</th>\n",
       "      <td>0.168742</td>\n",
       "      <td>-6.152893</td>\n",
       "      <td>-19.328480</td>\n",
       "      <td>-4.921562</td>\n",
       "      <td>1.734292</td>\n",
       "      <td>{'clf': BaggingRegressor(random_state=0), 'clf__bootstrap': True, 'clf__max_features': 1.0, 'clf__max_samples': 0.3, 'clf__n_estimators': 200, 'scaler': RobustScaler()}</td>\n",
       "    </tr>\n",
       "    <tr>\n",
       "      <th>4</th>\n",
       "      <td>0.168645</td>\n",
       "      <td>-6.153252</td>\n",
       "      <td>-19.329075</td>\n",
       "      <td>-4.921782</td>\n",
       "      <td>1.733843</td>\n",
       "      <td>{'clf': BaggingRegressor(random_state=0), 'clf__bootstrap': True, 'clf__max_features': 1.0, 'clf__max_samples': 0.3, 'clf__n_estimators': 200, 'scaler': MinMaxScaler()}</td>\n",
       "    </tr>\n",
       "    <tr>\n",
       "      <th>5</th>\n",
       "      <td>0.168457</td>\n",
       "      <td>-6.153979</td>\n",
       "      <td>-19.330815</td>\n",
       "      <td>-4.922799</td>\n",
       "      <td>1.713544</td>\n",
       "      <td>{'clf': BaggingRegressor(random_state=0), 'clf__bootstrap': True, 'clf__max_features': 1.0, 'clf__max_samples': 0.3, 'clf__n_estimators': 200, 'scaler': 'passthrough'}</td>\n",
       "    </tr>\n",
       "    <tr>\n",
       "      <th>6</th>\n",
       "      <td>0.167938</td>\n",
       "      <td>-6.155754</td>\n",
       "      <td>-19.300880</td>\n",
       "      <td>-4.922541</td>\n",
       "      <td>1.293341</td>\n",
       "      <td>{'clf': BaggingRegressor(random_state=0), 'clf__bootstrap': True, 'clf__max_features': 1.0, 'clf__max_samples': 0.3, 'clf__n_estimators': 150, 'scaler': StandardScaler()}</td>\n",
       "    </tr>\n",
       "    <tr>\n",
       "      <th>7</th>\n",
       "      <td>0.167922</td>\n",
       "      <td>-6.155829</td>\n",
       "      <td>-19.279340</td>\n",
       "      <td>-4.922872</td>\n",
       "      <td>1.302299</td>\n",
       "      <td>{'clf': BaggingRegressor(random_state=0), 'clf__bootstrap': True, 'clf__max_features': 1.0, 'clf__max_samples': 0.3, 'clf__n_estimators': 150, 'scaler': RobustScaler()}</td>\n",
       "    </tr>\n",
       "    <tr>\n",
       "      <th>8</th>\n",
       "      <td>0.167753</td>\n",
       "      <td>-6.156418</td>\n",
       "      <td>-19.300880</td>\n",
       "      <td>-4.923508</td>\n",
       "      <td>1.289001</td>\n",
       "      <td>{'clf': BaggingRegressor(random_state=0), 'clf__bootstrap': True, 'clf__max_features': 1.0, 'clf__max_samples': 0.3, 'clf__n_estimators': 150, 'scaler': MinMaxScaler()}</td>\n",
       "    </tr>\n",
       "    <tr>\n",
       "      <th>9</th>\n",
       "      <td>0.167583</td>\n",
       "      <td>-6.157087</td>\n",
       "      <td>-19.300880</td>\n",
       "      <td>-4.924542</td>\n",
       "      <td>1.291142</td>\n",
       "      <td>{'clf': BaggingRegressor(random_state=0), 'clf__bootstrap': True, 'clf__max_features': 1.0, 'clf__max_samples': 0.3, 'clf__n_estimators': 150, 'scaler': 'passthrough'}</td>\n",
       "    </tr>\n",
       "    <tr>\n",
       "      <th>10</th>\n",
       "      <td>0.165633</td>\n",
       "      <td>-6.164438</td>\n",
       "      <td>-19.281850</td>\n",
       "      <td>-4.931558</td>\n",
       "      <td>0.867226</td>\n",
       "      <td>{'clf': BaggingRegressor(random_state=0), 'clf__bootstrap': True, 'clf__max_features': 1.0, 'clf__max_samples': 0.3, 'clf__n_estimators': 100, 'scaler': RobustScaler()}</td>\n",
       "    </tr>\n",
       "    <tr>\n",
       "      <th>11</th>\n",
       "      <td>0.165614</td>\n",
       "      <td>-6.164498</td>\n",
       "      <td>-19.325360</td>\n",
       "      <td>-4.931364</td>\n",
       "      <td>0.872719</td>\n",
       "      <td>{'clf': BaggingRegressor(random_state=0), 'clf__bootstrap': True, 'clf__max_features': 1.0, 'clf__max_samples': 0.3, 'clf__n_estimators': 100, 'scaler': StandardScaler()}</td>\n",
       "    </tr>\n",
       "    <tr>\n",
       "      <th>12</th>\n",
       "      <td>0.165478</td>\n",
       "      <td>-6.165005</td>\n",
       "      <td>-19.314393</td>\n",
       "      <td>-4.952344</td>\n",
       "      <td>1.472394</td>\n",
       "      <td>{'clf': BaggingRegressor(random_state=0), 'clf__bootstrap': False, 'clf__max_features': 1.0, 'clf__max_samples': 0.3, 'clf__n_estimators': 150, 'scaler': MinMaxScaler()}</td>\n",
       "    </tr>\n",
       "    <tr>\n",
       "      <th>13</th>\n",
       "      <td>0.165276</td>\n",
       "      <td>-6.165740</td>\n",
       "      <td>-19.314353</td>\n",
       "      <td>-4.953607</td>\n",
       "      <td>1.474229</td>\n",
       "      <td>{'clf': BaggingRegressor(random_state=0), 'clf__bootstrap': False, 'clf__max_features': 1.0, 'clf__max_samples': 0.3, 'clf__n_estimators': 150, 'scaler': 'passthrough'}</td>\n",
       "    </tr>\n",
       "    <tr>\n",
       "      <th>14</th>\n",
       "      <td>0.165238</td>\n",
       "      <td>-6.165842</td>\n",
       "      <td>-19.328660</td>\n",
       "      <td>-4.933070</td>\n",
       "      <td>0.872601</td>\n",
       "      <td>{'clf': BaggingRegressor(random_state=0), 'clf__bootstrap': True, 'clf__max_features': 1.0, 'clf__max_samples': 0.3, 'clf__n_estimators': 100, 'scaler': MinMaxScaler()}</td>\n",
       "    </tr>\n",
       "    <tr>\n",
       "      <th>15</th>\n",
       "      <td>0.165238</td>\n",
       "      <td>-6.165867</td>\n",
       "      <td>-19.314353</td>\n",
       "      <td>-4.953622</td>\n",
       "      <td>1.478918</td>\n",
       "      <td>{'clf': BaggingRegressor(random_state=0), 'clf__bootstrap': False, 'clf__max_features': 1.0, 'clf__max_samples': 0.3, 'clf__n_estimators': 150, 'scaler': RobustScaler()}</td>\n",
       "    </tr>\n",
       "    <tr>\n",
       "      <th>16</th>\n",
       "      <td>0.165177</td>\n",
       "      <td>-6.165851</td>\n",
       "      <td>-19.331895</td>\n",
       "      <td>-4.949469</td>\n",
       "      <td>1.967254</td>\n",
       "      <td>{'clf': BaggingRegressor(random_state=0), 'clf__bootstrap': False, 'clf__max_features': 1.0, 'clf__max_samples': 0.3, 'clf__n_estimators': 200, 'scaler': MinMaxScaler()}</td>\n",
       "    </tr>\n",
       "    <tr>\n",
       "      <th>17</th>\n",
       "      <td>0.165172</td>\n",
       "      <td>-6.167313</td>\n",
       "      <td>-19.167950</td>\n",
       "      <td>-4.935516</td>\n",
       "      <td>1.564636</td>\n",
       "      <td>{'clf': BaggingRegressor(random_state=0), 'clf__bootstrap': True, 'clf__max_features': 0.9, 'clf__max_samples': 0.3, 'clf__n_estimators': 200, 'scaler': MinMaxScaler()}</td>\n",
       "    </tr>\n",
       "    <tr>\n",
       "      <th>18</th>\n",
       "      <td>0.165114</td>\n",
       "      <td>-6.166353</td>\n",
       "      <td>-19.321690</td>\n",
       "      <td>-4.934219</td>\n",
       "      <td>0.856115</td>\n",
       "      <td>{'clf': BaggingRegressor(random_state=0), 'clf__bootstrap': True, 'clf__max_features': 1.0, 'clf__max_samples': 0.3, 'clf__n_estimators': 100, 'scaler': 'passthrough'}</td>\n",
       "    </tr>\n",
       "    <tr>\n",
       "      <th>19</th>\n",
       "      <td>0.164985</td>\n",
       "      <td>-6.166536</td>\n",
       "      <td>-19.331865</td>\n",
       "      <td>-4.950689</td>\n",
       "      <td>1.965956</td>\n",
       "      <td>{'clf': BaggingRegressor(random_state=0), 'clf__bootstrap': False, 'clf__max_features': 1.0, 'clf__max_samples': 0.3, 'clf__n_estimators': 200, 'scaler': 'passthrough'}</td>\n",
       "    </tr>\n",
       "    <tr>\n",
       "      <th>20</th>\n",
       "      <td>0.164963</td>\n",
       "      <td>-6.166605</td>\n",
       "      <td>-19.331865</td>\n",
       "      <td>-4.950570</td>\n",
       "      <td>1.967501</td>\n",
       "      <td>{'clf': BaggingRegressor(random_state=0), 'clf__bootstrap': False, 'clf__max_features': 1.0, 'clf__max_samples': 0.3, 'clf__n_estimators': 200, 'scaler': RobustScaler()}</td>\n",
       "    </tr>\n",
       "  </tbody>\n",
       "</table>\n",
       "</div>"
      ],
      "text/plain": [
       "              mean_test_r2  ...                                                                                                                                                                      params\n",
       "rank_test_r2                ...                                                                                                                                                                            \n",
       "1                 0.196806  ...                                                                         {'clf': Lasso(alpha=0.0005, max_iter=100, positive=True, random_state=0), 'scaler': MinMaxScaler()}\n",
       "2                 0.168773  ...  {'clf': BaggingRegressor(random_state=0), 'clf__bootstrap': True, 'clf__max_features': 1.0, 'clf__max_samples': 0.3, 'clf__n_estimators': 200, 'scaler': StandardScaler()}\n",
       "3                 0.168742  ...    {'clf': BaggingRegressor(random_state=0), 'clf__bootstrap': True, 'clf__max_features': 1.0, 'clf__max_samples': 0.3, 'clf__n_estimators': 200, 'scaler': RobustScaler()}\n",
       "4                 0.168645  ...    {'clf': BaggingRegressor(random_state=0), 'clf__bootstrap': True, 'clf__max_features': 1.0, 'clf__max_samples': 0.3, 'clf__n_estimators': 200, 'scaler': MinMaxScaler()}\n",
       "5                 0.168457  ...     {'clf': BaggingRegressor(random_state=0), 'clf__bootstrap': True, 'clf__max_features': 1.0, 'clf__max_samples': 0.3, 'clf__n_estimators': 200, 'scaler': 'passthrough'}\n",
       "6                 0.167938  ...  {'clf': BaggingRegressor(random_state=0), 'clf__bootstrap': True, 'clf__max_features': 1.0, 'clf__max_samples': 0.3, 'clf__n_estimators': 150, 'scaler': StandardScaler()}\n",
       "7                 0.167922  ...    {'clf': BaggingRegressor(random_state=0), 'clf__bootstrap': True, 'clf__max_features': 1.0, 'clf__max_samples': 0.3, 'clf__n_estimators': 150, 'scaler': RobustScaler()}\n",
       "8                 0.167753  ...    {'clf': BaggingRegressor(random_state=0), 'clf__bootstrap': True, 'clf__max_features': 1.0, 'clf__max_samples': 0.3, 'clf__n_estimators': 150, 'scaler': MinMaxScaler()}\n",
       "9                 0.167583  ...     {'clf': BaggingRegressor(random_state=0), 'clf__bootstrap': True, 'clf__max_features': 1.0, 'clf__max_samples': 0.3, 'clf__n_estimators': 150, 'scaler': 'passthrough'}\n",
       "10                0.165633  ...    {'clf': BaggingRegressor(random_state=0), 'clf__bootstrap': True, 'clf__max_features': 1.0, 'clf__max_samples': 0.3, 'clf__n_estimators': 100, 'scaler': RobustScaler()}\n",
       "11                0.165614  ...  {'clf': BaggingRegressor(random_state=0), 'clf__bootstrap': True, 'clf__max_features': 1.0, 'clf__max_samples': 0.3, 'clf__n_estimators': 100, 'scaler': StandardScaler()}\n",
       "12                0.165478  ...   {'clf': BaggingRegressor(random_state=0), 'clf__bootstrap': False, 'clf__max_features': 1.0, 'clf__max_samples': 0.3, 'clf__n_estimators': 150, 'scaler': MinMaxScaler()}\n",
       "13                0.165276  ...    {'clf': BaggingRegressor(random_state=0), 'clf__bootstrap': False, 'clf__max_features': 1.0, 'clf__max_samples': 0.3, 'clf__n_estimators': 150, 'scaler': 'passthrough'}\n",
       "14                0.165238  ...    {'clf': BaggingRegressor(random_state=0), 'clf__bootstrap': True, 'clf__max_features': 1.0, 'clf__max_samples': 0.3, 'clf__n_estimators': 100, 'scaler': MinMaxScaler()}\n",
       "15                0.165238  ...   {'clf': BaggingRegressor(random_state=0), 'clf__bootstrap': False, 'clf__max_features': 1.0, 'clf__max_samples': 0.3, 'clf__n_estimators': 150, 'scaler': RobustScaler()}\n",
       "16                0.165177  ...   {'clf': BaggingRegressor(random_state=0), 'clf__bootstrap': False, 'clf__max_features': 1.0, 'clf__max_samples': 0.3, 'clf__n_estimators': 200, 'scaler': MinMaxScaler()}\n",
       "17                0.165172  ...    {'clf': BaggingRegressor(random_state=0), 'clf__bootstrap': True, 'clf__max_features': 0.9, 'clf__max_samples': 0.3, 'clf__n_estimators': 200, 'scaler': MinMaxScaler()}\n",
       "18                0.165114  ...     {'clf': BaggingRegressor(random_state=0), 'clf__bootstrap': True, 'clf__max_features': 1.0, 'clf__max_samples': 0.3, 'clf__n_estimators': 100, 'scaler': 'passthrough'}\n",
       "19                0.164985  ...    {'clf': BaggingRegressor(random_state=0), 'clf__bootstrap': False, 'clf__max_features': 1.0, 'clf__max_samples': 0.3, 'clf__n_estimators': 200, 'scaler': 'passthrough'}\n",
       "20                0.164963  ...   {'clf': BaggingRegressor(random_state=0), 'clf__bootstrap': False, 'clf__max_features': 1.0, 'clf__max_samples': 0.3, 'clf__n_estimators': 200, 'scaler': RobustScaler()}\n",
       "\n",
       "[20 rows x 6 columns]"
      ]
     },
     "metadata": {},
     "output_type": "display_data"
    }
   ],
   "source": [
    "display(HTML('<h4>Dados brutos da validação cruzada</h4>'))\n",
    "print(f'Cada combinação de parâmetros foi utilizada em {cv_num} rodadas de treino com {cv_train_size} exemplos e teste com {cv_test_size}.')\n",
    "\n",
    "rank_col = 'rank_test_' + scoring[0]\n",
    "cv_df = pd.DataFrame(cv.cv_results_).sort_values(rank_col).set_index(rank_col)\n",
    "\n",
    "cols = [f'mean_test_{item}' for item in scoring] + ['mean_fit_time', 'params']\n",
    "with pd.option_context('display.max_colwidth', None):\n",
    "    display(cv_df[cols].head(20))\n"
   ]
  },
  {
   "cell_type": "code",
   "execution_count": 18,
   "metadata": {
    "colab": {
     "base_uri": "https://localhost:8080/",
     "height": 356
    },
    "id": "tJARY8FCrt5Q",
    "outputId": "73ed06a8-0801-4531-9771-364e0e610bb7"
   },
   "outputs": [
    {
     "data": {
      "text/html": [
       "<div>\n",
       "<style scoped>\n",
       "    .dataframe tbody tr th:only-of-type {\n",
       "        vertical-align: middle;\n",
       "    }\n",
       "\n",
       "    .dataframe tbody tr th {\n",
       "        vertical-align: top;\n",
       "    }\n",
       "\n",
       "    .dataframe thead th {\n",
       "        text-align: right;\n",
       "    }\n",
       "</style>\n",
       "<table border=\"1\" class=\"dataframe\">\n",
       "  <thead>\n",
       "    <tr style=\"text-align: right;\">\n",
       "      <th></th>\n",
       "      <th>mean_test_r2</th>\n",
       "      <th>mean_test_neg_root_mean_squared_error</th>\n",
       "      <th>mean_test_max_error</th>\n",
       "      <th>mean_test_neg_mean_absolute_error</th>\n",
       "      <th>mean_fit_time</th>\n",
       "      <th>params</th>\n",
       "    </tr>\n",
       "    <tr>\n",
       "      <th>rank_test_r2</th>\n",
       "      <th></th>\n",
       "      <th></th>\n",
       "      <th></th>\n",
       "      <th></th>\n",
       "      <th></th>\n",
       "      <th></th>\n",
       "    </tr>\n",
       "  </thead>\n",
       "  <tbody>\n",
       "    <tr>\n",
       "      <th>1</th>\n",
       "      <td>0.196806</td>\n",
       "      <td>-6.046767</td>\n",
       "      <td>-18.824292</td>\n",
       "      <td>-4.829016</td>\n",
       "      <td>0.010372</td>\n",
       "      <td>{'clf': Lasso(alpha=0.0005, max_iter=100, positive=True, random_state=0), 'scaler': MinMaxScaler()}</td>\n",
       "    </tr>\n",
       "    <tr>\n",
       "      <th>2</th>\n",
       "      <td>0.168773</td>\n",
       "      <td>-6.152784</td>\n",
       "      <td>-19.325375</td>\n",
       "      <td>-4.921270</td>\n",
       "      <td>1.712654</td>\n",
       "      <td>{'clf': BaggingRegressor(random_state=0), 'clf__bootstrap': True, 'clf__max_features': 1.0, 'clf__max_samples': 0.3, 'clf__n_estimators': 200, 'scaler': StandardScaler()}</td>\n",
       "    </tr>\n",
       "    <tr>\n",
       "      <th>3</th>\n",
       "      <td>0.168742</td>\n",
       "      <td>-6.152893</td>\n",
       "      <td>-19.328480</td>\n",
       "      <td>-4.921562</td>\n",
       "      <td>1.734292</td>\n",
       "      <td>{'clf': BaggingRegressor(random_state=0), 'clf__bootstrap': True, 'clf__max_features': 1.0, 'clf__max_samples': 0.3, 'clf__n_estimators': 200, 'scaler': RobustScaler()}</td>\n",
       "    </tr>\n",
       "    <tr>\n",
       "      <th>4</th>\n",
       "      <td>0.168645</td>\n",
       "      <td>-6.153252</td>\n",
       "      <td>-19.329075</td>\n",
       "      <td>-4.921782</td>\n",
       "      <td>1.733843</td>\n",
       "      <td>{'clf': BaggingRegressor(random_state=0), 'clf__bootstrap': True, 'clf__max_features': 1.0, 'clf__max_samples': 0.3, 'clf__n_estimators': 200, 'scaler': MinMaxScaler()}</td>\n",
       "    </tr>\n",
       "    <tr>\n",
       "      <th>5</th>\n",
       "      <td>0.168457</td>\n",
       "      <td>-6.153979</td>\n",
       "      <td>-19.330815</td>\n",
       "      <td>-4.922799</td>\n",
       "      <td>1.713544</td>\n",
       "      <td>{'clf': BaggingRegressor(random_state=0), 'clf__bootstrap': True, 'clf__max_features': 1.0, 'clf__max_samples': 0.3, 'clf__n_estimators': 200, 'scaler': 'passthrough'}</td>\n",
       "    </tr>\n",
       "    <tr>\n",
       "      <th>6</th>\n",
       "      <td>0.167938</td>\n",
       "      <td>-6.155754</td>\n",
       "      <td>-19.300880</td>\n",
       "      <td>-4.922541</td>\n",
       "      <td>1.293341</td>\n",
       "      <td>{'clf': BaggingRegressor(random_state=0), 'clf__bootstrap': True, 'clf__max_features': 1.0, 'clf__max_samples': 0.3, 'clf__n_estimators': 150, 'scaler': StandardScaler()}</td>\n",
       "    </tr>\n",
       "  </tbody>\n",
       "</table>\n",
       "</div>"
      ],
      "text/plain": [
       "              mean_test_r2  ...                                                                                                                                                                      params\n",
       "rank_test_r2                ...                                                                                                                                                                            \n",
       "1                 0.196806  ...                                                                         {'clf': Lasso(alpha=0.0005, max_iter=100, positive=True, random_state=0), 'scaler': MinMaxScaler()}\n",
       "2                 0.168773  ...  {'clf': BaggingRegressor(random_state=0), 'clf__bootstrap': True, 'clf__max_features': 1.0, 'clf__max_samples': 0.3, 'clf__n_estimators': 200, 'scaler': StandardScaler()}\n",
       "3                 0.168742  ...    {'clf': BaggingRegressor(random_state=0), 'clf__bootstrap': True, 'clf__max_features': 1.0, 'clf__max_samples': 0.3, 'clf__n_estimators': 200, 'scaler': RobustScaler()}\n",
       "4                 0.168645  ...    {'clf': BaggingRegressor(random_state=0), 'clf__bootstrap': True, 'clf__max_features': 1.0, 'clf__max_samples': 0.3, 'clf__n_estimators': 200, 'scaler': MinMaxScaler()}\n",
       "5                 0.168457  ...     {'clf': BaggingRegressor(random_state=0), 'clf__bootstrap': True, 'clf__max_features': 1.0, 'clf__max_samples': 0.3, 'clf__n_estimators': 200, 'scaler': 'passthrough'}\n",
       "6                 0.167938  ...  {'clf': BaggingRegressor(random_state=0), 'clf__bootstrap': True, 'clf__max_features': 1.0, 'clf__max_samples': 0.3, 'clf__n_estimators': 150, 'scaler': StandardScaler()}\n",
       "\n",
       "[6 rows x 6 columns]"
      ]
     },
     "metadata": {},
     "output_type": "display_data"
    }
   ],
   "source": [
    "#### Melhor combinação de parâmetros para cada modelo\n",
    "model_names = cv_df['param_clf'].astype(str).replace(r'\\([\\w\\W]+', r'', regex=True)\n",
    "largest_by_model = cv_df[cv_df.groupby(model_names)[cols[0]].rank(ascending=False) <= 5]\n",
    "with pd.option_context('display.max_colwidth', None):\n",
    "    display(largest_by_model[cols])"
   ]
  },
  {
   "cell_type": "code",
   "execution_count": 19,
   "metadata": {
    "colab": {
     "base_uri": "https://localhost:8080/",
     "height": 203
    },
    "id": "d1Q26BDMrt5Q",
    "outputId": "208fd7c5-d2bc-480e-926d-dbaa87246c60"
   },
   "outputs": [
    {
     "data": {
      "text/html": [
       "<h4>Maior média de r2</h4>"
      ],
      "text/plain": [
       "<IPython.core.display.HTML object>"
      ]
     },
     "metadata": {},
     "output_type": "display_data"
    },
    {
     "data": {
      "text/html": [
       "<ul>\n",
       "<li>Melhor média de r2: 0.19681 (desvio padrão: 0.05341)</li>\n",
       "<li>Parâmetros que otimizaram a média de r2:<br/><code>{'clf': Lasso(alpha=0.0005, max_iter=100, positive=True, random_state=0), 'scaler': MinMaxScaler()}</code></li>\n",
       "<li>Modelo com a melhor média de r2:</li>\n",
       "</ul>"
      ],
      "text/plain": [
       "<IPython.core.display.HTML object>"
      ]
     },
     "metadata": {},
     "output_type": "display_data"
    },
    {
     "data": {
      "text/plain": [
       "Pipeline(steps=[('scaler', MinMaxScaler()),\n",
       "                ('clf',\n",
       "                 Lasso(alpha=0.0005, max_iter=100, positive=True,\n",
       "                       random_state=0))])"
      ]
     },
     "metadata": {},
     "output_type": "display_data"
    }
   ],
   "source": [
    "model = cv.best_estimator_\n",
    "\n",
    "display(HTML(f'<h4>Maior média de {scoring[0]}</h4>'))\n",
    "display(HTML(f'''<ul>\n",
    "<li>Melhor média de {scoring[0]}: {cv.best_score_:.5f} (desvio padrão: {cv.cv_results_[\"std_test_\" + scoring[0]][cv.best_index_]:.5f})</li>\n",
    "<li>Parâmetros que otimizaram a média de {scoring[0]}:<br/><code>{cv.best_params_}</code></li>\n",
    "<li>Modelo com a melhor média de {scoring[0]}:</li>\n",
    "</ul>'''))\n",
    "display(model)"
   ]
  },
  {
   "cell_type": "code",
   "execution_count": 20,
   "metadata": {
    "colab": {
     "base_uri": "https://localhost:8080/"
    },
    "id": "12VDiKAwrt5Q",
    "outputId": "148058c5-e8f9-487c-b549-2f28661ea860"
   },
   "outputs": [
    {
     "name": "stdout",
     "output_type": "stream",
     "text": [
      "R2-score do modelo no conjunto de testes: 0.18832\n"
     ]
    }
   ],
   "source": [
    "y_pred = model.predict(X_test)\n",
    "score = r2_score(y_test, y_pred)\n",
    "print(\n",
    "    f\"R2-score do modelo no conjunto de testes: {score:.5f}\"\n",
    ")"
   ]
  }
 ],
 "metadata": {
  "colab": {
   "collapsed_sections": [],
   "name": "notebook.ipynb",
   "provenance": []
  },
  "kernelspec": {
   "display_name": "Python 3 (ipykernel)",
   "language": "python",
   "name": "python3"
  },
  "language_info": {
   "codemirror_mode": {
    "name": "ipython",
    "version": 3
   },
   "file_extension": ".py",
   "mimetype": "text/x-python",
   "name": "python",
   "nbconvert_exporter": "python",
   "pygments_lexer": "ipython3",
   "version": "3.8.12"
  }
 },
 "nbformat": 4,
 "nbformat_minor": 4
}
