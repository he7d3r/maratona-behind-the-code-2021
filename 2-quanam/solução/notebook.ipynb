{
 "cells": [
  {
   "cell_type": "markdown",
   "metadata": {},
   "source": [
    "# Desafio 2 - Maratona Behind the Code 2021"
   ]
  },
  {
   "cell_type": "markdown",
   "metadata": {
    "jp-MarkdownHeadingCollapsed": true,
    "tags": []
   },
   "source": [
    "## Bibliotecas"
   ]
  },
  {
   "cell_type": "code",
   "execution_count": 1,
   "metadata": {},
   "outputs": [],
   "source": [
    "import os\n",
    "\n",
    "import pandas as pd\n",
    "from IPython.display import display"
   ]
  },
  {
   "cell_type": "markdown",
   "metadata": {},
   "source": [
    "Se necessário, instale o cloudant:"
   ]
  },
  {
   "cell_type": "code",
   "execution_count": null,
   "metadata": {},
   "outputs": [],
   "source": [
    "# !pip install cloudant"
   ]
  },
  {
   "cell_type": "markdown",
   "metadata": {
    "jp-MarkdownHeadingCollapsed": true,
    "tags": []
   },
   "source": [
    "## Obtenção dos dados de IOT"
   ]
  },
  {
   "cell_type": "code",
   "execution_count": 2,
   "metadata": {
    "tags": []
   },
   "outputs": [],
   "source": [
    "def get_df(file_name):\n",
    "    try:\n",
    "        # When running locally\n",
    "        result = pd.read_csv(file_name)\n",
    "    except FileNotFoundError:\n",
    "        try:\n",
    "            # When running on IBM cloud\n",
    "            from project_lib import Project\n",
    "\n",
    "            PROJECT_ID = os.getenv(\"PROJECT_ID\")\n",
    "            PROJECT_ACCESS_TOKEN = os.getenv(\"PROJECT_ACCESS_TOKEN\")\n",
    "            project = Project(\n",
    "                project_id=PROJECT_ID, project_access_token=PROJECT_ACCESS_TOKEN\n",
    "            )\n",
    "            try:\n",
    "                # When available on assets\n",
    "                result = read_from_assets(project, file_name)\n",
    "            except RuntimeError as e:\n",
    "                # When not available on assets\n",
    "                df = get_from_cloudant()\n",
    "                project.save_data(file_name=file_name, data=df.to_csv(index=False))\n",
    "                result = read_from_assets(project, file_name)\n",
    "        except ModuleNotFoundError:\n",
    "            df = get_from_cloudant()\n",
    "            df.to_csv(file_name, index=False)\n",
    "            result = pd.read_csv(file_name)\n",
    "    return result\n",
    "\n",
    "\n",
    "def read_from_assets(project, file_name):\n",
    "    file = project.get_file(file_name)\n",
    "    file.seek(0)\n",
    "    return pd.read_csv(file)\n",
    "\n",
    "\n",
    "def get_from_cloudant():\n",
    "    print(\"Getting data from cloudant...\")\n",
    "    from cloudant import Cloudant\n",
    "\n",
    "    CLOUDANT_USER = os.getenv(\"CLOUDANT_USER\")\n",
    "    CLOUDANT_PASSWORD = os.getenv(\"CLOUDANT_PASSWORD\")\n",
    "    client = Cloudant(\n",
    "        CLOUDANT_USER,\n",
    "        CLOUDANT_PASSWORD,\n",
    "        account=CLOUDANT_USER,\n",
    "        connect=True,\n",
    "        auto_renew=True,\n",
    "    )\n",
    "    db = client[\"quanam-iot\"]\n",
    "    response = db.all_docs(include_docs=True)\n",
    "    docs = [row[\"doc\"] for row in response[\"rows\"]]\n",
    "    challenge_columns = [\"ID\", \"ILLUM\", \"HUMID\", \"CO2\", \"SOUND\", \"TEMP\", \"RYTHM\"]\n",
    "    return pd.DataFrame(docs)[challenge_columns].copy()"
   ]
  },
  {
   "cell_type": "code",
   "execution_count": 3,
   "metadata": {},
   "outputs": [],
   "source": [
    "df = get_df(\"iot.csv\")"
   ]
  },
  {
   "cell_type": "markdown",
   "metadata": {},
   "source": [
    "## Exploração dos dados"
   ]
  },
  {
   "cell_type": "code",
   "execution_count": 4,
   "metadata": {},
   "outputs": [
    {
     "data": {
      "text/html": [
       "<div>\n",
       "<style scoped>\n",
       "    .dataframe tbody tr th:only-of-type {\n",
       "        vertical-align: middle;\n",
       "    }\n",
       "\n",
       "    .dataframe tbody tr th {\n",
       "        vertical-align: top;\n",
       "    }\n",
       "\n",
       "    .dataframe thead th {\n",
       "        text-align: right;\n",
       "    }\n",
       "</style>\n",
       "<table border=\"1\" class=\"dataframe\">\n",
       "  <thead>\n",
       "    <tr style=\"text-align: right;\">\n",
       "      <th></th>\n",
       "      <th>ID</th>\n",
       "      <th>ILLUM</th>\n",
       "      <th>HUMID</th>\n",
       "      <th>CO2</th>\n",
       "      <th>SOUND</th>\n",
       "      <th>TEMP</th>\n",
       "      <th>RYTHM</th>\n",
       "    </tr>\n",
       "  </thead>\n",
       "  <tbody>\n",
       "    <tr>\n",
       "      <th>0</th>\n",
       "      <td>2408</td>\n",
       "      <td>347.16</td>\n",
       "      <td>64.54</td>\n",
       "      <td>539.34</td>\n",
       "      <td>21.01</td>\n",
       "      <td>21.11</td>\n",
       "      <td>74.67</td>\n",
       "    </tr>\n",
       "    <tr>\n",
       "      <th>1</th>\n",
       "      <td>2424</td>\n",
       "      <td>435.80</td>\n",
       "      <td>71.66</td>\n",
       "      <td>518.60</td>\n",
       "      <td>30.21</td>\n",
       "      <td>18.43</td>\n",
       "      <td>78.02</td>\n",
       "    </tr>\n",
       "    <tr>\n",
       "      <th>...</th>\n",
       "      <td>...</td>\n",
       "      <td>...</td>\n",
       "      <td>...</td>\n",
       "      <td>...</td>\n",
       "      <td>...</td>\n",
       "      <td>...</td>\n",
       "      <td>...</td>\n",
       "    </tr>\n",
       "    <tr>\n",
       "      <th>3198</th>\n",
       "      <td>2392</td>\n",
       "      <td>445.78</td>\n",
       "      <td>64.84</td>\n",
       "      <td>546.35</td>\n",
       "      <td>31.68</td>\n",
       "      <td>17.09</td>\n",
       "      <td>79.92</td>\n",
       "    </tr>\n",
       "    <tr>\n",
       "      <th>3199</th>\n",
       "      <td>2403</td>\n",
       "      <td>488.24</td>\n",
       "      <td>61.63</td>\n",
       "      <td>552.23</td>\n",
       "      <td>29.54</td>\n",
       "      <td>21.36</td>\n",
       "      <td>88.97</td>\n",
       "    </tr>\n",
       "  </tbody>\n",
       "</table>\n",
       "<p>3200 rows × 7 columns</p>\n",
       "</div>"
      ],
      "text/plain": [
       "        ID   ILLUM  HUMID     CO2  SOUND   TEMP  RYTHM\n",
       "0     2408  347.16  64.54  539.34  21.01  21.11  74.67\n",
       "1     2424  435.80  71.66  518.60  30.21  18.43  78.02\n",
       "...    ...     ...    ...     ...    ...    ...    ...\n",
       "3198  2392  445.78  64.84  546.35  31.68  17.09  79.92\n",
       "3199  2403  488.24  61.63  552.23  29.54  21.36  88.97\n",
       "\n",
       "[3200 rows x 7 columns]"
      ]
     },
     "metadata": {},
     "output_type": "display_data"
    }
   ],
   "source": [
    "with pd.option_context(\"display.max_rows\", 4):\n",
    "    display(df)"
   ]
  },
  {
   "cell_type": "code",
   "execution_count": 5,
   "metadata": {},
   "outputs": [
    {
     "name": "stdout",
     "output_type": "stream",
     "text": [
      "<class 'pandas.core.frame.DataFrame'>\n",
      "RangeIndex: 3200 entries, 0 to 3199\n",
      "Data columns (total 7 columns):\n",
      " #   Column  Non-Null Count  Dtype  \n",
      "---  ------  --------------  -----  \n",
      " 0   ID      3200 non-null   int64  \n",
      " 1   ILLUM   3200 non-null   float64\n",
      " 2   HUMID   3200 non-null   float64\n",
      " 3   CO2     3200 non-null   float64\n",
      " 4   SOUND   3200 non-null   float64\n",
      " 5   TEMP    3200 non-null   float64\n",
      " 6   RYTHM   3200 non-null   float64\n",
      "dtypes: float64(6), int64(1)\n",
      "memory usage: 175.1 KB\n"
     ]
    }
   ],
   "source": [
    "df.info()"
   ]
  },
  {
   "cell_type": "code",
   "execution_count": 6,
   "metadata": {},
   "outputs": [
    {
     "data": {
      "text/html": [
       "<div>\n",
       "<style scoped>\n",
       "    .dataframe tbody tr th:only-of-type {\n",
       "        vertical-align: middle;\n",
       "    }\n",
       "\n",
       "    .dataframe tbody tr th {\n",
       "        vertical-align: top;\n",
       "    }\n",
       "\n",
       "    .dataframe thead th {\n",
       "        text-align: right;\n",
       "    }\n",
       "</style>\n",
       "<table border=\"1\" class=\"dataframe\">\n",
       "  <thead>\n",
       "    <tr style=\"text-align: right;\">\n",
       "      <th></th>\n",
       "      <th>ID</th>\n",
       "      <th>ILLUM</th>\n",
       "      <th>HUMID</th>\n",
       "      <th>CO2</th>\n",
       "      <th>SOUND</th>\n",
       "      <th>TEMP</th>\n",
       "      <th>RYTHM</th>\n",
       "    </tr>\n",
       "  </thead>\n",
       "  <tbody>\n",
       "    <tr>\n",
       "      <th>count</th>\n",
       "      <td>3200.000000</td>\n",
       "      <td>3200.000000</td>\n",
       "      <td>3200.000000</td>\n",
       "      <td>3200.000000</td>\n",
       "      <td>3200.000000</td>\n",
       "      <td>3200.000000</td>\n",
       "      <td>3200.000000</td>\n",
       "    </tr>\n",
       "    <tr>\n",
       "      <th>mean</th>\n",
       "      <td>1600.500000</td>\n",
       "      <td>439.163413</td>\n",
       "      <td>67.086106</td>\n",
       "      <td>501.620666</td>\n",
       "      <td>29.840194</td>\n",
       "      <td>20.042578</td>\n",
       "      <td>80.156616</td>\n",
       "    </tr>\n",
       "    <tr>\n",
       "      <th>std</th>\n",
       "      <td>923.904757</td>\n",
       "      <td>89.915142</td>\n",
       "      <td>4.776214</td>\n",
       "      <td>42.951183</td>\n",
       "      <td>6.158710</td>\n",
       "      <td>1.648479</td>\n",
       "      <td>6.755854</td>\n",
       "    </tr>\n",
       "    <tr>\n",
       "      <th>min</th>\n",
       "      <td>1.000000</td>\n",
       "      <td>145.480000</td>\n",
       "      <td>51.860000</td>\n",
       "      <td>352.820000</td>\n",
       "      <td>8.060000</td>\n",
       "      <td>14.760000</td>\n",
       "      <td>55.370000</td>\n",
       "    </tr>\n",
       "    <tr>\n",
       "      <th>25%</th>\n",
       "      <td>800.750000</td>\n",
       "      <td>377.060000</td>\n",
       "      <td>63.770000</td>\n",
       "      <td>471.427500</td>\n",
       "      <td>25.550000</td>\n",
       "      <td>18.920000</td>\n",
       "      <td>75.657500</td>\n",
       "    </tr>\n",
       "    <tr>\n",
       "      <th>50%</th>\n",
       "      <td>1600.500000</td>\n",
       "      <td>437.375000</td>\n",
       "      <td>66.935000</td>\n",
       "      <td>502.350000</td>\n",
       "      <td>29.885000</td>\n",
       "      <td>20.050000</td>\n",
       "      <td>80.220000</td>\n",
       "    </tr>\n",
       "    <tr>\n",
       "      <th>75%</th>\n",
       "      <td>2400.250000</td>\n",
       "      <td>500.792500</td>\n",
       "      <td>70.330000</td>\n",
       "      <td>530.142500</td>\n",
       "      <td>33.932500</td>\n",
       "      <td>21.180000</td>\n",
       "      <td>84.660000</td>\n",
       "    </tr>\n",
       "    <tr>\n",
       "      <th>max</th>\n",
       "      <td>3200.000000</td>\n",
       "      <td>775.140000</td>\n",
       "      <td>83.900000</td>\n",
       "      <td>672.380000</td>\n",
       "      <td>53.780000</td>\n",
       "      <td>26.290000</td>\n",
       "      <td>108.900000</td>\n",
       "    </tr>\n",
       "  </tbody>\n",
       "</table>\n",
       "</div>"
      ],
      "text/plain": [
       "                ID        ILLUM        HUMID          CO2        SOUND  \\\n",
       "count  3200.000000  3200.000000  3200.000000  3200.000000  3200.000000   \n",
       "mean   1600.500000   439.163413    67.086106   501.620666    29.840194   \n",
       "std     923.904757    89.915142     4.776214    42.951183     6.158710   \n",
       "min       1.000000   145.480000    51.860000   352.820000     8.060000   \n",
       "25%     800.750000   377.060000    63.770000   471.427500    25.550000   \n",
       "50%    1600.500000   437.375000    66.935000   502.350000    29.885000   \n",
       "75%    2400.250000   500.792500    70.330000   530.142500    33.932500   \n",
       "max    3200.000000   775.140000    83.900000   672.380000    53.780000   \n",
       "\n",
       "              TEMP        RYTHM  \n",
       "count  3200.000000  3200.000000  \n",
       "mean     20.042578    80.156616  \n",
       "std       1.648479     6.755854  \n",
       "min      14.760000    55.370000  \n",
       "25%      18.920000    75.657500  \n",
       "50%      20.050000    80.220000  \n",
       "75%      21.180000    84.660000  \n",
       "max      26.290000   108.900000  "
      ]
     },
     "execution_count": 6,
     "metadata": {},
     "output_type": "execute_result"
    }
   ],
   "source": [
    "df.describe()"
   ]
  }
 ],
 "metadata": {
  "kernelspec": {
   "display_name": "Python 3 (ipykernel)",
   "language": "python",
   "name": "python3"
  },
  "language_info": {
   "codemirror_mode": {
    "name": "ipython",
    "version": 3
   },
   "file_extension": ".py",
   "mimetype": "text/x-python",
   "name": "python",
   "nbconvert_exporter": "python",
   "pygments_lexer": "ipython3",
   "version": "3.8.12"
  }
 },
 "nbformat": 4,
 "nbformat_minor": 4
}
