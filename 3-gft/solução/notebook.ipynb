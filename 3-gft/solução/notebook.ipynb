{
 "cells": [
  {
   "cell_type": "markdown",
   "metadata": {
    "id": "77H_qb_Srt48"
   },
   "source": [
    "# Desafio 3 - Maratona Behind the Code 2021"
   ]
  },
  {
   "cell_type": "markdown",
   "metadata": {
    "id": "_dJpfBcfrt5B",
    "jp-MarkdownHeadingCollapsed": true,
    "tags": []
   },
   "source": [
    "## Bibliotecas"
   ]
  },
  {
   "cell_type": "code",
   "execution_count": 1,
   "metadata": {
    "id": "ZDZCMXKGrt5C"
   },
   "outputs": [],
   "source": [
    "from pathlib import Path\n",
    "\n",
    "import pandas as pd"
   ]
  },
  {
   "cell_type": "markdown",
   "metadata": {
    "id": "u_CjUkmcrt5F",
    "jp-MarkdownHeadingCollapsed": true,
    "tags": []
   },
   "source": [
    "## Configurações"
   ]
  },
  {
   "cell_type": "code",
   "execution_count": 2,
   "metadata": {
    "id": "2uxKYwSErt5F"
   },
   "outputs": [],
   "source": [
    "seed = 42\n",
    "data_path = Path(\"../desafio/assets/data/\")"
   ]
  },
  {
   "cell_type": "markdown",
   "metadata": {
    "id": "DZp3Hd03rt5G",
    "tags": []
   },
   "source": [
    "## Dados"
   ]
  },
  {
   "cell_type": "markdown",
   "metadata": {
    "id": "YtZUxog5rt5G",
    "jp-MarkdownHeadingCollapsed": true,
    "tags": []
   },
   "source": [
    "### Obtenção dos dados"
   ]
  },
  {
   "cell_type": "code",
   "execution_count": 3,
   "metadata": {},
   "outputs": [
    {
     "name": "stdout",
     "output_type": "stream",
     "text": [
      "['Financiamento Casa', 'Financiamento Carro', 'Emprestimo _pessoal', 'Emprestimo _consignado', 'Emprestimo _limite_especial', 'Emprestimo _educacao', 'Emprestimo _viagem', 'Investimento CDB', 'Investimento Fundos']\n"
     ]
    }
   ],
   "source": [
    "retail = pd.read_csv(data_path / \"RetailBankEFG.csv\", index_col=\"ID\")\n",
    "retail_cols = list(retail.columns)\n",
    "print(retail_cols)"
   ]
  },
  {
   "cell_type": "code",
   "execution_count": 4,
   "metadata": {},
   "outputs": [
    {
     "name": "stdout",
     "output_type": "stream",
     "text": [
      "['Investimento Fundos_cambiais', 'Investimento Fundos_commodities', 'Investimento LCI', 'Investimento LCA', 'Investimento Poupanca', 'Investimento Fundos Multimercado', 'Investimento Tesouro Direto']\n"
     ]
    }
   ],
   "source": [
    "investment = pd.read_csv(data_path / \"InvestmentBankCDE.csv\", index_col=\"ID\")\n",
    "investment_cols = list(investment.columns)\n",
    "print(investment_cols)"
   ]
  },
  {
   "cell_type": "code",
   "execution_count": 5,
   "metadata": {},
   "outputs": [
    {
     "name": "stdout",
     "output_type": "stream",
     "text": [
      "['Idade', 'Renda', 'Regiao', 'Genero', 'seguro auto', 'seguro vida Emp', 'seguro vida PF', 'Seguro Residencial']\n"
     ]
    }
   ],
   "source": [
    "insurance = pd.read_csv(data_path / \"InsuranceCompanyABC.csv\", index_col=\"ID\")\n",
    "insurance_cols = list(insurance.columns)\n",
    "print(insurance_cols)"
   ]
  },
  {
   "cell_type": "code",
   "execution_count": 6,
   "metadata": {},
   "outputs": [
    {
     "name": "stdout",
     "output_type": "stream",
     "text": [
      "['ID', 'Idade', 'Renda', 'Regiao', 'Genero', 'seguro auto', 'seguro vida Emp', 'seguro vida PF', 'Seguro Residencial', 'Investimento Fundos_cambiais', 'Investimento Fundos_commodities', 'Investimento LCI', 'Investimento LCA', 'Investimento Poupanca', 'Investimento Fundos Multimercado', 'Investimento Tesouro Direto', 'Financiamento Casa', 'Financiamento Carro', 'Emprestimo _pessoal', 'Emprestimo _consignado', 'Emprestimo _limite_especial', 'Emprestimo _educacao', 'Emprestimo _viagem', 'Investimento CDB', 'Investimento Fundos', 'RECOMMENDATION_1', 'CONFIDENCE_1', 'RECOMMENDATION_2', 'CONFIDENCE_2', 'RECOMMENDATION_3', 'CONFIDENCE_3']\n"
     ]
    }
   ],
   "source": [
    "answers = pd.read_csv(data_path / \"ANSWERS.csv\")\n",
    "print(list(answers.columns))"
   ]
  },
  {
   "cell_type": "code",
   "execution_count": 7,
   "metadata": {},
   "outputs": [],
   "source": [
    "assert insurance.index.equals(investment.index) and insurance.index.equals(retail.index)\n",
    "\n",
    "df = pd.concat([insurance, investment, retail], axis=1).reset_index()\n",
    "target_cols = ['RECOMMENDATION_1', 'CONFIDENCE_1', 'RECOMMENDATION_2', 'CONFIDENCE_2', 'RECOMMENDATION_3', 'CONFIDENCE_3']"
   ]
  },
  {
   "cell_type": "markdown",
   "metadata": {},
   "source": [
    "### Dados de exemplo"
   ]
  },
  {
   "cell_type": "code",
   "execution_count": 8,
   "metadata": {},
   "outputs": [
    {
     "data": {
      "text/html": [
       "<div>\n",
       "<style scoped>\n",
       "    .dataframe tbody tr th:only-of-type {\n",
       "        vertical-align: middle;\n",
       "    }\n",
       "\n",
       "    .dataframe tbody tr th {\n",
       "        vertical-align: top;\n",
       "    }\n",
       "\n",
       "    .dataframe thead th {\n",
       "        text-align: right;\n",
       "    }\n",
       "</style>\n",
       "<table border=\"1\" class=\"dataframe\">\n",
       "  <thead>\n",
       "    <tr style=\"text-align: right;\">\n",
       "      <th></th>\n",
       "      <th>ID</th>\n",
       "      <th>Idade</th>\n",
       "      <th>Renda</th>\n",
       "      <th>Regiao</th>\n",
       "      <th>Genero</th>\n",
       "      <th>seguro auto</th>\n",
       "      <th>seguro vida Emp</th>\n",
       "      <th>seguro vida PF</th>\n",
       "      <th>Seguro Residencial</th>\n",
       "      <th>Investimento Fundos_cambiais</th>\n",
       "      <th>Investimento Fundos_commodities</th>\n",
       "      <th>Investimento LCI</th>\n",
       "      <th>Investimento LCA</th>\n",
       "      <th>Investimento Poupanca</th>\n",
       "      <th>Investimento Fundos Multimercado</th>\n",
       "      <th>Investimento Tesouro Direto</th>\n",
       "      <th>Financiamento Casa</th>\n",
       "      <th>Financiamento Carro</th>\n",
       "      <th>Emprestimo _pessoal</th>\n",
       "      <th>Emprestimo _consignado</th>\n",
       "      <th>Emprestimo _limite_especial</th>\n",
       "      <th>Emprestimo _educacao</th>\n",
       "      <th>Emprestimo _viagem</th>\n",
       "      <th>Investimento CDB</th>\n",
       "      <th>Investimento Fundos</th>\n",
       "    </tr>\n",
       "  </thead>\n",
       "  <tbody>\n",
       "    <tr>\n",
       "      <th>5032</th>\n",
       "      <td>79717.0</td>\n",
       "      <td>29.944</td>\n",
       "      <td>7511.742</td>\n",
       "      <td>CO</td>\n",
       "      <td>1.0</td>\n",
       "      <td>F</td>\n",
       "      <td>F</td>\n",
       "      <td>F</td>\n",
       "      <td>F</td>\n",
       "      <td>T</td>\n",
       "      <td>T</td>\n",
       "      <td>T</td>\n",
       "      <td>T</td>\n",
       "      <td>T</td>\n",
       "      <td>T</td>\n",
       "      <td>T</td>\n",
       "      <td>F</td>\n",
       "      <td>F</td>\n",
       "      <td>F</td>\n",
       "      <td>F</td>\n",
       "      <td>F</td>\n",
       "      <td>F</td>\n",
       "      <td>F</td>\n",
       "      <td>F</td>\n",
       "      <td>F</td>\n",
       "    </tr>\n",
       "    <tr>\n",
       "      <th>33</th>\n",
       "      <td>20858.0</td>\n",
       "      <td>36.170</td>\n",
       "      <td>5276.354</td>\n",
       "      <td>SE</td>\n",
       "      <td>0.0</td>\n",
       "      <td>T</td>\n",
       "      <td>F</td>\n",
       "      <td>F</td>\n",
       "      <td>F</td>\n",
       "      <td>T</td>\n",
       "      <td>T</td>\n",
       "      <td>F</td>\n",
       "      <td>T</td>\n",
       "      <td>F</td>\n",
       "      <td>F</td>\n",
       "      <td>F</td>\n",
       "      <td>T</td>\n",
       "      <td>T</td>\n",
       "      <td>F</td>\n",
       "      <td>F</td>\n",
       "      <td>F</td>\n",
       "      <td>T</td>\n",
       "      <td>F</td>\n",
       "      <td>F</td>\n",
       "      <td>F</td>\n",
       "    </tr>\n",
       "  </tbody>\n",
       "</table>\n",
       "</div>"
      ],
      "text/plain": [
       "           ID   Idade     Renda Regiao  Genero seguro auto seguro vida Emp  \\\n",
       "5032  79717.0  29.944  7511.742     CO     1.0           F               F   \n",
       "33    20858.0  36.170  5276.354     SE     0.0           T               F   \n",
       "\n",
       "     seguro vida PF Seguro Residencial Investimento Fundos_cambiais  \\\n",
       "5032              F                  F                            T   \n",
       "33                F                  F                            T   \n",
       "\n",
       "     Investimento Fundos_commodities Investimento LCI Investimento LCA  \\\n",
       "5032                               T                T                T   \n",
       "33                                 T                F                T   \n",
       "\n",
       "     Investimento Poupanca Investimento Fundos Multimercado  \\\n",
       "5032                     T                                T   \n",
       "33                       F                                F   \n",
       "\n",
       "     Investimento Tesouro Direto Financiamento Casa Financiamento Carro  \\\n",
       "5032                           T                  F                   F   \n",
       "33                             F                  T                   T   \n",
       "\n",
       "     Emprestimo _pessoal Emprestimo _consignado Emprestimo _limite_especial  \\\n",
       "5032                   F                      F                           F   \n",
       "33                     F                      F                           F   \n",
       "\n",
       "     Emprestimo _educacao Emprestimo _viagem Investimento CDB  \\\n",
       "5032                    F                  F                F   \n",
       "33                      T                  F                F   \n",
       "\n",
       "     Investimento Fundos  \n",
       "5032                   F  \n",
       "33                     F  "
      ]
     },
     "metadata": {},
     "output_type": "display_data"
    }
   ],
   "source": [
    "with pd.option_context(\"display.max_columns\", None):\n",
    "    display(df.sample(2, random_state=seed))"
   ]
  },
  {
   "cell_type": "markdown",
   "metadata": {},
   "source": [
    "### Tipos de dados"
   ]
  },
  {
   "cell_type": "code",
   "execution_count": 9,
   "metadata": {},
   "outputs": [],
   "source": [
    "df['ID'] = df['ID'].astype(int)\n",
    "df['Genero'] = df['Genero'].astype(bool)  # Whether the client is of a given gender (which one?)\n",
    "df['Regiao'] = df['Regiao'].astype('category')\n",
    "\n",
    "for col in df.columns:\n",
    "    if df[col].iloc[0] in ['F', 'T'] and df[col].nunique() == 2:\n",
    "        df[col] = df[col].map({'T': True, 'F': False})"
   ]
  },
  {
   "cell_type": "markdown",
   "metadata": {
    "id": "ovkHGFmRrt5I",
    "tags": []
   },
   "source": [
    "### Informações gerais"
   ]
  },
  {
   "cell_type": "code",
   "execution_count": 10,
   "metadata": {
    "colab": {
     "base_uri": "https://localhost:8080/"
    },
    "id": "x4lb4LPdrt5J",
    "outputId": "cc04aa65-4981-486f-d177-0bbcbc8631eb"
   },
   "outputs": [
    {
     "name": "stdout",
     "output_type": "stream",
     "text": [
      "<class 'pandas.core.frame.DataFrame'>\n",
      "RangeIndex: 10082 entries, 0 to 10081\n",
      "Data columns (total 25 columns):\n",
      " #   Column                            Non-Null Count  Dtype   \n",
      "---  ------                            --------------  -----   \n",
      " 0   ID                                10082 non-null  int64   \n",
      " 1   Idade                             10082 non-null  float64 \n",
      " 2   Renda                             10082 non-null  float64 \n",
      " 3   Regiao                            10082 non-null  category\n",
      " 4   Genero                            10082 non-null  bool    \n",
      " 5   seguro auto                       10082 non-null  bool    \n",
      " 6   seguro vida Emp                   10082 non-null  bool    \n",
      " 7   seguro vida PF                    10082 non-null  bool    \n",
      " 8   Seguro Residencial                10082 non-null  bool    \n",
      " 9   Investimento Fundos_cambiais      10082 non-null  bool    \n",
      " 10  Investimento Fundos_commodities   10082 non-null  bool    \n",
      " 11  Investimento LCI                  10082 non-null  bool    \n",
      " 12  Investimento LCA                  10082 non-null  bool    \n",
      " 13  Investimento Poupanca             10082 non-null  bool    \n",
      " 14  Investimento Fundos Multimercado  10082 non-null  bool    \n",
      " 15  Investimento Tesouro Direto       10082 non-null  bool    \n",
      " 16  Financiamento Casa                10082 non-null  bool    \n",
      " 17  Financiamento Carro               10082 non-null  bool    \n",
      " 18  Emprestimo _pessoal               10082 non-null  bool    \n",
      " 19  Emprestimo _consignado            10082 non-null  bool    \n",
      " 20  Emprestimo _limite_especial       10082 non-null  bool    \n",
      " 21  Emprestimo _educacao              10082 non-null  bool    \n",
      " 22  Emprestimo _viagem                10082 non-null  bool    \n",
      " 23  Investimento CDB                  10082 non-null  bool    \n",
      " 24  Investimento Fundos               10082 non-null  bool    \n",
      "dtypes: bool(21), category(1), float64(2), int64(1)\n",
      "memory usage: 453.2 KB\n"
     ]
    }
   ],
   "source": [
    "df.info()"
   ]
  },
  {
   "cell_type": "markdown",
   "metadata": {
    "id": "ZgazakA0rt5K"
   },
   "source": [
    "Neste conjunto de dados:\n",
    "- Há tanto variáveis numéricas quanto categóricas/booleanas\n",
    "- Não há dados faltantes"
   ]
  },
  {
   "cell_type": "markdown",
   "metadata": {},
   "source": [
    "### Variáveis categóricas e booleanas"
   ]
  },
  {
   "cell_type": "code",
   "execution_count": 12,
   "metadata": {},
   "outputs": [
    {
     "data": {
      "text/html": [
       "<div>\n",
       "<style scoped>\n",
       "    .dataframe tbody tr th:only-of-type {\n",
       "        vertical-align: middle;\n",
       "    }\n",
       "\n",
       "    .dataframe tbody tr th {\n",
       "        vertical-align: top;\n",
       "    }\n",
       "\n",
       "    .dataframe thead th {\n",
       "        text-align: right;\n",
       "    }\n",
       "</style>\n",
       "<table border=\"1\" class=\"dataframe\">\n",
       "  <thead>\n",
       "    <tr style=\"text-align: right;\">\n",
       "      <th></th>\n",
       "      <th>Regiao</th>\n",
       "      <th>Genero</th>\n",
       "      <th>seguro auto</th>\n",
       "      <th>seguro vida Emp</th>\n",
       "      <th>seguro vida PF</th>\n",
       "      <th>Seguro Residencial</th>\n",
       "      <th>Investimento Fundos_cambiais</th>\n",
       "      <th>Investimento Fundos_commodities</th>\n",
       "      <th>Investimento LCI</th>\n",
       "      <th>Investimento LCA</th>\n",
       "      <th>Investimento Poupanca</th>\n",
       "      <th>Investimento Fundos Multimercado</th>\n",
       "      <th>Investimento Tesouro Direto</th>\n",
       "      <th>Financiamento Casa</th>\n",
       "      <th>Financiamento Carro</th>\n",
       "      <th>Emprestimo _pessoal</th>\n",
       "      <th>Emprestimo _consignado</th>\n",
       "      <th>Emprestimo _limite_especial</th>\n",
       "      <th>Emprestimo _educacao</th>\n",
       "      <th>Emprestimo _viagem</th>\n",
       "      <th>Investimento CDB</th>\n",
       "      <th>Investimento Fundos</th>\n",
       "    </tr>\n",
       "  </thead>\n",
       "  <tbody>\n",
       "    <tr>\n",
       "      <th>count</th>\n",
       "      <td>10082</td>\n",
       "      <td>10082</td>\n",
       "      <td>10082</td>\n",
       "      <td>10082</td>\n",
       "      <td>10082</td>\n",
       "      <td>10082</td>\n",
       "      <td>10082</td>\n",
       "      <td>10082</td>\n",
       "      <td>10082</td>\n",
       "      <td>10082</td>\n",
       "      <td>10082</td>\n",
       "      <td>10082</td>\n",
       "      <td>10082</td>\n",
       "      <td>10082</td>\n",
       "      <td>10082</td>\n",
       "      <td>10082</td>\n",
       "      <td>10082</td>\n",
       "      <td>10082</td>\n",
       "      <td>10082</td>\n",
       "      <td>10082</td>\n",
       "      <td>10082</td>\n",
       "      <td>10082</td>\n",
       "    </tr>\n",
       "    <tr>\n",
       "      <th>unique</th>\n",
       "      <td>5</td>\n",
       "      <td>2</td>\n",
       "      <td>2</td>\n",
       "      <td>2</td>\n",
       "      <td>2</td>\n",
       "      <td>2</td>\n",
       "      <td>2</td>\n",
       "      <td>2</td>\n",
       "      <td>2</td>\n",
       "      <td>2</td>\n",
       "      <td>2</td>\n",
       "      <td>2</td>\n",
       "      <td>2</td>\n",
       "      <td>2</td>\n",
       "      <td>2</td>\n",
       "      <td>2</td>\n",
       "      <td>2</td>\n",
       "      <td>2</td>\n",
       "      <td>2</td>\n",
       "      <td>2</td>\n",
       "      <td>2</td>\n",
       "      <td>2</td>\n",
       "    </tr>\n",
       "    <tr>\n",
       "      <th>top</th>\n",
       "      <td>SE</td>\n",
       "      <td>True</td>\n",
       "      <td>False</td>\n",
       "      <td>False</td>\n",
       "      <td>False</td>\n",
       "      <td>False</td>\n",
       "      <td>False</td>\n",
       "      <td>False</td>\n",
       "      <td>False</td>\n",
       "      <td>False</td>\n",
       "      <td>False</td>\n",
       "      <td>False</td>\n",
       "      <td>False</td>\n",
       "      <td>False</td>\n",
       "      <td>False</td>\n",
       "      <td>False</td>\n",
       "      <td>False</td>\n",
       "      <td>False</td>\n",
       "      <td>False</td>\n",
       "      <td>False</td>\n",
       "      <td>True</td>\n",
       "      <td>False</td>\n",
       "    </tr>\n",
       "    <tr>\n",
       "      <th>freq</th>\n",
       "      <td>4557</td>\n",
       "      <td>5531</td>\n",
       "      <td>7268</td>\n",
       "      <td>6602</td>\n",
       "      <td>7566</td>\n",
       "      <td>6729</td>\n",
       "      <td>6602</td>\n",
       "      <td>6603</td>\n",
       "      <td>6658</td>\n",
       "      <td>7068</td>\n",
       "      <td>5834</td>\n",
       "      <td>7530</td>\n",
       "      <td>7069</td>\n",
       "      <td>8947</td>\n",
       "      <td>7580</td>\n",
       "      <td>8023</td>\n",
       "      <td>8497</td>\n",
       "      <td>8470</td>\n",
       "      <td>8494</td>\n",
       "      <td>7594</td>\n",
       "      <td>5068</td>\n",
       "      <td>6699</td>\n",
       "    </tr>\n",
       "  </tbody>\n",
       "</table>\n",
       "</div>"
      ],
      "text/plain": [
       "       Regiao Genero seguro auto seguro vida Emp seguro vida PF  \\\n",
       "count   10082  10082       10082           10082          10082   \n",
       "unique      5      2           2               2              2   \n",
       "top        SE   True       False           False          False   \n",
       "freq     4557   5531        7268            6602           7566   \n",
       "\n",
       "       Seguro Residencial Investimento Fundos_cambiais  \\\n",
       "count               10082                        10082   \n",
       "unique                  2                            2   \n",
       "top                 False                        False   \n",
       "freq                 6729                         6602   \n",
       "\n",
       "       Investimento Fundos_commodities Investimento LCI Investimento LCA  \\\n",
       "count                            10082            10082            10082   \n",
       "unique                               2                2                2   \n",
       "top                              False            False            False   \n",
       "freq                              6603             6658             7068   \n",
       "\n",
       "       Investimento Poupanca Investimento Fundos Multimercado  \\\n",
       "count                  10082                            10082   \n",
       "unique                     2                                2   \n",
       "top                    False                            False   \n",
       "freq                    5834                             7530   \n",
       "\n",
       "       Investimento Tesouro Direto Financiamento Casa Financiamento Carro  \\\n",
       "count                        10082              10082               10082   \n",
       "unique                           2                  2                   2   \n",
       "top                          False              False               False   \n",
       "freq                          7069               8947                7580   \n",
       "\n",
       "       Emprestimo _pessoal Emprestimo _consignado Emprestimo _limite_especial  \\\n",
       "count                10082                  10082                       10082   \n",
       "unique                   2                      2                           2   \n",
       "top                  False                  False                       False   \n",
       "freq                  8023                   8497                        8470   \n",
       "\n",
       "       Emprestimo _educacao Emprestimo _viagem Investimento CDB  \\\n",
       "count                 10082              10082            10082   \n",
       "unique                    2                  2                2   \n",
       "top                   False              False             True   \n",
       "freq                   8494               7594             5068   \n",
       "\n",
       "       Investimento Fundos  \n",
       "count                10082  \n",
       "unique                   2  \n",
       "top                  False  \n",
       "freq                  6699  "
      ]
     },
     "metadata": {},
     "output_type": "display_data"
    }
   ],
   "source": [
    "non_numeric_cols = list(df.select_dtypes(include=['category', bool]).columns)\n",
    "with pd.option_context(\"display.max_columns\", None):\n",
    "    display(df.describe(include=['category', bool]))"
   ]
  },
  {
   "cell_type": "code",
   "execution_count": 13,
   "metadata": {},
   "outputs": [
    {
     "data": {
      "text/html": [
       "<div>\n",
       "<style scoped>\n",
       "    .dataframe tbody tr th:only-of-type {\n",
       "        vertical-align: middle;\n",
       "    }\n",
       "\n",
       "    .dataframe tbody tr th {\n",
       "        vertical-align: top;\n",
       "    }\n",
       "\n",
       "    .dataframe thead th {\n",
       "        text-align: right;\n",
       "    }\n",
       "</style>\n",
       "<table border=\"1\" class=\"dataframe\">\n",
       "  <thead>\n",
       "    <tr style=\"text-align: right;\">\n",
       "      <th></th>\n",
       "      <th>ID</th>\n",
       "    </tr>\n",
       "  </thead>\n",
       "  <tbody>\n",
       "    <tr>\n",
       "      <th>count</th>\n",
       "      <td>10082</td>\n",
       "    </tr>\n",
       "    <tr>\n",
       "      <th>unique</th>\n",
       "      <td>9530</td>\n",
       "    </tr>\n",
       "    <tr>\n",
       "      <th>top</th>\n",
       "      <td>14391</td>\n",
       "    </tr>\n",
       "    <tr>\n",
       "      <th>freq</th>\n",
       "      <td>4</td>\n",
       "    </tr>\n",
       "  </tbody>\n",
       "</table>\n",
       "</div>"
      ],
      "text/plain": [
       "           ID\n",
       "count   10082\n",
       "unique   9530\n",
       "top     14391\n",
       "freq        4"
      ]
     },
     "execution_count": 13,
     "metadata": {},
     "output_type": "execute_result"
    }
   ],
   "source": [
    "df['ID'].astype('category').describe().to_frame()"
   ]
  },
  {
   "cell_type": "markdown",
   "metadata": {},
   "source": [
    "Observações:\n",
    "- Somente para duas das variáveis booleanas o valor `True` é o mais frequente: `Genero` e `Investimento CDB`\n",
    "- Alguns índices (`ID`) ocorrem mais de uma vez"
   ]
  },
  {
   "cell_type": "markdown",
   "metadata": {},
   "source": [
    "### Variáveis numéricas"
   ]
  },
  {
   "cell_type": "code",
   "execution_count": 14,
   "metadata": {},
   "outputs": [
    {
     "data": {
      "text/html": [
       "<div>\n",
       "<style scoped>\n",
       "    .dataframe tbody tr th:only-of-type {\n",
       "        vertical-align: middle;\n",
       "    }\n",
       "\n",
       "    .dataframe tbody tr th {\n",
       "        vertical-align: top;\n",
       "    }\n",
       "\n",
       "    .dataframe thead th {\n",
       "        text-align: right;\n",
       "    }\n",
       "</style>\n",
       "<table border=\"1\" class=\"dataframe\">\n",
       "  <thead>\n",
       "    <tr style=\"text-align: right;\">\n",
       "      <th></th>\n",
       "      <th>Idade</th>\n",
       "      <th>Renda</th>\n",
       "    </tr>\n",
       "  </thead>\n",
       "  <tbody>\n",
       "    <tr>\n",
       "      <th>count</th>\n",
       "      <td>10082.000000</td>\n",
       "      <td>10082.000000</td>\n",
       "    </tr>\n",
       "    <tr>\n",
       "      <th>mean</th>\n",
       "      <td>38.461186</td>\n",
       "      <td>7783.396381</td>\n",
       "    </tr>\n",
       "    <tr>\n",
       "      <th>std</th>\n",
       "      <td>12.212422</td>\n",
       "      <td>7303.024782</td>\n",
       "    </tr>\n",
       "    <tr>\n",
       "      <th>min</th>\n",
       "      <td>18.009000</td>\n",
       "      <td>2312.000000</td>\n",
       "    </tr>\n",
       "    <tr>\n",
       "      <th>25%</th>\n",
       "      <td>28.925500</td>\n",
       "      <td>6971.313000</td>\n",
       "    </tr>\n",
       "    <tr>\n",
       "      <th>50%</th>\n",
       "      <td>37.229500</td>\n",
       "      <td>7522.556000</td>\n",
       "    </tr>\n",
       "    <tr>\n",
       "      <th>75%</th>\n",
       "      <td>46.639500</td>\n",
       "      <td>8061.152000</td>\n",
       "    </tr>\n",
       "    <tr>\n",
       "      <th>max</th>\n",
       "      <td>85.605000</td>\n",
       "      <td>580000.000000</td>\n",
       "    </tr>\n",
       "  </tbody>\n",
       "</table>\n",
       "</div>"
      ],
      "text/plain": [
       "              Idade          Renda\n",
       "count  10082.000000   10082.000000\n",
       "mean      38.461186    7783.396381\n",
       "std       12.212422    7303.024782\n",
       "min       18.009000    2312.000000\n",
       "25%       28.925500    6971.313000\n",
       "50%       37.229500    7522.556000\n",
       "75%       46.639500    8061.152000\n",
       "max       85.605000  580000.000000"
      ]
     },
     "metadata": {},
     "output_type": "display_data"
    }
   ],
   "source": [
    "numeric_cols = list(df.select_dtypes(include=float).columns)\n",
    "with pd.option_context(\"display.max_columns\", None):\n",
    "    display(df.describe(include=float))"
   ]
  }
 ],
 "metadata": {
  "colab": {
   "collapsed_sections": [],
   "name": "Copy of notebook.ipynb",
   "provenance": []
  },
  "kernelspec": {
   "display_name": "Python 3 (ipykernel)",
   "language": "python",
   "name": "python3"
  },
  "language_info": {
   "codemirror_mode": {
    "name": "ipython",
    "version": 3
   },
   "file_extension": ".py",
   "mimetype": "text/x-python",
   "name": "python",
   "nbconvert_exporter": "python",
   "pygments_lexer": "ipython3",
   "version": "3.8.12"
  }
 },
 "nbformat": 4,
 "nbformat_minor": 4
}
