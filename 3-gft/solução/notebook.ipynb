{
 "cells": [
  {
   "cell_type": "markdown",
   "metadata": {
    "id": "77H_qb_Srt48"
   },
   "source": [
    "# Desafio 3 - Maratona Behind the Code 2021"
   ]
  },
  {
   "cell_type": "markdown",
   "metadata": {
    "id": "_dJpfBcfrt5B",
    "jp-MarkdownHeadingCollapsed": true,
    "tags": []
   },
   "source": [
    "## Bibliotecas"
   ]
  },
  {
   "cell_type": "code",
   "execution_count": 1,
   "metadata": {
    "id": "ZDZCMXKGrt5C"
   },
   "outputs": [],
   "source": [
    "from pathlib import Path\n",
    "\n",
    "import matplotlib.pyplot as plt\n",
    "import pandas as pd\n",
    "import seaborn as sns\n",
    "from efficient_apriori import apriori\n",
    "from IPython.display import display"
   ]
  },
  {
   "cell_type": "markdown",
   "metadata": {
    "id": "u_CjUkmcrt5F",
    "jp-MarkdownHeadingCollapsed": true,
    "tags": []
   },
   "source": [
    "## Configurações"
   ]
  },
  {
   "cell_type": "code",
   "execution_count": 2,
   "metadata": {
    "id": "2uxKYwSErt5F"
   },
   "outputs": [],
   "source": [
    "seed = 42\n",
    "data_path = Path(\"../desafio/assets/data/\")"
   ]
  },
  {
   "cell_type": "markdown",
   "metadata": {
    "id": "DZp3Hd03rt5G",
    "tags": [],
    "toc-hr-collapsed": true
   },
   "source": [
    "## Dados"
   ]
  },
  {
   "cell_type": "markdown",
   "metadata": {
    "id": "YtZUxog5rt5G",
    "jp-MarkdownHeadingCollapsed": true,
    "tags": []
   },
   "source": [
    "### Obtenção dos dados"
   ]
  },
  {
   "cell_type": "code",
   "execution_count": 3,
   "metadata": {},
   "outputs": [
    {
     "name": "stdout",
     "output_type": "stream",
     "text": [
      "['Financiamento Casa', 'Financiamento Carro', 'Emprestimo _pessoal', 'Emprestimo _consignado', 'Emprestimo _limite_especial', 'Emprestimo _educacao', 'Emprestimo _viagem', 'Investimento CDB', 'Investimento Fundos']\n"
     ]
    }
   ],
   "source": [
    "retail = pd.read_csv(data_path / \"RetailBankEFG.csv\", index_col=\"ID\")\n",
    "retail_cols = list(retail.columns)\n",
    "print(retail_cols)"
   ]
  },
  {
   "cell_type": "code",
   "execution_count": 4,
   "metadata": {},
   "outputs": [
    {
     "name": "stdout",
     "output_type": "stream",
     "text": [
      "['Investimento Fundos_cambiais', 'Investimento Fundos_commodities', 'Investimento LCI', 'Investimento LCA', 'Investimento Poupanca', 'Investimento Fundos Multimercado', 'Investimento Tesouro Direto']\n"
     ]
    }
   ],
   "source": [
    "investment = pd.read_csv(data_path / \"InvestmentBankCDE.csv\", index_col=\"ID\")\n",
    "investment_cols = list(investment.columns)\n",
    "print(investment_cols)"
   ]
  },
  {
   "cell_type": "code",
   "execution_count": 5,
   "metadata": {},
   "outputs": [
    {
     "name": "stdout",
     "output_type": "stream",
     "text": [
      "['Idade', 'Renda', 'Regiao', 'Genero', 'seguro auto', 'seguro vida Emp', 'seguro vida PF', 'Seguro Residencial']\n"
     ]
    }
   ],
   "source": [
    "insurance = pd.read_csv(data_path / \"InsuranceCompanyABC.csv\", index_col=\"ID\")\n",
    "insurance_cols = list(insurance.columns)\n",
    "print(insurance_cols)"
   ]
  },
  {
   "cell_type": "code",
   "execution_count": 6,
   "metadata": {},
   "outputs": [
    {
     "name": "stdout",
     "output_type": "stream",
     "text": [
      "['ID', 'Idade', 'Renda', 'Regiao', 'Genero', 'seguro auto', 'seguro vida Emp', 'seguro vida PF', 'Seguro Residencial', 'Investimento Fundos_cambiais', 'Investimento Fundos_commodities', 'Investimento LCI', 'Investimento LCA', 'Investimento Poupanca', 'Investimento Fundos Multimercado', 'Investimento Tesouro Direto', 'Financiamento Casa', 'Financiamento Carro', 'Emprestimo _pessoal', 'Emprestimo _consignado', 'Emprestimo _limite_especial', 'Emprestimo _educacao', 'Emprestimo _viagem', 'Investimento CDB', 'Investimento Fundos', 'RECOMMENDATION_1', 'CONFIDENCE_1', 'RECOMMENDATION_2', 'CONFIDENCE_2', 'RECOMMENDATION_3', 'CONFIDENCE_3']\n"
     ]
    }
   ],
   "source": [
    "answers = pd.read_csv(data_path / \"ANSWERS.csv\")\n",
    "print(list(answers.columns))"
   ]
  },
  {
   "cell_type": "code",
   "execution_count": 7,
   "metadata": {},
   "outputs": [],
   "source": [
    "assert insurance.index.equals(investment.index) and insurance.index.equals(retail.index)\n",
    "\n",
    "df_all = pd.concat([insurance, investment, retail], axis=1).reset_index()\n",
    "target_cols = [\n",
    "    \"RECOMMENDATION_1\",\n",
    "    \"CONFIDENCE_1\",\n",
    "    \"RECOMMENDATION_2\",\n",
    "    \"CONFIDENCE_2\",\n",
    "    \"RECOMMENDATION_3\",\n",
    "    \"CONFIDENCE_3\",\n",
    "]"
   ]
  },
  {
   "cell_type": "markdown",
   "metadata": {
    "jp-MarkdownHeadingCollapsed": true,
    "tags": []
   },
   "source": [
    "### Dados de exemplo"
   ]
  },
  {
   "cell_type": "code",
   "execution_count": 8,
   "metadata": {},
   "outputs": [
    {
     "data": {
      "text/html": [
       "<div>\n",
       "<style scoped>\n",
       "    .dataframe tbody tr th:only-of-type {\n",
       "        vertical-align: middle;\n",
       "    }\n",
       "\n",
       "    .dataframe tbody tr th {\n",
       "        vertical-align: top;\n",
       "    }\n",
       "\n",
       "    .dataframe thead th {\n",
       "        text-align: right;\n",
       "    }\n",
       "</style>\n",
       "<table border=\"1\" class=\"dataframe\">\n",
       "  <thead>\n",
       "    <tr style=\"text-align: right;\">\n",
       "      <th></th>\n",
       "      <th>ID</th>\n",
       "      <th>Idade</th>\n",
       "      <th>Renda</th>\n",
       "      <th>Regiao</th>\n",
       "      <th>Genero</th>\n",
       "      <th>seguro auto</th>\n",
       "      <th>seguro vida Emp</th>\n",
       "      <th>seguro vida PF</th>\n",
       "      <th>Seguro Residencial</th>\n",
       "      <th>Investimento Fundos_cambiais</th>\n",
       "      <th>Investimento Fundos_commodities</th>\n",
       "      <th>Investimento LCI</th>\n",
       "      <th>Investimento LCA</th>\n",
       "      <th>Investimento Poupanca</th>\n",
       "      <th>Investimento Fundos Multimercado</th>\n",
       "      <th>Investimento Tesouro Direto</th>\n",
       "      <th>Financiamento Casa</th>\n",
       "      <th>Financiamento Carro</th>\n",
       "      <th>Emprestimo _pessoal</th>\n",
       "      <th>Emprestimo _consignado</th>\n",
       "      <th>Emprestimo _limite_especial</th>\n",
       "      <th>Emprestimo _educacao</th>\n",
       "      <th>Emprestimo _viagem</th>\n",
       "      <th>Investimento CDB</th>\n",
       "      <th>Investimento Fundos</th>\n",
       "    </tr>\n",
       "  </thead>\n",
       "  <tbody>\n",
       "    <tr>\n",
       "      <th>5032</th>\n",
       "      <td>79717.0</td>\n",
       "      <td>29.944</td>\n",
       "      <td>7511.742</td>\n",
       "      <td>CO</td>\n",
       "      <td>1.0</td>\n",
       "      <td>F</td>\n",
       "      <td>F</td>\n",
       "      <td>F</td>\n",
       "      <td>F</td>\n",
       "      <td>T</td>\n",
       "      <td>T</td>\n",
       "      <td>T</td>\n",
       "      <td>T</td>\n",
       "      <td>T</td>\n",
       "      <td>T</td>\n",
       "      <td>T</td>\n",
       "      <td>F</td>\n",
       "      <td>F</td>\n",
       "      <td>F</td>\n",
       "      <td>F</td>\n",
       "      <td>F</td>\n",
       "      <td>F</td>\n",
       "      <td>F</td>\n",
       "      <td>F</td>\n",
       "      <td>F</td>\n",
       "    </tr>\n",
       "    <tr>\n",
       "      <th>33</th>\n",
       "      <td>20858.0</td>\n",
       "      <td>36.170</td>\n",
       "      <td>5276.354</td>\n",
       "      <td>SE</td>\n",
       "      <td>0.0</td>\n",
       "      <td>T</td>\n",
       "      <td>F</td>\n",
       "      <td>F</td>\n",
       "      <td>F</td>\n",
       "      <td>T</td>\n",
       "      <td>T</td>\n",
       "      <td>F</td>\n",
       "      <td>T</td>\n",
       "      <td>F</td>\n",
       "      <td>F</td>\n",
       "      <td>F</td>\n",
       "      <td>T</td>\n",
       "      <td>T</td>\n",
       "      <td>F</td>\n",
       "      <td>F</td>\n",
       "      <td>F</td>\n",
       "      <td>T</td>\n",
       "      <td>F</td>\n",
       "      <td>F</td>\n",
       "      <td>F</td>\n",
       "    </tr>\n",
       "  </tbody>\n",
       "</table>\n",
       "</div>"
      ],
      "text/plain": [
       "           ID   Idade     Renda Regiao  Genero seguro auto seguro vida Emp  \\\n",
       "5032  79717.0  29.944  7511.742     CO     1.0           F               F   \n",
       "33    20858.0  36.170  5276.354     SE     0.0           T               F   \n",
       "\n",
       "     seguro vida PF Seguro Residencial Investimento Fundos_cambiais  \\\n",
       "5032              F                  F                            T   \n",
       "33                F                  F                            T   \n",
       "\n",
       "     Investimento Fundos_commodities Investimento LCI Investimento LCA  \\\n",
       "5032                               T                T                T   \n",
       "33                                 T                F                T   \n",
       "\n",
       "     Investimento Poupanca Investimento Fundos Multimercado  \\\n",
       "5032                     T                                T   \n",
       "33                       F                                F   \n",
       "\n",
       "     Investimento Tesouro Direto Financiamento Casa Financiamento Carro  \\\n",
       "5032                           T                  F                   F   \n",
       "33                             F                  T                   T   \n",
       "\n",
       "     Emprestimo _pessoal Emprestimo _consignado Emprestimo _limite_especial  \\\n",
       "5032                   F                      F                           F   \n",
       "33                     F                      F                           F   \n",
       "\n",
       "     Emprestimo _educacao Emprestimo _viagem Investimento CDB  \\\n",
       "5032                    F                  F                F   \n",
       "33                      T                  F                F   \n",
       "\n",
       "     Investimento Fundos  \n",
       "5032                   F  \n",
       "33                     F  "
      ]
     },
     "metadata": {},
     "output_type": "display_data"
    }
   ],
   "source": [
    "with pd.option_context(\"display.max_columns\", None):\n",
    "    display(df_all.sample(2, random_state=seed))"
   ]
  },
  {
   "cell_type": "markdown",
   "metadata": {
    "jp-MarkdownHeadingCollapsed": true,
    "tags": []
   },
   "source": [
    "### Tipos de dados"
   ]
  },
  {
   "cell_type": "code",
   "execution_count": 9,
   "metadata": {},
   "outputs": [],
   "source": [
    "def fix_dtypes(df):\n",
    "    df = df.copy()\n",
    "    df[\"ID\"] = df[\"ID\"].astype(int)\n",
    "    # Whether the client is of a given gender (which one?)\n",
    "    df[\"Genero\"] = df[\"Genero\"].astype(bool)\n",
    "    df[\"Regiao\"] = df[\"Regiao\"].astype(\"category\")\n",
    "\n",
    "    for col in df.columns:\n",
    "        if df[col].iloc[0] in [\"F\", \"T\"] and df[col].nunique() == 2:\n",
    "            df[col] = df[col].map({\"T\": True, \"F\": False})\n",
    "    return df\n",
    "\n",
    "\n",
    "df_all = fix_dtypes(df_all)"
   ]
  },
  {
   "cell_type": "markdown",
   "metadata": {
    "jp-MarkdownHeadingCollapsed": true,
    "tags": []
   },
   "source": [
    "### Linhas duplicadas"
   ]
  },
  {
   "cell_type": "markdown",
   "metadata": {},
   "source": [
    "Há várias linhas duplicadas no conjunto de dados:"
   ]
  },
  {
   "cell_type": "code",
   "execution_count": 10,
   "metadata": {},
   "outputs": [
    {
     "data": {
      "text/plain": [
       "77"
      ]
     },
     "execution_count": 10,
     "metadata": {},
     "output_type": "execute_result"
    }
   ],
   "source": [
    "df_all.duplicated().sum()"
   ]
  },
  {
   "cell_type": "markdown",
   "metadata": {},
   "source": [
    "Podemos remover essas linhas:"
   ]
  },
  {
   "cell_type": "code",
   "execution_count": 11,
   "metadata": {},
   "outputs": [
    {
     "data": {
      "text/plain": [
       "0"
      ]
     },
     "execution_count": 11,
     "metadata": {},
     "output_type": "execute_result"
    }
   ],
   "source": [
    "df = df_all.drop_duplicates().reset_index(drop=True)\n",
    "df.duplicated().sum()"
   ]
  },
  {
   "cell_type": "markdown",
   "metadata": {
    "id": "ovkHGFmRrt5I",
    "tags": []
   },
   "source": [
    "### Informações gerais"
   ]
  },
  {
   "cell_type": "code",
   "execution_count": 12,
   "metadata": {
    "colab": {
     "base_uri": "https://localhost:8080/"
    },
    "id": "x4lb4LPdrt5J",
    "outputId": "cc04aa65-4981-486f-d177-0bbcbc8631eb"
   },
   "outputs": [
    {
     "name": "stdout",
     "output_type": "stream",
     "text": [
      "<class 'pandas.core.frame.DataFrame'>\n",
      "RangeIndex: 10005 entries, 0 to 10004\n",
      "Data columns (total 25 columns):\n",
      " #   Column                            Non-Null Count  Dtype   \n",
      "---  ------                            --------------  -----   \n",
      " 0   ID                                10005 non-null  int64   \n",
      " 1   Idade                             10005 non-null  float64 \n",
      " 2   Renda                             10005 non-null  float64 \n",
      " 3   Regiao                            10005 non-null  category\n",
      " 4   Genero                            10005 non-null  bool    \n",
      " 5   seguro auto                       10005 non-null  bool    \n",
      " 6   seguro vida Emp                   10005 non-null  bool    \n",
      " 7   seguro vida PF                    10005 non-null  bool    \n",
      " 8   Seguro Residencial                10005 non-null  bool    \n",
      " 9   Investimento Fundos_cambiais      10005 non-null  bool    \n",
      " 10  Investimento Fundos_commodities   10005 non-null  bool    \n",
      " 11  Investimento LCI                  10005 non-null  bool    \n",
      " 12  Investimento LCA                  10005 non-null  bool    \n",
      " 13  Investimento Poupanca             10005 non-null  bool    \n",
      " 14  Investimento Fundos Multimercado  10005 non-null  bool    \n",
      " 15  Investimento Tesouro Direto       10005 non-null  bool    \n",
      " 16  Financiamento Casa                10005 non-null  bool    \n",
      " 17  Financiamento Carro               10005 non-null  bool    \n",
      " 18  Emprestimo _pessoal               10005 non-null  bool    \n",
      " 19  Emprestimo _consignado            10005 non-null  bool    \n",
      " 20  Emprestimo _limite_especial       10005 non-null  bool    \n",
      " 21  Emprestimo _educacao              10005 non-null  bool    \n",
      " 22  Emprestimo _viagem                10005 non-null  bool    \n",
      " 23  Investimento CDB                  10005 non-null  bool    \n",
      " 24  Investimento Fundos               10005 non-null  bool    \n",
      "dtypes: bool(21), category(1), float64(2), int64(1)\n",
      "memory usage: 449.8 KB\n"
     ]
    }
   ],
   "source": [
    "df.info()"
   ]
  },
  {
   "cell_type": "markdown",
   "metadata": {
    "id": "ZgazakA0rt5K"
   },
   "source": [
    "Neste conjunto de dados:\n",
    "- Há tanto variáveis numéricas quanto categóricas/booleanas\n",
    "- Não há dados faltantes"
   ]
  },
  {
   "cell_type": "markdown",
   "metadata": {
    "jp-MarkdownHeadingCollapsed": true,
    "tags": []
   },
   "source": [
    "### Variáveis categóricas e booleanas"
   ]
  },
  {
   "cell_type": "code",
   "execution_count": 13,
   "metadata": {},
   "outputs": [
    {
     "data": {
      "text/html": [
       "<div>\n",
       "<style scoped>\n",
       "    .dataframe tbody tr th:only-of-type {\n",
       "        vertical-align: middle;\n",
       "    }\n",
       "\n",
       "    .dataframe tbody tr th {\n",
       "        vertical-align: top;\n",
       "    }\n",
       "\n",
       "    .dataframe thead th {\n",
       "        text-align: right;\n",
       "    }\n",
       "</style>\n",
       "<table border=\"1\" class=\"dataframe\">\n",
       "  <thead>\n",
       "    <tr style=\"text-align: right;\">\n",
       "      <th></th>\n",
       "      <th>Regiao</th>\n",
       "      <th>Genero</th>\n",
       "      <th>seguro auto</th>\n",
       "      <th>seguro vida Emp</th>\n",
       "      <th>seguro vida PF</th>\n",
       "      <th>Seguro Residencial</th>\n",
       "      <th>Investimento Fundos_cambiais</th>\n",
       "      <th>Investimento Fundos_commodities</th>\n",
       "      <th>Investimento LCI</th>\n",
       "      <th>Investimento LCA</th>\n",
       "      <th>Investimento Poupanca</th>\n",
       "      <th>Investimento Fundos Multimercado</th>\n",
       "      <th>Investimento Tesouro Direto</th>\n",
       "      <th>Financiamento Casa</th>\n",
       "      <th>Financiamento Carro</th>\n",
       "      <th>Emprestimo _pessoal</th>\n",
       "      <th>Emprestimo _consignado</th>\n",
       "      <th>Emprestimo _limite_especial</th>\n",
       "      <th>Emprestimo _educacao</th>\n",
       "      <th>Emprestimo _viagem</th>\n",
       "      <th>Investimento CDB</th>\n",
       "      <th>Investimento Fundos</th>\n",
       "    </tr>\n",
       "  </thead>\n",
       "  <tbody>\n",
       "    <tr>\n",
       "      <th>count</th>\n",
       "      <td>10005</td>\n",
       "      <td>10005</td>\n",
       "      <td>10005</td>\n",
       "      <td>10005</td>\n",
       "      <td>10005</td>\n",
       "      <td>10005</td>\n",
       "      <td>10005</td>\n",
       "      <td>10005</td>\n",
       "      <td>10005</td>\n",
       "      <td>10005</td>\n",
       "      <td>10005</td>\n",
       "      <td>10005</td>\n",
       "      <td>10005</td>\n",
       "      <td>10005</td>\n",
       "      <td>10005</td>\n",
       "      <td>10005</td>\n",
       "      <td>10005</td>\n",
       "      <td>10005</td>\n",
       "      <td>10005</td>\n",
       "      <td>10005</td>\n",
       "      <td>10005</td>\n",
       "      <td>10005</td>\n",
       "    </tr>\n",
       "    <tr>\n",
       "      <th>unique</th>\n",
       "      <td>5</td>\n",
       "      <td>2</td>\n",
       "      <td>2</td>\n",
       "      <td>2</td>\n",
       "      <td>2</td>\n",
       "      <td>2</td>\n",
       "      <td>2</td>\n",
       "      <td>2</td>\n",
       "      <td>2</td>\n",
       "      <td>2</td>\n",
       "      <td>2</td>\n",
       "      <td>2</td>\n",
       "      <td>2</td>\n",
       "      <td>2</td>\n",
       "      <td>2</td>\n",
       "      <td>2</td>\n",
       "      <td>2</td>\n",
       "      <td>2</td>\n",
       "      <td>2</td>\n",
       "      <td>2</td>\n",
       "      <td>2</td>\n",
       "      <td>2</td>\n",
       "    </tr>\n",
       "    <tr>\n",
       "      <th>top</th>\n",
       "      <td>SE</td>\n",
       "      <td>True</td>\n",
       "      <td>False</td>\n",
       "      <td>False</td>\n",
       "      <td>False</td>\n",
       "      <td>False</td>\n",
       "      <td>False</td>\n",
       "      <td>False</td>\n",
       "      <td>False</td>\n",
       "      <td>False</td>\n",
       "      <td>False</td>\n",
       "      <td>False</td>\n",
       "      <td>False</td>\n",
       "      <td>False</td>\n",
       "      <td>False</td>\n",
       "      <td>False</td>\n",
       "      <td>False</td>\n",
       "      <td>False</td>\n",
       "      <td>False</td>\n",
       "      <td>False</td>\n",
       "      <td>True</td>\n",
       "      <td>False</td>\n",
       "    </tr>\n",
       "    <tr>\n",
       "      <th>freq</th>\n",
       "      <td>4522</td>\n",
       "      <td>5495</td>\n",
       "      <td>7210</td>\n",
       "      <td>6553</td>\n",
       "      <td>7510</td>\n",
       "      <td>6679</td>\n",
       "      <td>6556</td>\n",
       "      <td>6550</td>\n",
       "      <td>6607</td>\n",
       "      <td>7020</td>\n",
       "      <td>5787</td>\n",
       "      <td>7474</td>\n",
       "      <td>7013</td>\n",
       "      <td>8879</td>\n",
       "      <td>7517</td>\n",
       "      <td>7965</td>\n",
       "      <td>8432</td>\n",
       "      <td>8405</td>\n",
       "      <td>8428</td>\n",
       "      <td>7539</td>\n",
       "      <td>5032</td>\n",
       "      <td>6649</td>\n",
       "    </tr>\n",
       "  </tbody>\n",
       "</table>\n",
       "</div>"
      ],
      "text/plain": [
       "       Regiao Genero seguro auto seguro vida Emp seguro vida PF  \\\n",
       "count   10005  10005       10005           10005          10005   \n",
       "unique      5      2           2               2              2   \n",
       "top        SE   True       False           False          False   \n",
       "freq     4522   5495        7210            6553           7510   \n",
       "\n",
       "       Seguro Residencial Investimento Fundos_cambiais  \\\n",
       "count               10005                        10005   \n",
       "unique                  2                            2   \n",
       "top                 False                        False   \n",
       "freq                 6679                         6556   \n",
       "\n",
       "       Investimento Fundos_commodities Investimento LCI Investimento LCA  \\\n",
       "count                            10005            10005            10005   \n",
       "unique                               2                2                2   \n",
       "top                              False            False            False   \n",
       "freq                              6550             6607             7020   \n",
       "\n",
       "       Investimento Poupanca Investimento Fundos Multimercado  \\\n",
       "count                  10005                            10005   \n",
       "unique                     2                                2   \n",
       "top                    False                            False   \n",
       "freq                    5787                             7474   \n",
       "\n",
       "       Investimento Tesouro Direto Financiamento Casa Financiamento Carro  \\\n",
       "count                        10005              10005               10005   \n",
       "unique                           2                  2                   2   \n",
       "top                          False              False               False   \n",
       "freq                          7013               8879                7517   \n",
       "\n",
       "       Emprestimo _pessoal Emprestimo _consignado Emprestimo _limite_especial  \\\n",
       "count                10005                  10005                       10005   \n",
       "unique                   2                      2                           2   \n",
       "top                  False                  False                       False   \n",
       "freq                  7965                   8432                        8405   \n",
       "\n",
       "       Emprestimo _educacao Emprestimo _viagem Investimento CDB  \\\n",
       "count                 10005              10005            10005   \n",
       "unique                    2                  2                2   \n",
       "top                   False              False             True   \n",
       "freq                   8428               7539             5032   \n",
       "\n",
       "       Investimento Fundos  \n",
       "count                10005  \n",
       "unique                   2  \n",
       "top                  False  \n",
       "freq                  6649  "
      ]
     },
     "metadata": {},
     "output_type": "display_data"
    }
   ],
   "source": [
    "non_numeric_cols = list(df.select_dtypes(include=[\"category\", bool]).columns)\n",
    "with pd.option_context(\"display.max_columns\", None):\n",
    "    display(df.describe(include=[\"category\", bool]))"
   ]
  },
  {
   "cell_type": "code",
   "execution_count": 14,
   "metadata": {},
   "outputs": [
    {
     "data": {
      "text/html": [
       "<div>\n",
       "<style scoped>\n",
       "    .dataframe tbody tr th:only-of-type {\n",
       "        vertical-align: middle;\n",
       "    }\n",
       "\n",
       "    .dataframe tbody tr th {\n",
       "        vertical-align: top;\n",
       "    }\n",
       "\n",
       "    .dataframe thead th {\n",
       "        text-align: right;\n",
       "    }\n",
       "</style>\n",
       "<table border=\"1\" class=\"dataframe\">\n",
       "  <thead>\n",
       "    <tr style=\"text-align: right;\">\n",
       "      <th></th>\n",
       "      <th>ID</th>\n",
       "    </tr>\n",
       "  </thead>\n",
       "  <tbody>\n",
       "    <tr>\n",
       "      <th>count</th>\n",
       "      <td>10005</td>\n",
       "    </tr>\n",
       "    <tr>\n",
       "      <th>unique</th>\n",
       "      <td>9530</td>\n",
       "    </tr>\n",
       "    <tr>\n",
       "      <th>top</th>\n",
       "      <td>73519</td>\n",
       "    </tr>\n",
       "    <tr>\n",
       "      <th>freq</th>\n",
       "      <td>3</td>\n",
       "    </tr>\n",
       "  </tbody>\n",
       "</table>\n",
       "</div>"
      ],
      "text/plain": [
       "           ID\n",
       "count   10005\n",
       "unique   9530\n",
       "top     73519\n",
       "freq        3"
      ]
     },
     "execution_count": 14,
     "metadata": {},
     "output_type": "execute_result"
    }
   ],
   "source": [
    "df[\"ID\"].astype(\"category\").describe().to_frame()"
   ]
  },
  {
   "cell_type": "markdown",
   "metadata": {},
   "source": [
    "Observações:\n",
    "- Somente para duas das variáveis booleanas o valor `True` é o mais frequente: `Genero` e `Investimento CDB`\n",
    "- Alguns índices (`ID`) ainda ocorrem mais de uma vez\n",
    "\n",
    "A título de exemplo, estes são dois dos clientes que têm mais de um registro (ordenados por idade, e mostrando apenas algumas colunas em que houve mudanças):"
   ]
  },
  {
   "cell_type": "code",
   "execution_count": 15,
   "metadata": {},
   "outputs": [
    {
     "data": {
      "text/html": [
       "<div>\n",
       "<style scoped>\n",
       "    .dataframe tbody tr th:only-of-type {\n",
       "        vertical-align: middle;\n",
       "    }\n",
       "\n",
       "    .dataframe tbody tr th {\n",
       "        vertical-align: top;\n",
       "    }\n",
       "\n",
       "    .dataframe thead th {\n",
       "        text-align: right;\n",
       "    }\n",
       "</style>\n",
       "<table border=\"1\" class=\"dataframe\">\n",
       "  <thead>\n",
       "    <tr style=\"text-align: right;\">\n",
       "      <th></th>\n",
       "      <th>ID</th>\n",
       "      <th>Idade</th>\n",
       "      <th>Renda</th>\n",
       "      <th>Regiao</th>\n",
       "      <th>Genero</th>\n",
       "      <th>seguro auto</th>\n",
       "      <th>Investimento LCI</th>\n",
       "      <th>Emprestimo _viagem</th>\n",
       "      <th>Investimento CDB</th>\n",
       "      <th>Investimento Fundos</th>\n",
       "    </tr>\n",
       "  </thead>\n",
       "  <tbody>\n",
       "    <tr>\n",
       "      <th>8193</th>\n",
       "      <td>5899</td>\n",
       "      <td>35.537</td>\n",
       "      <td>8236.453</td>\n",
       "      <td>CO</td>\n",
       "      <td>False</td>\n",
       "      <td>False</td>\n",
       "      <td>True</td>\n",
       "      <td>False</td>\n",
       "      <td>False</td>\n",
       "      <td>False</td>\n",
       "    </tr>\n",
       "    <tr>\n",
       "      <th>1619</th>\n",
       "      <td>5899</td>\n",
       "      <td>38.789</td>\n",
       "      <td>6700.487</td>\n",
       "      <td>S</td>\n",
       "      <td>False</td>\n",
       "      <td>False</td>\n",
       "      <td>True</td>\n",
       "      <td>False</td>\n",
       "      <td>False</td>\n",
       "      <td>False</td>\n",
       "    </tr>\n",
       "    <tr>\n",
       "      <th>9621</th>\n",
       "      <td>5899</td>\n",
       "      <td>46.515</td>\n",
       "      <td>8905.045</td>\n",
       "      <td>S</td>\n",
       "      <td>False</td>\n",
       "      <td>False</td>\n",
       "      <td>True</td>\n",
       "      <td>True</td>\n",
       "      <td>False</td>\n",
       "      <td>True</td>\n",
       "    </tr>\n",
       "    <tr>\n",
       "      <th>3393</th>\n",
       "      <td>87539</td>\n",
       "      <td>27.945</td>\n",
       "      <td>7173.152</td>\n",
       "      <td>SE</td>\n",
       "      <td>False</td>\n",
       "      <td>False</td>\n",
       "      <td>False</td>\n",
       "      <td>False</td>\n",
       "      <td>True</td>\n",
       "      <td>False</td>\n",
       "    </tr>\n",
       "    <tr>\n",
       "      <th>4750</th>\n",
       "      <td>87539</td>\n",
       "      <td>29.042</td>\n",
       "      <td>7459.294</td>\n",
       "      <td>NE</td>\n",
       "      <td>True</td>\n",
       "      <td>True</td>\n",
       "      <td>True</td>\n",
       "      <td>False</td>\n",
       "      <td>False</td>\n",
       "      <td>False</td>\n",
       "    </tr>\n",
       "    <tr>\n",
       "      <th>8136</th>\n",
       "      <td>87539</td>\n",
       "      <td>45.546</td>\n",
       "      <td>8217.991</td>\n",
       "      <td>SE</td>\n",
       "      <td>False</td>\n",
       "      <td>True</td>\n",
       "      <td>False</td>\n",
       "      <td>False</td>\n",
       "      <td>False</td>\n",
       "      <td>False</td>\n",
       "    </tr>\n",
       "  </tbody>\n",
       "</table>\n",
       "</div>"
      ],
      "text/plain": [
       "         ID   Idade     Renda Regiao  Genero  seguro auto  Investimento LCI  \\\n",
       "8193   5899  35.537  8236.453     CO   False        False              True   \n",
       "1619   5899  38.789  6700.487      S   False        False              True   \n",
       "9621   5899  46.515  8905.045      S   False        False              True   \n",
       "3393  87539  27.945  7173.152     SE   False        False             False   \n",
       "4750  87539  29.042  7459.294     NE    True         True              True   \n",
       "8136  87539  45.546  8217.991     SE   False         True             False   \n",
       "\n",
       "      Emprestimo _viagem  Investimento CDB  Investimento Fundos  \n",
       "8193               False             False                False  \n",
       "1619               False             False                False  \n",
       "9621                True             False                 True  \n",
       "3393               False              True                False  \n",
       "4750               False             False                False  \n",
       "8136               False             False                False  "
      ]
     },
     "metadata": {},
     "output_type": "display_data"
    }
   ],
   "source": [
    "def get_sample(df):\n",
    "    common_ids = df[\"ID\"].value_counts().head(2).index\n",
    "    sample_cols = [\n",
    "        \"ID\",\n",
    "        \"Idade\",\n",
    "        \"Renda\",\n",
    "        \"Regiao\",\n",
    "        \"Genero\",\n",
    "        \"seguro auto\",\n",
    "        \"Investimento LCI\",\n",
    "        \"Emprestimo _viagem\",\n",
    "        \"Investimento CDB\",\n",
    "        \"Investimento Fundos\",\n",
    "    ]\n",
    "    return df[df[\"ID\"].isin(common_ids)].sort_values([\"ID\", \"Idade\"])[sample_cols]\n",
    "\n",
    "\n",
    "with pd.option_context(\"display.max_columns\", 10):\n",
    "    display(get_sample(df))"
   ]
  },
  {
   "cell_type": "markdown",
   "metadata": {
    "jp-MarkdownHeadingCollapsed": true,
    "tags": []
   },
   "source": [
    "### Variáveis numéricas"
   ]
  },
  {
   "cell_type": "code",
   "execution_count": 16,
   "metadata": {},
   "outputs": [
    {
     "data": {
      "text/html": [
       "<div>\n",
       "<style scoped>\n",
       "    .dataframe tbody tr th:only-of-type {\n",
       "        vertical-align: middle;\n",
       "    }\n",
       "\n",
       "    .dataframe tbody tr th {\n",
       "        vertical-align: top;\n",
       "    }\n",
       "\n",
       "    .dataframe thead th {\n",
       "        text-align: right;\n",
       "    }\n",
       "</style>\n",
       "<table border=\"1\" class=\"dataframe\">\n",
       "  <thead>\n",
       "    <tr style=\"text-align: right;\">\n",
       "      <th></th>\n",
       "      <th>Idade</th>\n",
       "      <th>Renda</th>\n",
       "    </tr>\n",
       "  </thead>\n",
       "  <tbody>\n",
       "    <tr>\n",
       "      <th>count</th>\n",
       "      <td>10005.000000</td>\n",
       "      <td>10005.000000</td>\n",
       "    </tr>\n",
       "    <tr>\n",
       "      <th>mean</th>\n",
       "      <td>38.468291</td>\n",
       "      <td>7785.912913</td>\n",
       "    </tr>\n",
       "    <tr>\n",
       "      <th>std</th>\n",
       "      <td>12.209204</td>\n",
       "      <td>7330.738044</td>\n",
       "    </tr>\n",
       "    <tr>\n",
       "      <th>min</th>\n",
       "      <td>18.009000</td>\n",
       "      <td>2312.000000</td>\n",
       "    </tr>\n",
       "    <tr>\n",
       "      <th>25%</th>\n",
       "      <td>28.947000</td>\n",
       "      <td>6971.277000</td>\n",
       "    </tr>\n",
       "    <tr>\n",
       "      <th>50%</th>\n",
       "      <td>37.229000</td>\n",
       "      <td>7522.612000</td>\n",
       "    </tr>\n",
       "    <tr>\n",
       "      <th>75%</th>\n",
       "      <td>46.652000</td>\n",
       "      <td>8062.477000</td>\n",
       "    </tr>\n",
       "    <tr>\n",
       "      <th>max</th>\n",
       "      <td>85.605000</td>\n",
       "      <td>580000.000000</td>\n",
       "    </tr>\n",
       "  </tbody>\n",
       "</table>\n",
       "</div>"
      ],
      "text/plain": [
       "              Idade          Renda\n",
       "count  10005.000000   10005.000000\n",
       "mean      38.468291    7785.912913\n",
       "std       12.209204    7330.738044\n",
       "min       18.009000    2312.000000\n",
       "25%       28.947000    6971.277000\n",
       "50%       37.229000    7522.612000\n",
       "75%       46.652000    8062.477000\n",
       "max       85.605000  580000.000000"
      ]
     },
     "metadata": {},
     "output_type": "display_data"
    }
   ],
   "source": [
    "numeric_cols = list(df.select_dtypes(include=float).columns)\n",
    "with pd.option_context(\"display.max_columns\", None):\n",
    "    display(df.describe(include=float))"
   ]
  },
  {
   "cell_type": "markdown",
   "metadata": {},
   "source": [
    "## Recomendação de produtos"
   ]
  },
  {
   "cell_type": "markdown",
   "metadata": {
    "jp-MarkdownHeadingCollapsed": true,
    "tags": []
   },
   "source": [
    "### Produtos disponíveis"
   ]
  },
  {
   "cell_type": "code",
   "execution_count": 17,
   "metadata": {},
   "outputs": [],
   "source": [
    "products = [\n",
    "    \"seguro auto\",\n",
    "    \"seguro vida Emp\",\n",
    "    \"seguro vida PF\",\n",
    "    \"Seguro Residencial\",\n",
    "    \"Investimento Fundos_cambiais\",\n",
    "    \"Investimento Fundos_commodities\",\n",
    "    \"Investimento LCI\",\n",
    "    \"Investimento LCA\",\n",
    "    \"Investimento Poupanca\",\n",
    "    \"Investimento Fundos Multimercado\",\n",
    "    \"Investimento Tesouro Direto\",\n",
    "    \"Financiamento Casa\",\n",
    "    \"Financiamento Carro\",\n",
    "    \"Emprestimo _pessoal\",\n",
    "    \"Emprestimo _consignado\",\n",
    "    \"Emprestimo _limite_especial\",\n",
    "    \"Emprestimo _educacao\",\n",
    "    \"Emprestimo _viagem\",\n",
    "    \"Investimento CDB\",\n",
    "    \"Investimento Fundos\",\n",
    "]"
   ]
  },
  {
   "cell_type": "markdown",
   "metadata": {
    "jp-MarkdownHeadingCollapsed": true,
    "tags": []
   },
   "source": [
    "### Transações"
   ]
  },
  {
   "cell_type": "code",
   "execution_count": 18,
   "metadata": {},
   "outputs": [],
   "source": [
    "def get_transactions(df):\n",
    "    get_transaction_products = lambda row: tuple(row[products].index[row[products]])\n",
    "    return df.apply(get_transaction_products, axis=1).tolist()"
   ]
  },
  {
   "cell_type": "code",
   "execution_count": 19,
   "metadata": {},
   "outputs": [
    {
     "data": {
      "text/plain": [
       "[('Investimento LCA', 'Investimento Poupanca'),\n",
       " ('Investimento LCA', 'Emprestimo _pessoal', 'Investimento Fundos')]"
      ]
     },
     "metadata": {},
     "output_type": "display_data"
    }
   ],
   "source": [
    "transactions = get_transactions(df)\n",
    "\n",
    "display(transactions[42:44])"
   ]
  },
  {
   "cell_type": "markdown",
   "metadata": {},
   "source": [
    "### Geração de regras de associação com Apriori"
   ]
  },
  {
   "cell_type": "code",
   "execution_count": 20,
   "metadata": {},
   "outputs": [],
   "source": [
    "def get_relevant_rules(transactions):\n",
    "    itemsets, rules = apriori(\n",
    "        transactions, min_support=0.1, min_confidence=0.8, max_length=5\n",
    "    )\n",
    "    return rules"
   ]
  },
  {
   "cell_type": "code",
   "execution_count": 21,
   "metadata": {},
   "outputs": [
    {
     "data": {
      "text/html": [
       "<div>\n",
       "<style scoped>\n",
       "    .dataframe tbody tr th:only-of-type {\n",
       "        vertical-align: middle;\n",
       "    }\n",
       "\n",
       "    .dataframe tbody tr th {\n",
       "        vertical-align: top;\n",
       "    }\n",
       "\n",
       "    .dataframe thead th {\n",
       "        text-align: right;\n",
       "    }\n",
       "</style>\n",
       "<table border=\"1\" class=\"dataframe\">\n",
       "  <thead>\n",
       "    <tr style=\"text-align: right;\">\n",
       "      <th></th>\n",
       "      <th>antecedent</th>\n",
       "      <th>consequent</th>\n",
       "      <th>conf</th>\n",
       "      <th>supp</th>\n",
       "      <th>lift</th>\n",
       "      <th>conv</th>\n",
       "    </tr>\n",
       "  </thead>\n",
       "  <tbody>\n",
       "    <tr>\n",
       "      <th>16</th>\n",
       "      <td>(Investimento Fundos, Investimento Fundos_commodities)</td>\n",
       "      <td>(Investimento CDB,)</td>\n",
       "      <td>0.819031</td>\n",
       "      <td>0.140230</td>\n",
       "      <td>1.628459</td>\n",
       "      <td>2.746610</td>\n",
       "    </tr>\n",
       "    <tr>\n",
       "      <th>17</th>\n",
       "      <td>(Investimento Fundos, Investimento LCI)</td>\n",
       "      <td>(Investimento CDB,)</td>\n",
       "      <td>0.823850</td>\n",
       "      <td>0.136032</td>\n",
       "      <td>1.638040</td>\n",
       "      <td>2.821749</td>\n",
       "    </tr>\n",
       "    <tr>\n",
       "      <th>...</th>\n",
       "      <td>...</td>\n",
       "      <td>...</td>\n",
       "      <td>...</td>\n",
       "      <td>...</td>\n",
       "      <td>...</td>\n",
       "      <td>...</td>\n",
       "    </tr>\n",
       "    <tr>\n",
       "      <th>6</th>\n",
       "      <td>(Emprestimo _consignado, Emprestimo _pessoal)</td>\n",
       "      <td>(Emprestimo _limite_especial,)</td>\n",
       "      <td>0.964077</td>\n",
       "      <td>0.115342</td>\n",
       "      <td>6.028493</td>\n",
       "      <td>23.385481</td>\n",
       "    </tr>\n",
       "    <tr>\n",
       "      <th>5</th>\n",
       "      <td>(Emprestimo _limite_especial, Emprestimo _pessoal)</td>\n",
       "      <td>(Emprestimo _consignado,)</td>\n",
       "      <td>0.956882</td>\n",
       "      <td>0.115342</td>\n",
       "      <td>6.086209</td>\n",
       "      <td>19.545980</td>\n",
       "    </tr>\n",
       "  </tbody>\n",
       "</table>\n",
       "<p>157 rows × 6 columns</p>\n",
       "</div>"
      ],
      "text/plain": [
       "                                                antecedent  \\\n",
       "16  (Investimento Fundos, Investimento Fundos_commodities)   \n",
       "17                 (Investimento Fundos, Investimento LCI)   \n",
       "..                                                     ...   \n",
       "6            (Emprestimo _consignado, Emprestimo _pessoal)   \n",
       "5       (Emprestimo _limite_especial, Emprestimo _pessoal)   \n",
       "\n",
       "                        consequent      conf      supp      lift       conv  \n",
       "16             (Investimento CDB,)  0.819031  0.140230  1.628459   2.746610  \n",
       "17             (Investimento CDB,)  0.823850  0.136032  1.638040   2.821749  \n",
       "..                             ...       ...       ...       ...        ...  \n",
       "6   (Emprestimo _limite_especial,)  0.964077  0.115342  6.028493  23.385481  \n",
       "5        (Emprestimo _consignado,)  0.956882  0.115342  6.086209  19.545980  \n",
       "\n",
       "[157 rows x 6 columns]"
      ]
     },
     "metadata": {},
     "output_type": "display_data"
    }
   ],
   "source": [
    "rules = get_relevant_rules(transactions)\n",
    "\n",
    "data = [\n",
    "    {\n",
    "        \"antecedent\": r.lhs,\n",
    "        \"consequent\": r.rhs,\n",
    "        \"conf\": r.confidence,\n",
    "        \"supp\": r.support,\n",
    "        \"lift\": r.lift,\n",
    "        \"conv\": r.conviction,\n",
    "    }\n",
    "    for r in rules\n",
    "]\n",
    "df_rules = pd.DataFrame(data)\n",
    "with pd.option_context(\"display.max_colwidth\", None, \"display.max_rows\", 4):\n",
    "    display(df_rules.sort_values(\"lift\"))"
   ]
  },
  {
   "cell_type": "code",
   "execution_count": 22,
   "metadata": {},
   "outputs": [
    {
     "data": {
      "text/html": [
       "<div>\n",
       "<style scoped>\n",
       "    .dataframe tbody tr th:only-of-type {\n",
       "        vertical-align: middle;\n",
       "    }\n",
       "\n",
       "    .dataframe tbody tr th {\n",
       "        vertical-align: top;\n",
       "    }\n",
       "\n",
       "    .dataframe thead th {\n",
       "        text-align: right;\n",
       "    }\n",
       "</style>\n",
       "<table border=\"1\" class=\"dataframe\">\n",
       "  <thead>\n",
       "    <tr style=\"text-align: right;\">\n",
       "      <th></th>\n",
       "      <th>antecedent</th>\n",
       "      <th>consequent</th>\n",
       "      <th>metric</th>\n",
       "      <th>value</th>\n",
       "    </tr>\n",
       "  </thead>\n",
       "  <tbody>\n",
       "    <tr>\n",
       "      <th>0</th>\n",
       "      <td>(Emprestimo _educacao,)</td>\n",
       "      <td>(Investimento CDB,)</td>\n",
       "      <td>conf</td>\n",
       "      <td>0.830691</td>\n",
       "    </tr>\n",
       "    <tr>\n",
       "      <th>1</th>\n",
       "      <td>(Emprestimo _educacao,)</td>\n",
       "      <td>(Investimento CDB,)</td>\n",
       "      <td>supp</td>\n",
       "      <td>0.130935</td>\n",
       "    </tr>\n",
       "    <tr>\n",
       "      <th>...</th>\n",
       "      <td>...</td>\n",
       "      <td>...</td>\n",
       "      <td>...</td>\n",
       "      <td>...</td>\n",
       "    </tr>\n",
       "    <tr>\n",
       "      <th>626</th>\n",
       "      <td>(Investimento Fundos_cambiais, Investimento Fundos_commodities, Investimento LCA)</td>\n",
       "      <td>(Investimento LCI, Investimento Poupanca)</td>\n",
       "      <td>lift</td>\n",
       "      <td>4.668453</td>\n",
       "    </tr>\n",
       "    <tr>\n",
       "      <th>627</th>\n",
       "      <td>(Investimento Fundos_cambiais, Investimento Fundos_commodities, Investimento LCA)</td>\n",
       "      <td>(Investimento LCI, Investimento Poupanca)</td>\n",
       "      <td>conv</td>\n",
       "      <td>8.980341</td>\n",
       "    </tr>\n",
       "  </tbody>\n",
       "</table>\n",
       "<p>628 rows × 4 columns</p>\n",
       "</div>"
      ],
      "text/plain": [
       "                                                                            antecedent  \\\n",
       "0                                                              (Emprestimo _educacao,)   \n",
       "1                                                              (Emprestimo _educacao,)   \n",
       "..                                                                                 ...   \n",
       "626  (Investimento Fundos_cambiais, Investimento Fundos_commodities, Investimento LCA)   \n",
       "627  (Investimento Fundos_cambiais, Investimento Fundos_commodities, Investimento LCA)   \n",
       "\n",
       "                                    consequent metric     value  \n",
       "0                          (Investimento CDB,)   conf  0.830691  \n",
       "1                          (Investimento CDB,)   supp  0.130935  \n",
       "..                                         ...    ...       ...  \n",
       "626  (Investimento LCI, Investimento Poupanca)   lift  4.668453  \n",
       "627  (Investimento LCI, Investimento Poupanca)   conv  8.980341  \n",
       "\n",
       "[628 rows x 4 columns]"
      ]
     },
     "metadata": {},
     "output_type": "display_data"
    }
   ],
   "source": [
    "df_rules_long = (\n",
    "    df_rules.set_index([\"antecedent\", \"consequent\"])\n",
    "    .stack()\n",
    "    .to_frame()\n",
    "    .reset_index()\n",
    "    .rename(columns={0: \"value\", \"level_2\": \"metric\"})\n",
    ")\n",
    "\n",
    "with pd.option_context(\"display.max_colwidth\", None, \"display.max_rows\", 4):\n",
    "    display(df_rules_long)"
   ]
  },
  {
   "cell_type": "code",
   "execution_count": 23,
   "metadata": {},
   "outputs": [
    {
     "data": {
      "image/png": "[encoded data removed]",
      "text/plain": [
       "<Figure size 1036.8x288 with 4 Axes>"
      ]
     },
     "metadata": {
      "needs_background": "light"
     },
     "output_type": "display_data"
    }
   ],
   "source": [
    "g = sns.catplot(\n",
    "    y=\"value\",\n",
    "    col=\"metric\",\n",
    "    data=df_rules_long,\n",
    "    kind=\"box\",\n",
    "    height=4,\n",
    "    aspect=0.9,\n",
    "    sharey=False,\n",
    ")\n",
    "g.fig.subplots_adjust(top=0.8)\n",
    "g.fig.suptitle('Métricas para avaliar as regras de associação')\n",
    "plt.show()"
   ]
  },
  {
   "cell_type": "markdown",
   "metadata": {},
   "source": [
    "### Aplicação das regras"
   ]
  },
  {
   "cell_type": "code",
   "execution_count": 24,
   "metadata": {},
   "outputs": [],
   "source": [
    "def apply_single_rule(df, rule):\n",
    "    df = df.copy()\n",
    "    relevant_rows = (df[list(rule.lhs)] == \"T\").all(axis=1)\n",
    "    for idx in range(1, 1 + min(len(rule.rhs), 3)):\n",
    "        cols = [f\"RECOMMENDATION_{idx}\", f\"CONFIDENCE_{idx}\"]\n",
    "        df.loc[relevant_rows, cols] = (rule.rhs[idx - 1], rule.confidence)\n",
    "    return df\n",
    "\n",
    "\n",
    "def apply_rules(df, rules):\n",
    "    for rule in rules:\n",
    "        df = apply_single_rule(df, rule)\n",
    "    return df"
   ]
  },
  {
   "cell_type": "code",
   "execution_count": 25,
   "metadata": {},
   "outputs": [
    {
     "name": "stdout",
     "output_type": "stream",
     "text": [
      "Proporção de linhas para as quais cada recomendação foi preenchida:\n"
     ]
    },
    {
     "data": {
      "text/html": [
       "<div>\n",
       "<style scoped>\n",
       "    .dataframe tbody tr th:only-of-type {\n",
       "        vertical-align: middle;\n",
       "    }\n",
       "\n",
       "    .dataframe tbody tr th {\n",
       "        vertical-align: top;\n",
       "    }\n",
       "\n",
       "    .dataframe thead th {\n",
       "        text-align: right;\n",
       "    }\n",
       "</style>\n",
       "<table border=\"1\" class=\"dataframe\">\n",
       "  <thead>\n",
       "    <tr style=\"text-align: right;\">\n",
       "      <th></th>\n",
       "      <th>Proporção</th>\n",
       "    </tr>\n",
       "  </thead>\n",
       "  <tbody>\n",
       "    <tr>\n",
       "      <th>RECOMMENDATION_1</th>\n",
       "      <td>0.649599</td>\n",
       "    </tr>\n",
       "    <tr>\n",
       "      <th>CONFIDENCE_1</th>\n",
       "      <td>0.649599</td>\n",
       "    </tr>\n",
       "    <tr>\n",
       "      <th>RECOMMENDATION_2</th>\n",
       "      <td>0.550765</td>\n",
       "    </tr>\n",
       "    <tr>\n",
       "      <th>CONFIDENCE_2</th>\n",
       "      <td>0.550765</td>\n",
       "    </tr>\n",
       "    <tr>\n",
       "      <th>RECOMMENDATION_3</th>\n",
       "      <td>0.124253</td>\n",
       "    </tr>\n",
       "    <tr>\n",
       "      <th>CONFIDENCE_3</th>\n",
       "      <td>0.124253</td>\n",
       "    </tr>\n",
       "  </tbody>\n",
       "</table>\n",
       "</div>"
      ],
      "text/plain": [
       "                  Proporção\n",
       "RECOMMENDATION_1   0.649599\n",
       "CONFIDENCE_1       0.649599\n",
       "RECOMMENDATION_2   0.550765\n",
       "CONFIDENCE_2       0.550765\n",
       "RECOMMENDATION_3   0.124253\n",
       "CONFIDENCE_3       0.124253"
      ]
     },
     "metadata": {},
     "output_type": "display_data"
    }
   ],
   "source": [
    "filled_answers = apply_rules(answers, rules)\n",
    "\n",
    "print(\"Proporção de linhas para as quais cada recomendação foi preenchida:\")\n",
    "display((~filled_answers.isna()).mean().tail(6).rename(\"Proporção\").to_frame())"
   ]
  },
  {
   "cell_type": "markdown",
   "metadata": {},
   "source": [
    "## Preenchimento do arquivo de respostas"
   ]
  },
  {
   "cell_type": "code",
   "execution_count": 26,
   "metadata": {},
   "outputs": [],
   "source": [
    "filled_answers.to_csv(\"ANSWERS.csv\", index=False)"
   ]
  },
  {
   "cell_type": "code",
   "execution_count": 27,
   "metadata": {},
   "outputs": [
    {
     "name": "stdout",
     "output_type": "stream",
     "text": [
      "código.zip\n"
     ]
    }
   ],
   "source": [
    "!rm -rf código.zip\n",
    "!zip -q código.zip notebook.ipynb\n",
    "!ls código.zip"
   ]
  }
 ],
 "metadata": {
  "colab": {
   "collapsed_sections": [],
   "name": "Copy of notebook.ipynb",
   "provenance": []
  },
  "kernelspec": {
   "display_name": "Python 3 (ipykernel)",
   "language": "python",
   "name": "python3"
  },
  "language_info": {
   "codemirror_mode": {
    "name": "ipython",
    "version": 3
   },
   "file_extension": ".py",
   "mimetype": "text/x-python",
   "name": "python",
   "nbconvert_exporter": "python",
   "pygments_lexer": "ipython3",
   "version": "3.8.12"
  }
 },
 "nbformat": 4,
 "nbformat_minor": 4
}
