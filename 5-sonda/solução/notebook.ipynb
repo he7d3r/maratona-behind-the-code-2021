{
 "cells": [
  {
   "cell_type": "markdown",
   "metadata": {},
   "source": [
    "# Desafio 5 - Maratona Behind the Code 2021"
   ]
  },
  {
   "cell_type": "markdown",
   "metadata": {
    "tags": []
   },
   "source": [
    "## Bibliotecas"
   ]
  },
  {
   "cell_type": "code",
   "execution_count": 1,
   "metadata": {},
   "outputs": [],
   "source": [
    "from pathlib import Path\n",
    "\n",
    "import pandas as pd\n",
    "from sklearn.model_selection import train_test_split"
   ]
  },
  {
   "cell_type": "markdown",
   "metadata": {},
   "source": [
    "## Configurações"
   ]
  },
  {
   "cell_type": "code",
   "execution_count": 2,
   "metadata": {},
   "outputs": [],
   "source": [
    "seed = 0\n",
    "data_path = Path(\"../desafio/assets/data/\")\n",
    "source_url = \"https://github.com/maratonadev/desafio-5-2021/raw/main/assets/data/\""
   ]
  },
  {
   "cell_type": "markdown",
   "metadata": {},
   "source": [
    "## Dados"
   ]
  },
  {
   "cell_type": "code",
   "execution_count": 3,
   "metadata": {},
   "outputs": [
    {
     "name": "stdout",
     "output_type": "stream",
     "text": [
      "ANSWERS.csv  dataset.csv\n"
     ]
    }
   ],
   "source": [
    "!mkdir -p {data_path}\n",
    "!wget -q -N -P {data_path} {source_url}\"dataset.csv\"\n",
    "!wget -q -N -P {data_path} {source_url}\"ANSWERS.csv\"\n",
    "!ls {data_path}"
   ]
  },
  {
   "cell_type": "code",
   "execution_count": 4,
   "metadata": {},
   "outputs": [
    {
     "name": "stdout",
     "output_type": "stream",
     "text": [
      "['ID', 'GENDER', 'SENIORCITIZEN', 'PARTNER', 'DEPENDENTS', 'TENURE', 'PHONESERVICE', 'MULTIPLELINES', 'INTERNETSERVICE', 'ONLINESECURITY', 'ONLINEBACKUP', 'DEVICEPROTECTION', 'TECHSUPPORT', 'STREAMINGTV', 'STREAMINGMOVIES', 'CONTRACT', 'PAPERLESSBILLING', 'PAYMENTMETHOD', 'MONTHLYCHARGES', 'TOTALCHARGES', 'CHURN']\n"
     ]
    }
   ],
   "source": [
    "df_all = pd.read_csv(data_path / \"dataset.csv\")\n",
    "all_cols = list(df_all.columns)\n",
    "print(all_cols)"
   ]
  },
  {
   "cell_type": "code",
   "execution_count": 5,
   "metadata": {},
   "outputs": [],
   "source": [
    "answers = pd.read_csv(data_path / \"ANSWERS.csv\")\n",
    "assert list(answers.columns) == list(df_all.columns)"
   ]
  },
  {
   "cell_type": "markdown",
   "metadata": {},
   "source": [
    "### Informações gerais"
   ]
  },
  {
   "cell_type": "code",
   "execution_count": 6,
   "metadata": {},
   "outputs": [
    {
     "name": "stdout",
     "output_type": "stream",
     "text": [
      "<class 'pandas.core.frame.DataFrame'>\n",
      "RangeIndex: 4548 entries, 0 to 4547\n",
      "Data columns (total 21 columns):\n",
      " #   Column            Non-Null Count  Dtype  \n",
      "---  ------            --------------  -----  \n",
      " 0   ID                4548 non-null   int64  \n",
      " 1   GENDER            4520 non-null   object \n",
      " 2   SENIORCITIZEN     4523 non-null   float64\n",
      " 3   PARTNER           4524 non-null   object \n",
      " 4   DEPENDENTS        4526 non-null   object \n",
      " 5   TENURE            4533 non-null   float64\n",
      " 6   PHONESERVICE      4520 non-null   object \n",
      " 7   MULTIPLELINES     4523 non-null   object \n",
      " 8   INTERNETSERVICE   4524 non-null   object \n",
      " 9   ONLINESECURITY    4518 non-null   object \n",
      " 10  ONLINEBACKUP      4518 non-null   object \n",
      " 11  DEVICEPROTECTION  4524 non-null   object \n",
      " 12  TECHSUPPORT       4530 non-null   object \n",
      " 13  STREAMINGTV       4523 non-null   object \n",
      " 14  STREAMINGMOVIES   4523 non-null   object \n",
      " 15  CONTRACT          4525 non-null   object \n",
      " 16  PAPERLESSBILLING  4517 non-null   object \n",
      " 17  PAYMENTMETHOD     4520 non-null   object \n",
      " 18  MONTHLYCHARGES    4527 non-null   float64\n",
      " 19  TOTALCHARGES      4527 non-null   object \n",
      " 20  CHURN             4548 non-null   object \n",
      "dtypes: float64(3), int64(1), object(17)\n",
      "memory usage: 746.3+ KB\n"
     ]
    }
   ],
   "source": [
    "df_all.info()"
   ]
  },
  {
   "cell_type": "markdown",
   "metadata": {},
   "source": [
    "- A maioria das variáveis (colunas) parece não ser numérica e precisará ser tratada antes do uso em modelos de machine learning.\n",
    "- Com exceção da variável que identifica cada cliente (`ID`) e da variável de destino (`CHURN`), todas têm dados faltantes (nulos)."
   ]
  },
  {
   "cell_type": "markdown",
   "metadata": {},
   "source": [
    "### Divisão dos dados entre treino e teste"
   ]
  },
  {
   "cell_type": "markdown",
   "metadata": {},
   "source": [
    "Antes de inspecionar os dados, serão reservados alguns exemplos para teste, que não serão vistos durante a análise ou modelagem dos dados:"
   ]
  },
  {
   "cell_type": "code",
   "execution_count": 7,
   "metadata": {},
   "outputs": [
    {
     "name": "stdout",
     "output_type": "stream",
     "text": [
      "Dimensões dos dados de treino: (4048, 21)\n",
      "Dimensões dos dados de teste: (500, 21)\n"
     ]
    }
   ],
   "source": [
    "test_size = 500\n",
    "target = \"CHURN\"\n",
    "df_train, df_test = train_test_split(\n",
    "    df_all, test_size=test_size, random_state=seed, stratify=df_all[[target]]\n",
    ")\n",
    "print(f\"Dimensões dos dados de treino: {df_train.shape}\")\n",
    "print(f\"Dimensões dos dados de teste: {df_test.shape}\")"
   ]
  }
 ],
 "metadata": {
  "kernelspec": {
   "display_name": "Python 3 (ipykernel)",
   "language": "python",
   "name": "python3"
  },
  "language_info": {
   "codemirror_mode": {
    "name": "ipython",
    "version": 3
   },
   "file_extension": ".py",
   "mimetype": "text/x-python",
   "name": "python",
   "nbconvert_exporter": "python",
   "pygments_lexer": "ipython3",
   "version": "3.8.12"
  }
 },
 "nbformat": 4,
 "nbformat_minor": 4
}
