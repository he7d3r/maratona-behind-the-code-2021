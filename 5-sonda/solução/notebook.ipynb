{
 "cells": [
  {
   "cell_type": "markdown",
   "metadata": {},
   "source": [
    "# Desafio 5 - Maratona Behind the Code 2021"
   ]
  },
  {
   "cell_type": "markdown",
   "metadata": {
    "jp-MarkdownHeadingCollapsed": true,
    "tags": []
   },
   "source": [
    "## Bibliotecas"
   ]
  },
  {
   "cell_type": "code",
   "execution_count": 1,
   "metadata": {},
   "outputs": [],
   "source": [
    "from datetime import timedelta\n",
    "from pathlib import Path\n",
    "from timeit import default_timer as timer\n",
    "\n",
    "import matplotlib.pyplot as plt\n",
    "import numpy as np\n",
    "import pandas as pd\n",
    "import seaborn as sns\n",
    "from IPython.display import HTML, display\n",
    "from sklearn import set_config\n",
    "from sklearn.compose import ColumnTransformer\n",
    "from sklearn.ensemble import RandomForestClassifier\n",
    "from sklearn.dummy import DummyClassifier\n",
    "from sklearn.impute import SimpleImputer\n",
    "from sklearn.metrics import (accuracy_score, f1_score, make_scorer,\n",
    "                             plot_confusion_matrix, precision_score,\n",
    "                             recall_score)\n",
    "from sklearn.model_selection import (GridSearchCV, RandomizedSearchCV,\n",
    "                                     train_test_split)\n",
    "from sklearn.neighbors import KNeighborsClassifier\n",
    "from sklearn.neural_network import MLPClassifier\n",
    "from sklearn.pipeline import Pipeline\n",
    "from sklearn.preprocessing import (FunctionTransformer, MinMaxScaler,\n",
    "                                   OneHotEncoder, RobustScaler, StandardScaler)\n",
    "from sklearn.tree import DecisionTreeClassifier"
   ]
  },
  {
   "cell_type": "markdown",
   "metadata": {
    "jp-MarkdownHeadingCollapsed": true,
    "tags": []
   },
   "source": [
    "## Configurações"
   ]
  },
  {
   "cell_type": "code",
   "execution_count": 2,
   "metadata": {},
   "outputs": [],
   "source": [
    "seed = 0\n",
    "data_path = Path(\"../desafio/assets/data/\")\n",
    "source_url = \"https://github.com/maratonadev/desafio-5-2021/raw/main/assets/data/\"\n",
    "set_config(display=\"diagram\")"
   ]
  },
  {
   "cell_type": "markdown",
   "metadata": {
    "tags": []
   },
   "source": [
    "## Dados"
   ]
  },
  {
   "cell_type": "markdown",
   "metadata": {
    "jp-MarkdownHeadingCollapsed": true,
    "tags": []
   },
   "source": [
    "### Download"
   ]
  },
  {
   "cell_type": "code",
   "execution_count": 3,
   "metadata": {},
   "outputs": [],
   "source": [
    "# !mkdir -p {data_path}\n",
    "# !wget -q -N -P {data_path} {source_url}\"dataset.csv\"\n",
    "# !wget -q -N -P {data_path} {source_url}\"ANSWERS.csv\"\n",
    "# !ls {data_path}"
   ]
  },
  {
   "cell_type": "markdown",
   "metadata": {
    "jp-MarkdownHeadingCollapsed": true,
    "tags": []
   },
   "source": [
    "### Carregamento"
   ]
  },
  {
   "cell_type": "code",
   "execution_count": 4,
   "metadata": {},
   "outputs": [
    {
     "name": "stdout",
     "output_type": "stream",
     "text": [
      "['ID', 'GENDER', 'SENIORCITIZEN', 'PARTNER', 'DEPENDENTS', 'TENURE', 'PHONESERVICE', 'MULTIPLELINES', 'INTERNETSERVICE', 'ONLINESECURITY', 'ONLINEBACKUP', 'DEVICEPROTECTION', 'TECHSUPPORT', 'STREAMINGTV', 'STREAMINGMOVIES', 'CONTRACT', 'PAPERLESSBILLING', 'PAYMENTMETHOD', 'MONTHLYCHARGES', 'TOTALCHARGES', 'CHURN']\n"
     ]
    }
   ],
   "source": [
    "df_all = pd.read_csv(data_path / \"dataset.csv\")\n",
    "answers = pd.read_csv(data_path / \"ANSWERS.csv\")\n",
    "\n",
    "assert list(answers.columns) == list(df_all.columns)\n",
    "all_cols = list(df_all.columns)\n",
    "print(all_cols)"
   ]
  },
  {
   "cell_type": "markdown",
   "metadata": {
    "jp-MarkdownHeadingCollapsed": true,
    "tags": []
   },
   "source": [
    "### Informações gerais"
   ]
  },
  {
   "cell_type": "code",
   "execution_count": 5,
   "metadata": {},
   "outputs": [
    {
     "name": "stdout",
     "output_type": "stream",
     "text": [
      "<class 'pandas.core.frame.DataFrame'>\n",
      "RangeIndex: 4548 entries, 0 to 4547\n",
      "Data columns (total 21 columns):\n",
      " #   Column            Non-Null Count  Dtype  \n",
      "---  ------            --------------  -----  \n",
      " 0   ID                4548 non-null   int64  \n",
      " 1   GENDER            4520 non-null   object \n",
      " 2   SENIORCITIZEN     4523 non-null   float64\n",
      " 3   PARTNER           4524 non-null   object \n",
      " 4   DEPENDENTS        4526 non-null   object \n",
      " 5   TENURE            4533 non-null   float64\n",
      " 6   PHONESERVICE      4520 non-null   object \n",
      " 7   MULTIPLELINES     4523 non-null   object \n",
      " 8   INTERNETSERVICE   4524 non-null   object \n",
      " 9   ONLINESECURITY    4518 non-null   object \n",
      " 10  ONLINEBACKUP      4518 non-null   object \n",
      " 11  DEVICEPROTECTION  4524 non-null   object \n",
      " 12  TECHSUPPORT       4530 non-null   object \n",
      " 13  STREAMINGTV       4523 non-null   object \n",
      " 14  STREAMINGMOVIES   4523 non-null   object \n",
      " 15  CONTRACT          4525 non-null   object \n",
      " 16  PAPERLESSBILLING  4517 non-null   object \n",
      " 17  PAYMENTMETHOD     4520 non-null   object \n",
      " 18  MONTHLYCHARGES    4527 non-null   float64\n",
      " 19  TOTALCHARGES      4527 non-null   object \n",
      " 20  CHURN             4548 non-null   object \n",
      "dtypes: float64(3), int64(1), object(17)\n",
      "memory usage: 746.3+ KB\n"
     ]
    }
   ],
   "source": [
    "df_all.info()"
   ]
  },
  {
   "cell_type": "markdown",
   "metadata": {},
   "source": [
    "- A maioria das variáveis (colunas) parece não ser numérica e precisará ser tratada antes do uso em modelos de machine learning.\n",
    "- Com exceção da variável que identifica cada cliente (`ID`) e da variável de destino (`CHURN`), todas têm dados faltantes (nulos)."
   ]
  },
  {
   "cell_type": "markdown",
   "metadata": {
    "jp-MarkdownHeadingCollapsed": true,
    "tags": []
   },
   "source": [
    "### Divisão dos dados entre treino e teste"
   ]
  },
  {
   "cell_type": "markdown",
   "metadata": {},
   "source": [
    "Antes de inspecionar os dados, serão reservados alguns exemplos para teste, que não serão vistos durante a análise ou modelagem dos dados:"
   ]
  },
  {
   "cell_type": "code",
   "execution_count": 6,
   "metadata": {},
   "outputs": [
    {
     "name": "stdout",
     "output_type": "stream",
     "text": [
      "Dimensões dos dados de treino: (4048, 21)\n",
      "Dimensões dos dados de teste: (500, 21)\n"
     ]
    }
   ],
   "source": [
    "test_size = 500\n",
    "target = \"CHURN\"\n",
    "df_train, df_test = train_test_split(\n",
    "    df_all, test_size=test_size, random_state=seed, stratify=df_all[[target]]\n",
    ")\n",
    "print(f\"Dimensões dos dados de treino: {df_train.shape}\")\n",
    "print(f\"Dimensões dos dados de teste: {df_test.shape}\")"
   ]
  },
  {
   "cell_type": "markdown",
   "metadata": {
    "jp-MarkdownHeadingCollapsed": true,
    "tags": []
   },
   "source": [
    "### Variável destino"
   ]
  },
  {
   "cell_type": "markdown",
   "metadata": {},
   "source": [
    "A variável destino para este desafio é `CHURN`, que indica se o cliente foi perdido ou não. Vamos dar uma olhada em como está a distribuição dessa variável:"
   ]
  },
  {
   "cell_type": "code",
   "execution_count": 7,
   "metadata": {},
   "outputs": [
    {
     "data": {
      "image/png": "[encoded data removed]",
      "text/plain": [
       "<Figure size 432x288 with 1 Axes>"
      ]
     },
     "metadata": {
      "needs_background": "light"
     },
     "output_type": "display_data"
    }
   ],
   "source": [
    "churn_plot = sns.countplot(\n",
    "    data=df_train, x=target, order=df_train[target].value_counts().index\n",
    ")\n",
    "plt.show()"
   ]
  },
  {
   "cell_type": "code",
   "execution_count": 8,
   "metadata": {},
   "outputs": [
    {
     "data": {
      "text/html": [
       "<div>\n",
       "<style scoped>\n",
       "    .dataframe tbody tr th:only-of-type {\n",
       "        vertical-align: middle;\n",
       "    }\n",
       "\n",
       "    .dataframe tbody tr th {\n",
       "        vertical-align: top;\n",
       "    }\n",
       "\n",
       "    .dataframe thead th {\n",
       "        text-align: right;\n",
       "    }\n",
       "</style>\n",
       "<table border=\"1\" class=\"dataframe\">\n",
       "  <thead>\n",
       "    <tr style=\"text-align: right;\">\n",
       "      <th></th>\n",
       "      <th>Proporção</th>\n",
       "    </tr>\n",
       "  </thead>\n",
       "  <tbody>\n",
       "    <tr>\n",
       "      <th>No</th>\n",
       "      <td>0.733696</td>\n",
       "    </tr>\n",
       "    <tr>\n",
       "      <th>Yes</th>\n",
       "      <td>0.266304</td>\n",
       "    </tr>\n",
       "  </tbody>\n",
       "</table>\n",
       "</div>"
      ],
      "text/plain": [
       "     Proporção\n",
       "No    0.733696\n",
       "Yes   0.266304"
      ]
     },
     "execution_count": 8,
     "metadata": {},
     "output_type": "execute_result"
    }
   ],
   "source": [
    "df_train[target].value_counts(normalize=True).rename(\"Proporção\").to_frame()"
   ]
  },
  {
   "cell_type": "markdown",
   "metadata": {},
   "source": [
    "- A maioria dos clientes (cerca de 73%) não foi perdido"
   ]
  },
  {
   "cell_type": "markdown",
   "metadata": {
    "jp-MarkdownHeadingCollapsed": true,
    "tags": []
   },
   "source": [
    "### Dados de exemplo"
   ]
  },
  {
   "cell_type": "code",
   "execution_count": 9,
   "metadata": {},
   "outputs": [
    {
     "data": {
      "text/html": [
       "<div>\n",
       "<style scoped>\n",
       "    .dataframe tbody tr th:only-of-type {\n",
       "        vertical-align: middle;\n",
       "    }\n",
       "\n",
       "    .dataframe tbody tr th {\n",
       "        vertical-align: top;\n",
       "    }\n",
       "\n",
       "    .dataframe thead th {\n",
       "        text-align: right;\n",
       "    }\n",
       "</style>\n",
       "<table border=\"1\" class=\"dataframe\">\n",
       "  <thead>\n",
       "    <tr style=\"text-align: right;\">\n",
       "      <th></th>\n",
       "      <th>ID</th>\n",
       "      <th>GENDER</th>\n",
       "      <th>SENIORCITIZEN</th>\n",
       "      <th>PARTNER</th>\n",
       "      <th>DEPENDENTS</th>\n",
       "      <th>TENURE</th>\n",
       "      <th>PHONESERVICE</th>\n",
       "      <th>MULTIPLELINES</th>\n",
       "      <th>INTERNETSERVICE</th>\n",
       "      <th>ONLINESECURITY</th>\n",
       "      <th>ONLINEBACKUP</th>\n",
       "      <th>DEVICEPROTECTION</th>\n",
       "      <th>TECHSUPPORT</th>\n",
       "      <th>STREAMINGTV</th>\n",
       "      <th>STREAMINGMOVIES</th>\n",
       "      <th>CONTRACT</th>\n",
       "      <th>PAPERLESSBILLING</th>\n",
       "      <th>PAYMENTMETHOD</th>\n",
       "      <th>MONTHLYCHARGES</th>\n",
       "      <th>TOTALCHARGES</th>\n",
       "      <th>CHURN</th>\n",
       "    </tr>\n",
       "  </thead>\n",
       "  <tbody>\n",
       "    <tr>\n",
       "      <th>263</th>\n",
       "      <td>6155</td>\n",
       "      <td>Male</td>\n",
       "      <td>0.0</td>\n",
       "      <td>No</td>\n",
       "      <td>Yes</td>\n",
       "      <td>66.0</td>\n",
       "      <td>Yes</td>\n",
       "      <td>No</td>\n",
       "      <td>No</td>\n",
       "      <td>No internet service</td>\n",
       "      <td>No internet service</td>\n",
       "      <td>No internet service</td>\n",
       "      <td>No internet service</td>\n",
       "      <td>No internet service</td>\n",
       "      <td>No internet service</td>\n",
       "      <td>Two year</td>\n",
       "      <td>No</td>\n",
       "      <td>Credit card (automatic)</td>\n",
       "      <td>34.34</td>\n",
       "      <td>1283.49</td>\n",
       "      <td>No</td>\n",
       "    </tr>\n",
       "    <tr>\n",
       "      <th>2533</th>\n",
       "      <td>9074</td>\n",
       "      <td>Male</td>\n",
       "      <td>0.0</td>\n",
       "      <td>No</td>\n",
       "      <td>Yes</td>\n",
       "      <td>1.0</td>\n",
       "      <td>Yes</td>\n",
       "      <td>Yes</td>\n",
       "      <td>DSL</td>\n",
       "      <td>No</td>\n",
       "      <td>No</td>\n",
       "      <td>No</td>\n",
       "      <td>No</td>\n",
       "      <td>No</td>\n",
       "      <td>No</td>\n",
       "      <td>Month-to-month</td>\n",
       "      <td>Yes</td>\n",
       "      <td>Electronic check</td>\n",
       "      <td>12.23</td>\n",
       "      <td>12.23</td>\n",
       "      <td>No</td>\n",
       "    </tr>\n",
       "    <tr>\n",
       "      <th>490</th>\n",
       "      <td>1780</td>\n",
       "      <td>Female</td>\n",
       "      <td>0.0</td>\n",
       "      <td>Yes</td>\n",
       "      <td>Yes</td>\n",
       "      <td>9.0</td>\n",
       "      <td>Yes</td>\n",
       "      <td>Yes</td>\n",
       "      <td>DSL</td>\n",
       "      <td>No</td>\n",
       "      <td>Yes</td>\n",
       "      <td>No</td>\n",
       "      <td>No</td>\n",
       "      <td>No</td>\n",
       "      <td>No</td>\n",
       "      <td>Month-to-month</td>\n",
       "      <td>Yes</td>\n",
       "      <td>Mailed check</td>\n",
       "      <td>108.93</td>\n",
       "      <td>554.83</td>\n",
       "      <td>No</td>\n",
       "    </tr>\n",
       "    <tr>\n",
       "      <th>3655</th>\n",
       "      <td>7462</td>\n",
       "      <td>Female</td>\n",
       "      <td>0.0</td>\n",
       "      <td>No</td>\n",
       "      <td>No</td>\n",
       "      <td>61.0</td>\n",
       "      <td>Yes</td>\n",
       "      <td>Yes</td>\n",
       "      <td>Fiber optic</td>\n",
       "      <td>No</td>\n",
       "      <td>Yes</td>\n",
       "      <td>Yes</td>\n",
       "      <td>No</td>\n",
       "      <td>Yes</td>\n",
       "      <td>Yes</td>\n",
       "      <td>One year</td>\n",
       "      <td>Yes</td>\n",
       "      <td>NaN</td>\n",
       "      <td>118.86</td>\n",
       "      <td>6437.91</td>\n",
       "      <td>No</td>\n",
       "    </tr>\n",
       "    <tr>\n",
       "      <th>2709</th>\n",
       "      <td>4493</td>\n",
       "      <td>Female</td>\n",
       "      <td>0.0</td>\n",
       "      <td>No</td>\n",
       "      <td>No</td>\n",
       "      <td>1.0</td>\n",
       "      <td>Yes</td>\n",
       "      <td>No</td>\n",
       "      <td>DSL</td>\n",
       "      <td>No</td>\n",
       "      <td>No</td>\n",
       "      <td>No</td>\n",
       "      <td>No</td>\n",
       "      <td>No</td>\n",
       "      <td>No</td>\n",
       "      <td>Month-to-month</td>\n",
       "      <td>Yes</td>\n",
       "      <td>Mailed check</td>\n",
       "      <td>116.13</td>\n",
       "      <td>116.13</td>\n",
       "      <td>No</td>\n",
       "    </tr>\n",
       "    <tr>\n",
       "      <th>2239</th>\n",
       "      <td>8619</td>\n",
       "      <td>Female</td>\n",
       "      <td>0.0</td>\n",
       "      <td>Yes</td>\n",
       "      <td>Yes</td>\n",
       "      <td>64.0</td>\n",
       "      <td>Yes</td>\n",
       "      <td>No</td>\n",
       "      <td>No</td>\n",
       "      <td>No internet service</td>\n",
       "      <td>No internet service</td>\n",
       "      <td>No internet service</td>\n",
       "      <td>No internet service</td>\n",
       "      <td>No internet service</td>\n",
       "      <td>No internet service</td>\n",
       "      <td>One year</td>\n",
       "      <td>No</td>\n",
       "      <td>Bank transfer (automatic)</td>\n",
       "      <td>20.66</td>\n",
       "      <td>1337.51</td>\n",
       "      <td>No</td>\n",
       "    </tr>\n",
       "    <tr>\n",
       "      <th>1234</th>\n",
       "      <td>9229</td>\n",
       "      <td>Female</td>\n",
       "      <td>0.0</td>\n",
       "      <td>Yes</td>\n",
       "      <td>Yes</td>\n",
       "      <td>9.0</td>\n",
       "      <td>Yes</td>\n",
       "      <td>No</td>\n",
       "      <td>No</td>\n",
       "      <td>No internet service</td>\n",
       "      <td>No internet service</td>\n",
       "      <td>No internet service</td>\n",
       "      <td>No internet service</td>\n",
       "      <td>No internet service</td>\n",
       "      <td>No internet service</td>\n",
       "      <td>Two year</td>\n",
       "      <td>No</td>\n",
       "      <td>Mailed check</td>\n",
       "      <td>32.08</td>\n",
       "      <td>202.83</td>\n",
       "      <td>No</td>\n",
       "    </tr>\n",
       "    <tr>\n",
       "      <th>551</th>\n",
       "      <td>5658</td>\n",
       "      <td>Female</td>\n",
       "      <td>1.0</td>\n",
       "      <td>No</td>\n",
       "      <td>No</td>\n",
       "      <td>1.0</td>\n",
       "      <td>No</td>\n",
       "      <td>No phone service</td>\n",
       "      <td>DSL</td>\n",
       "      <td>No</td>\n",
       "      <td>No</td>\n",
       "      <td>No</td>\n",
       "      <td>No</td>\n",
       "      <td>No</td>\n",
       "      <td>No</td>\n",
       "      <td>Month-to-month</td>\n",
       "      <td>Yes</td>\n",
       "      <td>Mailed check</td>\n",
       "      <td>18.00</td>\n",
       "      <td>18.0</td>\n",
       "      <td>Yes</td>\n",
       "    </tr>\n",
       "    <tr>\n",
       "      <th>3594</th>\n",
       "      <td>7884</td>\n",
       "      <td>Female</td>\n",
       "      <td>1.0</td>\n",
       "      <td>No</td>\n",
       "      <td>No</td>\n",
       "      <td>6.0</td>\n",
       "      <td>Yes</td>\n",
       "      <td>No</td>\n",
       "      <td>Fiber optic</td>\n",
       "      <td>Yes</td>\n",
       "      <td>No</td>\n",
       "      <td>No</td>\n",
       "      <td>No</td>\n",
       "      <td>NaN</td>\n",
       "      <td>No</td>\n",
       "      <td>Month-to-month</td>\n",
       "      <td>Yes</td>\n",
       "      <td>Electronic check</td>\n",
       "      <td>205.27</td>\n",
       "      <td>582.07</td>\n",
       "      <td>No</td>\n",
       "    </tr>\n",
       "    <tr>\n",
       "      <th>266</th>\n",
       "      <td>4843</td>\n",
       "      <td>Female</td>\n",
       "      <td>0.0</td>\n",
       "      <td>No</td>\n",
       "      <td>No</td>\n",
       "      <td>68.0</td>\n",
       "      <td>Yes</td>\n",
       "      <td>Yes</td>\n",
       "      <td>DSL</td>\n",
       "      <td>Yes</td>\n",
       "      <td>Yes</td>\n",
       "      <td>Yes</td>\n",
       "      <td>Yes</td>\n",
       "      <td>Yes</td>\n",
       "      <td>Yes</td>\n",
       "      <td>Two year</td>\n",
       "      <td>Yes</td>\n",
       "      <td>Electronic check</td>\n",
       "      <td>1.29</td>\n",
       "      <td>6061.59</td>\n",
       "      <td>No</td>\n",
       "    </tr>\n",
       "  </tbody>\n",
       "</table>\n",
       "</div>"
      ],
      "text/plain": [
       "        ID  GENDER  SENIORCITIZEN PARTNER DEPENDENTS  TENURE PHONESERVICE  \\\n",
       "263   6155    Male            0.0      No        Yes    66.0          Yes   \n",
       "2533  9074    Male            0.0      No        Yes     1.0          Yes   \n",
       "490   1780  Female            0.0     Yes        Yes     9.0          Yes   \n",
       "3655  7462  Female            0.0      No         No    61.0          Yes   \n",
       "2709  4493  Female            0.0      No         No     1.0          Yes   \n",
       "2239  8619  Female            0.0     Yes        Yes    64.0          Yes   \n",
       "1234  9229  Female            0.0     Yes        Yes     9.0          Yes   \n",
       "551   5658  Female            1.0      No         No     1.0           No   \n",
       "3594  7884  Female            1.0      No         No     6.0          Yes   \n",
       "266   4843  Female            0.0      No         No    68.0          Yes   \n",
       "\n",
       "         MULTIPLELINES INTERNETSERVICE       ONLINESECURITY  \\\n",
       "263                 No              No  No internet service   \n",
       "2533               Yes             DSL                   No   \n",
       "490                Yes             DSL                   No   \n",
       "3655               Yes     Fiber optic                   No   \n",
       "2709                No             DSL                   No   \n",
       "2239                No              No  No internet service   \n",
       "1234                No              No  No internet service   \n",
       "551   No phone service             DSL                   No   \n",
       "3594                No     Fiber optic                  Yes   \n",
       "266                Yes             DSL                  Yes   \n",
       "\n",
       "             ONLINEBACKUP     DEVICEPROTECTION          TECHSUPPORT  \\\n",
       "263   No internet service  No internet service  No internet service   \n",
       "2533                   No                   No                   No   \n",
       "490                   Yes                   No                   No   \n",
       "3655                  Yes                  Yes                   No   \n",
       "2709                   No                   No                   No   \n",
       "2239  No internet service  No internet service  No internet service   \n",
       "1234  No internet service  No internet service  No internet service   \n",
       "551                    No                   No                   No   \n",
       "3594                   No                   No                   No   \n",
       "266                   Yes                  Yes                  Yes   \n",
       "\n",
       "              STREAMINGTV      STREAMINGMOVIES        CONTRACT  \\\n",
       "263   No internet service  No internet service        Two year   \n",
       "2533                   No                   No  Month-to-month   \n",
       "490                    No                   No  Month-to-month   \n",
       "3655                  Yes                  Yes        One year   \n",
       "2709                   No                   No  Month-to-month   \n",
       "2239  No internet service  No internet service        One year   \n",
       "1234  No internet service  No internet service        Two year   \n",
       "551                    No                   No  Month-to-month   \n",
       "3594                  NaN                   No  Month-to-month   \n",
       "266                   Yes                  Yes        Two year   \n",
       "\n",
       "     PAPERLESSBILLING              PAYMENTMETHOD  MONTHLYCHARGES TOTALCHARGES  \\\n",
       "263                No    Credit card (automatic)           34.34      1283.49   \n",
       "2533              Yes           Electronic check           12.23        12.23   \n",
       "490               Yes               Mailed check          108.93       554.83   \n",
       "3655              Yes                        NaN          118.86      6437.91   \n",
       "2709              Yes               Mailed check          116.13       116.13   \n",
       "2239               No  Bank transfer (automatic)           20.66      1337.51   \n",
       "1234               No               Mailed check           32.08       202.83   \n",
       "551               Yes               Mailed check           18.00         18.0   \n",
       "3594              Yes           Electronic check          205.27       582.07   \n",
       "266               Yes           Electronic check            1.29      6061.59   \n",
       "\n",
       "     CHURN  \n",
       "263     No  \n",
       "2533    No  \n",
       "490     No  \n",
       "3655    No  \n",
       "2709    No  \n",
       "2239    No  \n",
       "1234    No  \n",
       "551    Yes  \n",
       "3594    No  \n",
       "266     No  "
      ]
     },
     "metadata": {},
     "output_type": "display_data"
    }
   ],
   "source": [
    "with pd.option_context(\"display.max_columns\", None):\n",
    "    display(df_train.sample(10, random_state=seed))"
   ]
  },
  {
   "cell_type": "markdown",
   "metadata": {
    "jp-MarkdownHeadingCollapsed": true,
    "tags": []
   },
   "source": [
    "### Valores distintos por variável"
   ]
  },
  {
   "cell_type": "code",
   "execution_count": 10,
   "metadata": {},
   "outputs": [
    {
     "data": {
      "text/html": [
       "<div>\n",
       "<style scoped>\n",
       "    .dataframe tbody tr th:only-of-type {\n",
       "        vertical-align: middle;\n",
       "    }\n",
       "\n",
       "    .dataframe tbody tr th {\n",
       "        vertical-align: top;\n",
       "    }\n",
       "\n",
       "    .dataframe thead th {\n",
       "        text-align: right;\n",
       "    }\n",
       "</style>\n",
       "<table border=\"1\" class=\"dataframe\">\n",
       "  <thead>\n",
       "    <tr style=\"text-align: right;\">\n",
       "      <th></th>\n",
       "      <th>Nº de valores</th>\n",
       "    </tr>\n",
       "  </thead>\n",
       "  <tbody>\n",
       "    <tr>\n",
       "      <th>ID</th>\n",
       "      <td>4048</td>\n",
       "    </tr>\n",
       "    <tr>\n",
       "      <th>GENDER</th>\n",
       "      <td>2</td>\n",
       "    </tr>\n",
       "    <tr>\n",
       "      <th>SENIORCITIZEN</th>\n",
       "      <td>2</td>\n",
       "    </tr>\n",
       "    <tr>\n",
       "      <th>PARTNER</th>\n",
       "      <td>2</td>\n",
       "    </tr>\n",
       "    <tr>\n",
       "      <th>DEPENDENTS</th>\n",
       "      <td>2</td>\n",
       "    </tr>\n",
       "    <tr>\n",
       "      <th>TENURE</th>\n",
       "      <td>73</td>\n",
       "    </tr>\n",
       "    <tr>\n",
       "      <th>PHONESERVICE</th>\n",
       "      <td>2</td>\n",
       "    </tr>\n",
       "    <tr>\n",
       "      <th>MULTIPLELINES</th>\n",
       "      <td>3</td>\n",
       "    </tr>\n",
       "    <tr>\n",
       "      <th>INTERNETSERVICE</th>\n",
       "      <td>3</td>\n",
       "    </tr>\n",
       "    <tr>\n",
       "      <th>ONLINESECURITY</th>\n",
       "      <td>3</td>\n",
       "    </tr>\n",
       "    <tr>\n",
       "      <th>ONLINEBACKUP</th>\n",
       "      <td>3</td>\n",
       "    </tr>\n",
       "    <tr>\n",
       "      <th>DEVICEPROTECTION</th>\n",
       "      <td>3</td>\n",
       "    </tr>\n",
       "    <tr>\n",
       "      <th>TECHSUPPORT</th>\n",
       "      <td>3</td>\n",
       "    </tr>\n",
       "    <tr>\n",
       "      <th>STREAMINGTV</th>\n",
       "      <td>3</td>\n",
       "    </tr>\n",
       "    <tr>\n",
       "      <th>STREAMINGMOVIES</th>\n",
       "      <td>3</td>\n",
       "    </tr>\n",
       "    <tr>\n",
       "      <th>CONTRACT</th>\n",
       "      <td>3</td>\n",
       "    </tr>\n",
       "    <tr>\n",
       "      <th>PAPERLESSBILLING</th>\n",
       "      <td>2</td>\n",
       "    </tr>\n",
       "    <tr>\n",
       "      <th>PAYMENTMETHOD</th>\n",
       "      <td>4</td>\n",
       "    </tr>\n",
       "    <tr>\n",
       "      <th>MONTHLYCHARGES</th>\n",
       "      <td>3671</td>\n",
       "    </tr>\n",
       "    <tr>\n",
       "      <th>TOTALCHARGES</th>\n",
       "      <td>4002</td>\n",
       "    </tr>\n",
       "    <tr>\n",
       "      <th>CHURN</th>\n",
       "      <td>2</td>\n",
       "    </tr>\n",
       "  </tbody>\n",
       "</table>\n",
       "</div>"
      ],
      "text/plain": [
       "                  Nº de valores\n",
       "ID                         4048\n",
       "GENDER                        2\n",
       "SENIORCITIZEN                 2\n",
       "PARTNER                       2\n",
       "DEPENDENTS                    2\n",
       "TENURE                       73\n",
       "PHONESERVICE                  2\n",
       "MULTIPLELINES                 3\n",
       "INTERNETSERVICE               3\n",
       "ONLINESECURITY                3\n",
       "ONLINEBACKUP                  3\n",
       "DEVICEPROTECTION              3\n",
       "TECHSUPPORT                   3\n",
       "STREAMINGTV                   3\n",
       "STREAMINGMOVIES               3\n",
       "CONTRACT                      3\n",
       "PAPERLESSBILLING              2\n",
       "PAYMENTMETHOD                 4\n",
       "MONTHLYCHARGES             3671\n",
       "TOTALCHARGES               4002\n",
       "CHURN                         2"
      ]
     },
     "execution_count": 10,
     "metadata": {},
     "output_type": "execute_result"
    }
   ],
   "source": [
    "df_train.nunique().rename(\"Nº de valores\").to_frame()"
   ]
  },
  {
   "cell_type": "markdown",
   "metadata": {},
   "source": [
    "Observações:\n",
    "- As colunas `ID`, `MONTHLYCHARGES`, `TENURE` e `TOTALCHARGES` assumem um grande número de valores distintos, e possivelmente são contínuas\n",
    "- As demais colunas têm poucos valores distintos, e podemos assumir que são categóricas"
   ]
  },
  {
   "cell_type": "markdown",
   "metadata": {
    "jp-MarkdownHeadingCollapsed": true,
    "tags": []
   },
   "source": [
    "### Variáveis categóricas"
   ]
  },
  {
   "cell_type": "markdown",
   "metadata": {},
   "source": [
    "Já que teremos que lidar tanto com variáveis categóricas quanto numéricas, e cada tipo de variável precisa de tratamentos específicos antes de serem usadas por modelos de _machine learning_, processaremos cada tipo por `Pipeline` específica do `scikit-learn`. Aqui, será construída uma versão preliminar da _pipeline_ que lidará com os dados categóricos, apenas para facilitar a visualização dos dados. Posteriormente ela será aperfeiçoada para uso nos modelos."
   ]
  },
  {
   "cell_type": "code",
   "execution_count": 11,
   "metadata": {},
   "outputs": [
    {
     "data": {
      "text/html": [
       "<div>\n",
       "<style scoped>\n",
       "    .dataframe tbody tr th:only-of-type {\n",
       "        vertical-align: middle;\n",
       "    }\n",
       "\n",
       "    .dataframe tbody tr th {\n",
       "        vertical-align: top;\n",
       "    }\n",
       "\n",
       "    .dataframe thead th {\n",
       "        text-align: right;\n",
       "    }\n",
       "</style>\n",
       "<table border=\"1\" class=\"dataframe\">\n",
       "  <thead>\n",
       "    <tr style=\"text-align: right;\">\n",
       "      <th></th>\n",
       "      <th>GENDER</th>\n",
       "      <th>SENIORCITIZEN</th>\n",
       "      <th>PARTNER</th>\n",
       "      <th>DEPENDENTS</th>\n",
       "      <th>PHONESERVICE</th>\n",
       "      <th>MULTIPLELINES</th>\n",
       "      <th>INTERNETSERVICE</th>\n",
       "      <th>ONLINESECURITY</th>\n",
       "      <th>ONLINEBACKUP</th>\n",
       "      <th>DEVICEPROTECTION</th>\n",
       "      <th>TECHSUPPORT</th>\n",
       "      <th>STREAMINGTV</th>\n",
       "      <th>STREAMINGMOVIES</th>\n",
       "      <th>CONTRACT</th>\n",
       "      <th>PAPERLESSBILLING</th>\n",
       "      <th>PAYMENTMETHOD</th>\n",
       "      <th>CHURN</th>\n",
       "    </tr>\n",
       "  </thead>\n",
       "  <tbody>\n",
       "    <tr>\n",
       "      <th>count</th>\n",
       "      <td>4022</td>\n",
       "      <td>4025.0</td>\n",
       "      <td>4025</td>\n",
       "      <td>4028</td>\n",
       "      <td>4022</td>\n",
       "      <td>4024</td>\n",
       "      <td>4026</td>\n",
       "      <td>4021</td>\n",
       "      <td>4022</td>\n",
       "      <td>4027</td>\n",
       "      <td>4031</td>\n",
       "      <td>4028</td>\n",
       "      <td>4025</td>\n",
       "      <td>4028</td>\n",
       "      <td>4023</td>\n",
       "      <td>4023</td>\n",
       "      <td>4048</td>\n",
       "    </tr>\n",
       "    <tr>\n",
       "      <th>unique</th>\n",
       "      <td>2</td>\n",
       "      <td>2.0</td>\n",
       "      <td>2</td>\n",
       "      <td>2</td>\n",
       "      <td>2</td>\n",
       "      <td>3</td>\n",
       "      <td>3</td>\n",
       "      <td>3</td>\n",
       "      <td>3</td>\n",
       "      <td>3</td>\n",
       "      <td>3</td>\n",
       "      <td>3</td>\n",
       "      <td>3</td>\n",
       "      <td>3</td>\n",
       "      <td>2</td>\n",
       "      <td>4</td>\n",
       "      <td>2</td>\n",
       "    </tr>\n",
       "    <tr>\n",
       "      <th>top</th>\n",
       "      <td>Female</td>\n",
       "      <td>0.0</td>\n",
       "      <td>No</td>\n",
       "      <td>No</td>\n",
       "      <td>Yes</td>\n",
       "      <td>No</td>\n",
       "      <td>Fiber optic</td>\n",
       "      <td>No</td>\n",
       "      <td>No</td>\n",
       "      <td>No</td>\n",
       "      <td>No</td>\n",
       "      <td>No</td>\n",
       "      <td>Yes</td>\n",
       "      <td>Month-to-month</td>\n",
       "      <td>Yes</td>\n",
       "      <td>Electronic check</td>\n",
       "      <td>No</td>\n",
       "    </tr>\n",
       "    <tr>\n",
       "      <th>freq</th>\n",
       "      <td>2016</td>\n",
       "      <td>3364.0</td>\n",
       "      <td>2053</td>\n",
       "      <td>2822</td>\n",
       "      <td>3648</td>\n",
       "      <td>1980</td>\n",
       "      <td>1769</td>\n",
       "      <td>2009</td>\n",
       "      <td>1780</td>\n",
       "      <td>1769</td>\n",
       "      <td>1985</td>\n",
       "      <td>1589</td>\n",
       "      <td>1587</td>\n",
       "      <td>2265</td>\n",
       "      <td>2387</td>\n",
       "      <td>1351</td>\n",
       "      <td>2970</td>\n",
       "    </tr>\n",
       "  </tbody>\n",
       "</table>\n",
       "</div>"
      ],
      "text/plain": [
       "        GENDER  SENIORCITIZEN PARTNER DEPENDENTS PHONESERVICE MULTIPLELINES  \\\n",
       "count     4022         4025.0    4025       4028         4022          4024   \n",
       "unique       2            2.0       2          2            2             3   \n",
       "top     Female            0.0      No         No          Yes            No   \n",
       "freq      2016         3364.0    2053       2822         3648          1980   \n",
       "\n",
       "       INTERNETSERVICE ONLINESECURITY ONLINEBACKUP DEVICEPROTECTION  \\\n",
       "count             4026           4021         4022             4027   \n",
       "unique               3              3            3                3   \n",
       "top        Fiber optic             No           No               No   \n",
       "freq              1769           2009         1780             1769   \n",
       "\n",
       "       TECHSUPPORT STREAMINGTV STREAMINGMOVIES        CONTRACT  \\\n",
       "count         4031        4028            4025            4028   \n",
       "unique           3           3               3               3   \n",
       "top             No          No             Yes  Month-to-month   \n",
       "freq          1985        1589            1587            2265   \n",
       "\n",
       "       PAPERLESSBILLING     PAYMENTMETHOD CHURN  \n",
       "count              4023              4023  4048  \n",
       "unique                2                 4     2  \n",
       "top                 Yes  Electronic check    No  \n",
       "freq               2387              1351  2970  "
      ]
     },
     "metadata": {},
     "output_type": "display_data"
    }
   ],
   "source": [
    "categorical_features = [\n",
    "    \"GENDER\",\n",
    "    \"SENIORCITIZEN\",\n",
    "    \"PARTNER\",\n",
    "    \"DEPENDENTS\",\n",
    "    \"PHONESERVICE\",\n",
    "    \"MULTIPLELINES\",\n",
    "    \"INTERNETSERVICE\",\n",
    "    \"ONLINESECURITY\",\n",
    "    \"ONLINEBACKUP\",\n",
    "    \"DEVICEPROTECTION\",\n",
    "    \"TECHSUPPORT\",\n",
    "    \"STREAMINGTV\",\n",
    "    \"STREAMINGMOVIES\",\n",
    "    \"CONTRACT\",\n",
    "    \"PAPERLESSBILLING\",\n",
    "    \"PAYMENTMETHOD\",\n",
    "    # 'CHURN',  # This is the binary target, not a feature\n",
    "]\n",
    "\n",
    "\n",
    "def cat_mapper(df):\n",
    "    return df.astype(\"category\")\n",
    "\n",
    "\n",
    "categorical_transformer = Pipeline(\n",
    "    steps=[\n",
    "        (\"to_categorical\", FunctionTransformer(cat_mapper)),\n",
    "    ]\n",
    ")\n",
    "\n",
    "df_train_cat = categorical_transformer.fit_transform(\n",
    "    df_train[categorical_features + [target]]\n",
    ")\n",
    "\n",
    "with pd.option_context(\"display.max_columns\", None):\n",
    "    display(df_train_cat.describe())"
   ]
  },
  {
   "cell_type": "code",
   "execution_count": 12,
   "metadata": {},
   "outputs": [],
   "source": [
    "def display_value_counts(df):\n",
    "    for col in df:\n",
    "        print(f\"{col}:\")\n",
    "        display(\n",
    "            df[col]\n",
    "            .value_counts()\n",
    "            .reset_index()\n",
    "            .sort_values([col, \"index\"], ascending=False)\n",
    "            .rename(columns={col: \"Quantidade\", \"index\": \"Valor\"})\n",
    "            .set_index(\"Valor\")\n",
    "            .T\n",
    "        )"
   ]
  },
  {
   "cell_type": "markdown",
   "metadata": {},
   "source": [
    "Estes são os valores que as variáveis categóricas assumem:"
   ]
  },
  {
   "cell_type": "code",
   "execution_count": 13,
   "metadata": {},
   "outputs": [
    {
     "name": "stdout",
     "output_type": "stream",
     "text": [
      "GENDER:\n"
     ]
    },
    {
     "data": {
      "text/html": [
       "<div>\n",
       "<style scoped>\n",
       "    .dataframe tbody tr th:only-of-type {\n",
       "        vertical-align: middle;\n",
       "    }\n",
       "\n",
       "    .dataframe tbody tr th {\n",
       "        vertical-align: top;\n",
       "    }\n",
       "\n",
       "    .dataframe thead th {\n",
       "        text-align: right;\n",
       "    }\n",
       "</style>\n",
       "<table border=\"1\" class=\"dataframe\">\n",
       "  <thead>\n",
       "    <tr style=\"text-align: right;\">\n",
       "      <th>Valor</th>\n",
       "      <th>Female</th>\n",
       "      <th>Male</th>\n",
       "    </tr>\n",
       "  </thead>\n",
       "  <tbody>\n",
       "    <tr>\n",
       "      <th>Quantidade</th>\n",
       "      <td>2016</td>\n",
       "      <td>2006</td>\n",
       "    </tr>\n",
       "  </tbody>\n",
       "</table>\n",
       "</div>"
      ],
      "text/plain": [
       "Valor       Female  Male\n",
       "Quantidade    2016  2006"
      ]
     },
     "metadata": {},
     "output_type": "display_data"
    },
    {
     "name": "stdout",
     "output_type": "stream",
     "text": [
      "SENIORCITIZEN:\n"
     ]
    },
    {
     "data": {
      "text/html": [
       "<div>\n",
       "<style scoped>\n",
       "    .dataframe tbody tr th:only-of-type {\n",
       "        vertical-align: middle;\n",
       "    }\n",
       "\n",
       "    .dataframe tbody tr th {\n",
       "        vertical-align: top;\n",
       "    }\n",
       "\n",
       "    .dataframe thead th {\n",
       "        text-align: right;\n",
       "    }\n",
       "</style>\n",
       "<table border=\"1\" class=\"dataframe\">\n",
       "  <thead>\n",
       "    <tr style=\"text-align: right;\">\n",
       "      <th>Valor</th>\n",
       "      <th>0.0</th>\n",
       "      <th>1.0</th>\n",
       "    </tr>\n",
       "  </thead>\n",
       "  <tbody>\n",
       "    <tr>\n",
       "      <th>Quantidade</th>\n",
       "      <td>3364</td>\n",
       "      <td>661</td>\n",
       "    </tr>\n",
       "  </tbody>\n",
       "</table>\n",
       "</div>"
      ],
      "text/plain": [
       "Valor        0.0  1.0\n",
       "Quantidade  3364  661"
      ]
     },
     "metadata": {},
     "output_type": "display_data"
    },
    {
     "name": "stdout",
     "output_type": "stream",
     "text": [
      "PARTNER:\n"
     ]
    },
    {
     "data": {
      "text/html": [
       "<div>\n",
       "<style scoped>\n",
       "    .dataframe tbody tr th:only-of-type {\n",
       "        vertical-align: middle;\n",
       "    }\n",
       "\n",
       "    .dataframe tbody tr th {\n",
       "        vertical-align: top;\n",
       "    }\n",
       "\n",
       "    .dataframe thead th {\n",
       "        text-align: right;\n",
       "    }\n",
       "</style>\n",
       "<table border=\"1\" class=\"dataframe\">\n",
       "  <thead>\n",
       "    <tr style=\"text-align: right;\">\n",
       "      <th>Valor</th>\n",
       "      <th>No</th>\n",
       "      <th>Yes</th>\n",
       "    </tr>\n",
       "  </thead>\n",
       "  <tbody>\n",
       "    <tr>\n",
       "      <th>Quantidade</th>\n",
       "      <td>2053</td>\n",
       "      <td>1972</td>\n",
       "    </tr>\n",
       "  </tbody>\n",
       "</table>\n",
       "</div>"
      ],
      "text/plain": [
       "Valor         No   Yes\n",
       "Quantidade  2053  1972"
      ]
     },
     "metadata": {},
     "output_type": "display_data"
    },
    {
     "name": "stdout",
     "output_type": "stream",
     "text": [
      "DEPENDENTS:\n"
     ]
    },
    {
     "data": {
      "text/html": [
       "<div>\n",
       "<style scoped>\n",
       "    .dataframe tbody tr th:only-of-type {\n",
       "        vertical-align: middle;\n",
       "    }\n",
       "\n",
       "    .dataframe tbody tr th {\n",
       "        vertical-align: top;\n",
       "    }\n",
       "\n",
       "    .dataframe thead th {\n",
       "        text-align: right;\n",
       "    }\n",
       "</style>\n",
       "<table border=\"1\" class=\"dataframe\">\n",
       "  <thead>\n",
       "    <tr style=\"text-align: right;\">\n",
       "      <th>Valor</th>\n",
       "      <th>No</th>\n",
       "      <th>Yes</th>\n",
       "    </tr>\n",
       "  </thead>\n",
       "  <tbody>\n",
       "    <tr>\n",
       "      <th>Quantidade</th>\n",
       "      <td>2822</td>\n",
       "      <td>1206</td>\n",
       "    </tr>\n",
       "  </tbody>\n",
       "</table>\n",
       "</div>"
      ],
      "text/plain": [
       "Valor         No   Yes\n",
       "Quantidade  2822  1206"
      ]
     },
     "metadata": {},
     "output_type": "display_data"
    },
    {
     "name": "stdout",
     "output_type": "stream",
     "text": [
      "PHONESERVICE:\n"
     ]
    },
    {
     "data": {
      "text/html": [
       "<div>\n",
       "<style scoped>\n",
       "    .dataframe tbody tr th:only-of-type {\n",
       "        vertical-align: middle;\n",
       "    }\n",
       "\n",
       "    .dataframe tbody tr th {\n",
       "        vertical-align: top;\n",
       "    }\n",
       "\n",
       "    .dataframe thead th {\n",
       "        text-align: right;\n",
       "    }\n",
       "</style>\n",
       "<table border=\"1\" class=\"dataframe\">\n",
       "  <thead>\n",
       "    <tr style=\"text-align: right;\">\n",
       "      <th>Valor</th>\n",
       "      <th>Yes</th>\n",
       "      <th>No</th>\n",
       "    </tr>\n",
       "  </thead>\n",
       "  <tbody>\n",
       "    <tr>\n",
       "      <th>Quantidade</th>\n",
       "      <td>3648</td>\n",
       "      <td>374</td>\n",
       "    </tr>\n",
       "  </tbody>\n",
       "</table>\n",
       "</div>"
      ],
      "text/plain": [
       "Valor        Yes   No\n",
       "Quantidade  3648  374"
      ]
     },
     "metadata": {},
     "output_type": "display_data"
    },
    {
     "name": "stdout",
     "output_type": "stream",
     "text": [
      "MULTIPLELINES:\n"
     ]
    },
    {
     "data": {
      "text/html": [
       "<div>\n",
       "<style scoped>\n",
       "    .dataframe tbody tr th:only-of-type {\n",
       "        vertical-align: middle;\n",
       "    }\n",
       "\n",
       "    .dataframe tbody tr th {\n",
       "        vertical-align: top;\n",
       "    }\n",
       "\n",
       "    .dataframe thead th {\n",
       "        text-align: right;\n",
       "    }\n",
       "</style>\n",
       "<table border=\"1\" class=\"dataframe\">\n",
       "  <thead>\n",
       "    <tr style=\"text-align: right;\">\n",
       "      <th>Valor</th>\n",
       "      <th>No</th>\n",
       "      <th>Yes</th>\n",
       "      <th>No phone service</th>\n",
       "    </tr>\n",
       "  </thead>\n",
       "  <tbody>\n",
       "    <tr>\n",
       "      <th>Quantidade</th>\n",
       "      <td>1980</td>\n",
       "      <td>1672</td>\n",
       "      <td>372</td>\n",
       "    </tr>\n",
       "  </tbody>\n",
       "</table>\n",
       "</div>"
      ],
      "text/plain": [
       "Valor         No   Yes  No phone service\n",
       "Quantidade  1980  1672               372"
      ]
     },
     "metadata": {},
     "output_type": "display_data"
    },
    {
     "name": "stdout",
     "output_type": "stream",
     "text": [
      "INTERNETSERVICE:\n"
     ]
    },
    {
     "data": {
      "text/html": [
       "<div>\n",
       "<style scoped>\n",
       "    .dataframe tbody tr th:only-of-type {\n",
       "        vertical-align: middle;\n",
       "    }\n",
       "\n",
       "    .dataframe tbody tr th {\n",
       "        vertical-align: top;\n",
       "    }\n",
       "\n",
       "    .dataframe thead th {\n",
       "        text-align: right;\n",
       "    }\n",
       "</style>\n",
       "<table border=\"1\" class=\"dataframe\">\n",
       "  <thead>\n",
       "    <tr style=\"text-align: right;\">\n",
       "      <th>Valor</th>\n",
       "      <th>Fiber optic</th>\n",
       "      <th>DSL</th>\n",
       "      <th>No</th>\n",
       "    </tr>\n",
       "  </thead>\n",
       "  <tbody>\n",
       "    <tr>\n",
       "      <th>Quantidade</th>\n",
       "      <td>1769</td>\n",
       "      <td>1366</td>\n",
       "      <td>891</td>\n",
       "    </tr>\n",
       "  </tbody>\n",
       "</table>\n",
       "</div>"
      ],
      "text/plain": [
       "Valor       Fiber optic   DSL   No\n",
       "Quantidade         1769  1366  891"
      ]
     },
     "metadata": {},
     "output_type": "display_data"
    },
    {
     "name": "stdout",
     "output_type": "stream",
     "text": [
      "ONLINESECURITY:\n"
     ]
    },
    {
     "data": {
      "text/html": [
       "<div>\n",
       "<style scoped>\n",
       "    .dataframe tbody tr th:only-of-type {\n",
       "        vertical-align: middle;\n",
       "    }\n",
       "\n",
       "    .dataframe tbody tr th {\n",
       "        vertical-align: top;\n",
       "    }\n",
       "\n",
       "    .dataframe thead th {\n",
       "        text-align: right;\n",
       "    }\n",
       "</style>\n",
       "<table border=\"1\" class=\"dataframe\">\n",
       "  <thead>\n",
       "    <tr style=\"text-align: right;\">\n",
       "      <th>Valor</th>\n",
       "      <th>No</th>\n",
       "      <th>Yes</th>\n",
       "      <th>No internet service</th>\n",
       "    </tr>\n",
       "  </thead>\n",
       "  <tbody>\n",
       "    <tr>\n",
       "      <th>Quantidade</th>\n",
       "      <td>2009</td>\n",
       "      <td>1119</td>\n",
       "      <td>893</td>\n",
       "    </tr>\n",
       "  </tbody>\n",
       "</table>\n",
       "</div>"
      ],
      "text/plain": [
       "Valor         No   Yes  No internet service\n",
       "Quantidade  2009  1119                  893"
      ]
     },
     "metadata": {},
     "output_type": "display_data"
    },
    {
     "name": "stdout",
     "output_type": "stream",
     "text": [
      "ONLINEBACKUP:\n"
     ]
    },
    {
     "data": {
      "text/html": [
       "<div>\n",
       "<style scoped>\n",
       "    .dataframe tbody tr th:only-of-type {\n",
       "        vertical-align: middle;\n",
       "    }\n",
       "\n",
       "    .dataframe tbody tr th {\n",
       "        vertical-align: top;\n",
       "    }\n",
       "\n",
       "    .dataframe thead th {\n",
       "        text-align: right;\n",
       "    }\n",
       "</style>\n",
       "<table border=\"1\" class=\"dataframe\">\n",
       "  <thead>\n",
       "    <tr style=\"text-align: right;\">\n",
       "      <th>Valor</th>\n",
       "      <th>No</th>\n",
       "      <th>Yes</th>\n",
       "      <th>No internet service</th>\n",
       "    </tr>\n",
       "  </thead>\n",
       "  <tbody>\n",
       "    <tr>\n",
       "      <th>Quantidade</th>\n",
       "      <td>1780</td>\n",
       "      <td>1350</td>\n",
       "      <td>892</td>\n",
       "    </tr>\n",
       "  </tbody>\n",
       "</table>\n",
       "</div>"
      ],
      "text/plain": [
       "Valor         No   Yes  No internet service\n",
       "Quantidade  1780  1350                  892"
      ]
     },
     "metadata": {},
     "output_type": "display_data"
    },
    {
     "name": "stdout",
     "output_type": "stream",
     "text": [
      "DEVICEPROTECTION:\n"
     ]
    },
    {
     "data": {
      "text/html": [
       "<div>\n",
       "<style scoped>\n",
       "    .dataframe tbody tr th:only-of-type {\n",
       "        vertical-align: middle;\n",
       "    }\n",
       "\n",
       "    .dataframe tbody tr th {\n",
       "        vertical-align: top;\n",
       "    }\n",
       "\n",
       "    .dataframe thead th {\n",
       "        text-align: right;\n",
       "    }\n",
       "</style>\n",
       "<table border=\"1\" class=\"dataframe\">\n",
       "  <thead>\n",
       "    <tr style=\"text-align: right;\">\n",
       "      <th>Valor</th>\n",
       "      <th>No</th>\n",
       "      <th>Yes</th>\n",
       "      <th>No internet service</th>\n",
       "    </tr>\n",
       "  </thead>\n",
       "  <tbody>\n",
       "    <tr>\n",
       "      <th>Quantidade</th>\n",
       "      <td>1769</td>\n",
       "      <td>1367</td>\n",
       "      <td>891</td>\n",
       "    </tr>\n",
       "  </tbody>\n",
       "</table>\n",
       "</div>"
      ],
      "text/plain": [
       "Valor         No   Yes  No internet service\n",
       "Quantidade  1769  1367                  891"
      ]
     },
     "metadata": {},
     "output_type": "display_data"
    },
    {
     "name": "stdout",
     "output_type": "stream",
     "text": [
      "TECHSUPPORT:\n"
     ]
    },
    {
     "data": {
      "text/html": [
       "<div>\n",
       "<style scoped>\n",
       "    .dataframe tbody tr th:only-of-type {\n",
       "        vertical-align: middle;\n",
       "    }\n",
       "\n",
       "    .dataframe tbody tr th {\n",
       "        vertical-align: top;\n",
       "    }\n",
       "\n",
       "    .dataframe thead th {\n",
       "        text-align: right;\n",
       "    }\n",
       "</style>\n",
       "<table border=\"1\" class=\"dataframe\">\n",
       "  <thead>\n",
       "    <tr style=\"text-align: right;\">\n",
       "      <th>Valor</th>\n",
       "      <th>No</th>\n",
       "      <th>Yes</th>\n",
       "      <th>No internet service</th>\n",
       "    </tr>\n",
       "  </thead>\n",
       "  <tbody>\n",
       "    <tr>\n",
       "      <th>Quantidade</th>\n",
       "      <td>1985</td>\n",
       "      <td>1154</td>\n",
       "      <td>892</td>\n",
       "    </tr>\n",
       "  </tbody>\n",
       "</table>\n",
       "</div>"
      ],
      "text/plain": [
       "Valor         No   Yes  No internet service\n",
       "Quantidade  1985  1154                  892"
      ]
     },
     "metadata": {},
     "output_type": "display_data"
    },
    {
     "name": "stdout",
     "output_type": "stream",
     "text": [
      "STREAMINGTV:\n"
     ]
    },
    {
     "data": {
      "text/html": [
       "<div>\n",
       "<style scoped>\n",
       "    .dataframe tbody tr th:only-of-type {\n",
       "        vertical-align: middle;\n",
       "    }\n",
       "\n",
       "    .dataframe tbody tr th {\n",
       "        vertical-align: top;\n",
       "    }\n",
       "\n",
       "    .dataframe thead th {\n",
       "        text-align: right;\n",
       "    }\n",
       "</style>\n",
       "<table border=\"1\" class=\"dataframe\">\n",
       "  <thead>\n",
       "    <tr style=\"text-align: right;\">\n",
       "      <th>Valor</th>\n",
       "      <th>No</th>\n",
       "      <th>Yes</th>\n",
       "      <th>No internet service</th>\n",
       "    </tr>\n",
       "  </thead>\n",
       "  <tbody>\n",
       "    <tr>\n",
       "      <th>Quantidade</th>\n",
       "      <td>1589</td>\n",
       "      <td>1545</td>\n",
       "      <td>894</td>\n",
       "    </tr>\n",
       "  </tbody>\n",
       "</table>\n",
       "</div>"
      ],
      "text/plain": [
       "Valor         No   Yes  No internet service\n",
       "Quantidade  1589  1545                  894"
      ]
     },
     "metadata": {},
     "output_type": "display_data"
    },
    {
     "name": "stdout",
     "output_type": "stream",
     "text": [
      "STREAMINGMOVIES:\n"
     ]
    },
    {
     "data": {
      "text/html": [
       "<div>\n",
       "<style scoped>\n",
       "    .dataframe tbody tr th:only-of-type {\n",
       "        vertical-align: middle;\n",
       "    }\n",
       "\n",
       "    .dataframe tbody tr th {\n",
       "        vertical-align: top;\n",
       "    }\n",
       "\n",
       "    .dataframe thead th {\n",
       "        text-align: right;\n",
       "    }\n",
       "</style>\n",
       "<table border=\"1\" class=\"dataframe\">\n",
       "  <thead>\n",
       "    <tr style=\"text-align: right;\">\n",
       "      <th>Valor</th>\n",
       "      <th>Yes</th>\n",
       "      <th>No</th>\n",
       "      <th>No internet service</th>\n",
       "    </tr>\n",
       "  </thead>\n",
       "  <tbody>\n",
       "    <tr>\n",
       "      <th>Quantidade</th>\n",
       "      <td>1587</td>\n",
       "      <td>1548</td>\n",
       "      <td>890</td>\n",
       "    </tr>\n",
       "  </tbody>\n",
       "</table>\n",
       "</div>"
      ],
      "text/plain": [
       "Valor        Yes    No  No internet service\n",
       "Quantidade  1587  1548                  890"
      ]
     },
     "metadata": {},
     "output_type": "display_data"
    },
    {
     "name": "stdout",
     "output_type": "stream",
     "text": [
      "CONTRACT:\n"
     ]
    },
    {
     "data": {
      "text/html": [
       "<div>\n",
       "<style scoped>\n",
       "    .dataframe tbody tr th:only-of-type {\n",
       "        vertical-align: middle;\n",
       "    }\n",
       "\n",
       "    .dataframe tbody tr th {\n",
       "        vertical-align: top;\n",
       "    }\n",
       "\n",
       "    .dataframe thead th {\n",
       "        text-align: right;\n",
       "    }\n",
       "</style>\n",
       "<table border=\"1\" class=\"dataframe\">\n",
       "  <thead>\n",
       "    <tr style=\"text-align: right;\">\n",
       "      <th>Valor</th>\n",
       "      <th>Month-to-month</th>\n",
       "      <th>Two year</th>\n",
       "      <th>One year</th>\n",
       "    </tr>\n",
       "  </thead>\n",
       "  <tbody>\n",
       "    <tr>\n",
       "      <th>Quantidade</th>\n",
       "      <td>2265</td>\n",
       "      <td>950</td>\n",
       "      <td>813</td>\n",
       "    </tr>\n",
       "  </tbody>\n",
       "</table>\n",
       "</div>"
      ],
      "text/plain": [
       "Valor       Month-to-month  Two year  One year\n",
       "Quantidade            2265       950       813"
      ]
     },
     "metadata": {},
     "output_type": "display_data"
    },
    {
     "name": "stdout",
     "output_type": "stream",
     "text": [
      "PAPERLESSBILLING:\n"
     ]
    },
    {
     "data": {
      "text/html": [
       "<div>\n",
       "<style scoped>\n",
       "    .dataframe tbody tr th:only-of-type {\n",
       "        vertical-align: middle;\n",
       "    }\n",
       "\n",
       "    .dataframe tbody tr th {\n",
       "        vertical-align: top;\n",
       "    }\n",
       "\n",
       "    .dataframe thead th {\n",
       "        text-align: right;\n",
       "    }\n",
       "</style>\n",
       "<table border=\"1\" class=\"dataframe\">\n",
       "  <thead>\n",
       "    <tr style=\"text-align: right;\">\n",
       "      <th>Valor</th>\n",
       "      <th>Yes</th>\n",
       "      <th>No</th>\n",
       "    </tr>\n",
       "  </thead>\n",
       "  <tbody>\n",
       "    <tr>\n",
       "      <th>Quantidade</th>\n",
       "      <td>2387</td>\n",
       "      <td>1636</td>\n",
       "    </tr>\n",
       "  </tbody>\n",
       "</table>\n",
       "</div>"
      ],
      "text/plain": [
       "Valor        Yes    No\n",
       "Quantidade  2387  1636"
      ]
     },
     "metadata": {},
     "output_type": "display_data"
    },
    {
     "name": "stdout",
     "output_type": "stream",
     "text": [
      "PAYMENTMETHOD:\n"
     ]
    },
    {
     "data": {
      "text/html": [
       "<div>\n",
       "<style scoped>\n",
       "    .dataframe tbody tr th:only-of-type {\n",
       "        vertical-align: middle;\n",
       "    }\n",
       "\n",
       "    .dataframe tbody tr th {\n",
       "        vertical-align: top;\n",
       "    }\n",
       "\n",
       "    .dataframe thead th {\n",
       "        text-align: right;\n",
       "    }\n",
       "</style>\n",
       "<table border=\"1\" class=\"dataframe\">\n",
       "  <thead>\n",
       "    <tr style=\"text-align: right;\">\n",
       "      <th>Valor</th>\n",
       "      <th>Electronic check</th>\n",
       "      <th>Bank transfer (automatic)</th>\n",
       "      <th>Mailed check</th>\n",
       "      <th>Credit card (automatic)</th>\n",
       "    </tr>\n",
       "  </thead>\n",
       "  <tbody>\n",
       "    <tr>\n",
       "      <th>Quantidade</th>\n",
       "      <td>1351</td>\n",
       "      <td>902</td>\n",
       "      <td>901</td>\n",
       "      <td>869</td>\n",
       "    </tr>\n",
       "  </tbody>\n",
       "</table>\n",
       "</div>"
      ],
      "text/plain": [
       "Valor       Electronic check  Bank transfer (automatic)  Mailed check  \\\n",
       "Quantidade              1351                        902           901   \n",
       "\n",
       "Valor       Credit card (automatic)  \n",
       "Quantidade                      869  "
      ]
     },
     "metadata": {},
     "output_type": "display_data"
    }
   ],
   "source": [
    "display_value_counts(df_train[categorical_features])"
   ]
  },
  {
   "cell_type": "markdown",
   "metadata": {},
   "source": [
    "Observações:\n",
    "- Antes de serem utilizadas por um modelo, será conveniente converter essas variáveis em valores numéricos usando \"One-Hot-Encoding\".\n",
    "- Como há valores faltantes para essas variáveis (vide [informações gerais](#Informações-gerais)), será importante imputar algum valor (por exemplo, o que for mais frequente em cada coluna)"
   ]
  },
  {
   "cell_type": "markdown",
   "metadata": {
    "jp-MarkdownHeadingCollapsed": true,
    "tags": []
   },
   "source": [
    "### Variáveis numéricas"
   ]
  },
  {
   "cell_type": "markdown",
   "metadata": {},
   "source": [
    "Por hora, apenas para visualizar estatísticas sobre os valores numéricos, valores textuais nessas colunas serão trocados por `NaN` usando um *transformer* personalizado:"
   ]
  },
  {
   "cell_type": "code",
   "execution_count": 14,
   "metadata": {},
   "outputs": [
    {
     "data": {
      "text/html": [
       "<div>\n",
       "<style scoped>\n",
       "    .dataframe tbody tr th:only-of-type {\n",
       "        vertical-align: middle;\n",
       "    }\n",
       "\n",
       "    .dataframe tbody tr th {\n",
       "        vertical-align: top;\n",
       "    }\n",
       "\n",
       "    .dataframe thead th {\n",
       "        text-align: right;\n",
       "    }\n",
       "</style>\n",
       "<table border=\"1\" class=\"dataframe\">\n",
       "  <thead>\n",
       "    <tr style=\"text-align: right;\">\n",
       "      <th></th>\n",
       "      <th>ID</th>\n",
       "      <th>MONTHLYCHARGES</th>\n",
       "      <th>TENURE</th>\n",
       "      <th>TOTALCHARGES</th>\n",
       "    </tr>\n",
       "  </thead>\n",
       "  <tbody>\n",
       "    <tr>\n",
       "      <th>count</th>\n",
       "      <td>4048.000000</td>\n",
       "      <td>4030.000000</td>\n",
       "      <td>4034.000000</td>\n",
       "      <td>4025.000000</td>\n",
       "    </tr>\n",
       "    <tr>\n",
       "      <th>mean</th>\n",
       "      <td>5458.245306</td>\n",
       "      <td>95.130290</td>\n",
       "      <td>31.853991</td>\n",
       "      <td>2265.379839</td>\n",
       "    </tr>\n",
       "    <tr>\n",
       "      <th>std</th>\n",
       "      <td>2606.169444</td>\n",
       "      <td>75.697319</td>\n",
       "      <td>24.447564</td>\n",
       "      <td>2258.428774</td>\n",
       "    </tr>\n",
       "    <tr>\n",
       "      <th>min</th>\n",
       "      <td>1004.000000</td>\n",
       "      <td>0.090000</td>\n",
       "      <td>0.000000</td>\n",
       "      <td>0.170000</td>\n",
       "    </tr>\n",
       "    <tr>\n",
       "      <th>25%</th>\n",
       "      <td>3199.750000</td>\n",
       "      <td>33.837500</td>\n",
       "      <td>8.000000</td>\n",
       "      <td>415.740000</td>\n",
       "    </tr>\n",
       "    <tr>\n",
       "      <th>50%</th>\n",
       "      <td>5435.500000</td>\n",
       "      <td>71.935000</td>\n",
       "      <td>28.000000</td>\n",
       "      <td>1400.900000</td>\n",
       "    </tr>\n",
       "    <tr>\n",
       "      <th>75%</th>\n",
       "      <td>7705.750000</td>\n",
       "      <td>142.977500</td>\n",
       "      <td>54.000000</td>\n",
       "      <td>3652.090000</td>\n",
       "    </tr>\n",
       "    <tr>\n",
       "      <th>max</th>\n",
       "      <td>9998.000000</td>\n",
       "      <td>345.240000</td>\n",
       "      <td>72.000000</td>\n",
       "      <td>8734.000000</td>\n",
       "    </tr>\n",
       "  </tbody>\n",
       "</table>\n",
       "</div>"
      ],
      "text/plain": [
       "                ID  MONTHLYCHARGES       TENURE  TOTALCHARGES\n",
       "count  4048.000000     4030.000000  4034.000000   4025.000000\n",
       "mean   5458.245306       95.130290    31.853991   2265.379839\n",
       "std    2606.169444       75.697319    24.447564   2258.428774\n",
       "min    1004.000000        0.090000     0.000000      0.170000\n",
       "25%    3199.750000       33.837500     8.000000    415.740000\n",
       "50%    5435.500000       71.935000    28.000000   1400.900000\n",
       "75%    7705.750000      142.977500    54.000000   3652.090000\n",
       "max    9998.000000      345.240000    72.000000   8734.000000"
      ]
     },
     "metadata": {},
     "output_type": "display_data"
    }
   ],
   "source": [
    "numeric_features = [\n",
    "    # 'ID',  # This is just an identifier, not a feature\n",
    "    \"MONTHLYCHARGES\",\n",
    "    \"TENURE\",\n",
    "    \"TOTALCHARGES\",\n",
    "]\n",
    "\n",
    "\n",
    "def num_mapper(df):\n",
    "    def col_mapper(col):\n",
    "        return pd.to_numeric(col, errors=\"coerce\")\n",
    "\n",
    "    return df.apply(col_mapper)\n",
    "\n",
    "\n",
    "numeric_transformer = Pipeline(\n",
    "    steps=[\n",
    "        (\"to_numeric\", FunctionTransformer(num_mapper)),\n",
    "    ]\n",
    ")\n",
    "\n",
    "df_train_num = numeric_transformer.fit_transform(df_train[[\"ID\"] + numeric_features])\n",
    "\n",
    "df_train_clean = pd.concat([df_train_cat, df_train_num], axis=1)[\n",
    "    df_train.columns\n",
    "].copy()\n",
    "\n",
    "with pd.option_context(\"display.max_columns\", None):\n",
    "    display(df_train_num.describe())"
   ]
  },
  {
   "cell_type": "markdown",
   "metadata": {},
   "source": [
    "Estes são os valores que as variáveis numéricas assumem:"
   ]
  },
  {
   "cell_type": "code",
   "execution_count": 15,
   "metadata": {},
   "outputs": [
    {
     "name": "stdout",
     "output_type": "stream",
     "text": [
      "ID:\n"
     ]
    },
    {
     "data": {
      "text/html": [
       "<div>\n",
       "<style scoped>\n",
       "    .dataframe tbody tr th:only-of-type {\n",
       "        vertical-align: middle;\n",
       "    }\n",
       "\n",
       "    .dataframe tbody tr th {\n",
       "        vertical-align: top;\n",
       "    }\n",
       "\n",
       "    .dataframe thead th {\n",
       "        text-align: right;\n",
       "    }\n",
       "</style>\n",
       "<table border=\"1\" class=\"dataframe\">\n",
       "  <thead>\n",
       "    <tr style=\"text-align: right;\">\n",
       "      <th>Valor</th>\n",
       "      <th>9998</th>\n",
       "      <th>9997</th>\n",
       "      <th>9995</th>\n",
       "      <th>...</th>\n",
       "      <th>1008</th>\n",
       "      <th>1006</th>\n",
       "      <th>1004</th>\n",
       "    </tr>\n",
       "  </thead>\n",
       "  <tbody>\n",
       "    <tr>\n",
       "      <th>Quantidade</th>\n",
       "      <td>1</td>\n",
       "      <td>1</td>\n",
       "      <td>1</td>\n",
       "      <td>...</td>\n",
       "      <td>1</td>\n",
       "      <td>1</td>\n",
       "      <td>1</td>\n",
       "    </tr>\n",
       "  </tbody>\n",
       "</table>\n",
       "<p>1 rows × 4048 columns</p>\n",
       "</div>"
      ],
      "text/plain": [
       "Valor       9998  9997  9995  ...  1008  1006  1004\n",
       "Quantidade     1     1     1  ...     1     1     1\n",
       "\n",
       "[1 rows x 4048 columns]"
      ]
     },
     "metadata": {},
     "output_type": "display_data"
    },
    {
     "name": "stdout",
     "output_type": "stream",
     "text": [
      "MONTHLYCHARGES:\n"
     ]
    },
    {
     "data": {
      "text/html": [
       "<div>\n",
       "<style scoped>\n",
       "    .dataframe tbody tr th:only-of-type {\n",
       "        vertical-align: middle;\n",
       "    }\n",
       "\n",
       "    .dataframe tbody tr th {\n",
       "        vertical-align: top;\n",
       "    }\n",
       "\n",
       "    .dataframe thead th {\n",
       "        text-align: right;\n",
       "    }\n",
       "</style>\n",
       "<table border=\"1\" class=\"dataframe\">\n",
       "  <thead>\n",
       "    <tr style=\"text-align: right;\">\n",
       "      <th>Valor</th>\n",
       "      <th>33.22</th>\n",
       "      <th>24.03</th>\n",
       "      <th>13.21</th>\n",
       "      <th>...</th>\n",
       "      <th>0.17</th>\n",
       "      <th>0.16</th>\n",
       "      <th>0.09</th>\n",
       "    </tr>\n",
       "  </thead>\n",
       "  <tbody>\n",
       "    <tr>\n",
       "      <th>Quantidade</th>\n",
       "      <td>4</td>\n",
       "      <td>4</td>\n",
       "      <td>4</td>\n",
       "      <td>...</td>\n",
       "      <td>1</td>\n",
       "      <td>1</td>\n",
       "      <td>1</td>\n",
       "    </tr>\n",
       "  </tbody>\n",
       "</table>\n",
       "<p>1 rows × 3671 columns</p>\n",
       "</div>"
      ],
      "text/plain": [
       "Valor       33.22  24.03  13.21  ...  0.17   0.16   0.09 \n",
       "Quantidade      4      4      4  ...      1      1      1\n",
       "\n",
       "[1 rows x 3671 columns]"
      ]
     },
     "metadata": {},
     "output_type": "display_data"
    },
    {
     "name": "stdout",
     "output_type": "stream",
     "text": [
      "TENURE:\n"
     ]
    },
    {
     "data": {
      "text/html": [
       "<div>\n",
       "<style scoped>\n",
       "    .dataframe tbody tr th:only-of-type {\n",
       "        vertical-align: middle;\n",
       "    }\n",
       "\n",
       "    .dataframe tbody tr th {\n",
       "        vertical-align: top;\n",
       "    }\n",
       "\n",
       "    .dataframe thead th {\n",
       "        text-align: right;\n",
       "    }\n",
       "</style>\n",
       "<table border=\"1\" class=\"dataframe\">\n",
       "  <thead>\n",
       "    <tr style=\"text-align: right;\">\n",
       "      <th>Valor</th>\n",
       "      <th>1.0</th>\n",
       "      <th>72.0</th>\n",
       "      <th>2.0</th>\n",
       "      <th>...</th>\n",
       "      <th>59.0</th>\n",
       "      <th>38.0</th>\n",
       "      <th>0.0</th>\n",
       "    </tr>\n",
       "  </thead>\n",
       "  <tbody>\n",
       "    <tr>\n",
       "      <th>Quantidade</th>\n",
       "      <td>370</td>\n",
       "      <td>192</td>\n",
       "      <td>125</td>\n",
       "      <td>...</td>\n",
       "      <td>28</td>\n",
       "      <td>25</td>\n",
       "      <td>3</td>\n",
       "    </tr>\n",
       "  </tbody>\n",
       "</table>\n",
       "<p>1 rows × 73 columns</p>\n",
       "</div>"
      ],
      "text/plain": [
       "Valor       1.0   72.0  2.0   ...  59.0  38.0  0.0 \n",
       "Quantidade   370   192   125  ...    28    25     3\n",
       "\n",
       "[1 rows x 73 columns]"
      ]
     },
     "metadata": {},
     "output_type": "display_data"
    },
    {
     "name": "stdout",
     "output_type": "stream",
     "text": [
      "TOTALCHARGES:\n"
     ]
    },
    {
     "data": {
      "text/html": [
       "<div>\n",
       "<style scoped>\n",
       "    .dataframe tbody tr th:only-of-type {\n",
       "        vertical-align: middle;\n",
       "    }\n",
       "\n",
       "    .dataframe tbody tr th {\n",
       "        vertical-align: top;\n",
       "    }\n",
       "\n",
       "    .dataframe thead th {\n",
       "        text-align: right;\n",
       "    }\n",
       "</style>\n",
       "<table border=\"1\" class=\"dataframe\">\n",
       "  <thead>\n",
       "    <tr style=\"text-align: right;\">\n",
       "      <th>Valor</th>\n",
       "      <th>4452.81</th>\n",
       "      <th>1475.30</th>\n",
       "      <th>1264.95</th>\n",
       "      <th>...</th>\n",
       "      <th>0.36</th>\n",
       "      <th>0.30</th>\n",
       "      <th>0.17</th>\n",
       "    </tr>\n",
       "  </thead>\n",
       "  <tbody>\n",
       "    <tr>\n",
       "      <th>Quantidade</th>\n",
       "      <td>2</td>\n",
       "      <td>2</td>\n",
       "      <td>2</td>\n",
       "      <td>...</td>\n",
       "      <td>1</td>\n",
       "      <td>1</td>\n",
       "      <td>1</td>\n",
       "    </tr>\n",
       "  </tbody>\n",
       "</table>\n",
       "<p>1 rows × 4001 columns</p>\n",
       "</div>"
      ],
      "text/plain": [
       "Valor       4452.81  1475.30  1264.95  ...  0.36     0.30     0.17   \n",
       "Quantidade        2        2        2  ...        1        1        1\n",
       "\n",
       "[1 rows x 4001 columns]"
      ]
     },
     "metadata": {},
     "output_type": "display_data"
    }
   ],
   "source": [
    "with pd.option_context(\"display.max_columns\", 6):\n",
    "    display_value_counts(df_train_num)"
   ]
  },
  {
   "cell_type": "markdown",
   "metadata": {
    "jp-MarkdownHeadingCollapsed": true,
    "tags": []
   },
   "source": [
    "### Correlações"
   ]
  },
  {
   "cell_type": "code",
   "execution_count": 16,
   "metadata": {},
   "outputs": [
    {
     "data": {
      "image/png": "[encoded data removed]",
      "text/plain": [
       "<Figure size 592x540 with 9 Axes>"
      ]
     },
     "metadata": {
      "needs_background": "light"
     },
     "output_type": "display_data"
    }
   ],
   "source": [
    "sns.pairplot(\n",
    "    df_train_clean[numeric_features + [target]], hue=target, palette=\"Set1\", corner=True\n",
    ")\n",
    "plt.show()"
   ]
  },
  {
   "cell_type": "markdown",
   "metadata": {
    "jp-MarkdownHeadingCollapsed": true,
    "tags": []
   },
   "source": [
    "### Variáveis categóricas (gráficos)"
   ]
  },
  {
   "cell_type": "code",
   "execution_count": 17,
   "metadata": {},
   "outputs": [
    {
     "data": {
      "image/png": "[encoded data removed]",
      "text/plain": [
       "<Figure size 720x2160 with 16 Axes>"
      ]
     },
     "metadata": {
      "needs_background": "light"
     },
     "output_type": "display_data"
    }
   ],
   "source": [
    "fig, axes = plt.subplots(nrows=len(categorical_features), sharex=True, figsize=(10, 30))\n",
    "for i, col in enumerate(categorical_features):\n",
    "    group_means = (\n",
    "        (df_train_clean.groupby([col])[target].count() / len(df_train_clean))\n",
    "        .rename(f\"{target}_RATE\")\n",
    "        .sort_values(ascending=False)\n",
    "        .to_frame()\n",
    "    )\n",
    "    sns.barplot(x=f\"{target}_RATE\", y=group_means.index, data=group_means, ax=axes[i])\n",
    "    fig.subplots_adjust(top=0.97)\n",
    "    fig.suptitle(\"Proporção de CHURN entre os clientes de cada grupo\")"
   ]
  },
  {
   "cell_type": "markdown",
   "metadata": {
    "jp-MarkdownHeadingCollapsed": true,
    "tags": []
   },
   "source": [
    "### Pré-processamento dos dados"
   ]
  },
  {
   "cell_type": "markdown",
   "metadata": {},
   "source": [
    "Será criada uma _pipeline_ de pré-processamento com transformações específicas para cada tipo de variável:"
   ]
  },
  {
   "cell_type": "code",
   "execution_count": 18,
   "metadata": {},
   "outputs": [],
   "source": [
    "categorical_transformer = Pipeline(\n",
    "    steps=[\n",
    "        (\"imputer\", SimpleImputer(strategy=\"most_frequent\")),\n",
    "        (\"onehot\", OneHotEncoder(handle_unknown=\"ignore\")),\n",
    "    ]\n",
    ")\n",
    "\n",
    "numeric_transformer = Pipeline(\n",
    "    steps=[\n",
    "        (\"to_numeric\", FunctionTransformer(num_mapper)),\n",
    "        (\"imputer\", SimpleImputer(strategy=\"constant\", fill_value=0)),\n",
    "        (\"scaler\", StandardScaler()),\n",
    "    ]\n",
    ")\n",
    "\n",
    "preprocessor = ColumnTransformer(\n",
    "    transformers=[\n",
    "        (\"num\", numeric_transformer, numeric_features),\n",
    "        (\"cat\", categorical_transformer, categorical_features),\n",
    "    ]\n",
    ")\n",
    "\n",
    "# preprocessor.fit(df_train)\n",
    "# onehot_features = list(preprocessor.named_transformers_[\"cat\"][\"onehot\"].get_feature_names())\n",
    "# df_train_preprocessed = pd.DataFrame(\n",
    "#     preprocessor.transform(df_train),\n",
    "#     columns=numeric_features + onehot_features,\n",
    "#     index=df_train.index\n",
    "# )"
   ]
  },
  {
   "cell_type": "markdown",
   "metadata": {},
   "source": [
    "## Criação de um modelo\n",
    "\n",
    "Nosso objetivo é obter um algoritmo de Machine Learning que identifique se um cliente será perdido ou não, e que tenha o maior score F1 possível. Para começar, vamos comparar uma simples árvore de decisão com um modelo fictício, que apenas chuta suas predições (sem levar em conta nenhum feature), para ter valores de referência ao buscar uma solução ótima em termos da métrica F1."
   ]
  },
  {
   "cell_type": "code",
   "execution_count": 19,
   "metadata": {},
   "outputs": [],
   "source": [
    "pipe = Pipeline(\n",
    "    [(\"preprocessor\", preprocessor), (\"clf\", DecisionTreeClassifier(random_state=seed))]\n",
    ")\n",
    "# display(pipe)"
   ]
  },
  {
   "cell_type": "markdown",
   "metadata": {},
   "source": [
    "Abaixo, separamos os dados que queremos predizer dos dados que utilizamos como informações para a predição."
   ]
  },
  {
   "cell_type": "code",
   "execution_count": 20,
   "metadata": {},
   "outputs": [
    {
     "name": "stdout",
     "output_type": "stream",
     "text": [
      "(4048, 21)\n",
      "(4048,)\n",
      "(500, 21)\n",
      "(500,)\n"
     ]
    }
   ],
   "source": [
    "X_train = df_train[all_cols]\n",
    "y_train = df_train[target]\n",
    "X_test = df_test[all_cols]\n",
    "y_test = df_test[target]\n",
    "print(X_train.shape)\n",
    "print(y_train.shape)\n",
    "print(X_test.shape)\n",
    "print(y_test.shape)"
   ]
  },
  {
   "cell_type": "code",
   "execution_count": 21,
   "metadata": {},
   "outputs": [],
   "source": [
    "scaler_grid = [\n",
    "    StandardScaler(),\n",
    "    MinMaxScaler(),\n",
    "    RobustScaler(),\n",
    "    \"passthrough\",\n",
    "]\n",
    "preprocessor_grid1 = {\n",
    "    \"preprocessor__num__imputer__strategy\": [\"mean\", \"median\", \"most_frequent\"],\n",
    "    \"preprocessor__num__scaler\": scaler_grid,\n",
    "}\n",
    "preprocessor_grid2 = {\n",
    "    \"preprocessor__num__imputer__strategy\": [\"constant\"],\n",
    "    \"preprocessor__num__imputer__fill_value\": [-1, 0],\n",
    "    \"preprocessor__num__scaler\": scaler_grid,\n",
    "}\n",
    "classifier_grid = {\n",
    "        \"clf\": [KNeighborsClassifier()],\n",
    "        \"clf__n_neighbors\": range(3, 200, 2),\n",
    "        \"clf__weights\": [\"uniform\", \"distance\"],\n",
    "}\n",
    "param_grid = [\n",
    "    # {\n",
    "    #     \"clf\": [\n",
    "    #         MLPClassifier(\n",
    "    #             activation='logistic',\n",
    "    #             alpha=1.176811952434999e-08,\n",
    "    #             hidden_layer_sizes=(68, 38),\n",
    "    #             learning_rate_init=0.0003511191734215127,\n",
    "    #             max_iter=10000,\n",
    "    #             random_state=seed\n",
    "    #         )\n",
    "    #     ],\n",
    "    #     \"preprocessor__num__imputer__strategy\": [\"mean\"],\n",
    "    #     \"preprocessor__num__scaler\": [MinMaxScaler()],\n",
    "    # },\n",
    "    # {\n",
    "    #     \"clf\": [\n",
    "    #         DecisionTreeClassifier(\n",
    "    #             criterion=\"entropy\",\n",
    "    #             max_depth=5,\n",
    "    #             max_features=0.8,\n",
    "    #             min_samples_leaf=90,\n",
    "    #             min_samples_split=55,\n",
    "    #             random_state=seed,\n",
    "    #         )\n",
    "    #     ],\n",
    "    #     \"preprocessor__num__imputer__strategy\": [\"mean\"],\n",
    "    #     \"preprocessor__num__scaler\": [\"passthrough\"],\n",
    "    # },\n",
    "    # {\n",
    "    #     \"clf\": [\n",
    "    #         RandomForestClassifier(\n",
    "    #             max_depth=9,\n",
    "    #             n_estimators=50,\n",
    "    #             max_features=0.85,\n",
    "    #             min_samples_split=3,\n",
    "    #             min_samples_leaf=2,\n",
    "    #             criterion=\"entropy\",\n",
    "    #             random_state=seed\n",
    "    #         )\n",
    "    #     ],\n",
    "    #     \"preprocessor__num__scaler\": [\"passthrough\"],\n",
    "    #     \"preprocessor__num__imputer__strategy\": [\"constant\"],\n",
    "    #     \"preprocessor__num__imputer__fill_value\": [0],\n",
    "    # },\n",
    "    {\n",
    "        **classifier_grid,\n",
    "        **preprocessor_grid1,\n",
    "    },\n",
    "    {\n",
    "        **classifier_grid,\n",
    "        **preprocessor_grid2,\n",
    "    },\n",
    "]"
   ]
  },
  {
   "cell_type": "code",
   "execution_count": 22,
   "metadata": {},
   "outputs": [
    {
     "name": "stdout",
     "output_type": "stream",
     "text": [
      "Fitting 10 folds for each of 3960 candidates, totalling 39600 fits\n"
     ]
    },
    {
     "name": "stderr",
     "output_type": "stream",
     "text": [
      "[Parallel(n_jobs=-1)]: Using backend LokyBackend with 8 concurrent workers.\n",
      "[Parallel(n_jobs=-1)]: Done  34 tasks      | elapsed:    3.1s\n",
      "[Parallel(n_jobs=-1)]: Done 184 tasks      | elapsed:   10.0s\n",
      "[Parallel(n_jobs=-1)]: Done 434 tasks      | elapsed:   22.1s\n",
      "[Parallel(n_jobs=-1)]: Done 784 tasks      | elapsed:   42.8s\n",
      "[Parallel(n_jobs=-1)]: Done 1234 tasks      | elapsed:  1.2min\n",
      "[Parallel(n_jobs=-1)]: Done 1784 tasks      | elapsed:  1.7min\n",
      "[Parallel(n_jobs=-1)]: Done 2434 tasks      | elapsed:  2.4min\n",
      "[Parallel(n_jobs=-1)]: Done 3184 tasks      | elapsed:  3.1min\n",
      "[Parallel(n_jobs=-1)]: Done 4034 tasks      | elapsed:  4.0min\n",
      "[Parallel(n_jobs=-1)]: Done 4984 tasks      | elapsed:  5.0min\n",
      "[Parallel(n_jobs=-1)]: Done 6034 tasks      | elapsed:  6.1min\n",
      "[Parallel(n_jobs=-1)]: Done 7184 tasks      | elapsed:  7.3min\n",
      "[Parallel(n_jobs=-1)]: Done 8434 tasks      | elapsed:  8.6min\n",
      "[Parallel(n_jobs=-1)]: Done 9784 tasks      | elapsed: 10.1min\n",
      "[Parallel(n_jobs=-1)]: Done 11234 tasks      | elapsed: 11.7min\n",
      "[Parallel(n_jobs=-1)]: Done 12784 tasks      | elapsed: 13.4min\n",
      "[Parallel(n_jobs=-1)]: Done 14434 tasks      | elapsed: 15.2min\n",
      "[Parallel(n_jobs=-1)]: Done 16184 tasks      | elapsed: 17.1min\n",
      "[Parallel(n_jobs=-1)]: Done 18034 tasks      | elapsed: 19.2min\n",
      "[Parallel(n_jobs=-1)]: Done 19984 tasks      | elapsed: 21.4min\n",
      "[Parallel(n_jobs=-1)]: Done 22034 tasks      | elapsed: 23.7min\n",
      "[Parallel(n_jobs=-1)]: Done 24184 tasks      | elapsed: 26.1min\n",
      "[Parallel(n_jobs=-1)]: Done 26434 tasks      | elapsed: 28.4min\n",
      "[Parallel(n_jobs=-1)]: Done 28784 tasks      | elapsed: 30.9min\n",
      "[Parallel(n_jobs=-1)]: Done 31234 tasks      | elapsed: 33.6min\n",
      "[Parallel(n_jobs=-1)]: Done 33784 tasks      | elapsed: 36.3min\n",
      "[Parallel(n_jobs=-1)]: Done 36434 tasks      | elapsed: 39.2min\n",
      "[Parallel(n_jobs=-1)]: Done 39184 tasks      | elapsed: 42.3min\n",
      "[Parallel(n_jobs=-1)]: Done 39600 out of 39600 | elapsed: 42.8min finished\n"
     ]
    },
    {
     "name": "stdout",
     "output_type": "stream",
     "text": [
      "Tempo gasto para treinar o modelo 10 vezes com cada combinação de parâmetros para encontrar a melhor: 0:42:45.651849\n"
     ]
    }
   ],
   "source": [
    "cv_num = 10\n",
    "verbose = 1\n",
    "\n",
    "f1_scorer = make_scorer(f1_score, pos_label=\"Yes\")\n",
    "accuracy_scorer = make_scorer(accuracy_score)\n",
    "precision_scorer = make_scorer(precision_score, pos_label=\"Yes\")\n",
    "recall_scorer = make_scorer(recall_score, pos_label=\"Yes\")\n",
    "scoring = {\n",
    "    \"f1\": f1_scorer,\n",
    "    \"accuracy\": accuracy_scorer,\n",
    "    \"precision\": precision_scorer,\n",
    "    \"recall\": recall_scorer,\n",
    "}\n",
    "scoring_name = \"f1\"\n",
    "\n",
    "cv_train_size = int(((cv_num - 1) / cv_num) * len(X_train))\n",
    "cv_test_size = len(X_train) - cv_train_size\n",
    "\n",
    "search_args = {\n",
    "    \"estimator\": pipe,\n",
    "    \"cv\": cv_num,\n",
    "    \"n_jobs\": -1,\n",
    "    \"verbose\": verbose,\n",
    "    \"scoring\": scoring,\n",
    "    \"refit\": scoring_name,\n",
    "}\n",
    "\n",
    "# cv = RandomizedSearchCV(\n",
    "#     n_iter=10, param_distributions=param_grid, random_state=seed, **search_args\n",
    "# )\n",
    "cv = GridSearchCV(param_grid=param_grid, **search_args)\n",
    "\n",
    "start = timer()\n",
    "cv.fit(X_train, y_train)\n",
    "end = timer()\n",
    "print(\n",
    "    f\"Tempo gasto para treinar o modelo {cv_num} vezes com cada combinação de parâmetros para encontrar a melhor: {timedelta(seconds=end-start)}\"\n",
    ")"
   ]
  },
  {
   "cell_type": "code",
   "execution_count": 23,
   "metadata": {},
   "outputs": [
    {
     "data": {
      "text/html": [
       "<h4>Dados brutos da validação cruzada</h4>"
      ],
      "text/plain": [
       "<IPython.core.display.HTML object>"
      ]
     },
     "metadata": {},
     "output_type": "display_data"
    },
    {
     "name": "stdout",
     "output_type": "stream",
     "text": [
      "Cada combinação de parâmetros foi utilizada em 10 rodadas de treino com 3643 exemplos e teste com 405.\n"
     ]
    },
    {
     "data": {
      "text/html": [
       "<div>\n",
       "<style scoped>\n",
       "    .dataframe tbody tr th:only-of-type {\n",
       "        vertical-align: middle;\n",
       "    }\n",
       "\n",
       "    .dataframe tbody tr th {\n",
       "        vertical-align: top;\n",
       "    }\n",
       "\n",
       "    .dataframe thead th {\n",
       "        text-align: right;\n",
       "    }\n",
       "</style>\n",
       "<table border=\"1\" class=\"dataframe\">\n",
       "  <thead>\n",
       "    <tr style=\"text-align: right;\">\n",
       "      <th></th>\n",
       "      <th>mean_test_f1</th>\n",
       "      <th>mean_test_accuracy</th>\n",
       "      <th>mean_test_precision</th>\n",
       "      <th>mean_test_recall</th>\n",
       "      <th>mean_fit_time</th>\n",
       "      <th>params</th>\n",
       "    </tr>\n",
       "    <tr>\n",
       "      <th>rank_test_f1</th>\n",
       "      <th></th>\n",
       "      <th></th>\n",
       "      <th></th>\n",
       "      <th></th>\n",
       "      <th></th>\n",
       "      <th></th>\n",
       "    </tr>\n",
       "  </thead>\n",
       "  <tbody>\n",
       "    <tr>\n",
       "      <th>1</th>\n",
       "      <td>0.596686</td>\n",
       "      <td>0.791994</td>\n",
       "      <td>0.616304</td>\n",
       "      <td>0.578859</td>\n",
       "      <td>0.225105</td>\n",
       "      <td>{'clf': KNeighborsClassifier(n_neighbors=115, weights='distance'), 'clf__n_neighbors': 115, 'clf__weights': 'distance', 'preprocessor__num__imputer__strategy': 'most_frequent', 'preprocessor__num__scaler': StandardScaler()}</td>\n",
       "    </tr>\n",
       "    <tr>\n",
       "      <th>2</th>\n",
       "      <td>0.596306</td>\n",
       "      <td>0.791995</td>\n",
       "      <td>0.616540</td>\n",
       "      <td>0.577934</td>\n",
       "      <td>0.215309</td>\n",
       "      <td>{'clf': KNeighborsClassifier(n_neighbors=115, weights='distance'), 'clf__n_neighbors': 115, 'clf__weights': 'distance', 'preprocessor__num__imputer__fill_value': -1, 'preprocessor__num__imputer__strategy': 'constant', 'preprocessor__num__scaler': StandardScaler()}</td>\n",
       "    </tr>\n",
       "    <tr>\n",
       "      <th>2</th>\n",
       "      <td>0.596306</td>\n",
       "      <td>0.791995</td>\n",
       "      <td>0.616540</td>\n",
       "      <td>0.577934</td>\n",
       "      <td>0.217019</td>\n",
       "      <td>{'clf': KNeighborsClassifier(n_neighbors=115, weights='distance'), 'clf__n_neighbors': 115, 'clf__weights': 'distance', 'preprocessor__num__imputer__fill_value': 0, 'preprocessor__num__imputer__strategy': 'constant', 'preprocessor__num__scaler': StandardScaler()}</td>\n",
       "    </tr>\n",
       "    <tr>\n",
       "      <th>4</th>\n",
       "      <td>0.596271</td>\n",
       "      <td>0.791499</td>\n",
       "      <td>0.615325</td>\n",
       "      <td>0.578842</td>\n",
       "      <td>0.212056</td>\n",
       "      <td>{'clf': KNeighborsClassifier(n_neighbors=115, weights='distance'), 'clf__n_neighbors': 107, 'clf__weights': 'distance', 'preprocessor__num__imputer__fill_value': -1, 'preprocessor__num__imputer__strategy': 'constant', 'preprocessor__num__scaler': StandardScaler()}</td>\n",
       "    </tr>\n",
       "    <tr>\n",
       "      <th>5</th>\n",
       "      <td>0.596133</td>\n",
       "      <td>0.793228</td>\n",
       "      <td>0.620511</td>\n",
       "      <td>0.574204</td>\n",
       "      <td>0.215560</td>\n",
       "      <td>{'clf': KNeighborsClassifier(n_neighbors=115, weights='distance'), 'clf__n_neighbors': 83, 'clf__weights': 'uniform', 'preprocessor__num__imputer__strategy': 'most_frequent', 'preprocessor__num__scaler': StandardScaler()}</td>\n",
       "    </tr>\n",
       "    <tr>\n",
       "      <th>6</th>\n",
       "      <td>0.595782</td>\n",
       "      <td>0.793722</td>\n",
       "      <td>0.622283</td>\n",
       "      <td>0.572361</td>\n",
       "      <td>0.215019</td>\n",
       "      <td>{'clf': KNeighborsClassifier(n_neighbors=115, weights='distance'), 'clf__n_neighbors': 83, 'clf__weights': 'uniform', 'preprocessor__num__imputer__strategy': 'mean', 'preprocessor__num__scaler': StandardScaler()}</td>\n",
       "    </tr>\n",
       "    <tr>\n",
       "      <th>7</th>\n",
       "      <td>0.595722</td>\n",
       "      <td>0.793228</td>\n",
       "      <td>0.620715</td>\n",
       "      <td>0.573278</td>\n",
       "      <td>0.213042</td>\n",
       "      <td>{'clf': KNeighborsClassifier(n_neighbors=115, weights='distance'), 'clf__n_neighbors': 83, 'clf__weights': 'uniform', 'preprocessor__num__imputer__fill_value': -1, 'preprocessor__num__imputer__strategy': 'constant', 'preprocessor__num__scaler': StandardScaler()}</td>\n",
       "    </tr>\n",
       "    <tr>\n",
       "      <th>8</th>\n",
       "      <td>0.595693</td>\n",
       "      <td>0.790017</td>\n",
       "      <td>0.611344</td>\n",
       "      <td>0.581620</td>\n",
       "      <td>0.211829</td>\n",
       "      <td>{'clf': KNeighborsClassifier(n_neighbors=115, weights='distance'), 'clf__n_neighbors': 41, 'clf__weights': 'uniform', 'preprocessor__num__imputer__fill_value': 0, 'preprocessor__num__imputer__strategy': 'constant', 'preprocessor__num__scaler': StandardScaler()}</td>\n",
       "    </tr>\n",
       "    <tr>\n",
       "      <th>9</th>\n",
       "      <td>0.595558</td>\n",
       "      <td>0.791252</td>\n",
       "      <td>0.614885</td>\n",
       "      <td>0.577916</td>\n",
       "      <td>0.217820</td>\n",
       "      <td>{'clf': KNeighborsClassifier(n_neighbors=115, weights='distance'), 'clf__n_neighbors': 107, 'clf__weights': 'distance', 'preprocessor__num__imputer__fill_value': 0, 'preprocessor__num__imputer__strategy': 'constant', 'preprocessor__num__scaler': StandardScaler()}</td>\n",
       "    </tr>\n",
       "    <tr>\n",
       "      <th>10</th>\n",
       "      <td>0.595529</td>\n",
       "      <td>0.793229</td>\n",
       "      <td>0.620584</td>\n",
       "      <td>0.573295</td>\n",
       "      <td>0.216481</td>\n",
       "      <td>{'clf': KNeighborsClassifier(n_neighbors=115, weights='distance'), 'clf__n_neighbors': 83, 'clf__weights': 'uniform', 'preprocessor__num__imputer__strategy': 'median', 'preprocessor__num__scaler': StandardScaler()}</td>\n",
       "    </tr>\n",
       "    <tr>\n",
       "      <th>11</th>\n",
       "      <td>0.595495</td>\n",
       "      <td>0.790509</td>\n",
       "      <td>0.613220</td>\n",
       "      <td>0.579751</td>\n",
       "      <td>0.233909</td>\n",
       "      <td>{'clf': KNeighborsClassifier(n_neighbors=115, weights='distance'), 'clf__n_neighbors': 45, 'clf__weights': 'uniform', 'preprocessor__num__imputer__fill_value': 0, 'preprocessor__num__imputer__strategy': 'constant', 'preprocessor__num__scaler': StandardScaler()}</td>\n",
       "    </tr>\n",
       "    <tr>\n",
       "      <th>12</th>\n",
       "      <td>0.595480</td>\n",
       "      <td>0.789771</td>\n",
       "      <td>0.610870</td>\n",
       "      <td>0.581611</td>\n",
       "      <td>0.219002</td>\n",
       "      <td>{'clf': KNeighborsClassifier(n_neighbors=115, weights='distance'), 'clf__n_neighbors': 39, 'clf__weights': 'uniform', 'preprocessor__num__imputer__fill_value': 0, 'preprocessor__num__imputer__strategy': 'constant', 'preprocessor__num__scaler': StandardScaler()}</td>\n",
       "    </tr>\n",
       "    <tr>\n",
       "      <th>13</th>\n",
       "      <td>0.595478</td>\n",
       "      <td>0.790016</td>\n",
       "      <td>0.612215</td>\n",
       "      <td>0.580694</td>\n",
       "      <td>0.216044</td>\n",
       "      <td>{'clf': KNeighborsClassifier(n_neighbors=115, weights='distance'), 'clf__n_neighbors': 41, 'clf__weights': 'uniform', 'preprocessor__num__imputer__strategy': 'mean', 'preprocessor__num__scaler': StandardScaler()}</td>\n",
       "    </tr>\n",
       "    <tr>\n",
       "      <th>14</th>\n",
       "      <td>0.595440</td>\n",
       "      <td>0.792981</td>\n",
       "      <td>0.620142</td>\n",
       "      <td>0.573278</td>\n",
       "      <td>0.218745</td>\n",
       "      <td>{'clf': KNeighborsClassifier(n_neighbors=115, weights='distance'), 'clf__n_neighbors': 83, 'clf__weights': 'uniform', 'preprocessor__num__imputer__fill_value': 0, 'preprocessor__num__imputer__strategy': 'constant', 'preprocessor__num__scaler': StandardScaler()}</td>\n",
       "    </tr>\n",
       "    <tr>\n",
       "      <th>15</th>\n",
       "      <td>0.595415</td>\n",
       "      <td>0.789770</td>\n",
       "      <td>0.610792</td>\n",
       "      <td>0.581620</td>\n",
       "      <td>0.214665</td>\n",
       "      <td>{'clf': KNeighborsClassifier(n_neighbors=115, weights='distance'), 'clf__n_neighbors': 41, 'clf__weights': 'uniform', 'preprocessor__num__imputer__strategy': 'most_frequent', 'preprocessor__num__scaler': StandardScaler()}</td>\n",
       "    </tr>\n",
       "    <tr>\n",
       "      <th>16</th>\n",
       "      <td>0.595208</td>\n",
       "      <td>0.790262</td>\n",
       "      <td>0.612521</td>\n",
       "      <td>0.579751</td>\n",
       "      <td>0.212959</td>\n",
       "      <td>{'clf': KNeighborsClassifier(n_neighbors=115, weights='distance'), 'clf__n_neighbors': 45, 'clf__weights': 'uniform', 'preprocessor__num__imputer__fill_value': -1, 'preprocessor__num__imputer__strategy': 'constant', 'preprocessor__num__scaler': StandardScaler()}</td>\n",
       "    </tr>\n",
       "    <tr>\n",
       "      <th>17</th>\n",
       "      <td>0.595207</td>\n",
       "      <td>0.789524</td>\n",
       "      <td>0.610326</td>\n",
       "      <td>0.581611</td>\n",
       "      <td>0.214142</td>\n",
       "      <td>{'clf': KNeighborsClassifier(n_neighbors=115, weights='distance'), 'clf__n_neighbors': 39, 'clf__weights': 'uniform', 'preprocessor__num__imputer__fill_value': -1, 'preprocessor__num__imputer__strategy': 'constant', 'preprocessor__num__scaler': StandardScaler()}</td>\n",
       "    </tr>\n",
       "    <tr>\n",
       "      <th>18</th>\n",
       "      <td>0.595035</td>\n",
       "      <td>0.790510</td>\n",
       "      <td>0.612755</td>\n",
       "      <td>0.578851</td>\n",
       "      <td>0.216688</td>\n",
       "      <td>{'clf': KNeighborsClassifier(n_neighbors=115, weights='distance'), 'clf__n_neighbors': 111, 'clf__weights': 'distance', 'preprocessor__num__imputer__strategy': 'mean', 'preprocessor__num__scaler': StandardScaler()}</td>\n",
       "    </tr>\n",
       "    <tr>\n",
       "      <th>19</th>\n",
       "      <td>0.595029</td>\n",
       "      <td>0.789769</td>\n",
       "      <td>0.610971</td>\n",
       "      <td>0.580685</td>\n",
       "      <td>0.214025</td>\n",
       "      <td>{'clf': KNeighborsClassifier(n_neighbors=115, weights='distance'), 'clf__n_neighbors': 41, 'clf__weights': 'uniform', 'preprocessor__num__imputer__fill_value': -1, 'preprocessor__num__imputer__strategy': 'constant', 'preprocessor__num__scaler': StandardScaler()}</td>\n",
       "    </tr>\n",
       "    <tr>\n",
       "      <th>20</th>\n",
       "      <td>0.595028</td>\n",
       "      <td>0.793723</td>\n",
       "      <td>0.623099</td>\n",
       "      <td>0.570526</td>\n",
       "      <td>0.220143</td>\n",
       "      <td>{'clf': KNeighborsClassifier(n_neighbors=115, weights='distance'), 'clf__n_neighbors': 81, 'clf__weights': 'uniform', 'preprocessor__num__imputer__strategy': 'mean', 'preprocessor__num__scaler': StandardScaler()}</td>\n",
       "    </tr>\n",
       "  </tbody>\n",
       "</table>\n",
       "</div>"
      ],
      "text/plain": [
       "              mean_test_f1  mean_test_accuracy  mean_test_precision  \\\n",
       "rank_test_f1                                                          \n",
       "1                 0.596686            0.791994             0.616304   \n",
       "2                 0.596306            0.791995             0.616540   \n",
       "2                 0.596306            0.791995             0.616540   \n",
       "4                 0.596271            0.791499             0.615325   \n",
       "5                 0.596133            0.793228             0.620511   \n",
       "6                 0.595782            0.793722             0.622283   \n",
       "7                 0.595722            0.793228             0.620715   \n",
       "8                 0.595693            0.790017             0.611344   \n",
       "9                 0.595558            0.791252             0.614885   \n",
       "10                0.595529            0.793229             0.620584   \n",
       "11                0.595495            0.790509             0.613220   \n",
       "12                0.595480            0.789771             0.610870   \n",
       "13                0.595478            0.790016             0.612215   \n",
       "14                0.595440            0.792981             0.620142   \n",
       "15                0.595415            0.789770             0.610792   \n",
       "16                0.595208            0.790262             0.612521   \n",
       "17                0.595207            0.789524             0.610326   \n",
       "18                0.595035            0.790510             0.612755   \n",
       "19                0.595029            0.789769             0.610971   \n",
       "20                0.595028            0.793723             0.623099   \n",
       "\n",
       "              mean_test_recall  mean_fit_time  \\\n",
       "rank_test_f1                                    \n",
       "1                     0.578859       0.225105   \n",
       "2                     0.577934       0.215309   \n",
       "2                     0.577934       0.217019   \n",
       "4                     0.578842       0.212056   \n",
       "5                     0.574204       0.215560   \n",
       "6                     0.572361       0.215019   \n",
       "7                     0.573278       0.213042   \n",
       "8                     0.581620       0.211829   \n",
       "9                     0.577916       0.217820   \n",
       "10                    0.573295       0.216481   \n",
       "11                    0.579751       0.233909   \n",
       "12                    0.581611       0.219002   \n",
       "13                    0.580694       0.216044   \n",
       "14                    0.573278       0.218745   \n",
       "15                    0.581620       0.214665   \n",
       "16                    0.579751       0.212959   \n",
       "17                    0.581611       0.214142   \n",
       "18                    0.578851       0.216688   \n",
       "19                    0.580685       0.214025   \n",
       "20                    0.570526       0.220143   \n",
       "\n",
       "                                                                                                                                                                                                                                                                                params  \n",
       "rank_test_f1                                                                                                                                                                                                                                                                            \n",
       "1                                                      {'clf': KNeighborsClassifier(n_neighbors=115, weights='distance'), 'clf__n_neighbors': 115, 'clf__weights': 'distance', 'preprocessor__num__imputer__strategy': 'most_frequent', 'preprocessor__num__scaler': StandardScaler()}  \n",
       "2             {'clf': KNeighborsClassifier(n_neighbors=115, weights='distance'), 'clf__n_neighbors': 115, 'clf__weights': 'distance', 'preprocessor__num__imputer__fill_value': -1, 'preprocessor__num__imputer__strategy': 'constant', 'preprocessor__num__scaler': StandardScaler()}  \n",
       "2              {'clf': KNeighborsClassifier(n_neighbors=115, weights='distance'), 'clf__n_neighbors': 115, 'clf__weights': 'distance', 'preprocessor__num__imputer__fill_value': 0, 'preprocessor__num__imputer__strategy': 'constant', 'preprocessor__num__scaler': StandardScaler()}  \n",
       "4             {'clf': KNeighborsClassifier(n_neighbors=115, weights='distance'), 'clf__n_neighbors': 107, 'clf__weights': 'distance', 'preprocessor__num__imputer__fill_value': -1, 'preprocessor__num__imputer__strategy': 'constant', 'preprocessor__num__scaler': StandardScaler()}  \n",
       "5                                                        {'clf': KNeighborsClassifier(n_neighbors=115, weights='distance'), 'clf__n_neighbors': 83, 'clf__weights': 'uniform', 'preprocessor__num__imputer__strategy': 'most_frequent', 'preprocessor__num__scaler': StandardScaler()}  \n",
       "6                                                                 {'clf': KNeighborsClassifier(n_neighbors=115, weights='distance'), 'clf__n_neighbors': 83, 'clf__weights': 'uniform', 'preprocessor__num__imputer__strategy': 'mean', 'preprocessor__num__scaler': StandardScaler()}  \n",
       "7               {'clf': KNeighborsClassifier(n_neighbors=115, weights='distance'), 'clf__n_neighbors': 83, 'clf__weights': 'uniform', 'preprocessor__num__imputer__fill_value': -1, 'preprocessor__num__imputer__strategy': 'constant', 'preprocessor__num__scaler': StandardScaler()}  \n",
       "8                {'clf': KNeighborsClassifier(n_neighbors=115, weights='distance'), 'clf__n_neighbors': 41, 'clf__weights': 'uniform', 'preprocessor__num__imputer__fill_value': 0, 'preprocessor__num__imputer__strategy': 'constant', 'preprocessor__num__scaler': StandardScaler()}  \n",
       "9              {'clf': KNeighborsClassifier(n_neighbors=115, weights='distance'), 'clf__n_neighbors': 107, 'clf__weights': 'distance', 'preprocessor__num__imputer__fill_value': 0, 'preprocessor__num__imputer__strategy': 'constant', 'preprocessor__num__scaler': StandardScaler()}  \n",
       "10                                                              {'clf': KNeighborsClassifier(n_neighbors=115, weights='distance'), 'clf__n_neighbors': 83, 'clf__weights': 'uniform', 'preprocessor__num__imputer__strategy': 'median', 'preprocessor__num__scaler': StandardScaler()}  \n",
       "11               {'clf': KNeighborsClassifier(n_neighbors=115, weights='distance'), 'clf__n_neighbors': 45, 'clf__weights': 'uniform', 'preprocessor__num__imputer__fill_value': 0, 'preprocessor__num__imputer__strategy': 'constant', 'preprocessor__num__scaler': StandardScaler()}  \n",
       "12               {'clf': KNeighborsClassifier(n_neighbors=115, weights='distance'), 'clf__n_neighbors': 39, 'clf__weights': 'uniform', 'preprocessor__num__imputer__fill_value': 0, 'preprocessor__num__imputer__strategy': 'constant', 'preprocessor__num__scaler': StandardScaler()}  \n",
       "13                                                                {'clf': KNeighborsClassifier(n_neighbors=115, weights='distance'), 'clf__n_neighbors': 41, 'clf__weights': 'uniform', 'preprocessor__num__imputer__strategy': 'mean', 'preprocessor__num__scaler': StandardScaler()}  \n",
       "14               {'clf': KNeighborsClassifier(n_neighbors=115, weights='distance'), 'clf__n_neighbors': 83, 'clf__weights': 'uniform', 'preprocessor__num__imputer__fill_value': 0, 'preprocessor__num__imputer__strategy': 'constant', 'preprocessor__num__scaler': StandardScaler()}  \n",
       "15                                                       {'clf': KNeighborsClassifier(n_neighbors=115, weights='distance'), 'clf__n_neighbors': 41, 'clf__weights': 'uniform', 'preprocessor__num__imputer__strategy': 'most_frequent', 'preprocessor__num__scaler': StandardScaler()}  \n",
       "16              {'clf': KNeighborsClassifier(n_neighbors=115, weights='distance'), 'clf__n_neighbors': 45, 'clf__weights': 'uniform', 'preprocessor__num__imputer__fill_value': -1, 'preprocessor__num__imputer__strategy': 'constant', 'preprocessor__num__scaler': StandardScaler()}  \n",
       "17              {'clf': KNeighborsClassifier(n_neighbors=115, weights='distance'), 'clf__n_neighbors': 39, 'clf__weights': 'uniform', 'preprocessor__num__imputer__fill_value': -1, 'preprocessor__num__imputer__strategy': 'constant', 'preprocessor__num__scaler': StandardScaler()}  \n",
       "18                                                              {'clf': KNeighborsClassifier(n_neighbors=115, weights='distance'), 'clf__n_neighbors': 111, 'clf__weights': 'distance', 'preprocessor__num__imputer__strategy': 'mean', 'preprocessor__num__scaler': StandardScaler()}  \n",
       "19              {'clf': KNeighborsClassifier(n_neighbors=115, weights='distance'), 'clf__n_neighbors': 41, 'clf__weights': 'uniform', 'preprocessor__num__imputer__fill_value': -1, 'preprocessor__num__imputer__strategy': 'constant', 'preprocessor__num__scaler': StandardScaler()}  \n",
       "20                                                                {'clf': KNeighborsClassifier(n_neighbors=115, weights='distance'), 'clf__n_neighbors': 81, 'clf__weights': 'uniform', 'preprocessor__num__imputer__strategy': 'mean', 'preprocessor__num__scaler': StandardScaler()}  "
      ]
     },
     "metadata": {},
     "output_type": "display_data"
    }
   ],
   "source": [
    "display(HTML(\"<h4>Dados brutos da validação cruzada</h4>\"))\n",
    "print(\n",
    "    f\"Cada combinação de parâmetros foi utilizada em {cv_num} rodadas de treino com {cv_train_size} exemplos e teste com {cv_test_size}.\"\n",
    ")\n",
    "\n",
    "rank_col = f\"rank_test_{scoring_name}\"\n",
    "cv_df = pd.DataFrame(cv.cv_results_).sort_values(rank_col).set_index(rank_col)\n",
    "\n",
    "cols = [\n",
    "    f\"mean_test_{scoring_name}\",\n",
    "    \"mean_test_accuracy\",\n",
    "    \"mean_test_precision\",\n",
    "    \"mean_test_recall\",\n",
    "    \"mean_fit_time\",\n",
    "    \"params\",\n",
    "]\n",
    "with pd.option_context(\"display.max_colwidth\", None):\n",
    "    display(cv_df[cols].head(20))"
   ]
  },
  {
   "cell_type": "code",
   "execution_count": 24,
   "metadata": {},
   "outputs": [
    {
     "data": {
      "text/html": [
       "<h4>Maior média de f1</h4>"
      ],
      "text/plain": [
       "<IPython.core.display.HTML object>"
      ]
     },
     "metadata": {},
     "output_type": "display_data"
    },
    {
     "data": {
      "text/html": [
       "<ul>\n",
       "<li>Maior média de f1: 0.59669 (desvio padrão: 0.03195)</li>\n",
       "<li>Parâmetros que maximizaram a média de f1:<br/><code>{'clf': KNeighborsClassifier(n_neighbors=115, weights='distance'), 'clf__n_neighbors': 115, 'clf__weights': 'distance', 'preprocessor__num__imputer__strategy': 'most_frequent', 'preprocessor__num__scaler': StandardScaler()}</code></li>\n",
       "<li>Modelo com a maior média de f1:</li>\n",
       "</ul>"
      ],
      "text/plain": [
       "<IPython.core.display.HTML object>"
      ]
     },
     "metadata": {},
     "output_type": "display_data"
    }
   ],
   "source": [
    "model = cv.best_estimator_\n",
    "\n",
    "display(HTML(f\"<h4>Maior média de {scoring_name}</h4>\"))\n",
    "display(\n",
    "    HTML(\n",
    "        f\"\"\"<ul>\n",
    "<li>Maior média de {scoring_name}: {cv.best_score_:.5f} (desvio padrão: {cv.cv_results_[\"std_test_\" + scoring_name][cv.best_index_]:.5f})</li>\n",
    "<li>Parâmetros que maximizaram a média de {scoring_name}:<br/><code>{cv.best_params_}</code></li>\n",
    "<li>Modelo com a maior média de {scoring_name}:</li>\n",
    "</ul>\"\"\"\n",
    "    )\n",
    ")\n",
    "# display(model)"
   ]
  },
  {
   "cell_type": "code",
   "execution_count": 25,
   "metadata": {},
   "outputs": [
    {
     "name": "stdout",
     "output_type": "stream",
     "text": [
      "F1-score do modelo no conjunto de testes: 0.64151\n"
     ]
    }
   ],
   "source": [
    "y_pred = model.predict(X_test)\n",
    "score = f1_score(y_test, y_pred, pos_label=\"Yes\")\n",
    "print(f\"F1-score do modelo no conjunto de testes: {score:.5f}\")"
   ]
  },
  {
   "cell_type": "code",
   "execution_count": 26,
   "metadata": {},
   "outputs": [
    {
     "data": {
      "image/png": "[encoded data removed]",
      "text/plain": [
       "<Figure size 432x288 with 2 Axes>"
      ]
     },
     "metadata": {
      "needs_background": "light"
     },
     "output_type": "display_data"
    }
   ],
   "source": [
    "cmd = plot_confusion_matrix(model, X_test, y_test, display_labels=[\"Não\", \"Sim\"])\n",
    "cmd.ax_.set(xlabel=\"Previsão\", ylabel=\"Realidade\")\n",
    "plt.show()"
   ]
  },
  {
   "cell_type": "markdown",
   "metadata": {},
   "source": [
    "## Preenchimento do arquivo de respostas"
   ]
  },
  {
   "cell_type": "code",
   "execution_count": 27,
   "metadata": {},
   "outputs": [
    {
     "data": {
      "text/html": [
       "<div>\n",
       "<style scoped>\n",
       "    .dataframe tbody tr th:only-of-type {\n",
       "        vertical-align: middle;\n",
       "    }\n",
       "\n",
       "    .dataframe tbody tr th {\n",
       "        vertical-align: top;\n",
       "    }\n",
       "\n",
       "    .dataframe thead th {\n",
       "        text-align: right;\n",
       "    }\n",
       "</style>\n",
       "<table border=\"1\" class=\"dataframe\">\n",
       "  <thead>\n",
       "    <tr style=\"text-align: right;\">\n",
       "      <th></th>\n",
       "      <th>ID</th>\n",
       "      <th>GENDER</th>\n",
       "      <th>SENIORCITIZEN</th>\n",
       "      <th>...</th>\n",
       "      <th>MONTHLYCHARGES</th>\n",
       "      <th>TOTALCHARGES</th>\n",
       "      <th>CHURN</th>\n",
       "    </tr>\n",
       "  </thead>\n",
       "  <tbody>\n",
       "    <tr>\n",
       "      <th>1294</th>\n",
       "      <td>3100</td>\n",
       "      <td>Female</td>\n",
       "      <td>0</td>\n",
       "      <td>...</td>\n",
       "      <td>123.64</td>\n",
       "      <td>972.34</td>\n",
       "      <td>No</td>\n",
       "    </tr>\n",
       "    <tr>\n",
       "      <th>406</th>\n",
       "      <td>4362</td>\n",
       "      <td>Female</td>\n",
       "      <td>1</td>\n",
       "      <td>...</td>\n",
       "      <td>7.00</td>\n",
       "      <td>7.0</td>\n",
       "      <td>Yes</td>\n",
       "    </tr>\n",
       "  </tbody>\n",
       "</table>\n",
       "<p>2 rows × 21 columns</p>\n",
       "</div>"
      ],
      "text/plain": [
       "        ID  GENDER  SENIORCITIZEN  ... MONTHLYCHARGES TOTALCHARGES  CHURN\n",
       "1294  3100  Female              0  ...         123.64       972.34     No\n",
       "406   4362  Female              1  ...           7.00          7.0    Yes\n",
       "\n",
       "[2 rows x 21 columns]"
      ]
     },
     "metadata": {},
     "output_type": "display_data"
    }
   ],
   "source": [
    "answers[\"CHURN\"] = model.predict(answers)\n",
    "answers.to_csv(\"ANSWERS.csv\", index=False)\n",
    "\n",
    "with pd.option_context(\"display.max_columns\", 6):\n",
    "    display(answers.sample(2, random_state=seed))"
   ]
  },
  {
   "cell_type": "code",
   "execution_count": 28,
   "metadata": {},
   "outputs": [
    {
     "data": {
      "text/html": [
       "<div>\n",
       "<style scoped>\n",
       "    .dataframe tbody tr th:only-of-type {\n",
       "        vertical-align: middle;\n",
       "    }\n",
       "\n",
       "    .dataframe tbody tr th {\n",
       "        vertical-align: top;\n",
       "    }\n",
       "\n",
       "    .dataframe thead th {\n",
       "        text-align: right;\n",
       "    }\n",
       "</style>\n",
       "<table border=\"1\" class=\"dataframe\">\n",
       "  <thead>\n",
       "    <tr style=\"text-align: right;\">\n",
       "      <th></th>\n",
       "      <th>Proporção</th>\n",
       "    </tr>\n",
       "  </thead>\n",
       "  <tbody>\n",
       "    <tr>\n",
       "      <th>No</th>\n",
       "      <td>0.790785</td>\n",
       "    </tr>\n",
       "    <tr>\n",
       "      <th>Yes</th>\n",
       "      <td>0.209215</td>\n",
       "    </tr>\n",
       "  </tbody>\n",
       "</table>\n",
       "</div>"
      ],
      "text/plain": [
       "     Proporção\n",
       "No    0.790785\n",
       "Yes   0.209215"
      ]
     },
     "execution_count": 28,
     "metadata": {},
     "output_type": "execute_result"
    }
   ],
   "source": [
    "answers[target].value_counts(normalize=True).rename(\"Proporção\").to_frame()"
   ]
  },
  {
   "cell_type": "code",
   "execution_count": 29,
   "metadata": {},
   "outputs": [
    {
     "name": "stdout",
     "output_type": "stream",
     "text": [
      "código.zip\n"
     ]
    }
   ],
   "source": [
    "!rm -rf código.zip\n",
    "!zip -q código.zip notebook.ipynb\n",
    "!ls código.zip"
   ]
  }
 ],
 "metadata": {
  "kernelspec": {
   "display_name": "Python 3 (ipykernel)",
   "language": "python",
   "name": "python3"
  },
  "language_info": {
   "codemirror_mode": {
    "name": "ipython",
    "version": 3
   },
   "file_extension": ".py",
   "mimetype": "text/x-python",
   "name": "python",
   "nbconvert_exporter": "python",
   "pygments_lexer": "ipython3",
   "version": "3.8.12"
  }
 },
 "nbformat": 4,
 "nbformat_minor": 4
}
