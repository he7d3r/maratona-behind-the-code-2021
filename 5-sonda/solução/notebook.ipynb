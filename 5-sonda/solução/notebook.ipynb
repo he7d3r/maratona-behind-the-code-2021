{
 "cells": [
  {
   "cell_type": "markdown",
   "metadata": {
    "id": "ZPGGGxhcBK9g"
   },
   "source": [
    "# Desafio 5 - Maratona Behind the Code 2021"
   ]
  },
  {
   "cell_type": "markdown",
   "metadata": {
    "id": "dHDLp1rxBK9m",
    "jp-MarkdownHeadingCollapsed": true,
    "tags": []
   },
   "source": [
    "## Bibliotecas"
   ]
  },
  {
   "cell_type": "code",
   "execution_count": 1,
   "metadata": {
    "id": "lxydZp5cBK9n"
   },
   "outputs": [],
   "source": [
    "import os\n",
    "import sys\n",
    "from datetime import timedelta\n",
    "from pathlib import Path\n",
    "from timeit import default_timer as timer\n",
    "from warnings import simplefilter\n",
    "\n",
    "import matplotlib.pyplot as plt\n",
    "import numpy as np\n",
    "import pandas as pd\n",
    "import seaborn as sns\n",
    "from IPython.display import HTML, display\n",
    "from sklearn import set_config\n",
    "from sklearn.compose import ColumnTransformer\n",
    "from sklearn.dummy import DummyClassifier\n",
    "from sklearn.ensemble import RandomForestClassifier\n",
    "from sklearn.exceptions import ConvergenceWarning, UndefinedMetricWarning\n",
    "from sklearn.impute import SimpleImputer\n",
    "from sklearn.linear_model import LogisticRegression\n",
    "from sklearn.metrics import (accuracy_score, f1_score, make_scorer,\n",
    "                             plot_confusion_matrix, precision_score,\n",
    "                             recall_score)\n",
    "from sklearn.model_selection import (GridSearchCV, RandomizedSearchCV,\n",
    "                                     train_test_split)\n",
    "from sklearn.naive_bayes import GaussianNB\n",
    "from sklearn.neighbors import KNeighborsClassifier\n",
    "from sklearn.neural_network import MLPClassifier\n",
    "from sklearn.pipeline import Pipeline\n",
    "from sklearn.preprocessing import (FunctionTransformer, MinMaxScaler,\n",
    "                                   OneHotEncoder, RobustScaler, StandardScaler)\n",
    "from sklearn.svm import SVC, LinearSVC\n",
    "from sklearn.tree import DecisionTreeClassifier"
   ]
  },
  {
   "cell_type": "markdown",
   "metadata": {
    "id": "P6_NtKfyBK9q",
    "jp-MarkdownHeadingCollapsed": true,
    "tags": []
   },
   "source": [
    "## Configurações"
   ]
  },
  {
   "cell_type": "code",
   "execution_count": 2,
   "metadata": {
    "id": "WY7RrC2dBK9q"
   },
   "outputs": [],
   "source": [
    "seed = 0\n",
    "data_path = Path(\"../desafio/assets/data/\")\n",
    "source_url = \"https://github.com/maratonadev/desafio-5-2021/raw/main/assets/data/\"\n",
    "set_config(display=\"diagram\")\n",
    "\n",
    "# See https://stackoverflow.com/a/55595680/2062663\n",
    "if not sys.warnoptions:\n",
    "    simplefilter(\"ignore\", category=ConvergenceWarning)\n",
    "    simplefilter(\"ignore\", category=UndefinedMetricWarning)\n",
    "    os.environ[\"PYTHONWARNINGS\"] = \"ignore\" # Also affect subprocesses"
   ]
  },
  {
   "cell_type": "markdown",
   "metadata": {
    "id": "zdlPHVPNBK9r",
    "tags": []
   },
   "source": [
    "## Dados"
   ]
  },
  {
   "cell_type": "markdown",
   "metadata": {
    "id": "QFH1GpA9BK9s",
    "jp-MarkdownHeadingCollapsed": true,
    "tags": []
   },
   "source": [
    "### Download"
   ]
  },
  {
   "cell_type": "code",
   "execution_count": 3,
   "metadata": {
    "colab": {
     "base_uri": "https://localhost:8080/"
    },
    "id": "buzbRDQDBK9t",
    "outputId": "3f15674a-1701-4f8b-a341-1bfc92860f69"
   },
   "outputs": [
    {
     "name": "stdout",
     "output_type": "stream",
     "text": [
      "ANSWERS.csv  dataset.csv\n"
     ]
    }
   ],
   "source": [
    "!mkdir -p {data_path}\n",
    "!wget -q -N -P {data_path} {source_url}\"dataset.csv\"\n",
    "!wget -q -N -P {data_path} {source_url}\"ANSWERS.csv\"\n",
    "!ls {data_path}"
   ]
  },
  {
   "cell_type": "markdown",
   "metadata": {
    "id": "xngCz4yHBK9u",
    "jp-MarkdownHeadingCollapsed": true,
    "tags": []
   },
   "source": [
    "### Carregamento"
   ]
  },
  {
   "cell_type": "code",
   "execution_count": 4,
   "metadata": {
    "colab": {
     "base_uri": "https://localhost:8080/"
    },
    "id": "DICgufEPBK9v",
    "outputId": "2e3987c4-ab11-4f2e-f6b0-8eccfde7309b"
   },
   "outputs": [
    {
     "name": "stdout",
     "output_type": "stream",
     "text": [
      "['ID', 'GENDER', 'SENIORCITIZEN', 'PARTNER', 'DEPENDENTS', 'TENURE', 'PHONESERVICE', 'MULTIPLELINES', 'INTERNETSERVICE', 'ONLINESECURITY', 'ONLINEBACKUP', 'DEVICEPROTECTION', 'TECHSUPPORT', 'STREAMINGTV', 'STREAMINGMOVIES', 'CONTRACT', 'PAPERLESSBILLING', 'PAYMENTMETHOD', 'MONTHLYCHARGES', 'TOTALCHARGES', 'CHURN']\n"
     ]
    }
   ],
   "source": [
    "df_all = pd.read_csv(data_path / \"dataset.csv\")\n",
    "answers = pd.read_csv(data_path / \"ANSWERS.csv\")\n",
    "\n",
    "assert list(answers.columns) == list(df_all.columns)\n",
    "all_cols = list(df_all.columns)\n",
    "print(all_cols)"
   ]
  },
  {
   "cell_type": "markdown",
   "metadata": {
    "id": "LPDbHk0pBK9v",
    "jp-MarkdownHeadingCollapsed": true,
    "tags": []
   },
   "source": [
    "### Informações gerais"
   ]
  },
  {
   "cell_type": "code",
   "execution_count": 5,
   "metadata": {
    "colab": {
     "base_uri": "https://localhost:8080/"
    },
    "id": "UZEPUEYaBK9w",
    "outputId": "28ca7128-6d4e-4eab-f515-3d3b8da03727"
   },
   "outputs": [
    {
     "name": "stdout",
     "output_type": "stream",
     "text": [
      "<class 'pandas.core.frame.DataFrame'>\n",
      "RangeIndex: 4548 entries, 0 to 4547\n",
      "Data columns (total 21 columns):\n",
      " #   Column            Non-Null Count  Dtype  \n",
      "---  ------            --------------  -----  \n",
      " 0   ID                4548 non-null   int64  \n",
      " 1   GENDER            4520 non-null   object \n",
      " 2   SENIORCITIZEN     4523 non-null   float64\n",
      " 3   PARTNER           4524 non-null   object \n",
      " 4   DEPENDENTS        4526 non-null   object \n",
      " 5   TENURE            4533 non-null   float64\n",
      " 6   PHONESERVICE      4520 non-null   object \n",
      " 7   MULTIPLELINES     4523 non-null   object \n",
      " 8   INTERNETSERVICE   4524 non-null   object \n",
      " 9   ONLINESECURITY    4518 non-null   object \n",
      " 10  ONLINEBACKUP      4518 non-null   object \n",
      " 11  DEVICEPROTECTION  4524 non-null   object \n",
      " 12  TECHSUPPORT       4530 non-null   object \n",
      " 13  STREAMINGTV       4523 non-null   object \n",
      " 14  STREAMINGMOVIES   4523 non-null   object \n",
      " 15  CONTRACT          4525 non-null   object \n",
      " 16  PAPERLESSBILLING  4517 non-null   object \n",
      " 17  PAYMENTMETHOD     4520 non-null   object \n",
      " 18  MONTHLYCHARGES    4527 non-null   float64\n",
      " 19  TOTALCHARGES      4527 non-null   object \n",
      " 20  CHURN             4548 non-null   object \n",
      "dtypes: float64(3), int64(1), object(17)\n",
      "memory usage: 746.3+ KB\n"
     ]
    }
   ],
   "source": [
    "df_all.info()"
   ]
  },
  {
   "cell_type": "markdown",
   "metadata": {
    "id": "yxVHe072BK9w"
   },
   "source": [
    "- A maioria das variáveis (colunas) parece não ser numérica e precisará ser tratada antes do uso em modelos de machine learning.\n",
    "- Com exceção da variável que identifica cada cliente (`ID`) e da variável de destino (`CHURN`), todas têm dados faltantes (nulos)."
   ]
  },
  {
   "cell_type": "markdown",
   "metadata": {
    "id": "tMAWjiK4BK9x",
    "tags": []
   },
   "source": [
    "### Divisão dos dados entre treino e teste"
   ]
  },
  {
   "cell_type": "markdown",
   "metadata": {
    "id": "Iv_0jnyKBK9x"
   },
   "source": [
    "Antes de inspecionar os dados, serão reservados alguns exemplos para teste, que não serão vistos durante a análise ou modelagem dos dados:"
   ]
  },
  {
   "cell_type": "code",
   "execution_count": 6,
   "metadata": {
    "colab": {
     "base_uri": "https://localhost:8080/"
    },
    "id": "3qlTTAJfBK9y",
    "outputId": "06bfc2f5-6378-4cb5-86cd-d65fad9fbf4d"
   },
   "outputs": [
    {
     "name": "stdout",
     "output_type": "stream",
     "text": [
      "Dimensões dos dados de treino: (348, 21)\n",
      "Dimensões dos dados de teste: (4200, 21)\n"
     ]
    }
   ],
   "source": [
    "test_size = 4200\n",
    "target = \"CHURN\"\n",
    "df_train, df_test = train_test_split(\n",
    "    df_all, test_size=test_size, random_state=seed, stratify=df_all[[target]]\n",
    ")\n",
    "print(f\"Dimensões dos dados de treino: {df_train.shape}\")\n",
    "print(f\"Dimensões dos dados de teste: {df_test.shape}\")"
   ]
  },
  {
   "cell_type": "markdown",
   "metadata": {
    "id": "qET4zpDuBK9y",
    "jp-MarkdownHeadingCollapsed": true,
    "tags": []
   },
   "source": [
    "### Variável destino"
   ]
  },
  {
   "cell_type": "markdown",
   "metadata": {
    "id": "0y0fQwYaBK9y"
   },
   "source": [
    "A variável destino para este desafio é `CHURN`, que indica se o cliente foi perdido ou não. Vamos dar uma olhada em como está a distribuição dessa variável:"
   ]
  },
  {
   "cell_type": "code",
   "execution_count": 7,
   "metadata": {
    "colab": {
     "base_uri": "https://localhost:8080/",
     "height": 279
    },
    "id": "d07jx2dZBK9z",
    "outputId": "41597eb1-8ee4-4338-f98e-0190f00cd862"
   },
   "outputs": [
    {
     "data": {
      "image/png": "[encoded data removed]",
      "text/plain": [
       "<Figure size 432x288 with 1 Axes>"
      ]
     },
     "metadata": {
      "needs_background": "light"
     },
     "output_type": "display_data"
    }
   ],
   "source": [
    "churn_plot = sns.countplot(\n",
    "    data=df_train, x=target, order=df_train[target].value_counts().index\n",
    ")\n",
    "plt.show()"
   ]
  },
  {
   "cell_type": "code",
   "execution_count": 8,
   "metadata": {
    "colab": {
     "base_uri": "https://localhost:8080/",
     "height": 112
    },
    "id": "09iQYH1iBK9z",
    "outputId": "d1f43023-73ac-4b8f-9858-361166bb5e65"
   },
   "outputs": [
    {
     "data": {
      "text/html": [
       "<div>\n",
       "<style scoped>\n",
       "    .dataframe tbody tr th:only-of-type {\n",
       "        vertical-align: middle;\n",
       "    }\n",
       "\n",
       "    .dataframe tbody tr th {\n",
       "        vertical-align: top;\n",
       "    }\n",
       "\n",
       "    .dataframe thead th {\n",
       "        text-align: right;\n",
       "    }\n",
       "</style>\n",
       "<table border=\"1\" class=\"dataframe\">\n",
       "  <thead>\n",
       "    <tr style=\"text-align: right;\">\n",
       "      <th></th>\n",
       "      <th>Proporção</th>\n",
       "    </tr>\n",
       "  </thead>\n",
       "  <tbody>\n",
       "    <tr>\n",
       "      <th>No</th>\n",
       "      <td>0.732759</td>\n",
       "    </tr>\n",
       "    <tr>\n",
       "      <th>Yes</th>\n",
       "      <td>0.267241</td>\n",
       "    </tr>\n",
       "  </tbody>\n",
       "</table>\n",
       "</div>"
      ],
      "text/plain": [
       "     Proporção\n",
       "No    0.732759\n",
       "Yes   0.267241"
      ]
     },
     "execution_count": 8,
     "metadata": {},
     "output_type": "execute_result"
    }
   ],
   "source": [
    "df_train[target].value_counts(normalize=True).rename(\"Proporção\").to_frame()"
   ]
  },
  {
   "cell_type": "markdown",
   "metadata": {
    "id": "ui3q268SBK90"
   },
   "source": [
    "- A maioria dos clientes (cerca de 73%) não foi perdido"
   ]
  },
  {
   "cell_type": "markdown",
   "metadata": {
    "id": "eTQENgInBK90",
    "jp-MarkdownHeadingCollapsed": true,
    "tags": []
   },
   "source": [
    "### Dados de exemplo"
   ]
  },
  {
   "cell_type": "code",
   "execution_count": 9,
   "metadata": {
    "colab": {
     "base_uri": "https://localhost:8080/",
     "height": 522
    },
    "id": "27VImZQvBK90",
    "outputId": "8f625dac-9ab6-4576-c0dd-89dc6af9b5dc"
   },
   "outputs": [
    {
     "data": {
      "text/html": [
       "<div>\n",
       "<style scoped>\n",
       "    .dataframe tbody tr th:only-of-type {\n",
       "        vertical-align: middle;\n",
       "    }\n",
       "\n",
       "    .dataframe tbody tr th {\n",
       "        vertical-align: top;\n",
       "    }\n",
       "\n",
       "    .dataframe thead th {\n",
       "        text-align: right;\n",
       "    }\n",
       "</style>\n",
       "<table border=\"1\" class=\"dataframe\">\n",
       "  <thead>\n",
       "    <tr style=\"text-align: right;\">\n",
       "      <th></th>\n",
       "      <th>ID</th>\n",
       "      <th>GENDER</th>\n",
       "      <th>SENIORCITIZEN</th>\n",
       "      <th>PARTNER</th>\n",
       "      <th>DEPENDENTS</th>\n",
       "      <th>TENURE</th>\n",
       "      <th>PHONESERVICE</th>\n",
       "      <th>MULTIPLELINES</th>\n",
       "      <th>INTERNETSERVICE</th>\n",
       "      <th>ONLINESECURITY</th>\n",
       "      <th>ONLINEBACKUP</th>\n",
       "      <th>DEVICEPROTECTION</th>\n",
       "      <th>TECHSUPPORT</th>\n",
       "      <th>STREAMINGTV</th>\n",
       "      <th>STREAMINGMOVIES</th>\n",
       "      <th>CONTRACT</th>\n",
       "      <th>PAPERLESSBILLING</th>\n",
       "      <th>PAYMENTMETHOD</th>\n",
       "      <th>MONTHLYCHARGES</th>\n",
       "      <th>TOTALCHARGES</th>\n",
       "      <th>CHURN</th>\n",
       "    </tr>\n",
       "  </thead>\n",
       "  <tbody>\n",
       "    <tr>\n",
       "      <th>2195</th>\n",
       "      <td>2255</td>\n",
       "      <td>Male</td>\n",
       "      <td>1.0</td>\n",
       "      <td>Yes</td>\n",
       "      <td>No</td>\n",
       "      <td>52.0</td>\n",
       "      <td>Yes</td>\n",
       "      <td>Yes</td>\n",
       "      <td>Fiber optic</td>\n",
       "      <td>No</td>\n",
       "      <td>Yes</td>\n",
       "      <td>Yes</td>\n",
       "      <td>No</td>\n",
       "      <td>Yes</td>\n",
       "      <td>Yes</td>\n",
       "      <td>One year</td>\n",
       "      <td>Yes</td>\n",
       "      <td>Bank transfer (automatic)</td>\n",
       "      <td>311.34</td>\n",
       "      <td>5582.64</td>\n",
       "      <td>No</td>\n",
       "    </tr>\n",
       "    <tr>\n",
       "      <th>2342</th>\n",
       "      <td>9814</td>\n",
       "      <td>Male</td>\n",
       "      <td>0.0</td>\n",
       "      <td>No</td>\n",
       "      <td>No</td>\n",
       "      <td>1.0</td>\n",
       "      <td>Yes</td>\n",
       "      <td>No</td>\n",
       "      <td>No</td>\n",
       "      <td>No internet service</td>\n",
       "      <td>No internet service</td>\n",
       "      <td>No internet service</td>\n",
       "      <td>No internet service</td>\n",
       "      <td>No internet service</td>\n",
       "      <td>No internet service</td>\n",
       "      <td>Month-to-month</td>\n",
       "      <td>No</td>\n",
       "      <td>Electronic check</td>\n",
       "      <td>33.37</td>\n",
       "      <td>33.37</td>\n",
       "      <td>Yes</td>\n",
       "    </tr>\n",
       "    <tr>\n",
       "      <th>2627</th>\n",
       "      <td>6071</td>\n",
       "      <td>Female</td>\n",
       "      <td>0.0</td>\n",
       "      <td>Yes</td>\n",
       "      <td>Yes</td>\n",
       "      <td>21.0</td>\n",
       "      <td>Yes</td>\n",
       "      <td>No</td>\n",
       "      <td>DSL</td>\n",
       "      <td>No</td>\n",
       "      <td>Yes</td>\n",
       "      <td>No</td>\n",
       "      <td>No</td>\n",
       "      <td>Yes</td>\n",
       "      <td>No</td>\n",
       "      <td>One year</td>\n",
       "      <td>Yes</td>\n",
       "      <td>Credit card (automatic)</td>\n",
       "      <td>83.33</td>\n",
       "      <td>1239.93</td>\n",
       "      <td>No</td>\n",
       "    </tr>\n",
       "    <tr>\n",
       "      <th>1979</th>\n",
       "      <td>1570</td>\n",
       "      <td>Female</td>\n",
       "      <td>0.0</td>\n",
       "      <td>Yes</td>\n",
       "      <td>No</td>\n",
       "      <td>2.0</td>\n",
       "      <td>No</td>\n",
       "      <td>No phone service</td>\n",
       "      <td>DSL</td>\n",
       "      <td>No</td>\n",
       "      <td>No</td>\n",
       "      <td>No</td>\n",
       "      <td>No</td>\n",
       "      <td>No</td>\n",
       "      <td>Yes</td>\n",
       "      <td>Month-to-month</td>\n",
       "      <td>Yes</td>\n",
       "      <td>Electronic check</td>\n",
       "      <td>7.00</td>\n",
       "      <td>40.65</td>\n",
       "      <td>Yes</td>\n",
       "    </tr>\n",
       "    <tr>\n",
       "      <th>2438</th>\n",
       "      <td>7728</td>\n",
       "      <td>Female</td>\n",
       "      <td>1.0</td>\n",
       "      <td>No</td>\n",
       "      <td>No</td>\n",
       "      <td>7.0</td>\n",
       "      <td>Yes</td>\n",
       "      <td>No</td>\n",
       "      <td>Fiber optic</td>\n",
       "      <td>No</td>\n",
       "      <td>No</td>\n",
       "      <td>No</td>\n",
       "      <td>No</td>\n",
       "      <td>Yes</td>\n",
       "      <td>Yes</td>\n",
       "      <td>Month-to-month</td>\n",
       "      <td>Yes</td>\n",
       "      <td>Electronic check</td>\n",
       "      <td>76.83</td>\n",
       "      <td>562.03</td>\n",
       "      <td>No</td>\n",
       "    </tr>\n",
       "    <tr>\n",
       "      <th>2205</th>\n",
       "      <td>4859</td>\n",
       "      <td>Male</td>\n",
       "      <td>0.0</td>\n",
       "      <td>Yes</td>\n",
       "      <td>Yes</td>\n",
       "      <td>39.0</td>\n",
       "      <td>Yes</td>\n",
       "      <td>No</td>\n",
       "      <td>Fiber optic</td>\n",
       "      <td>No</td>\n",
       "      <td>Yes</td>\n",
       "      <td>No</td>\n",
       "      <td>No</td>\n",
       "      <td>Yes</td>\n",
       "      <td>No</td>\n",
       "      <td>Month-to-month</td>\n",
       "      <td>Yes</td>\n",
       "      <td>Mailed check</td>\n",
       "      <td>78.15</td>\n",
       "      <td>3257.85</td>\n",
       "      <td>Yes</td>\n",
       "    </tr>\n",
       "    <tr>\n",
       "      <th>275</th>\n",
       "      <td>4751</td>\n",
       "      <td>Male</td>\n",
       "      <td>0.0</td>\n",
       "      <td>Yes</td>\n",
       "      <td>No</td>\n",
       "      <td>67.0</td>\n",
       "      <td>Yes</td>\n",
       "      <td>No</td>\n",
       "      <td>DSL</td>\n",
       "      <td>Yes</td>\n",
       "      <td>Yes</td>\n",
       "      <td>No</td>\n",
       "      <td>Yes</td>\n",
       "      <td>No</td>\n",
       "      <td>Yes</td>\n",
       "      <td>NaN</td>\n",
       "      <td>Yes</td>\n",
       "      <td>Credit card (automatic)</td>\n",
       "      <td>71.04</td>\n",
       "      <td>4673.49</td>\n",
       "      <td>No</td>\n",
       "    </tr>\n",
       "    <tr>\n",
       "      <th>2217</th>\n",
       "      <td>6414</td>\n",
       "      <td>Female</td>\n",
       "      <td>0.0</td>\n",
       "      <td>Yes</td>\n",
       "      <td>Yes</td>\n",
       "      <td>6.0</td>\n",
       "      <td>Yes</td>\n",
       "      <td>No</td>\n",
       "      <td>DSL</td>\n",
       "      <td>No</td>\n",
       "      <td>No</td>\n",
       "      <td>No</td>\n",
       "      <td>No</td>\n",
       "      <td>No</td>\n",
       "      <td>No</td>\n",
       "      <td>Month-to-month</td>\n",
       "      <td>No</td>\n",
       "      <td>Mailed check</td>\n",
       "      <td>88.02</td>\n",
       "      <td>327.72</td>\n",
       "      <td>No</td>\n",
       "    </tr>\n",
       "    <tr>\n",
       "      <th>2742</th>\n",
       "      <td>8456</td>\n",
       "      <td>Male</td>\n",
       "      <td>0.0</td>\n",
       "      <td>Yes</td>\n",
       "      <td>Yes</td>\n",
       "      <td>47.0</td>\n",
       "      <td>Yes</td>\n",
       "      <td>No</td>\n",
       "      <td>No</td>\n",
       "      <td>No internet service</td>\n",
       "      <td>No internet service</td>\n",
       "      <td>No internet service</td>\n",
       "      <td>No internet service</td>\n",
       "      <td>No internet service</td>\n",
       "      <td>No internet service</td>\n",
       "      <td>One year</td>\n",
       "      <td>No</td>\n",
       "      <td>Mailed check</td>\n",
       "      <td>42.64</td>\n",
       "      <td>974.14</td>\n",
       "      <td>No</td>\n",
       "    </tr>\n",
       "    <tr>\n",
       "      <th>1392</th>\n",
       "      <td>2770</td>\n",
       "      <td>Male</td>\n",
       "      <td>1.0</td>\n",
       "      <td>No</td>\n",
       "      <td>No</td>\n",
       "      <td>9.0</td>\n",
       "      <td>Yes</td>\n",
       "      <td>Yes</td>\n",
       "      <td>Fiber optic</td>\n",
       "      <td>No</td>\n",
       "      <td>No</td>\n",
       "      <td>No</td>\n",
       "      <td>No</td>\n",
       "      <td>No</td>\n",
       "      <td>Yes</td>\n",
       "      <td>Month-to-month</td>\n",
       "      <td>Yes</td>\n",
       "      <td>Electronic check</td>\n",
       "      <td>147.24</td>\n",
       "      <td>853.54</td>\n",
       "      <td>Yes</td>\n",
       "    </tr>\n",
       "  </tbody>\n",
       "</table>\n",
       "</div>"
      ],
      "text/plain": [
       "        ID  GENDER  SENIORCITIZEN PARTNER DEPENDENTS  TENURE PHONESERVICE  \\\n",
       "2195  2255    Male            1.0     Yes         No    52.0          Yes   \n",
       "2342  9814    Male            0.0      No         No     1.0          Yes   \n",
       "2627  6071  Female            0.0     Yes        Yes    21.0          Yes   \n",
       "1979  1570  Female            0.0     Yes         No     2.0           No   \n",
       "2438  7728  Female            1.0      No         No     7.0          Yes   \n",
       "2205  4859    Male            0.0     Yes        Yes    39.0          Yes   \n",
       "275   4751    Male            0.0     Yes         No    67.0          Yes   \n",
       "2217  6414  Female            0.0     Yes        Yes     6.0          Yes   \n",
       "2742  8456    Male            0.0     Yes        Yes    47.0          Yes   \n",
       "1392  2770    Male            1.0      No         No     9.0          Yes   \n",
       "\n",
       "         MULTIPLELINES INTERNETSERVICE       ONLINESECURITY  \\\n",
       "2195               Yes     Fiber optic                   No   \n",
       "2342                No              No  No internet service   \n",
       "2627                No             DSL                   No   \n",
       "1979  No phone service             DSL                   No   \n",
       "2438                No     Fiber optic                   No   \n",
       "2205                No     Fiber optic                   No   \n",
       "275                 No             DSL                  Yes   \n",
       "2217                No             DSL                   No   \n",
       "2742                No              No  No internet service   \n",
       "1392               Yes     Fiber optic                   No   \n",
       "\n",
       "             ONLINEBACKUP     DEVICEPROTECTION          TECHSUPPORT  \\\n",
       "2195                  Yes                  Yes                   No   \n",
       "2342  No internet service  No internet service  No internet service   \n",
       "2627                  Yes                   No                   No   \n",
       "1979                   No                   No                   No   \n",
       "2438                   No                   No                   No   \n",
       "2205                  Yes                   No                   No   \n",
       "275                   Yes                   No                  Yes   \n",
       "2217                   No                   No                   No   \n",
       "2742  No internet service  No internet service  No internet service   \n",
       "1392                   No                   No                   No   \n",
       "\n",
       "              STREAMINGTV      STREAMINGMOVIES        CONTRACT  \\\n",
       "2195                  Yes                  Yes        One year   \n",
       "2342  No internet service  No internet service  Month-to-month   \n",
       "2627                  Yes                   No        One year   \n",
       "1979                   No                  Yes  Month-to-month   \n",
       "2438                  Yes                  Yes  Month-to-month   \n",
       "2205                  Yes                   No  Month-to-month   \n",
       "275                    No                  Yes             NaN   \n",
       "2217                   No                   No  Month-to-month   \n",
       "2742  No internet service  No internet service        One year   \n",
       "1392                   No                  Yes  Month-to-month   \n",
       "\n",
       "     PAPERLESSBILLING              PAYMENTMETHOD  MONTHLYCHARGES TOTALCHARGES  \\\n",
       "2195              Yes  Bank transfer (automatic)          311.34      5582.64   \n",
       "2342               No           Electronic check           33.37        33.37   \n",
       "2627              Yes    Credit card (automatic)           83.33      1239.93   \n",
       "1979              Yes           Electronic check            7.00        40.65   \n",
       "2438              Yes           Electronic check           76.83       562.03   \n",
       "2205              Yes               Mailed check           78.15      3257.85   \n",
       "275               Yes    Credit card (automatic)           71.04      4673.49   \n",
       "2217               No               Mailed check           88.02       327.72   \n",
       "2742               No               Mailed check           42.64       974.14   \n",
       "1392              Yes           Electronic check          147.24       853.54   \n",
       "\n",
       "     CHURN  \n",
       "2195    No  \n",
       "2342   Yes  \n",
       "2627    No  \n",
       "1979   Yes  \n",
       "2438    No  \n",
       "2205   Yes  \n",
       "275     No  \n",
       "2217    No  \n",
       "2742    No  \n",
       "1392   Yes  "
      ]
     },
     "metadata": {},
     "output_type": "display_data"
    }
   ],
   "source": [
    "with pd.option_context(\"display.max_columns\", None):\n",
    "    display(df_train.sample(10, random_state=seed))"
   ]
  },
  {
   "cell_type": "markdown",
   "metadata": {
    "id": "mliLDZXMBK91",
    "jp-MarkdownHeadingCollapsed": true,
    "tags": []
   },
   "source": [
    "### Valores distintos por variável"
   ]
  },
  {
   "cell_type": "code",
   "execution_count": 10,
   "metadata": {
    "colab": {
     "base_uri": "https://localhost:8080/",
     "height": 708
    },
    "id": "DRKm88pWBK91",
    "outputId": "67e07e1f-2d99-4528-8e7c-b677550a6eb7"
   },
   "outputs": [
    {
     "data": {
      "text/html": [
       "<div>\n",
       "<style scoped>\n",
       "    .dataframe tbody tr th:only-of-type {\n",
       "        vertical-align: middle;\n",
       "    }\n",
       "\n",
       "    .dataframe tbody tr th {\n",
       "        vertical-align: top;\n",
       "    }\n",
       "\n",
       "    .dataframe thead th {\n",
       "        text-align: right;\n",
       "    }\n",
       "</style>\n",
       "<table border=\"1\" class=\"dataframe\">\n",
       "  <thead>\n",
       "    <tr style=\"text-align: right;\">\n",
       "      <th></th>\n",
       "      <th>Nº de valores</th>\n",
       "    </tr>\n",
       "  </thead>\n",
       "  <tbody>\n",
       "    <tr>\n",
       "      <th>ID</th>\n",
       "      <td>348</td>\n",
       "    </tr>\n",
       "    <tr>\n",
       "      <th>GENDER</th>\n",
       "      <td>2</td>\n",
       "    </tr>\n",
       "    <tr>\n",
       "      <th>SENIORCITIZEN</th>\n",
       "      <td>2</td>\n",
       "    </tr>\n",
       "    <tr>\n",
       "      <th>PARTNER</th>\n",
       "      <td>2</td>\n",
       "    </tr>\n",
       "    <tr>\n",
       "      <th>DEPENDENTS</th>\n",
       "      <td>2</td>\n",
       "    </tr>\n",
       "    <tr>\n",
       "      <th>TENURE</th>\n",
       "      <td>72</td>\n",
       "    </tr>\n",
       "    <tr>\n",
       "      <th>PHONESERVICE</th>\n",
       "      <td>2</td>\n",
       "    </tr>\n",
       "    <tr>\n",
       "      <th>MULTIPLELINES</th>\n",
       "      <td>3</td>\n",
       "    </tr>\n",
       "    <tr>\n",
       "      <th>INTERNETSERVICE</th>\n",
       "      <td>3</td>\n",
       "    </tr>\n",
       "    <tr>\n",
       "      <th>ONLINESECURITY</th>\n",
       "      <td>3</td>\n",
       "    </tr>\n",
       "    <tr>\n",
       "      <th>ONLINEBACKUP</th>\n",
       "      <td>3</td>\n",
       "    </tr>\n",
       "    <tr>\n",
       "      <th>DEVICEPROTECTION</th>\n",
       "      <td>3</td>\n",
       "    </tr>\n",
       "    <tr>\n",
       "      <th>TECHSUPPORT</th>\n",
       "      <td>3</td>\n",
       "    </tr>\n",
       "    <tr>\n",
       "      <th>STREAMINGTV</th>\n",
       "      <td>3</td>\n",
       "    </tr>\n",
       "    <tr>\n",
       "      <th>STREAMINGMOVIES</th>\n",
       "      <td>3</td>\n",
       "    </tr>\n",
       "    <tr>\n",
       "      <th>CONTRACT</th>\n",
       "      <td>3</td>\n",
       "    </tr>\n",
       "    <tr>\n",
       "      <th>PAPERLESSBILLING</th>\n",
       "      <td>2</td>\n",
       "    </tr>\n",
       "    <tr>\n",
       "      <th>PAYMENTMETHOD</th>\n",
       "      <td>4</td>\n",
       "    </tr>\n",
       "    <tr>\n",
       "      <th>MONTHLYCHARGES</th>\n",
       "      <td>341</td>\n",
       "    </tr>\n",
       "    <tr>\n",
       "      <th>TOTALCHARGES</th>\n",
       "      <td>348</td>\n",
       "    </tr>\n",
       "    <tr>\n",
       "      <th>CHURN</th>\n",
       "      <td>2</td>\n",
       "    </tr>\n",
       "  </tbody>\n",
       "</table>\n",
       "</div>"
      ],
      "text/plain": [
       "                  Nº de valores\n",
       "ID                          348\n",
       "GENDER                        2\n",
       "SENIORCITIZEN                 2\n",
       "PARTNER                       2\n",
       "DEPENDENTS                    2\n",
       "TENURE                       72\n",
       "PHONESERVICE                  2\n",
       "MULTIPLELINES                 3\n",
       "INTERNETSERVICE               3\n",
       "ONLINESECURITY                3\n",
       "ONLINEBACKUP                  3\n",
       "DEVICEPROTECTION              3\n",
       "TECHSUPPORT                   3\n",
       "STREAMINGTV                   3\n",
       "STREAMINGMOVIES               3\n",
       "CONTRACT                      3\n",
       "PAPERLESSBILLING              2\n",
       "PAYMENTMETHOD                 4\n",
       "MONTHLYCHARGES              341\n",
       "TOTALCHARGES                348\n",
       "CHURN                         2"
      ]
     },
     "execution_count": 10,
     "metadata": {},
     "output_type": "execute_result"
    }
   ],
   "source": [
    "df_train.nunique().rename(\"Nº de valores\").to_frame()"
   ]
  },
  {
   "cell_type": "markdown",
   "metadata": {
    "id": "LIzvBhPEBK91"
   },
   "source": [
    "Observações:\n",
    "- As colunas `ID`, `MONTHLYCHARGES`, `TENURE` e `TOTALCHARGES` assumem um grande número de valores distintos, e possivelmente são contínuas\n",
    "- As demais colunas têm poucos valores distintos, e podemos assumir que são categóricas"
   ]
  },
  {
   "cell_type": "markdown",
   "metadata": {
    "id": "fTSc1eBJBK91",
    "jp-MarkdownHeadingCollapsed": true,
    "tags": []
   },
   "source": [
    "### Variáveis categóricas"
   ]
  },
  {
   "cell_type": "markdown",
   "metadata": {
    "id": "xTsg-6t0BK92"
   },
   "source": [
    "Já que teremos que lidar tanto com variáveis categóricas quanto numéricas, e cada tipo de variável precisa de tratamentos específicos antes de serem usadas por modelos de _machine learning_, processaremos cada tipo por `Pipeline` específica do `scikit-learn`. Aqui, será construída uma versão preliminar da _pipeline_ que lidará com os dados categóricos, apenas para facilitar a visualização dos dados. Posteriormente ela será aperfeiçoada para uso nos modelos."
   ]
  },
  {
   "cell_type": "code",
   "execution_count": 11,
   "metadata": {
    "colab": {
     "base_uri": "https://localhost:8080/",
     "height": 212
    },
    "id": "VZhaA537BK92",
    "outputId": "2069d404-8e75-464c-9a9b-b7fc940d6405"
   },
   "outputs": [
    {
     "data": {
      "text/html": [
       "<div>\n",
       "<style scoped>\n",
       "    .dataframe tbody tr th:only-of-type {\n",
       "        vertical-align: middle;\n",
       "    }\n",
       "\n",
       "    .dataframe tbody tr th {\n",
       "        vertical-align: top;\n",
       "    }\n",
       "\n",
       "    .dataframe thead th {\n",
       "        text-align: right;\n",
       "    }\n",
       "</style>\n",
       "<table border=\"1\" class=\"dataframe\">\n",
       "  <thead>\n",
       "    <tr style=\"text-align: right;\">\n",
       "      <th></th>\n",
       "      <th>GENDER</th>\n",
       "      <th>SENIORCITIZEN</th>\n",
       "      <th>PARTNER</th>\n",
       "      <th>DEPENDENTS</th>\n",
       "      <th>PHONESERVICE</th>\n",
       "      <th>MULTIPLELINES</th>\n",
       "      <th>INTERNETSERVICE</th>\n",
       "      <th>ONLINESECURITY</th>\n",
       "      <th>ONLINEBACKUP</th>\n",
       "      <th>DEVICEPROTECTION</th>\n",
       "      <th>TECHSUPPORT</th>\n",
       "      <th>STREAMINGTV</th>\n",
       "      <th>STREAMINGMOVIES</th>\n",
       "      <th>CONTRACT</th>\n",
       "      <th>PAPERLESSBILLING</th>\n",
       "      <th>PAYMENTMETHOD</th>\n",
       "      <th>CHURN</th>\n",
       "    </tr>\n",
       "  </thead>\n",
       "  <tbody>\n",
       "    <tr>\n",
       "      <th>count</th>\n",
       "      <td>347</td>\n",
       "      <td>344.0</td>\n",
       "      <td>344</td>\n",
       "      <td>345</td>\n",
       "      <td>347</td>\n",
       "      <td>346</td>\n",
       "      <td>347</td>\n",
       "      <td>344</td>\n",
       "      <td>348</td>\n",
       "      <td>346</td>\n",
       "      <td>346</td>\n",
       "      <td>348</td>\n",
       "      <td>345</td>\n",
       "      <td>345</td>\n",
       "      <td>347</td>\n",
       "      <td>348</td>\n",
       "      <td>348</td>\n",
       "    </tr>\n",
       "    <tr>\n",
       "      <th>unique</th>\n",
       "      <td>2</td>\n",
       "      <td>2.0</td>\n",
       "      <td>2</td>\n",
       "      <td>2</td>\n",
       "      <td>2</td>\n",
       "      <td>3</td>\n",
       "      <td>3</td>\n",
       "      <td>3</td>\n",
       "      <td>3</td>\n",
       "      <td>3</td>\n",
       "      <td>3</td>\n",
       "      <td>3</td>\n",
       "      <td>3</td>\n",
       "      <td>3</td>\n",
       "      <td>2</td>\n",
       "      <td>4</td>\n",
       "      <td>2</td>\n",
       "    </tr>\n",
       "    <tr>\n",
       "      <th>top</th>\n",
       "      <td>Male</td>\n",
       "      <td>0.0</td>\n",
       "      <td>No</td>\n",
       "      <td>No</td>\n",
       "      <td>Yes</td>\n",
       "      <td>No</td>\n",
       "      <td>Fiber optic</td>\n",
       "      <td>No</td>\n",
       "      <td>No</td>\n",
       "      <td>No</td>\n",
       "      <td>No</td>\n",
       "      <td>No</td>\n",
       "      <td>Yes</td>\n",
       "      <td>Month-to-month</td>\n",
       "      <td>Yes</td>\n",
       "      <td>Electronic check</td>\n",
       "      <td>No</td>\n",
       "    </tr>\n",
       "    <tr>\n",
       "      <th>freq</th>\n",
       "      <td>192</td>\n",
       "      <td>271.0</td>\n",
       "      <td>181</td>\n",
       "      <td>263</td>\n",
       "      <td>315</td>\n",
       "      <td>178</td>\n",
       "      <td>151</td>\n",
       "      <td>155</td>\n",
       "      <td>155</td>\n",
       "      <td>147</td>\n",
       "      <td>175</td>\n",
       "      <td>133</td>\n",
       "      <td>140</td>\n",
       "      <td>192</td>\n",
       "      <td>200</td>\n",
       "      <td>110</td>\n",
       "      <td>255</td>\n",
       "    </tr>\n",
       "  </tbody>\n",
       "</table>\n",
       "</div>"
      ],
      "text/plain": [
       "       GENDER  SENIORCITIZEN PARTNER DEPENDENTS PHONESERVICE MULTIPLELINES  \\\n",
       "count     347          344.0     344        345          347           346   \n",
       "unique      2            2.0       2          2            2             3   \n",
       "top      Male            0.0      No         No          Yes            No   \n",
       "freq      192          271.0     181        263          315           178   \n",
       "\n",
       "       INTERNETSERVICE ONLINESECURITY ONLINEBACKUP DEVICEPROTECTION  \\\n",
       "count              347            344          348              346   \n",
       "unique               3              3            3                3   \n",
       "top        Fiber optic             No           No               No   \n",
       "freq               151            155          155              147   \n",
       "\n",
       "       TECHSUPPORT STREAMINGTV STREAMINGMOVIES        CONTRACT  \\\n",
       "count          346         348             345             345   \n",
       "unique           3           3               3               3   \n",
       "top             No          No             Yes  Month-to-month   \n",
       "freq           175         133             140             192   \n",
       "\n",
       "       PAPERLESSBILLING     PAYMENTMETHOD CHURN  \n",
       "count               347               348   348  \n",
       "unique                2                 4     2  \n",
       "top                 Yes  Electronic check    No  \n",
       "freq                200               110   255  "
      ]
     },
     "metadata": {},
     "output_type": "display_data"
    }
   ],
   "source": [
    "categorical_features = [\n",
    "    \"GENDER\",\n",
    "    \"SENIORCITIZEN\",\n",
    "    \"PARTNER\",\n",
    "    \"DEPENDENTS\",\n",
    "    \"PHONESERVICE\",\n",
    "    \"MULTIPLELINES\",\n",
    "    \"INTERNETSERVICE\",\n",
    "    \"ONLINESECURITY\",\n",
    "    \"ONLINEBACKUP\",\n",
    "    \"DEVICEPROTECTION\",\n",
    "    \"TECHSUPPORT\",\n",
    "    \"STREAMINGTV\",\n",
    "    \"STREAMINGMOVIES\",\n",
    "    \"CONTRACT\",\n",
    "    \"PAPERLESSBILLING\",\n",
    "    \"PAYMENTMETHOD\",\n",
    "    # 'CHURN',  # This is the binary target, not a feature\n",
    "]\n",
    "\n",
    "\n",
    "def cat_mapper(df):\n",
    "    return df.astype(\"category\")\n",
    "\n",
    "\n",
    "categorical_transformer = Pipeline(\n",
    "    steps=[\n",
    "        (\"to_categorical\", FunctionTransformer(cat_mapper)),\n",
    "    ]\n",
    ")\n",
    "\n",
    "df_train_cat = categorical_transformer.fit_transform(\n",
    "    df_train[categorical_features + [target]]\n",
    ")\n",
    "\n",
    "with pd.option_context(\"display.max_columns\", None):\n",
    "    display(df_train_cat.describe())"
   ]
  },
  {
   "cell_type": "code",
   "execution_count": 12,
   "metadata": {
    "id": "g5uQwNRcBK93"
   },
   "outputs": [],
   "source": [
    "def display_value_counts(df):\n",
    "    for col in df:\n",
    "        print(f\"{col}:\")\n",
    "        display(\n",
    "            df[col]\n",
    "            .value_counts()\n",
    "            .reset_index()\n",
    "            .sort_values([col, \"index\"], ascending=False)\n",
    "            .rename(columns={col: \"Quantidade\", \"index\": \"Valor\"})\n",
    "            .set_index(\"Valor\")\n",
    "            .T\n",
    "        )"
   ]
  },
  {
   "cell_type": "markdown",
   "metadata": {
    "id": "L2NxSBuUBK93"
   },
   "source": [
    "Estes são os valores que as variáveis categóricas assumem:"
   ]
  },
  {
   "cell_type": "code",
   "execution_count": 13,
   "metadata": {
    "colab": {
     "base_uri": "https://localhost:8080/",
     "height": 1000
    },
    "id": "fy_oHA3nBK93",
    "outputId": "048ce7f0-9355-4fa5-c135-cc711a42ac37"
   },
   "outputs": [
    {
     "name": "stdout",
     "output_type": "stream",
     "text": [
      "GENDER:\n"
     ]
    },
    {
     "data": {
      "text/html": [
       "<div>\n",
       "<style scoped>\n",
       "    .dataframe tbody tr th:only-of-type {\n",
       "        vertical-align: middle;\n",
       "    }\n",
       "\n",
       "    .dataframe tbody tr th {\n",
       "        vertical-align: top;\n",
       "    }\n",
       "\n",
       "    .dataframe thead th {\n",
       "        text-align: right;\n",
       "    }\n",
       "</style>\n",
       "<table border=\"1\" class=\"dataframe\">\n",
       "  <thead>\n",
       "    <tr style=\"text-align: right;\">\n",
       "      <th>Valor</th>\n",
       "      <th>Male</th>\n",
       "      <th>Female</th>\n",
       "    </tr>\n",
       "  </thead>\n",
       "  <tbody>\n",
       "    <tr>\n",
       "      <th>Quantidade</th>\n",
       "      <td>192</td>\n",
       "      <td>155</td>\n",
       "    </tr>\n",
       "  </tbody>\n",
       "</table>\n",
       "</div>"
      ],
      "text/plain": [
       "Valor       Male  Female\n",
       "Quantidade   192     155"
      ]
     },
     "metadata": {},
     "output_type": "display_data"
    },
    {
     "name": "stdout",
     "output_type": "stream",
     "text": [
      "SENIORCITIZEN:\n"
     ]
    },
    {
     "data": {
      "text/html": [
       "<div>\n",
       "<style scoped>\n",
       "    .dataframe tbody tr th:only-of-type {\n",
       "        vertical-align: middle;\n",
       "    }\n",
       "\n",
       "    .dataframe tbody tr th {\n",
       "        vertical-align: top;\n",
       "    }\n",
       "\n",
       "    .dataframe thead th {\n",
       "        text-align: right;\n",
       "    }\n",
       "</style>\n",
       "<table border=\"1\" class=\"dataframe\">\n",
       "  <thead>\n",
       "    <tr style=\"text-align: right;\">\n",
       "      <th>Valor</th>\n",
       "      <th>0.0</th>\n",
       "      <th>1.0</th>\n",
       "    </tr>\n",
       "  </thead>\n",
       "  <tbody>\n",
       "    <tr>\n",
       "      <th>Quantidade</th>\n",
       "      <td>271</td>\n",
       "      <td>73</td>\n",
       "    </tr>\n",
       "  </tbody>\n",
       "</table>\n",
       "</div>"
      ],
      "text/plain": [
       "Valor       0.0  1.0\n",
       "Quantidade  271   73"
      ]
     },
     "metadata": {},
     "output_type": "display_data"
    },
    {
     "name": "stdout",
     "output_type": "stream",
     "text": [
      "PARTNER:\n"
     ]
    },
    {
     "data": {
      "text/html": [
       "<div>\n",
       "<style scoped>\n",
       "    .dataframe tbody tr th:only-of-type {\n",
       "        vertical-align: middle;\n",
       "    }\n",
       "\n",
       "    .dataframe tbody tr th {\n",
       "        vertical-align: top;\n",
       "    }\n",
       "\n",
       "    .dataframe thead th {\n",
       "        text-align: right;\n",
       "    }\n",
       "</style>\n",
       "<table border=\"1\" class=\"dataframe\">\n",
       "  <thead>\n",
       "    <tr style=\"text-align: right;\">\n",
       "      <th>Valor</th>\n",
       "      <th>No</th>\n",
       "      <th>Yes</th>\n",
       "    </tr>\n",
       "  </thead>\n",
       "  <tbody>\n",
       "    <tr>\n",
       "      <th>Quantidade</th>\n",
       "      <td>181</td>\n",
       "      <td>163</td>\n",
       "    </tr>\n",
       "  </tbody>\n",
       "</table>\n",
       "</div>"
      ],
      "text/plain": [
       "Valor        No  Yes\n",
       "Quantidade  181  163"
      ]
     },
     "metadata": {},
     "output_type": "display_data"
    },
    {
     "name": "stdout",
     "output_type": "stream",
     "text": [
      "DEPENDENTS:\n"
     ]
    },
    {
     "data": {
      "text/html": [
       "<div>\n",
       "<style scoped>\n",
       "    .dataframe tbody tr th:only-of-type {\n",
       "        vertical-align: middle;\n",
       "    }\n",
       "\n",
       "    .dataframe tbody tr th {\n",
       "        vertical-align: top;\n",
       "    }\n",
       "\n",
       "    .dataframe thead th {\n",
       "        text-align: right;\n",
       "    }\n",
       "</style>\n",
       "<table border=\"1\" class=\"dataframe\">\n",
       "  <thead>\n",
       "    <tr style=\"text-align: right;\">\n",
       "      <th>Valor</th>\n",
       "      <th>No</th>\n",
       "      <th>Yes</th>\n",
       "    </tr>\n",
       "  </thead>\n",
       "  <tbody>\n",
       "    <tr>\n",
       "      <th>Quantidade</th>\n",
       "      <td>263</td>\n",
       "      <td>82</td>\n",
       "    </tr>\n",
       "  </tbody>\n",
       "</table>\n",
       "</div>"
      ],
      "text/plain": [
       "Valor        No  Yes\n",
       "Quantidade  263   82"
      ]
     },
     "metadata": {},
     "output_type": "display_data"
    },
    {
     "name": "stdout",
     "output_type": "stream",
     "text": [
      "PHONESERVICE:\n"
     ]
    },
    {
     "data": {
      "text/html": [
       "<div>\n",
       "<style scoped>\n",
       "    .dataframe tbody tr th:only-of-type {\n",
       "        vertical-align: middle;\n",
       "    }\n",
       "\n",
       "    .dataframe tbody tr th {\n",
       "        vertical-align: top;\n",
       "    }\n",
       "\n",
       "    .dataframe thead th {\n",
       "        text-align: right;\n",
       "    }\n",
       "</style>\n",
       "<table border=\"1\" class=\"dataframe\">\n",
       "  <thead>\n",
       "    <tr style=\"text-align: right;\">\n",
       "      <th>Valor</th>\n",
       "      <th>Yes</th>\n",
       "      <th>No</th>\n",
       "    </tr>\n",
       "  </thead>\n",
       "  <tbody>\n",
       "    <tr>\n",
       "      <th>Quantidade</th>\n",
       "      <td>315</td>\n",
       "      <td>32</td>\n",
       "    </tr>\n",
       "  </tbody>\n",
       "</table>\n",
       "</div>"
      ],
      "text/plain": [
       "Valor       Yes  No\n",
       "Quantidade  315  32"
      ]
     },
     "metadata": {},
     "output_type": "display_data"
    },
    {
     "name": "stdout",
     "output_type": "stream",
     "text": [
      "MULTIPLELINES:\n"
     ]
    },
    {
     "data": {
      "text/html": [
       "<div>\n",
       "<style scoped>\n",
       "    .dataframe tbody tr th:only-of-type {\n",
       "        vertical-align: middle;\n",
       "    }\n",
       "\n",
       "    .dataframe tbody tr th {\n",
       "        vertical-align: top;\n",
       "    }\n",
       "\n",
       "    .dataframe thead th {\n",
       "        text-align: right;\n",
       "    }\n",
       "</style>\n",
       "<table border=\"1\" class=\"dataframe\">\n",
       "  <thead>\n",
       "    <tr style=\"text-align: right;\">\n",
       "      <th>Valor</th>\n",
       "      <th>No</th>\n",
       "      <th>Yes</th>\n",
       "      <th>No phone service</th>\n",
       "    </tr>\n",
       "  </thead>\n",
       "  <tbody>\n",
       "    <tr>\n",
       "      <th>Quantidade</th>\n",
       "      <td>178</td>\n",
       "      <td>137</td>\n",
       "      <td>31</td>\n",
       "    </tr>\n",
       "  </tbody>\n",
       "</table>\n",
       "</div>"
      ],
      "text/plain": [
       "Valor        No  Yes  No phone service\n",
       "Quantidade  178  137                31"
      ]
     },
     "metadata": {},
     "output_type": "display_data"
    },
    {
     "name": "stdout",
     "output_type": "stream",
     "text": [
      "INTERNETSERVICE:\n"
     ]
    },
    {
     "data": {
      "text/html": [
       "<div>\n",
       "<style scoped>\n",
       "    .dataframe tbody tr th:only-of-type {\n",
       "        vertical-align: middle;\n",
       "    }\n",
       "\n",
       "    .dataframe tbody tr th {\n",
       "        vertical-align: top;\n",
       "    }\n",
       "\n",
       "    .dataframe thead th {\n",
       "        text-align: right;\n",
       "    }\n",
       "</style>\n",
       "<table border=\"1\" class=\"dataframe\">\n",
       "  <thead>\n",
       "    <tr style=\"text-align: right;\">\n",
       "      <th>Valor</th>\n",
       "      <th>Fiber optic</th>\n",
       "      <th>DSL</th>\n",
       "      <th>No</th>\n",
       "    </tr>\n",
       "  </thead>\n",
       "  <tbody>\n",
       "    <tr>\n",
       "      <th>Quantidade</th>\n",
       "      <td>151</td>\n",
       "      <td>113</td>\n",
       "      <td>83</td>\n",
       "    </tr>\n",
       "  </tbody>\n",
       "</table>\n",
       "</div>"
      ],
      "text/plain": [
       "Valor       Fiber optic  DSL  No\n",
       "Quantidade          151  113  83"
      ]
     },
     "metadata": {},
     "output_type": "display_data"
    },
    {
     "name": "stdout",
     "output_type": "stream",
     "text": [
      "ONLINESECURITY:\n"
     ]
    },
    {
     "data": {
      "text/html": [
       "<div>\n",
       "<style scoped>\n",
       "    .dataframe tbody tr th:only-of-type {\n",
       "        vertical-align: middle;\n",
       "    }\n",
       "\n",
       "    .dataframe tbody tr th {\n",
       "        vertical-align: top;\n",
       "    }\n",
       "\n",
       "    .dataframe thead th {\n",
       "        text-align: right;\n",
       "    }\n",
       "</style>\n",
       "<table border=\"1\" class=\"dataframe\">\n",
       "  <thead>\n",
       "    <tr style=\"text-align: right;\">\n",
       "      <th>Valor</th>\n",
       "      <th>No</th>\n",
       "      <th>Yes</th>\n",
       "      <th>No internet service</th>\n",
       "    </tr>\n",
       "  </thead>\n",
       "  <tbody>\n",
       "    <tr>\n",
       "      <th>Quantidade</th>\n",
       "      <td>155</td>\n",
       "      <td>106</td>\n",
       "      <td>83</td>\n",
       "    </tr>\n",
       "  </tbody>\n",
       "</table>\n",
       "</div>"
      ],
      "text/plain": [
       "Valor        No  Yes  No internet service\n",
       "Quantidade  155  106                   83"
      ]
     },
     "metadata": {},
     "output_type": "display_data"
    },
    {
     "name": "stdout",
     "output_type": "stream",
     "text": [
      "ONLINEBACKUP:\n"
     ]
    },
    {
     "data": {
      "text/html": [
       "<div>\n",
       "<style scoped>\n",
       "    .dataframe tbody tr th:only-of-type {\n",
       "        vertical-align: middle;\n",
       "    }\n",
       "\n",
       "    .dataframe tbody tr th {\n",
       "        vertical-align: top;\n",
       "    }\n",
       "\n",
       "    .dataframe thead th {\n",
       "        text-align: right;\n",
       "    }\n",
       "</style>\n",
       "<table border=\"1\" class=\"dataframe\">\n",
       "  <thead>\n",
       "    <tr style=\"text-align: right;\">\n",
       "      <th>Valor</th>\n",
       "      <th>No</th>\n",
       "      <th>Yes</th>\n",
       "      <th>No internet service</th>\n",
       "    </tr>\n",
       "  </thead>\n",
       "  <tbody>\n",
       "    <tr>\n",
       "      <th>Quantidade</th>\n",
       "      <td>155</td>\n",
       "      <td>110</td>\n",
       "      <td>83</td>\n",
       "    </tr>\n",
       "  </tbody>\n",
       "</table>\n",
       "</div>"
      ],
      "text/plain": [
       "Valor        No  Yes  No internet service\n",
       "Quantidade  155  110                   83"
      ]
     },
     "metadata": {},
     "output_type": "display_data"
    },
    {
     "name": "stdout",
     "output_type": "stream",
     "text": [
      "DEVICEPROTECTION:\n"
     ]
    },
    {
     "data": {
      "text/html": [
       "<div>\n",
       "<style scoped>\n",
       "    .dataframe tbody tr th:only-of-type {\n",
       "        vertical-align: middle;\n",
       "    }\n",
       "\n",
       "    .dataframe tbody tr th {\n",
       "        vertical-align: top;\n",
       "    }\n",
       "\n",
       "    .dataframe thead th {\n",
       "        text-align: right;\n",
       "    }\n",
       "</style>\n",
       "<table border=\"1\" class=\"dataframe\">\n",
       "  <thead>\n",
       "    <tr style=\"text-align: right;\">\n",
       "      <th>Valor</th>\n",
       "      <th>No</th>\n",
       "      <th>Yes</th>\n",
       "      <th>No internet service</th>\n",
       "    </tr>\n",
       "  </thead>\n",
       "  <tbody>\n",
       "    <tr>\n",
       "      <th>Quantidade</th>\n",
       "      <td>147</td>\n",
       "      <td>117</td>\n",
       "      <td>82</td>\n",
       "    </tr>\n",
       "  </tbody>\n",
       "</table>\n",
       "</div>"
      ],
      "text/plain": [
       "Valor        No  Yes  No internet service\n",
       "Quantidade  147  117                   82"
      ]
     },
     "metadata": {},
     "output_type": "display_data"
    },
    {
     "name": "stdout",
     "output_type": "stream",
     "text": [
      "TECHSUPPORT:\n"
     ]
    },
    {
     "data": {
      "text/html": [
       "<div>\n",
       "<style scoped>\n",
       "    .dataframe tbody tr th:only-of-type {\n",
       "        vertical-align: middle;\n",
       "    }\n",
       "\n",
       "    .dataframe tbody tr th {\n",
       "        vertical-align: top;\n",
       "    }\n",
       "\n",
       "    .dataframe thead th {\n",
       "        text-align: right;\n",
       "    }\n",
       "</style>\n",
       "<table border=\"1\" class=\"dataframe\">\n",
       "  <thead>\n",
       "    <tr style=\"text-align: right;\">\n",
       "      <th>Valor</th>\n",
       "      <th>No</th>\n",
       "      <th>Yes</th>\n",
       "      <th>No internet service</th>\n",
       "    </tr>\n",
       "  </thead>\n",
       "  <tbody>\n",
       "    <tr>\n",
       "      <th>Quantidade</th>\n",
       "      <td>175</td>\n",
       "      <td>88</td>\n",
       "      <td>83</td>\n",
       "    </tr>\n",
       "  </tbody>\n",
       "</table>\n",
       "</div>"
      ],
      "text/plain": [
       "Valor        No  Yes  No internet service\n",
       "Quantidade  175   88                   83"
      ]
     },
     "metadata": {},
     "output_type": "display_data"
    },
    {
     "name": "stdout",
     "output_type": "stream",
     "text": [
      "STREAMINGTV:\n"
     ]
    },
    {
     "data": {
      "text/html": [
       "<div>\n",
       "<style scoped>\n",
       "    .dataframe tbody tr th:only-of-type {\n",
       "        vertical-align: middle;\n",
       "    }\n",
       "\n",
       "    .dataframe tbody tr th {\n",
       "        vertical-align: top;\n",
       "    }\n",
       "\n",
       "    .dataframe thead th {\n",
       "        text-align: right;\n",
       "    }\n",
       "</style>\n",
       "<table border=\"1\" class=\"dataframe\">\n",
       "  <thead>\n",
       "    <tr style=\"text-align: right;\">\n",
       "      <th>Valor</th>\n",
       "      <th>No</th>\n",
       "      <th>Yes</th>\n",
       "      <th>No internet service</th>\n",
       "    </tr>\n",
       "  </thead>\n",
       "  <tbody>\n",
       "    <tr>\n",
       "      <th>Quantidade</th>\n",
       "      <td>133</td>\n",
       "      <td>132</td>\n",
       "      <td>83</td>\n",
       "    </tr>\n",
       "  </tbody>\n",
       "</table>\n",
       "</div>"
      ],
      "text/plain": [
       "Valor        No  Yes  No internet service\n",
       "Quantidade  133  132                   83"
      ]
     },
     "metadata": {},
     "output_type": "display_data"
    },
    {
     "name": "stdout",
     "output_type": "stream",
     "text": [
      "STREAMINGMOVIES:\n"
     ]
    },
    {
     "data": {
      "text/html": [
       "<div>\n",
       "<style scoped>\n",
       "    .dataframe tbody tr th:only-of-type {\n",
       "        vertical-align: middle;\n",
       "    }\n",
       "\n",
       "    .dataframe tbody tr th {\n",
       "        vertical-align: top;\n",
       "    }\n",
       "\n",
       "    .dataframe thead th {\n",
       "        text-align: right;\n",
       "    }\n",
       "</style>\n",
       "<table border=\"1\" class=\"dataframe\">\n",
       "  <thead>\n",
       "    <tr style=\"text-align: right;\">\n",
       "      <th>Valor</th>\n",
       "      <th>Yes</th>\n",
       "      <th>No</th>\n",
       "      <th>No internet service</th>\n",
       "    </tr>\n",
       "  </thead>\n",
       "  <tbody>\n",
       "    <tr>\n",
       "      <th>Quantidade</th>\n",
       "      <td>140</td>\n",
       "      <td>124</td>\n",
       "      <td>81</td>\n",
       "    </tr>\n",
       "  </tbody>\n",
       "</table>\n",
       "</div>"
      ],
      "text/plain": [
       "Valor       Yes   No  No internet service\n",
       "Quantidade  140  124                   81"
      ]
     },
     "metadata": {},
     "output_type": "display_data"
    },
    {
     "name": "stdout",
     "output_type": "stream",
     "text": [
      "CONTRACT:\n"
     ]
    },
    {
     "data": {
      "text/html": [
       "<div>\n",
       "<style scoped>\n",
       "    .dataframe tbody tr th:only-of-type {\n",
       "        vertical-align: middle;\n",
       "    }\n",
       "\n",
       "    .dataframe tbody tr th {\n",
       "        vertical-align: top;\n",
       "    }\n",
       "\n",
       "    .dataframe thead th {\n",
       "        text-align: right;\n",
       "    }\n",
       "</style>\n",
       "<table border=\"1\" class=\"dataframe\">\n",
       "  <thead>\n",
       "    <tr style=\"text-align: right;\">\n",
       "      <th>Valor</th>\n",
       "      <th>Month-to-month</th>\n",
       "      <th>One year</th>\n",
       "      <th>Two year</th>\n",
       "    </tr>\n",
       "  </thead>\n",
       "  <tbody>\n",
       "    <tr>\n",
       "      <th>Quantidade</th>\n",
       "      <td>192</td>\n",
       "      <td>81</td>\n",
       "      <td>72</td>\n",
       "    </tr>\n",
       "  </tbody>\n",
       "</table>\n",
       "</div>"
      ],
      "text/plain": [
       "Valor       Month-to-month  One year  Two year\n",
       "Quantidade             192        81        72"
      ]
     },
     "metadata": {},
     "output_type": "display_data"
    },
    {
     "name": "stdout",
     "output_type": "stream",
     "text": [
      "PAPERLESSBILLING:\n"
     ]
    },
    {
     "data": {
      "text/html": [
       "<div>\n",
       "<style scoped>\n",
       "    .dataframe tbody tr th:only-of-type {\n",
       "        vertical-align: middle;\n",
       "    }\n",
       "\n",
       "    .dataframe tbody tr th {\n",
       "        vertical-align: top;\n",
       "    }\n",
       "\n",
       "    .dataframe thead th {\n",
       "        text-align: right;\n",
       "    }\n",
       "</style>\n",
       "<table border=\"1\" class=\"dataframe\">\n",
       "  <thead>\n",
       "    <tr style=\"text-align: right;\">\n",
       "      <th>Valor</th>\n",
       "      <th>Yes</th>\n",
       "      <th>No</th>\n",
       "    </tr>\n",
       "  </thead>\n",
       "  <tbody>\n",
       "    <tr>\n",
       "      <th>Quantidade</th>\n",
       "      <td>200</td>\n",
       "      <td>147</td>\n",
       "    </tr>\n",
       "  </tbody>\n",
       "</table>\n",
       "</div>"
      ],
      "text/plain": [
       "Valor       Yes   No\n",
       "Quantidade  200  147"
      ]
     },
     "metadata": {},
     "output_type": "display_data"
    },
    {
     "name": "stdout",
     "output_type": "stream",
     "text": [
      "PAYMENTMETHOD:\n"
     ]
    },
    {
     "data": {
      "text/html": [
       "<div>\n",
       "<style scoped>\n",
       "    .dataframe tbody tr th:only-of-type {\n",
       "        vertical-align: middle;\n",
       "    }\n",
       "\n",
       "    .dataframe tbody tr th {\n",
       "        vertical-align: top;\n",
       "    }\n",
       "\n",
       "    .dataframe thead th {\n",
       "        text-align: right;\n",
       "    }\n",
       "</style>\n",
       "<table border=\"1\" class=\"dataframe\">\n",
       "  <thead>\n",
       "    <tr style=\"text-align: right;\">\n",
       "      <th>Valor</th>\n",
       "      <th>Electronic check</th>\n",
       "      <th>Mailed check</th>\n",
       "      <th>Bank transfer (automatic)</th>\n",
       "      <th>Credit card (automatic)</th>\n",
       "    </tr>\n",
       "  </thead>\n",
       "  <tbody>\n",
       "    <tr>\n",
       "      <th>Quantidade</th>\n",
       "      <td>110</td>\n",
       "      <td>95</td>\n",
       "      <td>77</td>\n",
       "      <td>66</td>\n",
       "    </tr>\n",
       "  </tbody>\n",
       "</table>\n",
       "</div>"
      ],
      "text/plain": [
       "Valor       Electronic check  Mailed check  Bank transfer (automatic)  \\\n",
       "Quantidade               110            95                         77   \n",
       "\n",
       "Valor       Credit card (automatic)  \n",
       "Quantidade                       66  "
      ]
     },
     "metadata": {},
     "output_type": "display_data"
    }
   ],
   "source": [
    "display_value_counts(df_train[categorical_features])"
   ]
  },
  {
   "cell_type": "markdown",
   "metadata": {
    "id": "zwkzmbXtBK94"
   },
   "source": [
    "Observações:\n",
    "- Antes de serem utilizadas por um modelo, será conveniente converter essas variáveis em valores numéricos usando \"One-Hot-Encoding\".\n",
    "- Como há valores faltantes para essas variáveis (vide [informações gerais](#Informações-gerais)), será importante imputar algum valor (por exemplo, o que for mais frequente em cada coluna)"
   ]
  },
  {
   "cell_type": "markdown",
   "metadata": {
    "id": "32_K4JjjBK94",
    "jp-MarkdownHeadingCollapsed": true,
    "tags": []
   },
   "source": [
    "### Variáveis numéricas"
   ]
  },
  {
   "cell_type": "markdown",
   "metadata": {
    "id": "GJBa4vbKBK94"
   },
   "source": [
    "Por hora, apenas para visualizar estatísticas sobre os valores numéricos, valores textuais nessas colunas serão trocados por `NaN` usando um *transformer* personalizado:"
   ]
  },
  {
   "cell_type": "code",
   "execution_count": 14,
   "metadata": {
    "colab": {
     "base_uri": "https://localhost:8080/",
     "height": 300
    },
    "id": "wXu9WeY-BK94",
    "outputId": "e1d00849-1b73-4e9d-c629-b57a755e3c4e"
   },
   "outputs": [
    {
     "data": {
      "text/html": [
       "<div>\n",
       "<style scoped>\n",
       "    .dataframe tbody tr th:only-of-type {\n",
       "        vertical-align: middle;\n",
       "    }\n",
       "\n",
       "    .dataframe tbody tr th {\n",
       "        vertical-align: top;\n",
       "    }\n",
       "\n",
       "    .dataframe thead th {\n",
       "        text-align: right;\n",
       "    }\n",
       "</style>\n",
       "<table border=\"1\" class=\"dataframe\">\n",
       "  <thead>\n",
       "    <tr style=\"text-align: right;\">\n",
       "      <th></th>\n",
       "      <th>ID</th>\n",
       "      <th>MONTHLYCHARGES</th>\n",
       "      <th>TENURE</th>\n",
       "      <th>TOTALCHARGES</th>\n",
       "    </tr>\n",
       "  </thead>\n",
       "  <tbody>\n",
       "    <tr>\n",
       "      <th>count</th>\n",
       "      <td>348.000000</td>\n",
       "      <td>343.000000</td>\n",
       "      <td>348.000000</td>\n",
       "      <td>348.000000</td>\n",
       "    </tr>\n",
       "    <tr>\n",
       "      <th>mean</th>\n",
       "      <td>5703.732759</td>\n",
       "      <td>93.247551</td>\n",
       "      <td>30.905172</td>\n",
       "      <td>2193.656983</td>\n",
       "    </tr>\n",
       "    <tr>\n",
       "      <th>std</th>\n",
       "      <td>2667.166073</td>\n",
       "      <td>75.155158</td>\n",
       "      <td>24.044859</td>\n",
       "      <td>2239.585642</td>\n",
       "    </tr>\n",
       "    <tr>\n",
       "      <th>min</th>\n",
       "      <td>1009.000000</td>\n",
       "      <td>0.260000</td>\n",
       "      <td>1.000000</td>\n",
       "      <td>0.360000</td>\n",
       "    </tr>\n",
       "    <tr>\n",
       "      <th>25%</th>\n",
       "      <td>3328.500000</td>\n",
       "      <td>32.505000</td>\n",
       "      <td>7.000000</td>\n",
       "      <td>364.325000</td>\n",
       "    </tr>\n",
       "    <tr>\n",
       "      <th>50%</th>\n",
       "      <td>5904.000000</td>\n",
       "      <td>69.350000</td>\n",
       "      <td>27.000000</td>\n",
       "      <td>1240.630000</td>\n",
       "    </tr>\n",
       "    <tr>\n",
       "      <th>75%</th>\n",
       "      <td>8084.750000</td>\n",
       "      <td>142.685000</td>\n",
       "      <td>52.250000</td>\n",
       "      <td>3536.375000</td>\n",
       "    </tr>\n",
       "    <tr>\n",
       "      <th>max</th>\n",
       "      <td>9997.000000</td>\n",
       "      <td>313.530000</td>\n",
       "      <td>72.000000</td>\n",
       "      <td>8051.960000</td>\n",
       "    </tr>\n",
       "  </tbody>\n",
       "</table>\n",
       "</div>"
      ],
      "text/plain": [
       "                ID  MONTHLYCHARGES      TENURE  TOTALCHARGES\n",
       "count   348.000000      343.000000  348.000000    348.000000\n",
       "mean   5703.732759       93.247551   30.905172   2193.656983\n",
       "std    2667.166073       75.155158   24.044859   2239.585642\n",
       "min    1009.000000        0.260000    1.000000      0.360000\n",
       "25%    3328.500000       32.505000    7.000000    364.325000\n",
       "50%    5904.000000       69.350000   27.000000   1240.630000\n",
       "75%    8084.750000      142.685000   52.250000   3536.375000\n",
       "max    9997.000000      313.530000   72.000000   8051.960000"
      ]
     },
     "metadata": {},
     "output_type": "display_data"
    }
   ],
   "source": [
    "numeric_features = [\n",
    "    # 'ID',  # This is just an identifier, not a feature\n",
    "    \"MONTHLYCHARGES\",\n",
    "    \"TENURE\",\n",
    "    \"TOTALCHARGES\",\n",
    "]\n",
    "\n",
    "\n",
    "def num_mapper(df):\n",
    "    def col_mapper(col):\n",
    "        return pd.to_numeric(col, errors=\"coerce\")\n",
    "\n",
    "    return df.apply(col_mapper)\n",
    "\n",
    "\n",
    "numeric_transformer = Pipeline(\n",
    "    steps=[\n",
    "        (\"to_numeric\", FunctionTransformer(num_mapper)),\n",
    "    ]\n",
    ")\n",
    "\n",
    "df_train_num = numeric_transformer.fit_transform(df_train[[\"ID\"] + numeric_features])\n",
    "\n",
    "df_train_clean = pd.concat([df_train_cat, df_train_num], axis=1)[\n",
    "    df_train.columns\n",
    "].copy()\n",
    "\n",
    "with pd.option_context(\"display.max_columns\", None):\n",
    "    display(df_train_num.describe())"
   ]
  },
  {
   "cell_type": "markdown",
   "metadata": {
    "id": "oXJc6cw6BK95"
   },
   "source": [
    "Estes são os valores que as variáveis numéricas assumem:"
   ]
  },
  {
   "cell_type": "code",
   "execution_count": 15,
   "metadata": {
    "colab": {
     "base_uri": "https://localhost:8080/",
     "height": 459
    },
    "id": "OoNeRL8JBK95",
    "outputId": "81940ecb-54a2-40fb-abbc-780d3518d916"
   },
   "outputs": [
    {
     "name": "stdout",
     "output_type": "stream",
     "text": [
      "ID:\n"
     ]
    },
    {
     "data": {
      "text/html": [
       "<div>\n",
       "<style scoped>\n",
       "    .dataframe tbody tr th:only-of-type {\n",
       "        vertical-align: middle;\n",
       "    }\n",
       "\n",
       "    .dataframe tbody tr th {\n",
       "        vertical-align: top;\n",
       "    }\n",
       "\n",
       "    .dataframe thead th {\n",
       "        text-align: right;\n",
       "    }\n",
       "</style>\n",
       "<table border=\"1\" class=\"dataframe\">\n",
       "  <thead>\n",
       "    <tr style=\"text-align: right;\">\n",
       "      <th>Valor</th>\n",
       "      <th>9997</th>\n",
       "      <th>9953</th>\n",
       "      <th>9948</th>\n",
       "      <th>...</th>\n",
       "      <th>1101</th>\n",
       "      <th>1089</th>\n",
       "      <th>1009</th>\n",
       "    </tr>\n",
       "  </thead>\n",
       "  <tbody>\n",
       "    <tr>\n",
       "      <th>Quantidade</th>\n",
       "      <td>1</td>\n",
       "      <td>1</td>\n",
       "      <td>1</td>\n",
       "      <td>...</td>\n",
       "      <td>1</td>\n",
       "      <td>1</td>\n",
       "      <td>1</td>\n",
       "    </tr>\n",
       "  </tbody>\n",
       "</table>\n",
       "<p>1 rows × 348 columns</p>\n",
       "</div>"
      ],
      "text/plain": [
       "Valor       9997  9953  9948  ...  1101  1089  1009\n",
       "Quantidade     1     1     1  ...     1     1     1\n",
       "\n",
       "[1 rows x 348 columns]"
      ]
     },
     "metadata": {},
     "output_type": "display_data"
    },
    {
     "name": "stdout",
     "output_type": "stream",
     "text": [
      "MONTHLYCHARGES:\n"
     ]
    },
    {
     "data": {
      "text/html": [
       "<div>\n",
       "<style scoped>\n",
       "    .dataframe tbody tr th:only-of-type {\n",
       "        vertical-align: middle;\n",
       "    }\n",
       "\n",
       "    .dataframe tbody tr th {\n",
       "        vertical-align: top;\n",
       "    }\n",
       "\n",
       "    .dataframe thead th {\n",
       "        text-align: right;\n",
       "    }\n",
       "</style>\n",
       "<table border=\"1\" class=\"dataframe\">\n",
       "  <thead>\n",
       "    <tr style=\"text-align: right;\">\n",
       "      <th>Valor</th>\n",
       "      <th>60.89</th>\n",
       "      <th>17.11</th>\n",
       "      <th>313.53</th>\n",
       "      <th>...</th>\n",
       "      <th>1.53</th>\n",
       "      <th>0.36</th>\n",
       "      <th>0.26</th>\n",
       "    </tr>\n",
       "  </thead>\n",
       "  <tbody>\n",
       "    <tr>\n",
       "      <th>Quantidade</th>\n",
       "      <td>2</td>\n",
       "      <td>2</td>\n",
       "      <td>1</td>\n",
       "      <td>...</td>\n",
       "      <td>1</td>\n",
       "      <td>1</td>\n",
       "      <td>1</td>\n",
       "    </tr>\n",
       "  </tbody>\n",
       "</table>\n",
       "<p>1 rows × 341 columns</p>\n",
       "</div>"
      ],
      "text/plain": [
       "Valor       60.89   17.11   313.53  ...  1.53    0.36    0.26  \n",
       "Quantidade       2       2       1  ...       1       1       1\n",
       "\n",
       "[1 rows x 341 columns]"
      ]
     },
     "metadata": {},
     "output_type": "display_data"
    },
    {
     "name": "stdout",
     "output_type": "stream",
     "text": [
      "TENURE:\n"
     ]
    },
    {
     "data": {
      "text/html": [
       "<div>\n",
       "<style scoped>\n",
       "    .dataframe tbody tr th:only-of-type {\n",
       "        vertical-align: middle;\n",
       "    }\n",
       "\n",
       "    .dataframe tbody tr th {\n",
       "        vertical-align: top;\n",
       "    }\n",
       "\n",
       "    .dataframe thead th {\n",
       "        text-align: right;\n",
       "    }\n",
       "</style>\n",
       "<table border=\"1\" class=\"dataframe\">\n",
       "  <thead>\n",
       "    <tr style=\"text-align: right;\">\n",
       "      <th>Valor</th>\n",
       "      <th>1.0</th>\n",
       "      <th>72.0</th>\n",
       "      <th>2.0</th>\n",
       "      <th>...</th>\n",
       "      <th>48.0</th>\n",
       "      <th>44.0</th>\n",
       "      <th>19.0</th>\n",
       "    </tr>\n",
       "  </thead>\n",
       "  <tbody>\n",
       "    <tr>\n",
       "      <th>Quantidade</th>\n",
       "      <td>30</td>\n",
       "      <td>15</td>\n",
       "      <td>13</td>\n",
       "      <td>...</td>\n",
       "      <td>1</td>\n",
       "      <td>1</td>\n",
       "      <td>1</td>\n",
       "    </tr>\n",
       "  </tbody>\n",
       "</table>\n",
       "<p>1 rows × 72 columns</p>\n",
       "</div>"
      ],
      "text/plain": [
       "Valor       1.0   72.0  2.0   ...  48.0  44.0  19.0\n",
       "Quantidade    30    15    13  ...     1     1     1\n",
       "\n",
       "[1 rows x 72 columns]"
      ]
     },
     "metadata": {},
     "output_type": "display_data"
    },
    {
     "name": "stdout",
     "output_type": "stream",
     "text": [
      "TOTALCHARGES:\n"
     ]
    },
    {
     "data": {
      "text/html": [
       "<div>\n",
       "<style scoped>\n",
       "    .dataframe tbody tr th:only-of-type {\n",
       "        vertical-align: middle;\n",
       "    }\n",
       "\n",
       "    .dataframe tbody tr th {\n",
       "        vertical-align: top;\n",
       "    }\n",
       "\n",
       "    .dataframe thead th {\n",
       "        text-align: right;\n",
       "    }\n",
       "</style>\n",
       "<table border=\"1\" class=\"dataframe\">\n",
       "  <thead>\n",
       "    <tr style=\"text-align: right;\">\n",
       "      <th>Valor</th>\n",
       "      <th>8051.96</th>\n",
       "      <th>8043.58</th>\n",
       "      <th>8011.91</th>\n",
       "      <th>...</th>\n",
       "      <th>12.92</th>\n",
       "      <th>8.29</th>\n",
       "      <th>0.36</th>\n",
       "    </tr>\n",
       "  </thead>\n",
       "  <tbody>\n",
       "    <tr>\n",
       "      <th>Quantidade</th>\n",
       "      <td>1</td>\n",
       "      <td>1</td>\n",
       "      <td>1</td>\n",
       "      <td>...</td>\n",
       "      <td>1</td>\n",
       "      <td>1</td>\n",
       "      <td>1</td>\n",
       "    </tr>\n",
       "  </tbody>\n",
       "</table>\n",
       "<p>1 rows × 348 columns</p>\n",
       "</div>"
      ],
      "text/plain": [
       "Valor       8051.96  8043.58  8011.91  ...  12.92    8.29     0.36   \n",
       "Quantidade        1        1        1  ...        1        1        1\n",
       "\n",
       "[1 rows x 348 columns]"
      ]
     },
     "metadata": {},
     "output_type": "display_data"
    }
   ],
   "source": [
    "with pd.option_context(\"display.max_columns\", 6):\n",
    "    display_value_counts(df_train_num)"
   ]
  },
  {
   "cell_type": "markdown",
   "metadata": {
    "id": "xqz3lg_pBK95",
    "jp-MarkdownHeadingCollapsed": true,
    "tags": []
   },
   "source": [
    "### Correlações"
   ]
  },
  {
   "cell_type": "code",
   "execution_count": 16,
   "metadata": {
    "colab": {
     "base_uri": "https://localhost:8080/",
     "height": 550
    },
    "id": "NmsK9UOsBK95",
    "outputId": "ffa18c1d-8111-46c3-e995-be422c741cc3"
   },
   "outputs": [
    {
     "data": {
      "image/png": "[encoded data removed]",
      "text/plain": [
       "<Figure size 592x540 with 9 Axes>"
      ]
     },
     "metadata": {
      "needs_background": "light"
     },
     "output_type": "display_data"
    }
   ],
   "source": [
    "sns.pairplot(\n",
    "    df_train_clean[numeric_features + [target]], hue=target, palette=\"Set1\", corner=True\n",
    ")\n",
    "plt.show()"
   ]
  },
  {
   "cell_type": "markdown",
   "metadata": {
    "id": "9oaOm08FBK95",
    "jp-MarkdownHeadingCollapsed": true,
    "tags": []
   },
   "source": [
    "### Variáveis categóricas (gráficos)"
   ]
  },
  {
   "cell_type": "code",
   "execution_count": 17,
   "metadata": {
    "colab": {
     "base_uri": "https://localhost:8080/",
     "height": 1000
    },
    "id": "F2QBH9NPBK96",
    "outputId": "b87685dc-e5c3-49cc-a499-027445dd9a5d"
   },
   "outputs": [
    {
     "data": {
      "image/png": "[encoded data removed]",
      "text/plain": [
       "<Figure size 720x2160 with 16 Axes>"
      ]
     },
     "metadata": {
      "needs_background": "light"
     },
     "output_type": "display_data"
    }
   ],
   "source": [
    "fig, axes = plt.subplots(nrows=len(categorical_features), sharex=True, figsize=(10, 30))\n",
    "for i, col in enumerate(categorical_features):\n",
    "    group_means = (\n",
    "        (df_train_clean.groupby([col])[target].count() / len(df_train_clean))\n",
    "        .rename(f\"{target}_RATE\")\n",
    "        .sort_values(ascending=False)\n",
    "        .to_frame()\n",
    "    )\n",
    "    sns.barplot(x=f\"{target}_RATE\", y=group_means.index, data=group_means, ax=axes[i])\n",
    "    fig.subplots_adjust(top=0.97)\n",
    "    fig.suptitle(\"Proporção de CHURN entre os clientes de cada grupo\")"
   ]
  },
  {
   "cell_type": "markdown",
   "metadata": {
    "id": "vranf1u5BK96",
    "jp-MarkdownHeadingCollapsed": true,
    "tags": []
   },
   "source": [
    "### Pré-processamento dos dados"
   ]
  },
  {
   "cell_type": "markdown",
   "metadata": {
    "id": "uqhlQCzfBK96"
   },
   "source": [
    "Será criada uma _pipeline_ de pré-processamento com transformações específicas para cada tipo de variável:"
   ]
  },
  {
   "cell_type": "code",
   "execution_count": 18,
   "metadata": {
    "id": "g2c9zUMRBK96"
   },
   "outputs": [],
   "source": [
    "categorical_transformer = Pipeline(\n",
    "    steps=[\n",
    "        (\"imputer\", SimpleImputer(strategy=\"most_frequent\")),\n",
    "        (\"onehot\", OneHotEncoder(handle_unknown=\"ignore\")),\n",
    "    ]\n",
    ")\n",
    "\n",
    "numeric_transformer = Pipeline(\n",
    "    steps=[\n",
    "        (\"to_numeric\", FunctionTransformer(num_mapper)),\n",
    "        (\"imputer\", SimpleImputer(strategy=\"constant\", fill_value=0)),\n",
    "        (\"scaler\", StandardScaler()),\n",
    "    ]\n",
    ")\n",
    "\n",
    "preprocessor = ColumnTransformer(\n",
    "    transformers=[\n",
    "        (\"num\", numeric_transformer, numeric_features),\n",
    "        (\"cat\", categorical_transformer, categorical_features),\n",
    "    ]\n",
    ")\n",
    "\n",
    "# preprocessor.fit(df_train)\n",
    "# onehot_features = list(preprocessor.named_transformers_[\"cat\"][\"onehot\"].get_feature_names())\n",
    "# df_train_preprocessed = pd.DataFrame(\n",
    "#     preprocessor.transform(df_train),\n",
    "#     columns=numeric_features + onehot_features,\n",
    "#     index=df_train.index\n",
    "# )"
   ]
  },
  {
   "cell_type": "markdown",
   "metadata": {
    "tags": []
   },
   "source": [
    "## Criação de um modelo"
   ]
  },
  {
   "cell_type": "markdown",
   "metadata": {},
   "source": [
    "Nosso objetivo é obter um algoritmo de Machine Learning que identifique se um cliente será perdido ou não, e que tenha o maior score F1 possível. Para começar, vamos comparar uma simples árvore de decisão com um modelo fictício, que apenas chuta suas predições (sem levar em conta nenhum feature), para ter valores de referência ao buscar uma solução ótima em termos da métrica F1."
   ]
  },
  {
   "cell_type": "code",
   "execution_count": 19,
   "metadata": {
    "id": "tb7qaXCNBK97"
   },
   "outputs": [],
   "source": [
    "pipe = Pipeline(\n",
    "    [(\"preprocessor\", preprocessor), (\"clf\", DecisionTreeClassifier(random_state=seed))]\n",
    ")\n",
    "# display(pipe)"
   ]
  },
  {
   "cell_type": "markdown",
   "metadata": {
    "id": "oq7YoWGPBK97"
   },
   "source": [
    "Abaixo, separamos os dados que queremos predizer dos dados que utilizamos como informações para a predição."
   ]
  },
  {
   "cell_type": "code",
   "execution_count": 20,
   "metadata": {
    "colab": {
     "base_uri": "https://localhost:8080/"
    },
    "id": "WH5WQT5mBK97",
    "outputId": "4486b338-afcc-4d92-812a-4b92d44b2c9d"
   },
   "outputs": [
    {
     "name": "stdout",
     "output_type": "stream",
     "text": [
      "(348, 21)\n",
      "(348,)\n",
      "(4200, 21)\n",
      "(4200,)\n"
     ]
    }
   ],
   "source": [
    "X_train = df_train[all_cols]\n",
    "y_train = df_train[target]\n",
    "X_test = df_test[all_cols]\n",
    "y_test = df_test[target]\n",
    "print(X_train.shape)\n",
    "print(y_train.shape)\n",
    "print(X_test.shape)\n",
    "print(y_test.shape)"
   ]
  },
  {
   "cell_type": "code",
   "execution_count": 21,
   "metadata": {
    "id": "vzQYXh_oBK98"
   },
   "outputs": [],
   "source": [
    "scaler_grid = [\n",
    "    StandardScaler(),\n",
    "    MinMaxScaler(),\n",
    "    RobustScaler(),\n",
    "    # \"passthrough\",\n",
    "]\n",
    "preprocessor_grid1 = {\n",
    "    \"preprocessor__num__imputer__strategy\": [\"mean\", \"median\", \"most_frequent\"],\n",
    "    \"preprocessor__num__scaler\": scaler_grid,\n",
    "}\n",
    "preprocessor_grid2 = {\n",
    "    \"preprocessor__num__imputer__strategy\": [\"constant\"],\n",
    "    \"preprocessor__num__imputer__fill_value\": [-1, 0],\n",
    "    \"preprocessor__num__scaler\": scaler_grid,\n",
    "}\n",
    "    \n",
    "classifier_grid1 = {\n",
    "        \"clf\": [SVC(max_iter=1000, random_state=seed)],\n",
    "        'clf__C': np.logspace(-10, 10, num=200),\n",
    "        'clf__gamma': np.logspace(-10, 10, num=200),\n",
    "        'clf__kernel': ['linear', 'rbf', 'sigmoid'],\n",
    "}\n",
    "classifier_grid2 = {\n",
    "        \"clf\": [SVC(max_iter=1000, random_state=seed)],\n",
    "        'clf__C': np.logspace(-10, 10, num=200),\n",
    "        'clf__gamma': np.logspace(-10, 10, num=200),\n",
    "        'clf__kernel': ['poly'],\n",
    "        'clf__degree': [2, 3, 4],\n",
    "}\n",
    "param_grid = [\n",
    "    # {\n",
    "    #     \"clf\": [GaussianNB()],\n",
    "    #     \"preprocessor__num__imputer__strategy\": [\"mean\"],\n",
    "    #     \"preprocessor__num__scaler\": [\"passthrough\"],\n",
    "    # },\n",
    "    # {\n",
    "    #     \"clf\": [KNeighborsClassifier(n_neighbors=115, weights='distance')],\n",
    "    #     \"preprocessor__num__imputer__strategy\": [\"most_frequent\"],\n",
    "    #     \"preprocessor__num__scaler\": [StandardScaler()],\n",
    "    # },\n",
    "    # {\n",
    "    #     \"clf\": [LinearSVC(C=231.0129700083158, loss='hinge', max_iter=10000, random_state=seed)],\n",
    "    #     \"preprocessor__num__imputer__strategy\": [\"constant\"],\n",
    "    #     \"preprocessor__num__imputer__fill_value\": [0],\n",
    "    #     \"preprocessor__num__scaler\": [RobustScaler()],\n",
    "    # },\n",
    "    # {\n",
    "    #     \"clf\": [\n",
    "    #         MLPClassifier(\n",
    "    #             activation='logistic',\n",
    "    #             alpha=1e-09,\n",
    "    #             hidden_layer_sizes=(39, 36),\n",
    "    #             learning_rate_init=0.00031622776601683794,\n",
    "    #             learning_rate=\"constant\",\n",
    "    #             max_iter=10000,\n",
    "    #             random_state=seed\n",
    "    #         )\n",
    "    #     ],\n",
    "    #     \"preprocessor__num__imputer__strategy\": [\"mean\"],\n",
    "    #     \"preprocessor__num__scaler\": [StandardScaler()],\n",
    "    # },\n",
    "    # {\n",
    "    #     \"clf\": [LogisticRegression(C=0.2848035868435802, max_iter=100000, penalty='l1', solver='liblinear', random_state=seed)],\n",
    "    #     \"preprocessor__num__imputer__strategy\": [\"most_frequent\"],\n",
    "    #     \"preprocessor__num__scaler\": [StandardScaler()],\n",
    "    # },\n",
    "    # {\n",
    "    #     \"clf\": [\n",
    "    #         DecisionTreeClassifier(\n",
    "    #             criterion=\"entropy\",\n",
    "    #             max_depth=5,\n",
    "    #             max_features=0.8,\n",
    "    #             min_samples_leaf=90,\n",
    "    #             min_samples_split=55,\n",
    "    #             random_state=seed,\n",
    "    #         )\n",
    "    #     ],\n",
    "    #     \"preprocessor__num__imputer__strategy\": [\"mean\"],\n",
    "    #     \"preprocessor__num__scaler\": [\"passthrough\"],\n",
    "    # },\n",
    "    # {\n",
    "    #     \"clf\": [\n",
    "    #         RandomForestClassifier(\n",
    "    #             max_depth=8,\n",
    "    #             n_estimators=50,\n",
    "    #             max_features=0.825,\n",
    "    #             min_samples_split=5,\n",
    "    #             min_samples_leaf=5,\n",
    "    #             criterion=\"entropy\",\n",
    "    #             random_state=seed\n",
    "    #         )\n",
    "    #     ],\n",
    "    #     \"preprocessor__num__scaler\": [MinMaxScaler()],\n",
    "    #     \"preprocessor__num__imputer__strategy\": [\"median\"],\n",
    "    # },\n",
    "    {\n",
    "        **classifier_grid1,\n",
    "        **preprocessor_grid1,\n",
    "    },\n",
    "    {\n",
    "        **classifier_grid1,\n",
    "        **preprocessor_grid2,\n",
    "    },\n",
    "    {\n",
    "        **classifier_grid2,\n",
    "        **preprocessor_grid1,\n",
    "    },\n",
    "    {\n",
    "        **classifier_grid2,\n",
    "        **preprocessor_grid2,\n",
    "    },\n",
    "]"
   ]
  },
  {
   "cell_type": "code",
   "execution_count": 22,
   "metadata": {
    "colab": {
     "base_uri": "https://localhost:8080/"
    },
    "id": "KLA_gUpjBK98",
    "outputId": "dfc84459-bbba-4e1d-b3a5-30bac4f6ec70"
   },
   "outputs": [
    {
     "name": "stdout",
     "output_type": "stream",
     "text": [
      "Fitting 10 folds for each of 50000 candidates, totalling 500000 fits\n"
     ]
    },
    {
     "name": "stderr",
     "output_type": "stream",
     "text": [
      "[Parallel(n_jobs=3)]: Using backend LokyBackend with 3 concurrent workers.\n",
      "[Parallel(n_jobs=3)]: Done 101 tasks      | elapsed:    2.2s\n",
      "[Parallel(n_jobs=3)]: Done 701 tasks      | elapsed:    9.3s\n",
      "[Parallel(n_jobs=3)]: Done 1701 tasks      | elapsed:   22.7s\n",
      "[Parallel(n_jobs=3)]: Done 3101 tasks      | elapsed:   44.0s\n",
      "[Parallel(n_jobs=3)]: Done 4901 tasks      | elapsed:  1.2min\n",
      "[Parallel(n_jobs=3)]: Done 7101 tasks      | elapsed:  1.8min\n",
      "[Parallel(n_jobs=3)]: Done 9701 tasks      | elapsed:  2.4min\n",
      "[Parallel(n_jobs=3)]: Done 12701 tasks      | elapsed:  3.1min\n",
      "[Parallel(n_jobs=3)]: Done 16101 tasks      | elapsed:  3.9min\n",
      "[Parallel(n_jobs=3)]: Done 19901 tasks      | elapsed:  4.9min\n",
      "[Parallel(n_jobs=3)]: Done 24101 tasks      | elapsed:  5.9min\n",
      "[Parallel(n_jobs=3)]: Done 28701 tasks      | elapsed:  7.2min\n",
      "[Parallel(n_jobs=3)]: Done 33701 tasks      | elapsed:  8.7min\n",
      "[Parallel(n_jobs=3)]: Done 39101 tasks      | elapsed: 10.0min\n",
      "[Parallel(n_jobs=3)]: Done 44901 tasks      | elapsed: 11.8min\n",
      "[Parallel(n_jobs=3)]: Done 51101 tasks      | elapsed: 13.5min\n",
      "[Parallel(n_jobs=3)]: Done 57701 tasks      | elapsed: 15.3min\n",
      "[Parallel(n_jobs=3)]: Done 64701 tasks      | elapsed: 16.9min\n",
      "[Parallel(n_jobs=3)]: Done 72101 tasks      | elapsed: 18.7min\n",
      "[Parallel(n_jobs=3)]: Done 79901 tasks      | elapsed: 20.5min\n",
      "[Parallel(n_jobs=3)]: Done 88101 tasks      | elapsed: 22.4min\n",
      "[Parallel(n_jobs=3)]: Done 96701 tasks      | elapsed: 24.4min\n",
      "[Parallel(n_jobs=3)]: Done 105701 tasks      | elapsed: 26.5min\n",
      "[Parallel(n_jobs=3)]: Done 115101 tasks      | elapsed: 28.6min\n",
      "[Parallel(n_jobs=3)]: Done 124901 tasks      | elapsed: 30.9min\n",
      "[Parallel(n_jobs=3)]: Done 135101 tasks      | elapsed: 33.2min\n",
      "[Parallel(n_jobs=3)]: Done 145701 tasks      | elapsed: 35.6min\n",
      "[Parallel(n_jobs=3)]: Done 156701 tasks      | elapsed: 38.0min\n",
      "[Parallel(n_jobs=3)]: Done 168101 tasks      | elapsed: 40.6min\n",
      "[Parallel(n_jobs=3)]: Done 179901 tasks      | elapsed: 43.3min\n",
      "[Parallel(n_jobs=3)]: Done 192101 tasks      | elapsed: 46.0min\n",
      "[Parallel(n_jobs=3)]: Done 204701 tasks      | elapsed: 48.8min\n",
      "[Parallel(n_jobs=3)]: Done 217701 tasks      | elapsed: 51.7min\n",
      "[Parallel(n_jobs=3)]: Done 231101 tasks      | elapsed: 54.8min\n",
      "[Parallel(n_jobs=3)]: Done 244901 tasks      | elapsed: 57.8min\n",
      "[Parallel(n_jobs=3)]: Done 259101 tasks      | elapsed: 61.0min\n",
      "[Parallel(n_jobs=3)]: Done 273701 tasks      | elapsed: 64.3min\n",
      "[Parallel(n_jobs=3)]: Done 288701 tasks      | elapsed: 67.7min\n",
      "[Parallel(n_jobs=3)]: Done 304101 tasks      | elapsed: 71.1min\n",
      "[Parallel(n_jobs=3)]: Done 319901 tasks      | elapsed: 74.7min\n",
      "[Parallel(n_jobs=3)]: Done 336101 tasks      | elapsed: 78.3min\n",
      "[Parallel(n_jobs=3)]: Done 352701 tasks      | elapsed: 82.0min\n",
      "[Parallel(n_jobs=3)]: Done 369701 tasks      | elapsed: 85.8min\n",
      "[Parallel(n_jobs=3)]: Done 387101 tasks      | elapsed: 89.7min\n",
      "[Parallel(n_jobs=3)]: Done 404901 tasks      | elapsed: 93.7min\n",
      "[Parallel(n_jobs=3)]: Done 423101 tasks      | elapsed: 97.9min\n",
      "[Parallel(n_jobs=3)]: Done 441701 tasks      | elapsed: 102.8min\n",
      "[Parallel(n_jobs=3)]: Done 460701 tasks      | elapsed: 108.1min\n",
      "[Parallel(n_jobs=3)]: Done 480101 tasks      | elapsed: 113.5min\n",
      "[Parallel(n_jobs=3)]: Done 499901 tasks      | elapsed: 118.7min\n",
      "[Parallel(n_jobs=3)]: Done 500000 out of 500000 | elapsed: 118.7min finished\n"
     ]
    },
    {
     "name": "stdout",
     "output_type": "stream",
     "text": [
      "Tempo gasto para treinar o modelo 10 vezes com cada combinação de parâmetros para encontrar a melhor: 1:58:47.101500\n"
     ]
    }
   ],
   "source": [
    "cv_num = 10\n",
    "verbose = 1\n",
    "\n",
    "f1_scorer = make_scorer(f1_score, pos_label=\"Yes\")\n",
    "accuracy_scorer = make_scorer(accuracy_score)\n",
    "precision_scorer = make_scorer(precision_score, pos_label=\"Yes\")\n",
    "recall_scorer = make_scorer(recall_score, pos_label=\"Yes\")\n",
    "scoring = {\n",
    "    \"f1\": f1_scorer,\n",
    "    \"accuracy\": accuracy_scorer,\n",
    "    \"precision\": precision_scorer,\n",
    "    \"recall\": recall_scorer,\n",
    "}\n",
    "scoring_name = \"f1\"\n",
    "\n",
    "cv_train_size = int(((cv_num - 1) / cv_num) * len(X_train))\n",
    "cv_test_size = len(X_train) - cv_train_size\n",
    "\n",
    "search_args = {\n",
    "    \"estimator\": pipe,\n",
    "    \"cv\": cv_num,\n",
    "    \"n_jobs\": 3, #-1,\n",
    "    \"verbose\": verbose,\n",
    "    \"scoring\": scoring,\n",
    "    \"refit\": scoring_name,\n",
    "}\n",
    "\n",
    "cv = RandomizedSearchCV(\n",
    "    n_iter=50000, param_distributions=param_grid, random_state=seed, **search_args\n",
    ")\n",
    "# cv = GridSearchCV(param_grid=param_grid, **search_args)\n",
    "\n",
    "start = timer()\n",
    "cv.fit(X_train, y_train)\n",
    "end = timer()\n",
    "print(\n",
    "    f\"Tempo gasto para treinar o modelo {cv_num} vezes com cada combinação de parâmetros para encontrar a melhor: {timedelta(seconds=end-start)}\"\n",
    ")"
   ]
  },
  {
   "cell_type": "code",
   "execution_count": 23,
   "metadata": {
    "colab": {
     "base_uri": "https://localhost:8080/",
     "height": 1000
    },
    "id": "exPcenhtBK99",
    "outputId": "b9abc971-be33-41a3-933d-5e4b63f0f91f"
   },
   "outputs": [
    {
     "data": {
      "text/html": [
       "<h4>Dados brutos da validação cruzada</h4>"
      ],
      "text/plain": [
       "<IPython.core.display.HTML object>"
      ]
     },
     "metadata": {},
     "output_type": "display_data"
    },
    {
     "name": "stdout",
     "output_type": "stream",
     "text": [
      "Cada combinação de parâmetros foi utilizada em 10 rodadas de treino com 313 exemplos e teste com 35.\n"
     ]
    },
    {
     "data": {
      "text/html": [
       "<div>\n",
       "<style scoped>\n",
       "    .dataframe tbody tr th:only-of-type {\n",
       "        vertical-align: middle;\n",
       "    }\n",
       "\n",
       "    .dataframe tbody tr th {\n",
       "        vertical-align: top;\n",
       "    }\n",
       "\n",
       "    .dataframe thead th {\n",
       "        text-align: right;\n",
       "    }\n",
       "</style>\n",
       "<table border=\"1\" class=\"dataframe\">\n",
       "  <thead>\n",
       "    <tr style=\"text-align: right;\">\n",
       "      <th></th>\n",
       "      <th>mean_test_f1</th>\n",
       "      <th>mean_test_accuracy</th>\n",
       "      <th>mean_test_precision</th>\n",
       "      <th>mean_test_recall</th>\n",
       "      <th>mean_fit_time</th>\n",
       "      <th>params</th>\n",
       "    </tr>\n",
       "    <tr>\n",
       "      <th>rank_test_f1</th>\n",
       "      <th></th>\n",
       "      <th></th>\n",
       "      <th></th>\n",
       "      <th></th>\n",
       "      <th></th>\n",
       "      <th></th>\n",
       "    </tr>\n",
       "  </thead>\n",
       "  <tbody>\n",
       "    <tr>\n",
       "      <th>1</th>\n",
       "      <td>0.670312</td>\n",
       "      <td>0.798655</td>\n",
       "      <td>0.607854</td>\n",
       "      <td>0.764444</td>\n",
       "      <td>0.026044</td>\n",
       "      <td>{'preprocessor__num__scaler': RobustScaler(), 'preprocessor__num__imputer__strategy': 'mean', 'clf__kernel': 'rbf', 'clf__gamma': 5.05263106533568e-10, 'clf__C': 6080224.261649427, 'clf': SVC(C=6080224.261649427, gamma=5.05263106533568e-10, max_iter=1000,\n",
       "    random_state=0)}</td>\n",
       "    </tr>\n",
       "    <tr>\n",
       "      <th>2</th>\n",
       "      <td>0.660919</td>\n",
       "      <td>0.816555</td>\n",
       "      <td>0.663800</td>\n",
       "      <td>0.680000</td>\n",
       "      <td>0.026454</td>\n",
       "      <td>{'preprocessor__num__scaler': MinMaxScaler(), 'preprocessor__num__imputer__strategy': 'constant', 'preprocessor__num__imputer__fill_value': 0, 'clf__kernel': 'rbf', 'clf__gamma': 1.3049019780144015e-07, 'clf__C': 988495904.6625586, 'clf': SVC(C=6080224.261649427, gamma=5.05263106533568e-10, max_iter=1000,\n",
       "    random_state=0)}</td>\n",
       "    </tr>\n",
       "    <tr>\n",
       "      <th>3</th>\n",
       "      <td>0.659472</td>\n",
       "      <td>0.781513</td>\n",
       "      <td>0.577973</td>\n",
       "      <td>0.786667</td>\n",
       "      <td>0.032201</td>\n",
       "      <td>{'preprocessor__num__scaler': StandardScaler(), 'preprocessor__num__imputer__strategy': 'most_frequent', 'clf__kernel': 'rbf', 'clf__gamma': 2.5529080682395164e-09, 'clf__C': 10000000000.0, 'clf': SVC(C=6080224.261649427, gamma=5.05263106533568e-10, max_iter=1000,\n",
       "    random_state=0)}</td>\n",
       "    </tr>\n",
       "    <tr>\n",
       "      <th>4</th>\n",
       "      <td>0.655912</td>\n",
       "      <td>0.775630</td>\n",
       "      <td>0.557805</td>\n",
       "      <td>0.806667</td>\n",
       "      <td>0.023907</td>\n",
       "      <td>{'preprocessor__num__scaler': MinMaxScaler(), 'preprocessor__num__imputer__strategy': 'constant', 'preprocessor__num__imputer__fill_value': -1, 'clf__kernel': 'rbf', 'clf__gamma': 1.289890261253308e-08, 'clf__C': 61509857.88580504, 'clf': SVC(C=6080224.261649427, gamma=5.05263106533568e-10, max_iter=1000,\n",
       "    random_state=0)}</td>\n",
       "    </tr>\n",
       "    <tr>\n",
       "      <th>5</th>\n",
       "      <td>0.655145</td>\n",
       "      <td>0.778571</td>\n",
       "      <td>0.570030</td>\n",
       "      <td>0.786667</td>\n",
       "      <td>0.027364</td>\n",
       "      <td>{'preprocessor__num__scaler': MinMaxScaler(), 'preprocessor__num__imputer__strategy': 'constant', 'preprocessor__num__imputer__fill_value': -1, 'clf__kernel': 'rbf', 'clf__gamma': 1e-10, 'clf__C': 38720387.81812557, 'clf': SVC(C=6080224.261649427, gamma=5.05263106533568e-10, max_iter=1000,\n",
       "    random_state=0)}</td>\n",
       "    </tr>\n",
       "    <tr>\n",
       "      <th>6</th>\n",
       "      <td>0.654415</td>\n",
       "      <td>0.813025</td>\n",
       "      <td>0.659325</td>\n",
       "      <td>0.656667</td>\n",
       "      <td>0.029830</td>\n",
       "      <td>{'preprocessor__num__scaler': StandardScaler(), 'preprocessor__num__imputer__strategy': 'most_frequent', 'clf__kernel': 'rbf', 'clf__gamma': 4.0088063288984644e-10, 'clf__C': 4824108.7041653935, 'clf': SVC(C=6080224.261649427, gamma=5.05263106533568e-10, max_iter=1000,\n",
       "    random_state=0)}</td>\n",
       "    </tr>\n",
       "    <tr>\n",
       "      <th>7</th>\n",
       "      <td>0.653652</td>\n",
       "      <td>0.769832</td>\n",
       "      <td>0.557094</td>\n",
       "      <td>0.807778</td>\n",
       "      <td>0.027246</td>\n",
       "      <td>{'preprocessor__num__scaler': RobustScaler(), 'preprocessor__num__imputer__strategy': 'median', 'clf__kernel': 'rbf', 'clf__gamma': 4.0088063288984644e-10, 'clf__C': 9658832.241158709, 'clf': SVC(C=6080224.261649427, gamma=5.05263106533568e-10, max_iter=1000,\n",
       "    random_state=0)}</td>\n",
       "    </tr>\n",
       "    <tr>\n",
       "      <th>7</th>\n",
       "      <td>0.653652</td>\n",
       "      <td>0.769832</td>\n",
       "      <td>0.557094</td>\n",
       "      <td>0.807778</td>\n",
       "      <td>0.026062</td>\n",
       "      <td>{'preprocessor__num__scaler': RobustScaler(), 'preprocessor__num__imputer__strategy': 'mean', 'clf__kernel': 'rbf', 'clf__gamma': 1.2603829296797273e-10, 'clf__C': 30721129.98861772, 'clf': SVC(C=6080224.261649427, gamma=5.05263106533568e-10, max_iter=1000,\n",
       "    random_state=0)}</td>\n",
       "    </tr>\n",
       "    <tr>\n",
       "      <th>9</th>\n",
       "      <td>0.652501</td>\n",
       "      <td>0.775630</td>\n",
       "      <td>0.570351</td>\n",
       "      <td>0.785556</td>\n",
       "      <td>0.027213</td>\n",
       "      <td>{'preprocessor__num__scaler': StandardScaler(), 'preprocessor__num__imputer__strategy': 'constant', 'preprocessor__num__imputer__fill_value': 0, 'clf__kernel': 'rbf', 'clf__gamma': 2.5529080682395164e-09, 'clf__C': 77525974.88629496, 'clf': SVC(C=6080224.261649427, gamma=5.05263106533568e-10, max_iter=1000,\n",
       "    random_state=0)}</td>\n",
       "    </tr>\n",
       "    <tr>\n",
       "      <th>10</th>\n",
       "      <td>0.644559</td>\n",
       "      <td>0.767059</td>\n",
       "      <td>0.562354</td>\n",
       "      <td>0.785556</td>\n",
       "      <td>0.026778</td>\n",
       "      <td>{'preprocessor__num__scaler': StandardScaler(), 'preprocessor__num__imputer__strategy': 'constant', 'preprocessor__num__imputer__fill_value': 0, 'clf__kernel': 'rbf', 'clf__gamma': 2.5529080682395164e-09, 'clf__C': 622257083.6730231, 'clf': SVC(C=6080224.261649427, gamma=5.05263106533568e-10, max_iter=1000,\n",
       "    random_state=0)}</td>\n",
       "    </tr>\n",
       "    <tr>\n",
       "      <th>11</th>\n",
       "      <td>0.643200</td>\n",
       "      <td>0.804538</td>\n",
       "      <td>0.656884</td>\n",
       "      <td>0.656667</td>\n",
       "      <td>0.035594</td>\n",
       "      <td>{'preprocessor__num__scaler': MinMaxScaler(), 'preprocessor__num__imputer__strategy': 'constant', 'preprocessor__num__imputer__fill_value': 0, 'clf__kernel': 'sigmoid', 'clf__gamma': 1.059560179277617e-05, 'clf__C': 9329.304026284695, 'clf': SVC(C=6080224.261649427, gamma=5.05263106533568e-10, max_iter=1000,\n",
       "    random_state=0)}</td>\n",
       "    </tr>\n",
       "    <tr>\n",
       "      <th>11</th>\n",
       "      <td>0.643200</td>\n",
       "      <td>0.804538</td>\n",
       "      <td>0.656884</td>\n",
       "      <td>0.656667</td>\n",
       "      <td>0.025963</td>\n",
       "      <td>{'preprocessor__num__scaler': MinMaxScaler(), 'preprocessor__num__imputer__strategy': 'constant', 'preprocessor__num__imputer__fill_value': 0, 'clf__kernel': 'sigmoid', 'clf__gamma': 4.0088063288984644e-10, 'clf__C': 246581107.5822604, 'clf': SVC(C=6080224.261649427, gamma=5.05263106533568e-10, max_iter=1000,\n",
       "    random_state=0)}</td>\n",
       "    </tr>\n",
       "    <tr>\n",
       "      <th>13</th>\n",
       "      <td>0.642855</td>\n",
       "      <td>0.755546</td>\n",
       "      <td>0.538093</td>\n",
       "      <td>0.818889</td>\n",
       "      <td>0.024733</td>\n",
       "      <td>{'preprocessor__num__scaler': StandardScaler(), 'preprocessor__num__imputer__strategy': 'mean', 'clf__kernel': 'rbf', 'clf__gamma': 5.05263106533568e-10, 'clf__C': 7663410.868007494, 'clf': SVC(C=6080224.261649427, gamma=5.05263106533568e-10, max_iter=1000,\n",
       "    random_state=0)}</td>\n",
       "    </tr>\n",
       "    <tr>\n",
       "      <th>13</th>\n",
       "      <td>0.642855</td>\n",
       "      <td>0.755546</td>\n",
       "      <td>0.538093</td>\n",
       "      <td>0.818889</td>\n",
       "      <td>0.026269</td>\n",
       "      <td>{'preprocessor__num__scaler': StandardScaler(), 'preprocessor__num__imputer__strategy': 'most_frequent', 'clf__kernel': 'rbf', 'clf__gamma': 1e-10, 'clf__C': 38720387.81812557, 'clf': SVC(C=6080224.261649427, gamma=5.05263106533568e-10, max_iter=1000,\n",
       "    random_state=0)}</td>\n",
       "    </tr>\n",
       "    <tr>\n",
       "      <th>15</th>\n",
       "      <td>0.639704</td>\n",
       "      <td>0.793109</td>\n",
       "      <td>0.607944</td>\n",
       "      <td>0.700000</td>\n",
       "      <td>0.025152</td>\n",
       "      <td>{'preprocessor__num__scaler': MinMaxScaler(), 'preprocessor__num__imputer__strategy': 'constant', 'preprocessor__num__imputer__fill_value': 0, 'clf__kernel': 'rbf', 'clf__gamma': 8.026433522257174e-10, 'clf__C': 3827494.478516315, 'clf': SVC(C=6080224.261649427, gamma=5.05263106533568e-10, max_iter=1000,\n",
       "    random_state=0)}</td>\n",
       "    </tr>\n",
       "    <tr>\n",
       "      <th>16</th>\n",
       "      <td>0.636711</td>\n",
       "      <td>0.746891</td>\n",
       "      <td>0.526270</td>\n",
       "      <td>0.830000</td>\n",
       "      <td>0.025988</td>\n",
       "      <td>{'preprocessor__num__scaler': StandardScaler(), 'preprocessor__num__imputer__strategy': 'median', 'clf__kernel': 'rbf', 'clf__gamma': 6.368249944718586e-10, 'clf__C': 4824108.7041653935, 'clf': SVC(C=6080224.261649427, gamma=5.05263106533568e-10, max_iter=1000,\n",
       "    random_state=0)}</td>\n",
       "    </tr>\n",
       "    <tr>\n",
       "      <th>17</th>\n",
       "      <td>0.636339</td>\n",
       "      <td>0.813361</td>\n",
       "      <td>0.684105</td>\n",
       "      <td>0.632222</td>\n",
       "      <td>0.026526</td>\n",
       "      <td>{'preprocessor__num__scaler': RobustScaler(), 'preprocessor__num__imputer__strategy': 'most_frequent', 'clf__kernel': 'rbf', 'clf__gamma': 4.055460735840828e-09, 'clf__C': 38720387.81812557, 'clf': SVC(C=6080224.261649427, gamma=5.05263106533568e-10, max_iter=1000,\n",
       "    random_state=0)}</td>\n",
       "    </tr>\n",
       "    <tr>\n",
       "      <th>18</th>\n",
       "      <td>0.636010</td>\n",
       "      <td>0.801681</td>\n",
       "      <td>0.654106</td>\n",
       "      <td>0.645556</td>\n",
       "      <td>0.024417</td>\n",
       "      <td>{'preprocessor__num__scaler': MinMaxScaler(), 'preprocessor__num__imputer__strategy': 'median', 'clf__kernel': 'linear', 'clf__gamma': 0.000860346441668451, 'clf__C': 0.11097524964120745, 'clf': SVC(C=6080224.261649427, gamma=5.05263106533568e-10, max_iter=1000,\n",
       "    random_state=0)}</td>\n",
       "    </tr>\n",
       "    <tr>\n",
       "      <th>18</th>\n",
       "      <td>0.636010</td>\n",
       "      <td>0.801681</td>\n",
       "      <td>0.654106</td>\n",
       "      <td>0.645556</td>\n",
       "      <td>0.026253</td>\n",
       "      <td>{'preprocessor__num__scaler': MinMaxScaler(), 'preprocessor__num__imputer__strategy': 'median', 'clf__kernel': 'rbf', 'clf__gamma': 0.0006826071834272392, 'clf__C': 72.32633896483549, 'clf': SVC(C=6080224.261649427, gamma=5.05263106533568e-10, max_iter=1000,\n",
       "    random_state=0)}</td>\n",
       "    </tr>\n",
       "    <tr>\n",
       "      <th>18</th>\n",
       "      <td>0.636010</td>\n",
       "      <td>0.801681</td>\n",
       "      <td>0.654106</td>\n",
       "      <td>0.645556</td>\n",
       "      <td>0.024960</td>\n",
       "      <td>{'preprocessor__num__scaler': MinMaxScaler(), 'preprocessor__num__imputer__strategy': 'median', 'clf__kernel': 'linear', 'clf__gamma': 1.4149912974345789, 'clf__C': 0.11097524964120745, 'clf': SVC(C=6080224.261649427, gamma=5.05263106533568e-10, max_iter=1000,\n",
       "    random_state=0)}</td>\n",
       "    </tr>\n",
       "  </tbody>\n",
       "</table>\n",
       "</div>"
      ],
      "text/plain": [
       "              mean_test_f1  mean_test_accuracy  mean_test_precision  \\\n",
       "rank_test_f1                                                          \n",
       "1                 0.670312            0.798655             0.607854   \n",
       "2                 0.660919            0.816555             0.663800   \n",
       "3                 0.659472            0.781513             0.577973   \n",
       "4                 0.655912            0.775630             0.557805   \n",
       "5                 0.655145            0.778571             0.570030   \n",
       "6                 0.654415            0.813025             0.659325   \n",
       "7                 0.653652            0.769832             0.557094   \n",
       "7                 0.653652            0.769832             0.557094   \n",
       "9                 0.652501            0.775630             0.570351   \n",
       "10                0.644559            0.767059             0.562354   \n",
       "11                0.643200            0.804538             0.656884   \n",
       "11                0.643200            0.804538             0.656884   \n",
       "13                0.642855            0.755546             0.538093   \n",
       "13                0.642855            0.755546             0.538093   \n",
       "15                0.639704            0.793109             0.607944   \n",
       "16                0.636711            0.746891             0.526270   \n",
       "17                0.636339            0.813361             0.684105   \n",
       "18                0.636010            0.801681             0.654106   \n",
       "18                0.636010            0.801681             0.654106   \n",
       "18                0.636010            0.801681             0.654106   \n",
       "\n",
       "              mean_test_recall  mean_fit_time  \\\n",
       "rank_test_f1                                    \n",
       "1                     0.764444       0.026044   \n",
       "2                     0.680000       0.026454   \n",
       "3                     0.786667       0.032201   \n",
       "4                     0.806667       0.023907   \n",
       "5                     0.786667       0.027364   \n",
       "6                     0.656667       0.029830   \n",
       "7                     0.807778       0.027246   \n",
       "7                     0.807778       0.026062   \n",
       "9                     0.785556       0.027213   \n",
       "10                    0.785556       0.026778   \n",
       "11                    0.656667       0.035594   \n",
       "11                    0.656667       0.025963   \n",
       "13                    0.818889       0.024733   \n",
       "13                    0.818889       0.026269   \n",
       "15                    0.700000       0.025152   \n",
       "16                    0.830000       0.025988   \n",
       "17                    0.632222       0.026526   \n",
       "18                    0.645556       0.024417   \n",
       "18                    0.645556       0.026253   \n",
       "18                    0.645556       0.024960   \n",
       "\n",
       "                                                                                                                                                                                                                                                                                                                                                   params  \n",
       "rank_test_f1                                                                                                                                                                                                                                                                                                                                               \n",
       "1                                                                    {'preprocessor__num__scaler': RobustScaler(), 'preprocessor__num__imputer__strategy': 'mean', 'clf__kernel': 'rbf', 'clf__gamma': 5.05263106533568e-10, 'clf__C': 6080224.261649427, 'clf': SVC(C=6080224.261649427, gamma=5.05263106533568e-10, max_iter=1000,\n",
       "    random_state=0)}  \n",
       "2                 {'preprocessor__num__scaler': MinMaxScaler(), 'preprocessor__num__imputer__strategy': 'constant', 'preprocessor__num__imputer__fill_value': 0, 'clf__kernel': 'rbf', 'clf__gamma': 1.3049019780144015e-07, 'clf__C': 988495904.6625586, 'clf': SVC(C=6080224.261649427, gamma=5.05263106533568e-10, max_iter=1000,\n",
       "    random_state=0)}  \n",
       "3                                                           {'preprocessor__num__scaler': StandardScaler(), 'preprocessor__num__imputer__strategy': 'most_frequent', 'clf__kernel': 'rbf', 'clf__gamma': 2.5529080682395164e-09, 'clf__C': 10000000000.0, 'clf': SVC(C=6080224.261649427, gamma=5.05263106533568e-10, max_iter=1000,\n",
       "    random_state=0)}  \n",
       "4                 {'preprocessor__num__scaler': MinMaxScaler(), 'preprocessor__num__imputer__strategy': 'constant', 'preprocessor__num__imputer__fill_value': -1, 'clf__kernel': 'rbf', 'clf__gamma': 1.289890261253308e-08, 'clf__C': 61509857.88580504, 'clf': SVC(C=6080224.261649427, gamma=5.05263106533568e-10, max_iter=1000,\n",
       "    random_state=0)}  \n",
       "5                                 {'preprocessor__num__scaler': MinMaxScaler(), 'preprocessor__num__imputer__strategy': 'constant', 'preprocessor__num__imputer__fill_value': -1, 'clf__kernel': 'rbf', 'clf__gamma': 1e-10, 'clf__C': 38720387.81812557, 'clf': SVC(C=6080224.261649427, gamma=5.05263106533568e-10, max_iter=1000,\n",
       "    random_state=0)}  \n",
       "6                                                      {'preprocessor__num__scaler': StandardScaler(), 'preprocessor__num__imputer__strategy': 'most_frequent', 'clf__kernel': 'rbf', 'clf__gamma': 4.0088063288984644e-10, 'clf__C': 4824108.7041653935, 'clf': SVC(C=6080224.261649427, gamma=5.05263106533568e-10, max_iter=1000,\n",
       "    random_state=0)}  \n",
       "7                                                                {'preprocessor__num__scaler': RobustScaler(), 'preprocessor__num__imputer__strategy': 'median', 'clf__kernel': 'rbf', 'clf__gamma': 4.0088063288984644e-10, 'clf__C': 9658832.241158709, 'clf': SVC(C=6080224.261649427, gamma=5.05263106533568e-10, max_iter=1000,\n",
       "    random_state=0)}  \n",
       "7                                                                  {'preprocessor__num__scaler': RobustScaler(), 'preprocessor__num__imputer__strategy': 'mean', 'clf__kernel': 'rbf', 'clf__gamma': 1.2603829296797273e-10, 'clf__C': 30721129.98861772, 'clf': SVC(C=6080224.261649427, gamma=5.05263106533568e-10, max_iter=1000,\n",
       "    random_state=0)}  \n",
       "9               {'preprocessor__num__scaler': StandardScaler(), 'preprocessor__num__imputer__strategy': 'constant', 'preprocessor__num__imputer__fill_value': 0, 'clf__kernel': 'rbf', 'clf__gamma': 2.5529080682395164e-09, 'clf__C': 77525974.88629496, 'clf': SVC(C=6080224.261649427, gamma=5.05263106533568e-10, max_iter=1000,\n",
       "    random_state=0)}  \n",
       "10              {'preprocessor__num__scaler': StandardScaler(), 'preprocessor__num__imputer__strategy': 'constant', 'preprocessor__num__imputer__fill_value': 0, 'clf__kernel': 'rbf', 'clf__gamma': 2.5529080682395164e-09, 'clf__C': 622257083.6730231, 'clf': SVC(C=6080224.261649427, gamma=5.05263106533568e-10, max_iter=1000,\n",
       "    random_state=0)}  \n",
       "11             {'preprocessor__num__scaler': MinMaxScaler(), 'preprocessor__num__imputer__strategy': 'constant', 'preprocessor__num__imputer__fill_value': 0, 'clf__kernel': 'sigmoid', 'clf__gamma': 1.059560179277617e-05, 'clf__C': 9329.304026284695, 'clf': SVC(C=6080224.261649427, gamma=5.05263106533568e-10, max_iter=1000,\n",
       "    random_state=0)}  \n",
       "11            {'preprocessor__num__scaler': MinMaxScaler(), 'preprocessor__num__imputer__strategy': 'constant', 'preprocessor__num__imputer__fill_value': 0, 'clf__kernel': 'sigmoid', 'clf__gamma': 4.0088063288984644e-10, 'clf__C': 246581107.5822604, 'clf': SVC(C=6080224.261649427, gamma=5.05263106533568e-10, max_iter=1000,\n",
       "    random_state=0)}  \n",
       "13                                                                 {'preprocessor__num__scaler': StandardScaler(), 'preprocessor__num__imputer__strategy': 'mean', 'clf__kernel': 'rbf', 'clf__gamma': 5.05263106533568e-10, 'clf__C': 7663410.868007494, 'clf': SVC(C=6080224.261649427, gamma=5.05263106533568e-10, max_iter=1000,\n",
       "    random_state=0)}  \n",
       "13                                                                       {'preprocessor__num__scaler': StandardScaler(), 'preprocessor__num__imputer__strategy': 'most_frequent', 'clf__kernel': 'rbf', 'clf__gamma': 1e-10, 'clf__C': 38720387.81812557, 'clf': SVC(C=6080224.261649427, gamma=5.05263106533568e-10, max_iter=1000,\n",
       "    random_state=0)}  \n",
       "15                 {'preprocessor__num__scaler': MinMaxScaler(), 'preprocessor__num__imputer__strategy': 'constant', 'preprocessor__num__imputer__fill_value': 0, 'clf__kernel': 'rbf', 'clf__gamma': 8.026433522257174e-10, 'clf__C': 3827494.478516315, 'clf': SVC(C=6080224.261649427, gamma=5.05263106533568e-10, max_iter=1000,\n",
       "    random_state=0)}  \n",
       "16                                                             {'preprocessor__num__scaler': StandardScaler(), 'preprocessor__num__imputer__strategy': 'median', 'clf__kernel': 'rbf', 'clf__gamma': 6.368249944718586e-10, 'clf__C': 4824108.7041653935, 'clf': SVC(C=6080224.261649427, gamma=5.05263106533568e-10, max_iter=1000,\n",
       "    random_state=0)}  \n",
       "17                                                         {'preprocessor__num__scaler': RobustScaler(), 'preprocessor__num__imputer__strategy': 'most_frequent', 'clf__kernel': 'rbf', 'clf__gamma': 4.055460735840828e-09, 'clf__C': 38720387.81812557, 'clf': SVC(C=6080224.261649427, gamma=5.05263106533568e-10, max_iter=1000,\n",
       "    random_state=0)}  \n",
       "18                                                            {'preprocessor__num__scaler': MinMaxScaler(), 'preprocessor__num__imputer__strategy': 'median', 'clf__kernel': 'linear', 'clf__gamma': 0.000860346441668451, 'clf__C': 0.11097524964120745, 'clf': SVC(C=6080224.261649427, gamma=5.05263106533568e-10, max_iter=1000,\n",
       "    random_state=0)}  \n",
       "18                                                                {'preprocessor__num__scaler': MinMaxScaler(), 'preprocessor__num__imputer__strategy': 'median', 'clf__kernel': 'rbf', 'clf__gamma': 0.0006826071834272392, 'clf__C': 72.32633896483549, 'clf': SVC(C=6080224.261649427, gamma=5.05263106533568e-10, max_iter=1000,\n",
       "    random_state=0)}  \n",
       "18                                                              {'preprocessor__num__scaler': MinMaxScaler(), 'preprocessor__num__imputer__strategy': 'median', 'clf__kernel': 'linear', 'clf__gamma': 1.4149912974345789, 'clf__C': 0.11097524964120745, 'clf': SVC(C=6080224.261649427, gamma=5.05263106533568e-10, max_iter=1000,\n",
       "    random_state=0)}  "
      ]
     },
     "metadata": {},
     "output_type": "display_data"
    }
   ],
   "source": [
    "display(HTML(\"<h4>Dados brutos da validação cruzada</h4>\"))\n",
    "print(\n",
    "    f\"Cada combinação de parâmetros foi utilizada em {cv_num} rodadas de treino com {cv_train_size} exemplos e teste com {cv_test_size}.\"\n",
    ")\n",
    "\n",
    "rank_col = f\"rank_test_{scoring_name}\"\n",
    "cv_df = pd.DataFrame(cv.cv_results_).sort_values(rank_col).set_index(rank_col)\n",
    "\n",
    "cols = [\n",
    "    f\"mean_test_{scoring_name}\",\n",
    "    \"mean_test_accuracy\",\n",
    "    \"mean_test_precision\",\n",
    "    \"mean_test_recall\",\n",
    "    \"mean_fit_time\",\n",
    "    \"params\",\n",
    "]\n",
    "with pd.option_context(\"display.max_colwidth\", None):\n",
    "    display(cv_df[cols].head(20))"
   ]
  },
  {
   "cell_type": "code",
   "execution_count": 24,
   "metadata": {
    "colab": {
     "base_uri": "https://localhost:8080/",
     "height": 169
    },
    "id": "89VtUbP7BK99",
    "outputId": "57b1fb62-3717-4bdc-d896-3c4966f3094d"
   },
   "outputs": [
    {
     "data": {
      "text/html": [
       "<h4>Maior média de f1</h4>"
      ],
      "text/plain": [
       "<IPython.core.display.HTML object>"
      ]
     },
     "metadata": {},
     "output_type": "display_data"
    },
    {
     "data": {
      "text/html": [
       "<ul>\n",
       "<li>Maior média de f1: 0.67031 (desvio padrão: 0.09316)</li>\n",
       "<li>Parâmetros que maximizaram a média de f1:<br/><code>{'preprocessor__num__scaler': RobustScaler(), 'preprocessor__num__imputer__strategy': 'mean', 'clf__kernel': 'rbf', 'clf__gamma': 5.05263106533568e-10, 'clf__C': 6080224.261649427, 'clf': SVC(C=6080224.261649427, gamma=5.05263106533568e-10, max_iter=1000,\n",
       "    random_state=0)}</code></li>\n",
       "<li>Modelo com a maior média de f1:</li>\n",
       "</ul>"
      ],
      "text/plain": [
       "<IPython.core.display.HTML object>"
      ]
     },
     "metadata": {},
     "output_type": "display_data"
    }
   ],
   "source": [
    "model = cv.best_estimator_\n",
    "\n",
    "display(HTML(f\"<h4>Maior média de {scoring_name}</h4>\"))\n",
    "display(\n",
    "    HTML(\n",
    "        f\"\"\"<ul>\n",
    "<li>Maior média de {scoring_name}: {cv.best_score_:.5f} (desvio padrão: {cv.cv_results_[\"std_test_\" + scoring_name][cv.best_index_]:.5f})</li>\n",
    "<li>Parâmetros que maximizaram a média de {scoring_name}:<br/><code>{cv.best_params_}</code></li>\n",
    "<li>Modelo com a maior média de {scoring_name}:</li>\n",
    "</ul>\"\"\"\n",
    "    )\n",
    ")\n",
    "# display(model)"
   ]
  },
  {
   "cell_type": "code",
   "execution_count": 25,
   "metadata": {
    "colab": {
     "base_uri": "https://localhost:8080/"
    },
    "id": "iZHgK-ctBK99",
    "outputId": "17f49273-5dd1-42ce-e597-068ab3c97d6b"
   },
   "outputs": [
    {
     "name": "stdout",
     "output_type": "stream",
     "text": [
      "F1-score do modelo no conjunto de testes: 0.61315\n"
     ]
    }
   ],
   "source": [
    "y_pred = model.predict(X_test)\n",
    "score = f1_score(y_test, y_pred, pos_label=\"Yes\")\n",
    "print(f\"F1-score do modelo no conjunto de testes: {score:.5f}\")"
   ]
  },
  {
   "cell_type": "code",
   "execution_count": 26,
   "metadata": {
    "colab": {
     "base_uri": "https://localhost:8080/",
     "height": 334
    },
    "id": "J5fsuQclBK99",
    "outputId": "7b47fdb1-6b83-4b9c-9b62-568ad5b0e6ef"
   },
   "outputs": [
    {
     "data": {
      "image/png": "[encoded data removed]",
      "text/plain": [
       "<Figure size 432x288 with 2 Axes>"
      ]
     },
     "metadata": {
      "needs_background": "light"
     },
     "output_type": "display_data"
    }
   ],
   "source": [
    "cmd = plot_confusion_matrix(model, X_test, y_test, display_labels=[\"Não\", \"Sim\"])\n",
    "cmd.ax_.set(xlabel=\"Previsão\", ylabel=\"Realidade\")\n",
    "plt.show()"
   ]
  },
  {
   "cell_type": "markdown",
   "metadata": {
    "id": "DaaULG8RBK9-"
   },
   "source": [
    "## Preenchimento do arquivo de respostas"
   ]
  },
  {
   "cell_type": "code",
   "execution_count": 27,
   "metadata": {
    "colab": {
     "base_uri": "https://localhost:8080/",
     "height": 141
    },
    "id": "MUALvWJZBK9-",
    "outputId": "7b23cff8-8437-4d23-821a-ce27577c4221"
   },
   "outputs": [
    {
     "data": {
      "text/html": [
       "<div>\n",
       "<style scoped>\n",
       "    .dataframe tbody tr th:only-of-type {\n",
       "        vertical-align: middle;\n",
       "    }\n",
       "\n",
       "    .dataframe tbody tr th {\n",
       "        vertical-align: top;\n",
       "    }\n",
       "\n",
       "    .dataframe thead th {\n",
       "        text-align: right;\n",
       "    }\n",
       "</style>\n",
       "<table border=\"1\" class=\"dataframe\">\n",
       "  <thead>\n",
       "    <tr style=\"text-align: right;\">\n",
       "      <th></th>\n",
       "      <th>ID</th>\n",
       "      <th>GENDER</th>\n",
       "      <th>SENIORCITIZEN</th>\n",
       "      <th>...</th>\n",
       "      <th>MONTHLYCHARGES</th>\n",
       "      <th>TOTALCHARGES</th>\n",
       "      <th>CHURN</th>\n",
       "    </tr>\n",
       "  </thead>\n",
       "  <tbody>\n",
       "    <tr>\n",
       "      <th>1294</th>\n",
       "      <td>3100</td>\n",
       "      <td>Female</td>\n",
       "      <td>0</td>\n",
       "      <td>...</td>\n",
       "      <td>123.64</td>\n",
       "      <td>972.34</td>\n",
       "      <td>Yes</td>\n",
       "    </tr>\n",
       "    <tr>\n",
       "      <th>406</th>\n",
       "      <td>4362</td>\n",
       "      <td>Female</td>\n",
       "      <td>1</td>\n",
       "      <td>...</td>\n",
       "      <td>7.00</td>\n",
       "      <td>7.0</td>\n",
       "      <td>Yes</td>\n",
       "    </tr>\n",
       "  </tbody>\n",
       "</table>\n",
       "<p>2 rows × 21 columns</p>\n",
       "</div>"
      ],
      "text/plain": [
       "        ID  GENDER  SENIORCITIZEN  ... MONTHLYCHARGES TOTALCHARGES  CHURN\n",
       "1294  3100  Female              0  ...         123.64       972.34    Yes\n",
       "406   4362  Female              1  ...           7.00          7.0    Yes\n",
       "\n",
       "[2 rows x 21 columns]"
      ]
     },
     "metadata": {},
     "output_type": "display_data"
    }
   ],
   "source": [
    "answers[\"CHURN\"] = model.predict(answers)\n",
    "answers.to_csv(\"ANSWERS.csv\", index=False)\n",
    "\n",
    "with pd.option_context(\"display.max_columns\", 6):\n",
    "    display(answers.sample(2, random_state=seed))"
   ]
  },
  {
   "cell_type": "code",
   "execution_count": 28,
   "metadata": {
    "colab": {
     "base_uri": "https://localhost:8080/",
     "height": 112
    },
    "id": "IH2dejIeBK9-",
    "outputId": "1f800bed-69f4-4f4c-b08b-db93b81bd2d2"
   },
   "outputs": [
    {
     "data": {
      "text/html": [
       "<div>\n",
       "<style scoped>\n",
       "    .dataframe tbody tr th:only-of-type {\n",
       "        vertical-align: middle;\n",
       "    }\n",
       "\n",
       "    .dataframe tbody tr th {\n",
       "        vertical-align: top;\n",
       "    }\n",
       "\n",
       "    .dataframe thead th {\n",
       "        text-align: right;\n",
       "    }\n",
       "</style>\n",
       "<table border=\"1\" class=\"dataframe\">\n",
       "  <thead>\n",
       "    <tr style=\"text-align: right;\">\n",
       "      <th></th>\n",
       "      <th>Proporção</th>\n",
       "    </tr>\n",
       "  </thead>\n",
       "  <tbody>\n",
       "    <tr>\n",
       "      <th>No</th>\n",
       "      <td>0.672961</td>\n",
       "    </tr>\n",
       "    <tr>\n",
       "      <th>Yes</th>\n",
       "      <td>0.327039</td>\n",
       "    </tr>\n",
       "  </tbody>\n",
       "</table>\n",
       "</div>"
      ],
      "text/plain": [
       "     Proporção\n",
       "No    0.672961\n",
       "Yes   0.327039"
      ]
     },
     "execution_count": 28,
     "metadata": {},
     "output_type": "execute_result"
    }
   ],
   "source": [
    "answers[target].value_counts(normalize=True).rename(\"Proporção\").to_frame()"
   ]
  },
  {
   "cell_type": "code",
   "execution_count": 29,
   "metadata": {
    "colab": {
     "base_uri": "https://localhost:8080/"
    },
    "id": "YTspWZrWBK9-",
    "outputId": "f0829aea-321d-4ae7-c711-f2c688a031c7"
   },
   "outputs": [
    {
     "name": "stdout",
     "output_type": "stream",
     "text": [
      "código.zip\n"
     ]
    }
   ],
   "source": [
    "!rm -rf código.zip\n",
    "!zip -q código.zip notebook.ipynb\n",
    "!ls código.zip"
   ]
  }
 ],
 "metadata": {
  "colab": {
   "collapsed_sections": [],
   "name": "notebook.ipynb",
   "provenance": []
  },
  "kernelspec": {
   "display_name": "Python 3 (ipykernel)",
   "language": "python",
   "name": "python3"
  },
  "language_info": {
   "codemirror_mode": {
    "name": "ipython",
    "version": 3
   },
   "file_extension": ".py",
   "mimetype": "text/x-python",
   "name": "python",
   "nbconvert_exporter": "python",
   "pygments_lexer": "ipython3",
   "version": "3.8.12"
  }
 },
 "nbformat": 4,
 "nbformat_minor": 4
}
